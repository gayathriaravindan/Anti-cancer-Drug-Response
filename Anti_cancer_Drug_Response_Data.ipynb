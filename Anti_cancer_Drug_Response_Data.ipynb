{
  "cells": [
    {
      "cell_type": "code",
      "execution_count": 3,
      "metadata": {
        "id": "s7fw6Y-ctfo5"
      },
      "outputs": [],
      "source": [
        "import numpy as np\n",
        "import pandas as pd\n",
        "import matplotlib.pyplot as plt\n",
        "import plotly.express as px\n",
        "import seaborn as sns\n",
        "%matplotlib inline"
      ]
    },
    {
      "cell_type": "code",
      "execution_count": 4,
      "metadata": {
        "colab": {
          "base_uri": "https://localhost:8080/",
          "height": 404
        },
        "id": "R6V09KOEtfo_",
        "outputId": "42aca56b-15b7-4463-bf9b-9fb4dd84ea1c"
      },
      "outputs": [
        {
          "output_type": "execute_result",
          "data": {
            "text/plain": [
              "    DepMap_ID cell_line_name stripped_cell_line_name  \\\n",
              "0  ACH-000016         SLR 21                   SLR21   \n",
              "1  ACH-000032     MHH-CALL-3                MHHCALL3   \n",
              "2  ACH-000033      NCI-H1819                NCIH1819   \n",
              "3  ACH-000043       Hs 895.T                  HS895T   \n",
              "4  ACH-000049         HEK TE                   HEKTE   \n",
              "\n",
              "                                     CCLE_Name alias  COSMICID     sex  \\\n",
              "0                                 SLR21_KIDNEY   NaN       NaN     NaN   \n",
              "1  MHHCALL3_HAEMATOPOIETIC_AND_LYMPHOID_TISSUE   NaN       NaN  Female   \n",
              "2                                NCIH1819_LUNG   NaN       NaN  Female   \n",
              "3                            HS895T_FIBROBLAST   NaN       NaN  Female   \n",
              "4                                 HEKTE_KIDNEY   NaN       NaN     NaN   \n",
              "\n",
              "         source       RRID  WTSI_Master_Cell_ID  ...   lineage_sub_subtype  \\\n",
              "0  Academic lab  CVCL_V607                  NaN  ...                   NaN   \n",
              "1          DSMZ  CVCL_0089                  NaN  ...                b_cell   \n",
              "2  Academic lab  CVCL_1497                  NaN  ...  NSCLC_adenocarcinoma   \n",
              "3          ATCC  CVCL_0993                  NaN  ...                   NaN   \n",
              "4  Academic lab  CVCL_WS59                  NaN  ...                   NaN   \n",
              "\n",
              "  lineage_molecular_subtype default_growth_pattern model_manipulation  \\\n",
              "0                       NaN                    NaN                NaN   \n",
              "1                       NaN                    NaN                NaN   \n",
              "2                       NaN                    NaN                NaN   \n",
              "3                       NaN           2D: adherent                NaN   \n",
              "4                       NaN                    NaN       immortalized   \n",
              "\n",
              "  model_manipulation_details patient_id parent_depmap_id  \\\n",
              "0                        NaN  PT-JnARLB              NaN   \n",
              "1                        NaN  PT-p2KOyI              NaN   \n",
              "2                        NaN  PT-9p1WQv              NaN   \n",
              "3                        NaN  PT-rTUVZQ              NaN   \n",
              "4                        NaN  PT-qWYYgr              NaN   \n",
              "\n",
              "                   Cellosaurus_NCIt_disease Cellosaurus_NCIt_id  \\\n",
              "0           Clear cell renal cell carcinoma               C4033   \n",
              "1  Childhood B acute lymphoblastic leukemia               C9140   \n",
              "2                       Lung adenocarcinoma               C3512   \n",
              "3                                  Melanoma               C3224   \n",
              "4                                       NaN                 NaN   \n",
              "\n",
              "                                  Cellosaurus_issues  \n",
              "0                                                NaN  \n",
              "1                                                NaN  \n",
              "2                                                NaN  \n",
              "3                                                NaN  \n",
              "4  No information is available about this cell li...  \n",
              "\n",
              "[5 rows x 29 columns]"
            ],
            "text/html": [
              "\n",
              "  <div id=\"df-6dbe384b-3014-4683-94e5-3841ada99f89\">\n",
              "    <div class=\"colab-df-container\">\n",
              "      <div>\n",
              "<style scoped>\n",
              "    .dataframe tbody tr th:only-of-type {\n",
              "        vertical-align: middle;\n",
              "    }\n",
              "\n",
              "    .dataframe tbody tr th {\n",
              "        vertical-align: top;\n",
              "    }\n",
              "\n",
              "    .dataframe thead th {\n",
              "        text-align: right;\n",
              "    }\n",
              "</style>\n",
              "<table border=\"1\" class=\"dataframe\">\n",
              "  <thead>\n",
              "    <tr style=\"text-align: right;\">\n",
              "      <th></th>\n",
              "      <th>DepMap_ID</th>\n",
              "      <th>cell_line_name</th>\n",
              "      <th>stripped_cell_line_name</th>\n",
              "      <th>CCLE_Name</th>\n",
              "      <th>alias</th>\n",
              "      <th>COSMICID</th>\n",
              "      <th>sex</th>\n",
              "      <th>source</th>\n",
              "      <th>RRID</th>\n",
              "      <th>WTSI_Master_Cell_ID</th>\n",
              "      <th>...</th>\n",
              "      <th>lineage_sub_subtype</th>\n",
              "      <th>lineage_molecular_subtype</th>\n",
              "      <th>default_growth_pattern</th>\n",
              "      <th>model_manipulation</th>\n",
              "      <th>model_manipulation_details</th>\n",
              "      <th>patient_id</th>\n",
              "      <th>parent_depmap_id</th>\n",
              "      <th>Cellosaurus_NCIt_disease</th>\n",
              "      <th>Cellosaurus_NCIt_id</th>\n",
              "      <th>Cellosaurus_issues</th>\n",
              "    </tr>\n",
              "  </thead>\n",
              "  <tbody>\n",
              "    <tr>\n",
              "      <th>0</th>\n",
              "      <td>ACH-000016</td>\n",
              "      <td>SLR 21</td>\n",
              "      <td>SLR21</td>\n",
              "      <td>SLR21_KIDNEY</td>\n",
              "      <td>NaN</td>\n",
              "      <td>NaN</td>\n",
              "      <td>NaN</td>\n",
              "      <td>Academic lab</td>\n",
              "      <td>CVCL_V607</td>\n",
              "      <td>NaN</td>\n",
              "      <td>...</td>\n",
              "      <td>NaN</td>\n",
              "      <td>NaN</td>\n",
              "      <td>NaN</td>\n",
              "      <td>NaN</td>\n",
              "      <td>NaN</td>\n",
              "      <td>PT-JnARLB</td>\n",
              "      <td>NaN</td>\n",
              "      <td>Clear cell renal cell carcinoma</td>\n",
              "      <td>C4033</td>\n",
              "      <td>NaN</td>\n",
              "    </tr>\n",
              "    <tr>\n",
              "      <th>1</th>\n",
              "      <td>ACH-000032</td>\n",
              "      <td>MHH-CALL-3</td>\n",
              "      <td>MHHCALL3</td>\n",
              "      <td>MHHCALL3_HAEMATOPOIETIC_AND_LYMPHOID_TISSUE</td>\n",
              "      <td>NaN</td>\n",
              "      <td>NaN</td>\n",
              "      <td>Female</td>\n",
              "      <td>DSMZ</td>\n",
              "      <td>CVCL_0089</td>\n",
              "      <td>NaN</td>\n",
              "      <td>...</td>\n",
              "      <td>b_cell</td>\n",
              "      <td>NaN</td>\n",
              "      <td>NaN</td>\n",
              "      <td>NaN</td>\n",
              "      <td>NaN</td>\n",
              "      <td>PT-p2KOyI</td>\n",
              "      <td>NaN</td>\n",
              "      <td>Childhood B acute lymphoblastic leukemia</td>\n",
              "      <td>C9140</td>\n",
              "      <td>NaN</td>\n",
              "    </tr>\n",
              "    <tr>\n",
              "      <th>2</th>\n",
              "      <td>ACH-000033</td>\n",
              "      <td>NCI-H1819</td>\n",
              "      <td>NCIH1819</td>\n",
              "      <td>NCIH1819_LUNG</td>\n",
              "      <td>NaN</td>\n",
              "      <td>NaN</td>\n",
              "      <td>Female</td>\n",
              "      <td>Academic lab</td>\n",
              "      <td>CVCL_1497</td>\n",
              "      <td>NaN</td>\n",
              "      <td>...</td>\n",
              "      <td>NSCLC_adenocarcinoma</td>\n",
              "      <td>NaN</td>\n",
              "      <td>NaN</td>\n",
              "      <td>NaN</td>\n",
              "      <td>NaN</td>\n",
              "      <td>PT-9p1WQv</td>\n",
              "      <td>NaN</td>\n",
              "      <td>Lung adenocarcinoma</td>\n",
              "      <td>C3512</td>\n",
              "      <td>NaN</td>\n",
              "    </tr>\n",
              "    <tr>\n",
              "      <th>3</th>\n",
              "      <td>ACH-000043</td>\n",
              "      <td>Hs 895.T</td>\n",
              "      <td>HS895T</td>\n",
              "      <td>HS895T_FIBROBLAST</td>\n",
              "      <td>NaN</td>\n",
              "      <td>NaN</td>\n",
              "      <td>Female</td>\n",
              "      <td>ATCC</td>\n",
              "      <td>CVCL_0993</td>\n",
              "      <td>NaN</td>\n",
              "      <td>...</td>\n",
              "      <td>NaN</td>\n",
              "      <td>NaN</td>\n",
              "      <td>2D: adherent</td>\n",
              "      <td>NaN</td>\n",
              "      <td>NaN</td>\n",
              "      <td>PT-rTUVZQ</td>\n",
              "      <td>NaN</td>\n",
              "      <td>Melanoma</td>\n",
              "      <td>C3224</td>\n",
              "      <td>NaN</td>\n",
              "    </tr>\n",
              "    <tr>\n",
              "      <th>4</th>\n",
              "      <td>ACH-000049</td>\n",
              "      <td>HEK TE</td>\n",
              "      <td>HEKTE</td>\n",
              "      <td>HEKTE_KIDNEY</td>\n",
              "      <td>NaN</td>\n",
              "      <td>NaN</td>\n",
              "      <td>NaN</td>\n",
              "      <td>Academic lab</td>\n",
              "      <td>CVCL_WS59</td>\n",
              "      <td>NaN</td>\n",
              "      <td>...</td>\n",
              "      <td>NaN</td>\n",
              "      <td>NaN</td>\n",
              "      <td>NaN</td>\n",
              "      <td>immortalized</td>\n",
              "      <td>NaN</td>\n",
              "      <td>PT-qWYYgr</td>\n",
              "      <td>NaN</td>\n",
              "      <td>NaN</td>\n",
              "      <td>NaN</td>\n",
              "      <td>No information is available about this cell li...</td>\n",
              "    </tr>\n",
              "  </tbody>\n",
              "</table>\n",
              "<p>5 rows × 29 columns</p>\n",
              "</div>\n",
              "      <button class=\"colab-df-convert\" onclick=\"convertToInteractive('df-6dbe384b-3014-4683-94e5-3841ada99f89')\"\n",
              "              title=\"Convert this dataframe to an interactive table.\"\n",
              "              style=\"display:none;\">\n",
              "        \n",
              "  <svg xmlns=\"http://www.w3.org/2000/svg\" height=\"24px\"viewBox=\"0 0 24 24\"\n",
              "       width=\"24px\">\n",
              "    <path d=\"M0 0h24v24H0V0z\" fill=\"none\"/>\n",
              "    <path d=\"M18.56 5.44l.94 2.06.94-2.06 2.06-.94-2.06-.94-.94-2.06-.94 2.06-2.06.94zm-11 1L8.5 8.5l.94-2.06 2.06-.94-2.06-.94L8.5 2.5l-.94 2.06-2.06.94zm10 10l.94 2.06.94-2.06 2.06-.94-2.06-.94-.94-2.06-.94 2.06-2.06.94z\"/><path d=\"M17.41 7.96l-1.37-1.37c-.4-.4-.92-.59-1.43-.59-.52 0-1.04.2-1.43.59L10.3 9.45l-7.72 7.72c-.78.78-.78 2.05 0 2.83L4 21.41c.39.39.9.59 1.41.59.51 0 1.02-.2 1.41-.59l7.78-7.78 2.81-2.81c.8-.78.8-2.07 0-2.86zM5.41 20L4 18.59l7.72-7.72 1.47 1.35L5.41 20z\"/>\n",
              "  </svg>\n",
              "      </button>\n",
              "      \n",
              "  <style>\n",
              "    .colab-df-container {\n",
              "      display:flex;\n",
              "      flex-wrap:wrap;\n",
              "      gap: 12px;\n",
              "    }\n",
              "\n",
              "    .colab-df-convert {\n",
              "      background-color: #E8F0FE;\n",
              "      border: none;\n",
              "      border-radius: 50%;\n",
              "      cursor: pointer;\n",
              "      display: none;\n",
              "      fill: #1967D2;\n",
              "      height: 32px;\n",
              "      padding: 0 0 0 0;\n",
              "      width: 32px;\n",
              "    }\n",
              "\n",
              "    .colab-df-convert:hover {\n",
              "      background-color: #E2EBFA;\n",
              "      box-shadow: 0px 1px 2px rgba(60, 64, 67, 0.3), 0px 1px 3px 1px rgba(60, 64, 67, 0.15);\n",
              "      fill: #174EA6;\n",
              "    }\n",
              "\n",
              "    [theme=dark] .colab-df-convert {\n",
              "      background-color: #3B4455;\n",
              "      fill: #D2E3FC;\n",
              "    }\n",
              "\n",
              "    [theme=dark] .colab-df-convert:hover {\n",
              "      background-color: #434B5C;\n",
              "      box-shadow: 0px 1px 3px 1px rgba(0, 0, 0, 0.15);\n",
              "      filter: drop-shadow(0px 1px 2px rgba(0, 0, 0, 0.3));\n",
              "      fill: #FFFFFF;\n",
              "    }\n",
              "  </style>\n",
              "\n",
              "      <script>\n",
              "        const buttonEl =\n",
              "          document.querySelector('#df-6dbe384b-3014-4683-94e5-3841ada99f89 button.colab-df-convert');\n",
              "        buttonEl.style.display =\n",
              "          google.colab.kernel.accessAllowed ? 'block' : 'none';\n",
              "\n",
              "        async function convertToInteractive(key) {\n",
              "          const element = document.querySelector('#df-6dbe384b-3014-4683-94e5-3841ada99f89');\n",
              "          const dataTable =\n",
              "            await google.colab.kernel.invokeFunction('convertToInteractive',\n",
              "                                                     [key], {});\n",
              "          if (!dataTable) return;\n",
              "\n",
              "          const docLinkHtml = 'Like what you see? Visit the ' +\n",
              "            '<a target=\"_blank\" href=https://colab.research.google.com/notebooks/data_table.ipynb>data table notebook</a>'\n",
              "            + ' to learn more about interactive tables.';\n",
              "          element.innerHTML = '';\n",
              "          dataTable['output_type'] = 'display_data';\n",
              "          await google.colab.output.renderOutput(dataTable, element);\n",
              "          const docLink = document.createElement('div');\n",
              "          docLink.innerHTML = docLinkHtml;\n",
              "          element.appendChild(docLink);\n",
              "        }\n",
              "      </script>\n",
              "    </div>\n",
              "  </div>\n",
              "  "
            ]
          },
          "metadata": {},
          "execution_count": 4
        }
      ],
      "source": [
        "df = pd.read_csv(\"sample_info.csv\")\n",
        "df.head()"
      ]
    },
    {
      "cell_type": "code",
      "execution_count": 5,
      "metadata": {
        "colab": {
          "base_uri": "https://localhost:8080/",
          "height": 421
        },
        "id": "MMqoPwFAtfpA",
        "outputId": "f82ea305-e3d7-4dbb-de52-7eb4482b9914"
      },
      "outputs": [
        {
          "output_type": "execute_result",
          "data": {
            "text/plain": [
              "   Unnamed: 0  TSPAN6 (7105)  TNMD (64102)  DPM1 (8813)  SCYL3 (57147)  \\\n",
              "0  ACH-001113       4.331992      0.000000     7.364397       2.792855   \n",
              "1  ACH-001289       4.566815      0.584963     7.106537       2.543496   \n",
              "2  ACH-001339       3.150560      0.000000     7.379032       2.333424   \n",
              "3  ACH-001538       5.085340      0.000000     7.154109       2.545968   \n",
              "4  ACH-000242       6.729145      0.000000     6.537607       2.456806   \n",
              "\n",
              "   C1orf112 (55732)  FGR (2268)  CFH (3075)  FUCA2 (2519)  GCLC (2729)  ...  \\\n",
              "0          4.470537    0.028569    1.226509      3.042644     6.499686  ...   \n",
              "1          3.504620    0.000000    0.189034      3.813525     4.221104  ...   \n",
              "2          4.227279    0.056584    1.310340      6.687061     3.682573  ...   \n",
              "3          3.084064    0.000000    5.868143      6.165309     4.489928  ...   \n",
              "4          3.867896    0.799087    7.208381      5.569856     7.127014  ...   \n",
              "\n",
              "   H3C2 (8358)  H3C3 (8352)  AC098582.1 (8916)  DUS4L-BCAP29 (115253422)  \\\n",
              "0     2.689299     0.189034           0.201634                  2.130931   \n",
              "1     1.286881     1.049631           0.321928                  1.464668   \n",
              "2     0.594549     1.097611           0.831877                  2.946731   \n",
              "3     0.214125     0.632268           0.298658                  1.641546   \n",
              "4     1.117695     2.358959           0.084064                  1.910733   \n",
              "\n",
              "   C8orf44-SGK3 (100533105)  ELOA3B (728929)  NPBWR1 (2831)  \\\n",
              "0                  0.555816              0.0       0.275007   \n",
              "1                  0.632268              0.0       0.014355   \n",
              "2                  0.475085              0.0       0.084064   \n",
              "3                  0.443607              0.0       0.028569   \n",
              "4                  0.000000              0.0       0.464668   \n",
              "\n",
              "   ELOA3D (100506888)  ELOA3 (162699)  CDR1 (1038)  \n",
              "0                 0.0             0.0     0.000000  \n",
              "1                 0.0             0.0     0.000000  \n",
              "2                 0.0             0.0     0.042644  \n",
              "3                 0.0             0.0     0.000000  \n",
              "4                 0.0             0.0     0.000000  \n",
              "\n",
              "[5 rows x 19222 columns]"
            ],
            "text/html": [
              "\n",
              "  <div id=\"df-4738c602-8889-46b2-b49f-0ad90588812d\">\n",
              "    <div class=\"colab-df-container\">\n",
              "      <div>\n",
              "<style scoped>\n",
              "    .dataframe tbody tr th:only-of-type {\n",
              "        vertical-align: middle;\n",
              "    }\n",
              "\n",
              "    .dataframe tbody tr th {\n",
              "        vertical-align: top;\n",
              "    }\n",
              "\n",
              "    .dataframe thead th {\n",
              "        text-align: right;\n",
              "    }\n",
              "</style>\n",
              "<table border=\"1\" class=\"dataframe\">\n",
              "  <thead>\n",
              "    <tr style=\"text-align: right;\">\n",
              "      <th></th>\n",
              "      <th>Unnamed: 0</th>\n",
              "      <th>TSPAN6 (7105)</th>\n",
              "      <th>TNMD (64102)</th>\n",
              "      <th>DPM1 (8813)</th>\n",
              "      <th>SCYL3 (57147)</th>\n",
              "      <th>C1orf112 (55732)</th>\n",
              "      <th>FGR (2268)</th>\n",
              "      <th>CFH (3075)</th>\n",
              "      <th>FUCA2 (2519)</th>\n",
              "      <th>GCLC (2729)</th>\n",
              "      <th>...</th>\n",
              "      <th>H3C2 (8358)</th>\n",
              "      <th>H3C3 (8352)</th>\n",
              "      <th>AC098582.1 (8916)</th>\n",
              "      <th>DUS4L-BCAP29 (115253422)</th>\n",
              "      <th>C8orf44-SGK3 (100533105)</th>\n",
              "      <th>ELOA3B (728929)</th>\n",
              "      <th>NPBWR1 (2831)</th>\n",
              "      <th>ELOA3D (100506888)</th>\n",
              "      <th>ELOA3 (162699)</th>\n",
              "      <th>CDR1 (1038)</th>\n",
              "    </tr>\n",
              "  </thead>\n",
              "  <tbody>\n",
              "    <tr>\n",
              "      <th>0</th>\n",
              "      <td>ACH-001113</td>\n",
              "      <td>4.331992</td>\n",
              "      <td>0.000000</td>\n",
              "      <td>7.364397</td>\n",
              "      <td>2.792855</td>\n",
              "      <td>4.470537</td>\n",
              "      <td>0.028569</td>\n",
              "      <td>1.226509</td>\n",
              "      <td>3.042644</td>\n",
              "      <td>6.499686</td>\n",
              "      <td>...</td>\n",
              "      <td>2.689299</td>\n",
              "      <td>0.189034</td>\n",
              "      <td>0.201634</td>\n",
              "      <td>2.130931</td>\n",
              "      <td>0.555816</td>\n",
              "      <td>0.0</td>\n",
              "      <td>0.275007</td>\n",
              "      <td>0.0</td>\n",
              "      <td>0.0</td>\n",
              "      <td>0.000000</td>\n",
              "    </tr>\n",
              "    <tr>\n",
              "      <th>1</th>\n",
              "      <td>ACH-001289</td>\n",
              "      <td>4.566815</td>\n",
              "      <td>0.584963</td>\n",
              "      <td>7.106537</td>\n",
              "      <td>2.543496</td>\n",
              "      <td>3.504620</td>\n",
              "      <td>0.000000</td>\n",
              "      <td>0.189034</td>\n",
              "      <td>3.813525</td>\n",
              "      <td>4.221104</td>\n",
              "      <td>...</td>\n",
              "      <td>1.286881</td>\n",
              "      <td>1.049631</td>\n",
              "      <td>0.321928</td>\n",
              "      <td>1.464668</td>\n",
              "      <td>0.632268</td>\n",
              "      <td>0.0</td>\n",
              "      <td>0.014355</td>\n",
              "      <td>0.0</td>\n",
              "      <td>0.0</td>\n",
              "      <td>0.000000</td>\n",
              "    </tr>\n",
              "    <tr>\n",
              "      <th>2</th>\n",
              "      <td>ACH-001339</td>\n",
              "      <td>3.150560</td>\n",
              "      <td>0.000000</td>\n",
              "      <td>7.379032</td>\n",
              "      <td>2.333424</td>\n",
              "      <td>4.227279</td>\n",
              "      <td>0.056584</td>\n",
              "      <td>1.310340</td>\n",
              "      <td>6.687061</td>\n",
              "      <td>3.682573</td>\n",
              "      <td>...</td>\n",
              "      <td>0.594549</td>\n",
              "      <td>1.097611</td>\n",
              "      <td>0.831877</td>\n",
              "      <td>2.946731</td>\n",
              "      <td>0.475085</td>\n",
              "      <td>0.0</td>\n",
              "      <td>0.084064</td>\n",
              "      <td>0.0</td>\n",
              "      <td>0.0</td>\n",
              "      <td>0.042644</td>\n",
              "    </tr>\n",
              "    <tr>\n",
              "      <th>3</th>\n",
              "      <td>ACH-001538</td>\n",
              "      <td>5.085340</td>\n",
              "      <td>0.000000</td>\n",
              "      <td>7.154109</td>\n",
              "      <td>2.545968</td>\n",
              "      <td>3.084064</td>\n",
              "      <td>0.000000</td>\n",
              "      <td>5.868143</td>\n",
              "      <td>6.165309</td>\n",
              "      <td>4.489928</td>\n",
              "      <td>...</td>\n",
              "      <td>0.214125</td>\n",
              "      <td>0.632268</td>\n",
              "      <td>0.298658</td>\n",
              "      <td>1.641546</td>\n",
              "      <td>0.443607</td>\n",
              "      <td>0.0</td>\n",
              "      <td>0.028569</td>\n",
              "      <td>0.0</td>\n",
              "      <td>0.0</td>\n",
              "      <td>0.000000</td>\n",
              "    </tr>\n",
              "    <tr>\n",
              "      <th>4</th>\n",
              "      <td>ACH-000242</td>\n",
              "      <td>6.729145</td>\n",
              "      <td>0.000000</td>\n",
              "      <td>6.537607</td>\n",
              "      <td>2.456806</td>\n",
              "      <td>3.867896</td>\n",
              "      <td>0.799087</td>\n",
              "      <td>7.208381</td>\n",
              "      <td>5.569856</td>\n",
              "      <td>7.127014</td>\n",
              "      <td>...</td>\n",
              "      <td>1.117695</td>\n",
              "      <td>2.358959</td>\n",
              "      <td>0.084064</td>\n",
              "      <td>1.910733</td>\n",
              "      <td>0.000000</td>\n",
              "      <td>0.0</td>\n",
              "      <td>0.464668</td>\n",
              "      <td>0.0</td>\n",
              "      <td>0.0</td>\n",
              "      <td>0.000000</td>\n",
              "    </tr>\n",
              "  </tbody>\n",
              "</table>\n",
              "<p>5 rows × 19222 columns</p>\n",
              "</div>\n",
              "      <button class=\"colab-df-convert\" onclick=\"convertToInteractive('df-4738c602-8889-46b2-b49f-0ad90588812d')\"\n",
              "              title=\"Convert this dataframe to an interactive table.\"\n",
              "              style=\"display:none;\">\n",
              "        \n",
              "  <svg xmlns=\"http://www.w3.org/2000/svg\" height=\"24px\"viewBox=\"0 0 24 24\"\n",
              "       width=\"24px\">\n",
              "    <path d=\"M0 0h24v24H0V0z\" fill=\"none\"/>\n",
              "    <path d=\"M18.56 5.44l.94 2.06.94-2.06 2.06-.94-2.06-.94-.94-2.06-.94 2.06-2.06.94zm-11 1L8.5 8.5l.94-2.06 2.06-.94-2.06-.94L8.5 2.5l-.94 2.06-2.06.94zm10 10l.94 2.06.94-2.06 2.06-.94-2.06-.94-.94-2.06-.94 2.06-2.06.94z\"/><path d=\"M17.41 7.96l-1.37-1.37c-.4-.4-.92-.59-1.43-.59-.52 0-1.04.2-1.43.59L10.3 9.45l-7.72 7.72c-.78.78-.78 2.05 0 2.83L4 21.41c.39.39.9.59 1.41.59.51 0 1.02-.2 1.41-.59l7.78-7.78 2.81-2.81c.8-.78.8-2.07 0-2.86zM5.41 20L4 18.59l7.72-7.72 1.47 1.35L5.41 20z\"/>\n",
              "  </svg>\n",
              "      </button>\n",
              "      \n",
              "  <style>\n",
              "    .colab-df-container {\n",
              "      display:flex;\n",
              "      flex-wrap:wrap;\n",
              "      gap: 12px;\n",
              "    }\n",
              "\n",
              "    .colab-df-convert {\n",
              "      background-color: #E8F0FE;\n",
              "      border: none;\n",
              "      border-radius: 50%;\n",
              "      cursor: pointer;\n",
              "      display: none;\n",
              "      fill: #1967D2;\n",
              "      height: 32px;\n",
              "      padding: 0 0 0 0;\n",
              "      width: 32px;\n",
              "    }\n",
              "\n",
              "    .colab-df-convert:hover {\n",
              "      background-color: #E2EBFA;\n",
              "      box-shadow: 0px 1px 2px rgba(60, 64, 67, 0.3), 0px 1px 3px 1px rgba(60, 64, 67, 0.15);\n",
              "      fill: #174EA6;\n",
              "    }\n",
              "\n",
              "    [theme=dark] .colab-df-convert {\n",
              "      background-color: #3B4455;\n",
              "      fill: #D2E3FC;\n",
              "    }\n",
              "\n",
              "    [theme=dark] .colab-df-convert:hover {\n",
              "      background-color: #434B5C;\n",
              "      box-shadow: 0px 1px 3px 1px rgba(0, 0, 0, 0.15);\n",
              "      filter: drop-shadow(0px 1px 2px rgba(0, 0, 0, 0.3));\n",
              "      fill: #FFFFFF;\n",
              "    }\n",
              "  </style>\n",
              "\n",
              "      <script>\n",
              "        const buttonEl =\n",
              "          document.querySelector('#df-4738c602-8889-46b2-b49f-0ad90588812d button.colab-df-convert');\n",
              "        buttonEl.style.display =\n",
              "          google.colab.kernel.accessAllowed ? 'block' : 'none';\n",
              "\n",
              "        async function convertToInteractive(key) {\n",
              "          const element = document.querySelector('#df-4738c602-8889-46b2-b49f-0ad90588812d');\n",
              "          const dataTable =\n",
              "            await google.colab.kernel.invokeFunction('convertToInteractive',\n",
              "                                                     [key], {});\n",
              "          if (!dataTable) return;\n",
              "\n",
              "          const docLinkHtml = 'Like what you see? Visit the ' +\n",
              "            '<a target=\"_blank\" href=https://colab.research.google.com/notebooks/data_table.ipynb>data table notebook</a>'\n",
              "            + ' to learn more about interactive tables.';\n",
              "          element.innerHTML = '';\n",
              "          dataTable['output_type'] = 'display_data';\n",
              "          await google.colab.output.renderOutput(dataTable, element);\n",
              "          const docLink = document.createElement('div');\n",
              "          docLink.innerHTML = docLinkHtml;\n",
              "          element.appendChild(docLink);\n",
              "        }\n",
              "      </script>\n",
              "    </div>\n",
              "  </div>\n",
              "  "
            ]
          },
          "metadata": {},
          "execution_count": 5
        }
      ],
      "source": [
        "df2 = pd.read_csv(\"CCLE_expression.csv\")\n",
        "df2.head()"
      ]
    },
    {
      "cell_type": "code",
      "execution_count": 6,
      "metadata": {
        "id": "OaylhqqytfpB"
      },
      "outputs": [],
      "source": [
        "df2.rename(columns = {'Unnamed: 0':'DepMap_ID'}, inplace = True)"
      ]
    },
    {
      "cell_type": "code",
      "execution_count": 7,
      "metadata": {
        "scrolled": true,
        "id": "NMUKTay0tfpC"
      },
      "outputs": [],
      "source": [
        "df = df.merge(df2, on = 'DepMap_ID', how = 'left')"
      ]
    },
    {
      "cell_type": "code",
      "execution_count": 8,
      "metadata": {
        "scrolled": true,
        "colab": {
          "base_uri": "https://localhost:8080/"
        },
        "id": "nm6aZLb8tfpD",
        "outputId": "2ce12be8-6ed1-4173-dc2a-7debff7cd84c"
      },
      "outputs": [
        {
          "output_type": "stream",
          "name": "stdout",
          "text": [
            "<class 'pandas.core.frame.DataFrame'>\n",
            "Int64Index: 1840 entries, 0 to 1839\n",
            "Columns: 19250 entries, DepMap_ID to CDR1 (1038)\n",
            "dtypes: float64(19223), object(27)\n",
            "memory usage: 270.2+ MB\n"
          ]
        }
      ],
      "source": [
        "df.info()"
      ]
    },
    {
      "cell_type": "code",
      "execution_count": 9,
      "metadata": {
        "colab": {
          "base_uri": "https://localhost:8080/",
          "height": 428
        },
        "id": "E2lHvUkytfpF",
        "outputId": "80256b70-fbd1-4733-956e-c3caffffbd20"
      },
      "outputs": [
        {
          "output_type": "execute_result",
          "data": {
            "text/plain": [
              "           COSMICID  WTSI_Master_Cell_ID  TSPAN6 (7105)  TNMD (64102)  \\\n",
              "count  9.810000e+02           980.000000      17.000000     17.000000   \n",
              "mean   9.968742e+05          1087.343878       3.907664      0.048858   \n",
              "std    2.273358e+05           659.178043       1.727306      0.145889   \n",
              "min    6.836650e+05             1.000000       0.042644      0.000000   \n",
              "25%    9.068080e+05           554.750000       3.337711      0.000000   \n",
              "50%    9.097270e+05          1080.000000       4.272023      0.000000   \n",
              "75%    1.240157e+06          1628.750000       4.566815      0.000000   \n",
              "max    2.054094e+06          2266.000000       6.729145      0.584963   \n",
              "\n",
              "       DPM1 (8813)  SCYL3 (57147)  C1orf112 (55732)  FGR (2268)  CFH (3075)  \\\n",
              "count    17.000000      17.000000         17.000000   17.000000   17.000000   \n",
              "mean      6.751990       2.418881          3.569929    0.447530    2.519956   \n",
              "std       0.411282       0.649484          0.712887    1.413636    2.716199   \n",
              "min       5.927185       0.925999          1.839960    0.000000    0.056584   \n",
              "25%       6.533875       2.226509          3.087463    0.000000    0.201634   \n",
              "50%       6.756890       2.364572          3.731183    0.028569    1.226509   \n",
              "75%       7.099821       2.555816          3.985500    0.056584    4.898208   \n",
              "max       7.379032       3.970854          4.672425    5.859721    7.208381   \n",
              "\n",
              "       FUCA2 (2519)  ...  H3C2 (8358)  H3C3 (8352)  AC098582.1 (8916)  \\\n",
              "count     17.000000  ...    16.000000    16.000000          16.000000   \n",
              "mean       5.227241  ...     1.159669     1.128068           0.457003   \n",
              "std        1.454407  ...     0.603998     0.794040           0.438480   \n",
              "min        2.563158  ...     0.214125     0.111031           0.014355   \n",
              "25%        3.813525  ...     0.800937     0.620442           0.211002   \n",
              "50%        5.588265  ...     1.104274     1.056567           0.310293   \n",
              "75%        6.235536  ...     1.372920     1.285613           0.547398   \n",
              "max        7.088735  ...     2.689299     3.298658           1.773996   \n",
              "\n",
              "       DUS4L-BCAP29 (115253422)  C8orf44-SGK3 (100533105)  ELOA3B (728929)  \\\n",
              "count                 16.000000                 16.000000        16.000000   \n",
              "mean                   2.007842                  0.354085         0.014024   \n",
              "std                    0.571835                  0.287261         0.031586   \n",
              "min                    1.292782                  0.000000         0.000000   \n",
              "25%                    1.597327                  0.122624         0.000000   \n",
              "50%                    1.901076                  0.372081         0.000000   \n",
              "75%                    2.318484                  0.558261         0.017909   \n",
              "max                    3.157044                  0.925999         0.124328   \n",
              "\n",
              "       NPBWR1 (2831)  ELOA3D (100506888)  ELOA3 (162699)  CDR1 (1038)  \n",
              "count      16.000000           16.000000       16.000000    16.000000  \n",
              "mean        0.091708            0.008859        0.009722     0.056534  \n",
              "std         0.140599            0.019940        0.022200     0.155350  \n",
              "min         0.000000            0.000000        0.000000     0.000000  \n",
              "25%         0.000000            0.000000        0.000000     0.000000  \n",
              "50%         0.021462            0.000000        0.000000     0.000000  \n",
              "75%         0.107129            0.000000        0.003589     0.007142  \n",
              "max         0.464668            0.056584        0.084064     0.594549  \n",
              "\n",
              "[8 rows x 19223 columns]"
            ],
            "text/html": [
              "\n",
              "  <div id=\"df-60720f18-0e85-46ac-a22f-f547b6c984a7\">\n",
              "    <div class=\"colab-df-container\">\n",
              "      <div>\n",
              "<style scoped>\n",
              "    .dataframe tbody tr th:only-of-type {\n",
              "        vertical-align: middle;\n",
              "    }\n",
              "\n",
              "    .dataframe tbody tr th {\n",
              "        vertical-align: top;\n",
              "    }\n",
              "\n",
              "    .dataframe thead th {\n",
              "        text-align: right;\n",
              "    }\n",
              "</style>\n",
              "<table border=\"1\" class=\"dataframe\">\n",
              "  <thead>\n",
              "    <tr style=\"text-align: right;\">\n",
              "      <th></th>\n",
              "      <th>COSMICID</th>\n",
              "      <th>WTSI_Master_Cell_ID</th>\n",
              "      <th>TSPAN6 (7105)</th>\n",
              "      <th>TNMD (64102)</th>\n",
              "      <th>DPM1 (8813)</th>\n",
              "      <th>SCYL3 (57147)</th>\n",
              "      <th>C1orf112 (55732)</th>\n",
              "      <th>FGR (2268)</th>\n",
              "      <th>CFH (3075)</th>\n",
              "      <th>FUCA2 (2519)</th>\n",
              "      <th>...</th>\n",
              "      <th>H3C2 (8358)</th>\n",
              "      <th>H3C3 (8352)</th>\n",
              "      <th>AC098582.1 (8916)</th>\n",
              "      <th>DUS4L-BCAP29 (115253422)</th>\n",
              "      <th>C8orf44-SGK3 (100533105)</th>\n",
              "      <th>ELOA3B (728929)</th>\n",
              "      <th>NPBWR1 (2831)</th>\n",
              "      <th>ELOA3D (100506888)</th>\n",
              "      <th>ELOA3 (162699)</th>\n",
              "      <th>CDR1 (1038)</th>\n",
              "    </tr>\n",
              "  </thead>\n",
              "  <tbody>\n",
              "    <tr>\n",
              "      <th>count</th>\n",
              "      <td>9.810000e+02</td>\n",
              "      <td>980.000000</td>\n",
              "      <td>17.000000</td>\n",
              "      <td>17.000000</td>\n",
              "      <td>17.000000</td>\n",
              "      <td>17.000000</td>\n",
              "      <td>17.000000</td>\n",
              "      <td>17.000000</td>\n",
              "      <td>17.000000</td>\n",
              "      <td>17.000000</td>\n",
              "      <td>...</td>\n",
              "      <td>16.000000</td>\n",
              "      <td>16.000000</td>\n",
              "      <td>16.000000</td>\n",
              "      <td>16.000000</td>\n",
              "      <td>16.000000</td>\n",
              "      <td>16.000000</td>\n",
              "      <td>16.000000</td>\n",
              "      <td>16.000000</td>\n",
              "      <td>16.000000</td>\n",
              "      <td>16.000000</td>\n",
              "    </tr>\n",
              "    <tr>\n",
              "      <th>mean</th>\n",
              "      <td>9.968742e+05</td>\n",
              "      <td>1087.343878</td>\n",
              "      <td>3.907664</td>\n",
              "      <td>0.048858</td>\n",
              "      <td>6.751990</td>\n",
              "      <td>2.418881</td>\n",
              "      <td>3.569929</td>\n",
              "      <td>0.447530</td>\n",
              "      <td>2.519956</td>\n",
              "      <td>5.227241</td>\n",
              "      <td>...</td>\n",
              "      <td>1.159669</td>\n",
              "      <td>1.128068</td>\n",
              "      <td>0.457003</td>\n",
              "      <td>2.007842</td>\n",
              "      <td>0.354085</td>\n",
              "      <td>0.014024</td>\n",
              "      <td>0.091708</td>\n",
              "      <td>0.008859</td>\n",
              "      <td>0.009722</td>\n",
              "      <td>0.056534</td>\n",
              "    </tr>\n",
              "    <tr>\n",
              "      <th>std</th>\n",
              "      <td>2.273358e+05</td>\n",
              "      <td>659.178043</td>\n",
              "      <td>1.727306</td>\n",
              "      <td>0.145889</td>\n",
              "      <td>0.411282</td>\n",
              "      <td>0.649484</td>\n",
              "      <td>0.712887</td>\n",
              "      <td>1.413636</td>\n",
              "      <td>2.716199</td>\n",
              "      <td>1.454407</td>\n",
              "      <td>...</td>\n",
              "      <td>0.603998</td>\n",
              "      <td>0.794040</td>\n",
              "      <td>0.438480</td>\n",
              "      <td>0.571835</td>\n",
              "      <td>0.287261</td>\n",
              "      <td>0.031586</td>\n",
              "      <td>0.140599</td>\n",
              "      <td>0.019940</td>\n",
              "      <td>0.022200</td>\n",
              "      <td>0.155350</td>\n",
              "    </tr>\n",
              "    <tr>\n",
              "      <th>min</th>\n",
              "      <td>6.836650e+05</td>\n",
              "      <td>1.000000</td>\n",
              "      <td>0.042644</td>\n",
              "      <td>0.000000</td>\n",
              "      <td>5.927185</td>\n",
              "      <td>0.925999</td>\n",
              "      <td>1.839960</td>\n",
              "      <td>0.000000</td>\n",
              "      <td>0.056584</td>\n",
              "      <td>2.563158</td>\n",
              "      <td>...</td>\n",
              "      <td>0.214125</td>\n",
              "      <td>0.111031</td>\n",
              "      <td>0.014355</td>\n",
              "      <td>1.292782</td>\n",
              "      <td>0.000000</td>\n",
              "      <td>0.000000</td>\n",
              "      <td>0.000000</td>\n",
              "      <td>0.000000</td>\n",
              "      <td>0.000000</td>\n",
              "      <td>0.000000</td>\n",
              "    </tr>\n",
              "    <tr>\n",
              "      <th>25%</th>\n",
              "      <td>9.068080e+05</td>\n",
              "      <td>554.750000</td>\n",
              "      <td>3.337711</td>\n",
              "      <td>0.000000</td>\n",
              "      <td>6.533875</td>\n",
              "      <td>2.226509</td>\n",
              "      <td>3.087463</td>\n",
              "      <td>0.000000</td>\n",
              "      <td>0.201634</td>\n",
              "      <td>3.813525</td>\n",
              "      <td>...</td>\n",
              "      <td>0.800937</td>\n",
              "      <td>0.620442</td>\n",
              "      <td>0.211002</td>\n",
              "      <td>1.597327</td>\n",
              "      <td>0.122624</td>\n",
              "      <td>0.000000</td>\n",
              "      <td>0.000000</td>\n",
              "      <td>0.000000</td>\n",
              "      <td>0.000000</td>\n",
              "      <td>0.000000</td>\n",
              "    </tr>\n",
              "    <tr>\n",
              "      <th>50%</th>\n",
              "      <td>9.097270e+05</td>\n",
              "      <td>1080.000000</td>\n",
              "      <td>4.272023</td>\n",
              "      <td>0.000000</td>\n",
              "      <td>6.756890</td>\n",
              "      <td>2.364572</td>\n",
              "      <td>3.731183</td>\n",
              "      <td>0.028569</td>\n",
              "      <td>1.226509</td>\n",
              "      <td>5.588265</td>\n",
              "      <td>...</td>\n",
              "      <td>1.104274</td>\n",
              "      <td>1.056567</td>\n",
              "      <td>0.310293</td>\n",
              "      <td>1.901076</td>\n",
              "      <td>0.372081</td>\n",
              "      <td>0.000000</td>\n",
              "      <td>0.021462</td>\n",
              "      <td>0.000000</td>\n",
              "      <td>0.000000</td>\n",
              "      <td>0.000000</td>\n",
              "    </tr>\n",
              "    <tr>\n",
              "      <th>75%</th>\n",
              "      <td>1.240157e+06</td>\n",
              "      <td>1628.750000</td>\n",
              "      <td>4.566815</td>\n",
              "      <td>0.000000</td>\n",
              "      <td>7.099821</td>\n",
              "      <td>2.555816</td>\n",
              "      <td>3.985500</td>\n",
              "      <td>0.056584</td>\n",
              "      <td>4.898208</td>\n",
              "      <td>6.235536</td>\n",
              "      <td>...</td>\n",
              "      <td>1.372920</td>\n",
              "      <td>1.285613</td>\n",
              "      <td>0.547398</td>\n",
              "      <td>2.318484</td>\n",
              "      <td>0.558261</td>\n",
              "      <td>0.017909</td>\n",
              "      <td>0.107129</td>\n",
              "      <td>0.000000</td>\n",
              "      <td>0.003589</td>\n",
              "      <td>0.007142</td>\n",
              "    </tr>\n",
              "    <tr>\n",
              "      <th>max</th>\n",
              "      <td>2.054094e+06</td>\n",
              "      <td>2266.000000</td>\n",
              "      <td>6.729145</td>\n",
              "      <td>0.584963</td>\n",
              "      <td>7.379032</td>\n",
              "      <td>3.970854</td>\n",
              "      <td>4.672425</td>\n",
              "      <td>5.859721</td>\n",
              "      <td>7.208381</td>\n",
              "      <td>7.088735</td>\n",
              "      <td>...</td>\n",
              "      <td>2.689299</td>\n",
              "      <td>3.298658</td>\n",
              "      <td>1.773996</td>\n",
              "      <td>3.157044</td>\n",
              "      <td>0.925999</td>\n",
              "      <td>0.124328</td>\n",
              "      <td>0.464668</td>\n",
              "      <td>0.056584</td>\n",
              "      <td>0.084064</td>\n",
              "      <td>0.594549</td>\n",
              "    </tr>\n",
              "  </tbody>\n",
              "</table>\n",
              "<p>8 rows × 19223 columns</p>\n",
              "</div>\n",
              "      <button class=\"colab-df-convert\" onclick=\"convertToInteractive('df-60720f18-0e85-46ac-a22f-f547b6c984a7')\"\n",
              "              title=\"Convert this dataframe to an interactive table.\"\n",
              "              style=\"display:none;\">\n",
              "        \n",
              "  <svg xmlns=\"http://www.w3.org/2000/svg\" height=\"24px\"viewBox=\"0 0 24 24\"\n",
              "       width=\"24px\">\n",
              "    <path d=\"M0 0h24v24H0V0z\" fill=\"none\"/>\n",
              "    <path d=\"M18.56 5.44l.94 2.06.94-2.06 2.06-.94-2.06-.94-.94-2.06-.94 2.06-2.06.94zm-11 1L8.5 8.5l.94-2.06 2.06-.94-2.06-.94L8.5 2.5l-.94 2.06-2.06.94zm10 10l.94 2.06.94-2.06 2.06-.94-2.06-.94-.94-2.06-.94 2.06-2.06.94z\"/><path d=\"M17.41 7.96l-1.37-1.37c-.4-.4-.92-.59-1.43-.59-.52 0-1.04.2-1.43.59L10.3 9.45l-7.72 7.72c-.78.78-.78 2.05 0 2.83L4 21.41c.39.39.9.59 1.41.59.51 0 1.02-.2 1.41-.59l7.78-7.78 2.81-2.81c.8-.78.8-2.07 0-2.86zM5.41 20L4 18.59l7.72-7.72 1.47 1.35L5.41 20z\"/>\n",
              "  </svg>\n",
              "      </button>\n",
              "      \n",
              "  <style>\n",
              "    .colab-df-container {\n",
              "      display:flex;\n",
              "      flex-wrap:wrap;\n",
              "      gap: 12px;\n",
              "    }\n",
              "\n",
              "    .colab-df-convert {\n",
              "      background-color: #E8F0FE;\n",
              "      border: none;\n",
              "      border-radius: 50%;\n",
              "      cursor: pointer;\n",
              "      display: none;\n",
              "      fill: #1967D2;\n",
              "      height: 32px;\n",
              "      padding: 0 0 0 0;\n",
              "      width: 32px;\n",
              "    }\n",
              "\n",
              "    .colab-df-convert:hover {\n",
              "      background-color: #E2EBFA;\n",
              "      box-shadow: 0px 1px 2px rgba(60, 64, 67, 0.3), 0px 1px 3px 1px rgba(60, 64, 67, 0.15);\n",
              "      fill: #174EA6;\n",
              "    }\n",
              "\n",
              "    [theme=dark] .colab-df-convert {\n",
              "      background-color: #3B4455;\n",
              "      fill: #D2E3FC;\n",
              "    }\n",
              "\n",
              "    [theme=dark] .colab-df-convert:hover {\n",
              "      background-color: #434B5C;\n",
              "      box-shadow: 0px 1px 3px 1px rgba(0, 0, 0, 0.15);\n",
              "      filter: drop-shadow(0px 1px 2px rgba(0, 0, 0, 0.3));\n",
              "      fill: #FFFFFF;\n",
              "    }\n",
              "  </style>\n",
              "\n",
              "      <script>\n",
              "        const buttonEl =\n",
              "          document.querySelector('#df-60720f18-0e85-46ac-a22f-f547b6c984a7 button.colab-df-convert');\n",
              "        buttonEl.style.display =\n",
              "          google.colab.kernel.accessAllowed ? 'block' : 'none';\n",
              "\n",
              "        async function convertToInteractive(key) {\n",
              "          const element = document.querySelector('#df-60720f18-0e85-46ac-a22f-f547b6c984a7');\n",
              "          const dataTable =\n",
              "            await google.colab.kernel.invokeFunction('convertToInteractive',\n",
              "                                                     [key], {});\n",
              "          if (!dataTable) return;\n",
              "\n",
              "          const docLinkHtml = 'Like what you see? Visit the ' +\n",
              "            '<a target=\"_blank\" href=https://colab.research.google.com/notebooks/data_table.ipynb>data table notebook</a>'\n",
              "            + ' to learn more about interactive tables.';\n",
              "          element.innerHTML = '';\n",
              "          dataTable['output_type'] = 'display_data';\n",
              "          await google.colab.output.renderOutput(dataTable, element);\n",
              "          const docLink = document.createElement('div');\n",
              "          docLink.innerHTML = docLinkHtml;\n",
              "          element.appendChild(docLink);\n",
              "        }\n",
              "      </script>\n",
              "    </div>\n",
              "  </div>\n",
              "  "
            ]
          },
          "metadata": {},
          "execution_count": 9
        }
      ],
      "source": [
        "df.describe()"
      ]
    },
    {
      "cell_type": "code",
      "execution_count": 10,
      "metadata": {
        "colab": {
          "base_uri": "https://localhost:8080/"
        },
        "id": "wopm1nCbtfpG",
        "outputId": "18b7bd05-d488-43ff-c901-02375ef2f9d1"
      },
      "outputs": [
        {
          "output_type": "execute_result",
          "data": {
            "text/plain": [
              "Index(['DepMap_ID', 'cell_line_name', 'stripped_cell_line_name', 'CCLE_Name',\n",
              "       'alias', 'COSMICID', 'sex', 'source', 'RRID', 'WTSI_Master_Cell_ID',\n",
              "       ...\n",
              "       'H3C2 (8358)', 'H3C3 (8352)', 'AC098582.1 (8916)',\n",
              "       'DUS4L-BCAP29 (115253422)', 'C8orf44-SGK3 (100533105)',\n",
              "       'ELOA3B (728929)', 'NPBWR1 (2831)', 'ELOA3D (100506888)',\n",
              "       'ELOA3 (162699)', 'CDR1 (1038)'],\n",
              "      dtype='object', length=19250)"
            ]
          },
          "metadata": {},
          "execution_count": 10
        }
      ],
      "source": [
        "df.columns"
      ]
    },
    {
      "cell_type": "code",
      "execution_count": 11,
      "metadata": {
        "colab": {
          "base_uri": "https://localhost:8080/"
        },
        "id": "Gcp2URSetfpG",
        "outputId": "1d1638b3-772c-4c4b-e01b-3f6c38c6235f"
      },
      "outputs": [
        {
          "output_type": "execute_result",
          "data": {
            "text/plain": [
              "(1840, 19250)"
            ]
          },
          "metadata": {},
          "execution_count": 11
        }
      ],
      "source": [
        "df.shape"
      ]
    },
    {
      "cell_type": "code",
      "execution_count": 12,
      "metadata": {
        "scrolled": true,
        "colab": {
          "base_uri": "https://localhost:8080/"
        },
        "id": "uUDsZSZMtfpH",
        "outputId": "c0328a1c-0fa4-4848-9bcc-778a1aa57c36"
      },
      "outputs": [
        {
          "output_type": "execute_result",
          "data": {
            "text/plain": [
              "DepMap_ID                     0\n",
              "cell_line_name               92\n",
              "stripped_cell_line_name       1\n",
              "CCLE_Name                     4\n",
              "alias                      1727\n",
              "                           ... \n",
              "ELOA3B (728929)            1824\n",
              "NPBWR1 (2831)              1824\n",
              "ELOA3D (100506888)         1824\n",
              "ELOA3 (162699)             1824\n",
              "CDR1 (1038)                1824\n",
              "Length: 19250, dtype: int64"
            ]
          },
          "metadata": {},
          "execution_count": 12
        }
      ],
      "source": [
        "df.isnull().sum()"
      ]
    },
    {
      "cell_type": "code",
      "execution_count": 13,
      "metadata": {
        "id": "Ek8-axpatfpH"
      },
      "outputs": [],
      "source": [
        "df.fillna(0, inplace = True)"
      ]
    },
    {
      "cell_type": "code",
      "execution_count": 14,
      "metadata": {
        "colab": {
          "base_uri": "https://localhost:8080/"
        },
        "id": "InpTDNkctfpI",
        "outputId": "402c0f4e-7d0a-49dd-826c-b72c261fd4c0"
      },
      "outputs": [
        {
          "output_type": "execute_result",
          "data": {
            "text/plain": [
              "0           kidney\n",
              "1            blood\n",
              "2             lung\n",
              "3       fibroblast\n",
              "4           kidney\n",
              "           ...    \n",
              "1835    lymphocyte\n",
              "1836    colorectal\n",
              "1837         liver\n",
              "1838          bone\n",
              "1839       thyroid\n",
              "Name: lineage, Length: 1840, dtype: object"
            ]
          },
          "metadata": {},
          "execution_count": 14
        }
      ],
      "source": [
        "df[\"lineage\"]"
      ]
    },
    {
      "cell_type": "code",
      "source": [
        "df[\"lineage\"].value_counts()"
      ],
      "metadata": {
        "colab": {
          "base_uri": "https://localhost:8080/"
        },
        "id": "PsHOsmFIwFxF",
        "outputId": "2385e658-fc98-442e-9ef7-ea3c11a5031e"
      },
      "execution_count": 38,
      "outputs": [
        {
          "output_type": "execute_result",
          "data": {
            "text/plain": [
              "lung                         274\n",
              "blood                        141\n",
              "skin                         120\n",
              "lymphocyte                   110\n",
              "central_nervous_system       109\n",
              "breast                        86\n",
              "colorectal                    85\n",
              "bone                          79\n",
              "upper_aerodigestive           79\n",
              "ovary                         74\n",
              "soft_tissue                   71\n",
              "kidney                        60\n",
              "pancreas                      60\n",
              "peripheral_nervous_system     51\n",
              "gastric                       48\n",
              "unknown                       47\n",
              "bile_duct                     43\n",
              "fibroblast                    42\n",
              "uterus                        40\n",
              "urinary_tract                 39\n",
              "esophagus                     38\n",
              "plasma_cell                   35\n",
              "liver                         27\n",
              "cervix                        24\n",
              "thyroid                       21\n",
              "eye                           17\n",
              "prostate                      14\n",
              "embryo                         4\n",
              "adrenal_cortex                 1\n",
              "epidermoid_carcinoma           1\n",
              "Name: lineage, dtype: int64"
            ]
          },
          "metadata": {},
          "execution_count": 38
        }
      ]
    },
    {
      "cell_type": "code",
      "execution_count": 15,
      "metadata": {
        "colab": {
          "base_uri": "https://localhost:8080/",
          "height": 542
        },
        "id": "SljA3zTvtfpI",
        "outputId": "acacd7d5-cafb-41c8-e86f-b9acdf233caf"
      },
      "outputs": [
        {
          "output_type": "display_data",
          "data": {
            "text/html": [
              "<html>\n",
              "<head><meta charset=\"utf-8\" /></head>\n",
              "<body>\n",
              "    <div>            <script src=\"https://cdnjs.cloudflare.com/ajax/libs/mathjax/2.7.5/MathJax.js?config=TeX-AMS-MML_SVG\"></script><script type=\"text/javascript\">if (window.MathJax) {MathJax.Hub.Config({SVG: {font: \"STIX-Web\"}});}</script>                <script type=\"text/javascript\">window.PlotlyConfig = {MathJaxConfig: 'local'};</script>\n",
              "        <script src=\"https://cdn.plot.ly/plotly-2.8.3.min.js\"></script>                <div id=\"78f1bf39-99c7-42b3-9923-691fd9bf8205\" class=\"plotly-graph-div\" style=\"height:525px; width:100%;\"></div>            <script type=\"text/javascript\">                                    window.PLOTLYENV=window.PLOTLYENV || {};                                    if (document.getElementById(\"78f1bf39-99c7-42b3-9923-691fd9bf8205\")) {                    Plotly.newPlot(                        \"78f1bf39-99c7-42b3-9923-691fd9bf8205\",                        [{\"alignmentgroup\":\"True\",\"bingroup\":\"x\",\"hovertemplate\":\"lineage=%{x}<br>count=%{y}<extra></extra>\",\"legendgroup\":\"\",\"marker\":{\"color\":\"#636efa\",\"pattern\":{\"shape\":\"\"}},\"name\":\"\",\"offsetgroup\":\"\",\"orientation\":\"v\",\"showlegend\":false,\"x\":[\"kidney\",\"blood\",\"lung\",\"fibroblast\",\"kidney\",\"soft_tissue\",\"lung\",\"lymphocyte\",\"fibroblast\",\"blood\",\"lymphocyte\",\"fibroblast\",\"blood\",\"colorectal\",\"pancreas\",\"gastric\",\"fibroblast\",\"blood\",\"fibroblast\",\"blood\",\"lymphocyte\",\"fibroblast\",\"lymphocyte\",\"fibroblast\",\"blood\",\"prostate\",\"soft_tissue\",\"uterus\",\"fibroblast\",\"lung\",\"fibroblast\",\"fibroblast\",\"fibroblast\",\"pancreas\",\"esophagus\",\"lymphocyte\",\"fibroblast\",\"fibroblast\",\"fibroblast\",\"gastric\",\"blood\",\"fibroblast\",\"fibroblast\",\"lymphocyte\",\"breast\",\"lung\",\"kidney\",\"kidney\",\"blood\",\"gastric\",\"central_nervous_system\",\"ovary\",\"fibroblast\",\"kidney\",\"lymphocyte\",\"lymphocyte\",\"fibroblast\",\"bone\",\"plasma_cell\",\"plasma_cell\",\"central_nervous_system\",\"blood\",\"colorectal\",\"blood\",\"ovary\",\"kidney\",\"lung\",\"fibroblast\",\"fibroblast\",\"fibroblast\",\"soft_tissue\",\"lung\",\"plasma_cell\",\"plasma_cell\",\"blood\",\"lymphocyte\",\"central_nervous_system\",\"central_nervous_system\",\"ovary\",\"breast\",\"lung\",\"pancreas\",\"kidney\",\"lung\",\"upper_aerodigestive\",\"esophagus\",\"blood\",\"lung\",\"urinary_tract\",\"gastric\",\"fibroblast\",\"skin\",\"bile_duct\",\"lung\",\"lung\",\"lung\",\"fibroblast\",\"plasma_cell\",\"lung\",\"skin\",\"lung\",\"gastric\",\"uterus\",\"prostate\",\"central_nervous_system\",\"bone\",\"bone\",\"bone\",\"bone\",\"gastric\",\"cervix\",\"fibroblast\",\"blood\",\"ovary\",\"plasma_cell\",\"skin\",\"lung\",\"central_nervous_system\",\"central_nervous_system\",\"bone\",\"cervix\",\"lung\",\"lung\",\"kidney\",\"lung\",\"fibroblast\",\"lymphocyte\",\"pancreas\",\"soft_tissue\",\"lymphocyte\",\"soft_tissue\",\"skin\",\"skin\",\"lymphocyte\",\"lymphocyte\",\"lymphocyte\",\"central_nervous_system\",\"lymphocyte\",\"ovary\",\"lymphocyte\",\"lymphocyte\",\"lymphocyte\",\"bone\",\"plasma_cell\",\"kidney\",\"soft_tissue\",\"skin\",\"central_nervous_system\",\"kidney\",\"fibroblast\",\"kidney\",\"lymphocyte\",\"soft_tissue\",\"central_nervous_system\",\"bone\",\"fibroblast\",\"kidney\",\"kidney\",\"upper_aerodigestive\",\"blood\",\"lung\",\"soft_tissue\",\"ovary\",\"bone\",\"kidney\",\"upper_aerodigestive\",\"thyroid\",\"breast\",\"peripheral_nervous_system\",\"ovary\",\"breast\",\"breast\",\"breast\",\"breast\",\"breast\",\"urinary_tract\",\"urinary_tract\",\"breast\",\"prostate\",\"soft_tissue\",\"eye\",\"uterus\",\"upper_aerodigestive\",\"upper_aerodigestive\",\"upper_aerodigestive\",\"cervix\",\"breast\",\"cervix\",\"cervix\",\"uterus\",\"blood\",\"skin\",\"lymphocyte\",\"bile_duct\",\"lymphocyte\",\"soft_tissue\",\"plasma_cell\",\"lung\",\"peripheral_nervous_system\",\"lung\",\"lung\",\"lung\",\"lung\",\"lung\",\"lung\",\"lung\",\"lung\",\"skin\",\"blood\",\"blood\",\"bile_duct\",\"central_nervous_system\",\"central_nervous_system\",\"central_nervous_system\",\"blood\",\"lymphocyte\",\"blood\",\"bile_duct\",\"central_nervous_system\",\"central_nervous_system\",\"central_nervous_system\",\"prostate\",\"blood\",\"blood\",\"prostate\",\"prostate\",\"uterus\",\"uterus\",\"blood\",\"gastric\",\"embryo\",\"upper_aerodigestive\",\"lymphocyte\",\"kidney\",\"kidney\",\"upper_aerodigestive\",\"upper_aerodigestive\",\"upper_aerodigestive\",\"upper_aerodigestive\",\"upper_aerodigestive\",\"upper_aerodigestive\",\"upper_aerodigestive\",\"blood\",\"bone\",\"ovary\",\"soft_tissue\",\"fibroblast\",\"colorectal\",\"soft_tissue\",\"soft_tissue\",\"soft_tissue\",\"soft_tissue\",\"soft_tissue\",\"soft_tissue\",\"soft_tissue\",\"soft_tissue\",\"soft_tissue\",\"bone\",\"bone\",\"colorectal\",\"breast\",\"bile_duct\",\"bile_duct\",\"bile_duct\",\"bile_duct\",\"bile_duct\",\"bile_duct\",\"bile_duct\",\"bile_duct\",\"bile_duct\",\"bile_duct\",\"bile_duct\",\"bile_duct\",\"bile_duct\",\"bile_duct\",\"bile_duct\",\"bile_duct\",\"bile_duct\",\"bile_duct\",\"bile_duct\",\"bile_duct\",\"bile_duct\",\"bone\",\"bile_duct\",\"bile_duct\",\"bile_duct\",\"skin\",\"skin\",\"lung\",\"skin\",\"ovary\",\"lung\",\"blood\",\"bile_duct\",\"pancreas\",\"skin\",\"skin\",\"skin\",\"skin\",\"eye\",\"eye\",\"eye\",\"eye\",\"eye\",\"eye\",\"cervix\",\"uterus\",\"colorectal\",\"colorectal\",\"uterus\",\"uterus\",\"ovary\",\"pancreas\",\"thyroid\",\"thyroid\",\"upper_aerodigestive\",\"uterus\",\"soft_tissue\",\"lymphocyte\",\"blood\",\"central_nervous_system\",\"central_nervous_system\",\"bone\",\"peripheral_nervous_system\",\"soft_tissue\",\"colorectal\",\"breast\",\"breast\",\"unknown\",\"breast\",\"breast\",\"breast\",\"breast\",\"breast\",\"breast\",\"breast\",\"breast\",\"breast\",\"breast\",\"colorectal\",\"lung\",\"soft_tissue\",\"unknown\",\"unknown\",\"unknown\",\"unknown\",\"unknown\",\"unknown\",\"unknown\",\"unknown\",\"unknown\",\"unknown\",\"unknown\",\"unknown\",\"unknown\",\"unknown\",\"unknown\",\"unknown\",\"unknown\",\"unknown\",\"unknown\",\"unknown\",\"unknown\",\"unknown\",\"lymphocyte\",\"breast\",\"gastric\",\"skin\",\"skin\",\"skin\",\"skin\",\"eye\",\"eye\",\"eye\",\"eye\",\"eye\",\"eye\",\"bone\",\"blood\",\"skin\",\"skin\",\"skin\",\"skin\",\"skin\",\"gastric\",\"colorectal\",\"colorectal\",\"colorectal\",\"pancreas\",\"central_nervous_system\",\"eye\",\"peripheral_nervous_system\",\"peripheral_nervous_system\",\"soft_tissue\",\"peripheral_nervous_system\",\"bone\",\"unknown\",\"skin\",\"skin\",\"unknown\",\"ovary\",\"blood\",\"colorectal\",\"blood\",\"blood\",\"blood\",\"colorectal\",\"skin\",\"colorectal\",\"urinary_tract\",\"lung\",\"ovary\",\"skin\",\"lung\",\"breast\",\"urinary_tract\",\"breast\",\"blood\",\"lung\",\"pancreas\",\"pancreas\",\"plasma_cell\",\"central_nervous_system\",\"urinary_tract\",\"central_nervous_system\",\"breast\",\"lung\",\"lung\",\"pancreas\",\"blood\",\"lung\",\"central_nervous_system\",\"soft_tissue\",\"lymphocyte\",\"bone\",\"central_nervous_system\",\"bone\",\"pancreas\",\"breast\",\"blood\",\"kidney\",\"gastric\",\"ovary\",\"plasma_cell\",\"bone\",\"lymphocyte\",\"soft_tissue\",\"central_nervous_system\",\"lymphocyte\",\"plasma_cell\",\"thyroid\",\"blood\",\"pancreas\",\"lymphocyte\",\"lung\",\"fibroblast\",\"blood\",\"lung\",\"central_nervous_system\",\"lymphocyte\",\"blood\",\"blood\",\"lymphocyte\",\"blood\",\"central_nervous_system\",\"peripheral_nervous_system\",\"blood\",\"blood\",\"bone\",\"fibroblast\",\"pancreas\",\"lung\",\"bone\",\"fibroblast\",\"prostate\",\"ovary\",\"lung\",\"pancreas\",\"central_nervous_system\",\"kidney\",\"breast\",\"central_nervous_system\",\"peripheral_nervous_system\",\"soft_tissue\",\"blood\",\"central_nervous_system\",\"ovary\",\"blood\",\"blood\",\"lymphocyte\",\"pancreas\",\"pancreas\",\"lung\",\"breast\",\"blood\",\"blood\",\"pancreas\",\"prostate\",\"ovary\",\"breast\",\"pancreas\",\"peripheral_nervous_system\",\"lung\",\"ovary\",\"lymphocyte\",\"central_nervous_system\",\"urinary_tract\",\"central_nervous_system\",\"lung\",\"fibroblast\",\"ovary\",\"soft_tissue\",\"fibroblast\",\"fibroblast\",\"peripheral_nervous_system\",\"central_nervous_system\",\"pancreas\",\"pancreas\",\"bile_duct\",\"urinary_tract\",\"lung\",\"gastric\",\"soft_tissue\",\"blood\",\"breast\",\"breast\",\"peripheral_nervous_system\",\"lung\",\"blood\",\"central_nervous_system\",\"lung\",\"pancreas\",\"blood\",\"lymphocyte\",\"kidney\",\"soft_tissue\",\"lung\",\"lymphocyte\",\"thyroid\",\"pancreas\",\"plasma_cell\",\"blood\",\"soft_tissue\",\"kidney\",\"thyroid\",\"lung\",\"prostate\",\"pancreas\",\"upper_aerodigestive\",\"bile_duct\",\"plasma_cell\",\"fibroblast\",\"lung\",\"lung\",\"upper_aerodigestive\",\"kidney\",\"unknown\",\"thyroid\",\"uterus\",\"plasma_cell\",\"blood\",\"breast\",\"blood\",\"blood\",\"fibroblast\",\"central_nervous_system\",\"soft_tissue\",\"colorectal\",\"peripheral_nervous_system\",\"plasma_cell\",\"lymphocyte\",\"upper_aerodigestive\",\"central_nervous_system\",\"bile_duct\",\"bone\",\"central_nervous_system\",\"breast\",\"pancreas\",\"fibroblast\",\"central_nervous_system\",\"liver\",\"blood\",\"skin\",\"liver\",\"pancreas\",\"breast\",\"gastric\",\"lymphocyte\",\"peripheral_nervous_system\",\"upper_aerodigestive\",\"central_nervous_system\",\"central_nervous_system\",\"lymphocyte\",\"kidney\",\"pancreas\",\"colorectal\",\"ovary\",\"upper_aerodigestive\",\"fibroblast\",\"urinary_tract\",\"pancreas\",\"central_nervous_system\",\"lymphocyte\",\"kidney\",\"gastric\",\"breast\",\"colorectal\",\"kidney\",\"lung\",\"colorectal\",\"colorectal\",\"upper_aerodigestive\",\"gastric\",\"ovary\",\"lung\",\"breast\",\"peripheral_nervous_system\",\"peripheral_nervous_system\",\"lung\",\"kidney\",\"blood\",\"lung\",\"pancreas\",\"pancreas\",\"lymphocyte\",\"bile_duct\",\"central_nervous_system\",\"pancreas\",\"lymphocyte\",\"kidney\",\"central_nervous_system\",\"skin\",\"breast\",\"breast\",\"ovary\",\"bone\",\"ovary\",\"pancreas\",\"lung\",\"central_nervous_system\",\"colorectal\",\"lymphocyte\",\"central_nervous_system\",\"lung\",\"ovary\",\"lung\",\"uterus\",\"blood\",\"blood\",\"colorectal\",\"lung\",\"blood\",\"blood\",\"uterus\",\"gastric\",\"skin\",\"esophagus\",\"fibroblast\",\"pancreas\",\"ovary\",\"lung\",\"peripheral_nervous_system\",\"lung\",\"peripheral_nervous_system\",\"lung\",\"lymphocyte\",\"liver\",\"kidney\",\"esophagus\",\"lung\",\"pancreas\",\"skin\",\"central_nervous_system\",\"ovary\",\"blood\",\"lung\",\"central_nervous_system\",\"breast\",\"lung\",\"pancreas\",\"lymphocyte\",\"lung\",\"blood\",\"lung\",\"lymphocyte\",\"lung\",\"peripheral_nervous_system\",\"colorectal\",\"lung\",\"gastric\",\"peripheral_nervous_system\",\"blood\",\"pancreas\",\"skin\",\"breast\",\"colorectal\",\"gastric\",\"breast\",\"esophagus\",\"pancreas\",\"lung\",\"gastric\",\"lymphocyte\",\"lung\",\"bone\",\"colorectal\",\"liver\",\"blood\",\"plasma_cell\",\"bone\",\"lymphocyte\",\"peripheral_nervous_system\",\"lung\",\"central_nervous_system\",\"blood\",\"central_nervous_system\",\"lymphocyte\",\"blood\",\"blood\",\"breast\",\"kidney\",\"central_nervous_system\",\"bile_duct\",\"lung\",\"lung\",\"plasma_cell\",\"colorectal\",\"lung\",\"esophagus\",\"urinary_tract\",\"blood\",\"blood\",\"central_nervous_system\",\"lung\",\"bone\",\"lung\",\"liver\",\"lung\",\"lung\",\"urinary_tract\",\"uterus\",\"lung\",\"colorectal\",\"skin\",\"lymphocyte\",\"colorectal\",\"skin\",\"blood\",\"blood\",\"uterus\",\"esophagus\",\"ovary\",\"bone\",\"kidney\",\"colorectal\",\"lung\",\"upper_aerodigestive\",\"lung\",\"pancreas\",\"liver\",\"colorectal\",\"liver\",\"skin\",\"bone\",\"skin\",\"plasma_cell\",\"gastric\",\"kidney\",\"kidney\",\"ovary\",\"lung\",\"blood\",\"kidney\",\"lung\",\"uterus\",\"plasma_cell\",\"central_nervous_system\",\"lung\",\"blood\",\"lymphocyte\",\"skin\",\"lung\",\"ovary\",\"lung\",\"central_nervous_system\",\"peripheral_nervous_system\",\"lung\",\"lung\",\"soft_tissue\",\"skin\",\"lung\",\"esophagus\",\"lung\",\"thyroid\",\"kidney\",\"skin\",\"kidney\",\"ovary\",\"bile_duct\",\"lung\",\"central_nervous_system\",\"skin\",\"gastric\",\"pancreas\",\"central_nervous_system\",\"colorectal\",\"liver\",\"upper_aerodigestive\",\"urinary_tract\",\"liver\",\"liver\",\"skin\",\"liver\",\"central_nervous_system\",\"liver\",\"lung\",\"lung\",\"liver\",\"kidney\",\"gastric\",\"urinary_tract\",\"blood\",\"esophagus\",\"colorectal\",\"cervix\",\"colorectal\",\"liver\",\"kidney\",\"lung\",\"blood\",\"bone\",\"upper_aerodigestive\",\"colorectal\",\"pancreas\",\"upper_aerodigestive\",\"central_nervous_system\",\"soft_tissue\",\"lung\",\"gastric\",\"lung\",\"lymphocyte\",\"lung\",\"lung\",\"plasma_cell\",\"lung\",\"lung\",\"bone\",\"pancreas\",\"upper_aerodigestive\",\"blood\",\"ovary\",\"lung\",\"urinary_tract\",\"ovary\",\"lung\",\"ovary\",\"lung\",\"lung\",\"colorectal\",\"lymphocyte\",\"pancreas\",\"breast\",\"liver\",\"gastric\",\"fibroblast\",\"fibroblast\",\"plasma_cell\",\"ovary\",\"central_nervous_system\",\"esophagus\",\"urinary_tract\",\"upper_aerodigestive\",\"urinary_tract\",\"upper_aerodigestive\",\"upper_aerodigestive\",\"skin\",\"blood\",\"colorectal\",\"breast\",\"kidney\",\"cervix\",\"blood\",\"central_nervous_system\",\"lung\",\"gastric\",\"esophagus\",\"lung\",\"lung\",\"colorectal\",\"urinary_tract\",\"lymphocyte\",\"breast\",\"lung\",\"central_nervous_system\",\"central_nervous_system\",\"skin\",\"breast\",\"ovary\",\"lung\",\"plasma_cell\",\"liver\",\"lung\",\"skin\",\"skin\",\"gastric\",\"skin\",\"lymphocyte\",\"ovary\",\"lung\",\"lung\",\"lung\",\"plasma_cell\",\"lung\",\"lung\",\"central_nervous_system\",\"central_nervous_system\",\"urinary_tract\",\"lung\",\"central_nervous_system\",\"lung\",\"soft_tissue\",\"pancreas\",\"kidney\",\"pancreas\",\"lung\",\"blood\",\"esophagus\",\"upper_aerodigestive\",\"soft_tissue\",\"ovary\",\"central_nervous_system\",\"lung\",\"lymphocyte\",\"bone\",\"skin\",\"skin\",\"gastric\",\"ovary\",\"upper_aerodigestive\",\"upper_aerodigestive\",\"liver\",\"breast\",\"central_nervous_system\",\"central_nervous_system\",\"breast\",\"liver\",\"plasma_cell\",\"lung\",\"lung\",\"upper_aerodigestive\",\"central_nervous_system\",\"skin\",\"gastric\",\"blood\",\"esophagus\",\"lung\",\"lung\",\"skin\",\"blood\",\"breast\",\"skin\",\"ovary\",\"esophagus\",\"lung\",\"kidney\",\"skin\",\"colorectal\",\"pancreas\",\"plasma_cell\",\"lymphocyte\",\"central_nervous_system\",\"lymphocyte\",\"ovary\",\"plasma_cell\",\"lung\",\"lymphocyte\",\"skin\",\"lung\",\"ovary\",\"lymphocyte\",\"lung\",\"lung\",\"lung\",\"breast\",\"lung\",\"lung\",\"liver\",\"lung\",\"central_nervous_system\",\"gastric\",\"lung\",\"central_nervous_system\",\"lung\",\"gastric\",\"esophagus\",\"colorectal\",\"lung\",\"upper_aerodigestive\",\"colorectal\",\"kidney\",\"liver\",\"lymphocyte\",\"ovary\",\"soft_tissue\",\"lung\",\"breast\",\"upper_aerodigestive\",\"esophagus\",\"esophagus\",\"lung\",\"ovary\",\"lymphocyte\",\"lung\",\"breast\",\"lung\",\"ovary\",\"lymphocyte\",\"lung\",\"ovary\",\"lung\",\"lung\",\"lymphocyte\",\"colorectal\",\"breast\",\"lung\",\"ovary\",\"plasma_cell\",\"upper_aerodigestive\",\"thyroid\",\"esophagus\",\"lung\",\"ovary\",\"urinary_tract\",\"breast\",\"colorectal\",\"urinary_tract\",\"breast\",\"lung\",\"lung\",\"skin\",\"lung\",\"upper_aerodigestive\",\"lung\",\"liver\",\"upper_aerodigestive\",\"gastric\",\"central_nervous_system\",\"liver\",\"upper_aerodigestive\",\"fibroblast\",\"lung\",\"lung\",\"plasma_cell\",\"gastric\",\"lung\",\"bone\",\"lung\",\"skin\",\"blood\",\"lung\",\"urinary_tract\",\"lymphocyte\",\"breast\",\"central_nervous_system\",\"lung\",\"gastric\",\"breast\",\"central_nervous_system\",\"upper_aerodigestive\",\"plasma_cell\",\"gastric\",\"skin\",\"lung\",\"lung\",\"breast\",\"lung\",\"blood\",\"upper_aerodigestive\",\"soft_tissue\",\"lymphocyte\",\"lung\",\"lung\",\"central_nervous_system\",\"esophagus\",\"upper_aerodigestive\",\"lung\",\"lung\",\"lung\",\"blood\",\"breast\",\"esophagus\",\"lung\",\"lymphocyte\",\"lung\",\"skin\",\"lung\",\"lung\",\"lung\",\"kidney\",\"gastric\",\"upper_aerodigestive\",\"blood\",\"ovary\",\"colorectal\",\"skin\",\"lung\",\"urinary_tract\",\"lung\",\"peripheral_nervous_system\",\"skin\",\"lymphocyte\",\"central_nervous_system\",\"esophagus\",\"skin\",\"ovary\",\"skin\",\"skin\",\"lymphocyte\",\"lung\",\"plasma_cell\",\"breast\",\"central_nervous_system\",\"colorectal\",\"plasma_cell\",\"skin\",\"esophagus\",\"esophagus\",\"lung\",\"lung\",\"skin\",\"breast\",\"plasma_cell\",\"lung\",\"uterus\",\"upper_aerodigestive\",\"soft_tissue\",\"urinary_tract\",\"soft_tissue\",\"upper_aerodigestive\",\"plasma_cell\",\"urinary_tract\",\"lung\",\"lung\",\"colorectal\",\"lung\",\"lung\",\"upper_aerodigestive\",\"gastric\",\"liver\",\"breast\",\"lung\",\"lung\",\"lung\",\"esophagus\",\"breast\",\"breast\",\"lung\",\"breast\",\"lung\",\"lung\",\"urinary_tract\",\"central_nervous_system\",\"uterus\",\"esophagus\",\"lung\",\"lung\",\"lung\",\"lung\",\"lung\",\"lung\",\"esophagus\",\"blood\",\"lung\",\"breast\",\"lymphocyte\",\"lung\",\"uterus\",\"gastric\",\"skin\",\"skin\",\"central_nervous_system\",\"skin\",\"ovary\",\"lung\",\"central_nervous_system\",\"lung\",\"plasma_cell\",\"lung\",\"lung\",\"lung\",\"lung\",\"lung\",\"colorectal\",\"urinary_tract\",\"thyroid\",\"gastric\",\"lung\",\"lung\",\"breast\",\"thyroid\",\"urinary_tract\",\"ovary\",\"kidney\",\"breast\",\"gastric\",\"lung\",\"uterus\",\"lymphocyte\",\"skin\",\"lung\",\"esophagus\",\"blood\",\"gastric\",\"blood\",\"lung\",\"blood\",\"lymphocyte\",\"lung\",\"lung\",\"colorectal\",\"breast\",\"uterus\",\"lung\",\"breast\",\"skin\",\"gastric\",\"pancreas\",\"breast\",\"colorectal\",\"ovary\",\"blood\",\"blood\",\"soft_tissue\",\"uterus\",\"uterus\",\"blood\",\"colorectal\",\"lymphocyte\",\"lung\",\"uterus\",\"ovary\",\"gastric\",\"gastric\",\"colorectal\",\"lung\",\"blood\",\"uterus\",\"colorectal\",\"prostate\",\"colorectal\",\"colorectal\",\"colorectal\",\"blood\",\"uterus\",\"ovary\",\"colorectal\",\"blood\",\"uterus\",\"ovary\",\"colorectal\",\"skin\",\"colorectal\",\"colorectal\",\"colorectal\",\"uterus\",\"urinary_tract\",\"uterus\",\"lung\",\"bile_duct\",\"prostate\",\"uterus\",\"prostate\",\"lung\",\"blood\",\"colorectal\",\"blood\",\"uterus\",\"colorectal\",\"colorectal\",\"skin\",\"uterus\",\"colorectal\",\"uterus\",\"colorectal\",\"upper_aerodigestive\",\"uterus\",\"uterus\",\"blood\",\"uterus\",\"colorectal\",\"colorectal\",\"colorectal\",\"bone\",\"skin\",\"central_nervous_system\",\"soft_tissue\",\"liver\",\"bone\",\"thyroid\",\"skin\",\"soft_tissue\",\"bone\",\"bone\",\"soft_tissue\",\"bone\",\"central_nervous_system\",\"bone\",\"bone\",\"blood\",\"bone\",\"colorectal\",\"skin\",\"skin\",\"ovary\",\"lung\",\"soft_tissue\",\"central_nervous_system\",\"central_nervous_system\",\"lymphocyte\",\"soft_tissue\",\"lymphocyte\",\"colorectal\",\"ovary\",\"lymphocyte\",\"breast\",\"central_nervous_system\",\"lymphocyte\",\"pancreas\",\"lung\",\"colorectal\",\"colorectal\",\"cervix\",\"liver\",\"upper_aerodigestive\",\"colorectal\",\"plasma_cell\",\"soft_tissue\",\"pancreas\",\"blood\",\"pancreas\",\"lymphocyte\",\"lung\",\"central_nervous_system\",\"lymphocyte\",\"lymphocyte\",\"central_nervous_system\",\"central_nervous_system\",\"blood\",\"soft_tissue\",\"blood\",\"skin\",\"lung\",\"lung\",\"lung\",\"ovary\",\"ovary\",\"pancreas\",\"unknown\",\"urinary_tract\",\"soft_tissue\",\"peripheral_nervous_system\",\"soft_tissue\",\"skin\",\"bone\",\"bone\",\"soft_tissue\",\"central_nervous_system\",\"colorectal\",\"lymphocyte\",\"bone\",\"kidney\",\"soft_tissue\",\"soft_tissue\",\"soft_tissue\",\"central_nervous_system\",\"upper_aerodigestive\",\"upper_aerodigestive\",\"central_nervous_system\",\"lung\",\"skin\",\"breast\",\"soft_tissue\",\"soft_tissue\",\"soft_tissue\",\"soft_tissue\",\"ovary\",\"soft_tissue\",\"bone\",\"soft_tissue\",\"eye\",\"peripheral_nervous_system\",\"peripheral_nervous_system\",\"peripheral_nervous_system\",\"peripheral_nervous_system\",\"thyroid\",\"thyroid\",\"liver\",\"thyroid\",\"soft_tissue\",\"skin\",\"central_nervous_system\",\"upper_aerodigestive\",\"upper_aerodigestive\",\"cervix\",\"cervix\",\"cervix\",\"cervix\",\"peripheral_nervous_system\",\"skin\",\"ovary\",\"cervix\",\"peripheral_nervous_system\",\"colorectal\",\"upper_aerodigestive\",\"thyroid\",\"pancreas\",\"peripheral_nervous_system\",\"peripheral_nervous_system\",\"breast\",\"cervix\",\"cervix\",\"lung\",\"lung\",\"lung\",\"lung\",\"peripheral_nervous_system\",\"esophagus\",\"ovary\",\"ovary\",\"ovary\",\"pancreas\",\"pancreas\",\"pancreas\",\"pancreas\",\"pancreas\",\"pancreas\",\"pancreas\",\"prostate\",\"thyroid\",\"upper_aerodigestive\",\"lung\",\"breast\",\"breast\",\"breast\",\"breast\",\"breast\",\"kidney\",\"colorectal\",\"cervix\",\"adrenal_cortex\",\"cervix\",\"ovary\",\"urinary_tract\",\"urinary_tract\",\"urinary_tract\",\"urinary_tract\",\"urinary_tract\",\"urinary_tract\",\"urinary_tract\",\"urinary_tract\",\"lung\",\"ovary\",\"eye\",\"bone\",\"bone\",\"epidermoid_carcinoma\",\"thyroid\",\"lymphocyte\",\"cervix\",\"blood\",\"prostate\",\"colorectal\",\"colorectal\",\"colorectal\",\"colorectal\",\"colorectal\",\"colorectal\",\"blood\",\"blood\",\"lung\",\"lung\",\"bile_duct\",\"esophagus\",\"esophagus\",\"lymphocyte\",\"esophagus\",\"uterus\",\"bone\",\"skin\",\"skin\",\"skin\",\"cervix\",\"bone\",\"thyroid\",\"uterus\",\"uterus\",\"kidney\",\"bile_duct\",\"upper_aerodigestive\",\"upper_aerodigestive\",\"esophagus\",\"lung\",\"skin\",\"skin\",\"skin\",\"eye\",\"skin\",\"skin\",\"skin\",\"skin\",\"skin\",\"blood\",\"embryo\",\"lung\",\"lung\",\"peripheral_nervous_system\",\"central_nervous_system\",\"central_nervous_system\",\"central_nervous_system\",\"lymphocyte\",\"upper_aerodigestive\",\"upper_aerodigestive\",\"ovary\",\"ovary\",\"ovary\",\"lymphocyte\",\"lymphocyte\",\"blood\",\"upper_aerodigestive\",\"lymphocyte\",\"skin\",\"cervix\",\"gastric\",\"esophagus\",\"uterus\",\"blood\",\"peripheral_nervous_system\",\"bile_duct\",\"peripheral_nervous_system\",\"lymphocyte\",\"lymphocyte\",\"soft_tissue\",\"lymphocyte\",\"skin\",\"lymphocyte\",\"central_nervous_system\",\"bone\",\"peripheral_nervous_system\",\"blood\",\"blood\",\"blood\",\"blood\",\"soft_tissue\",\"soft_tissue\",\"soft_tissue\",\"soft_tissue\",\"soft_tissue\",\"breast\",\"breast\",\"bile_duct\",\"bile_duct\",\"bone\",\"bone\",\"lung\",\"skin\",\"cervix\",\"colorectal\",\"upper_aerodigestive\",\"skin\",\"upper_aerodigestive\",\"upper_aerodigestive\",\"lung\",\"lung\",\"blood\",\"blood\",\"lymphocyte\",\"bone\",\"lung\",\"peripheral_nervous_system\",\"skin\",\"lung\",\"kidney\",\"skin\",\"bone\",\"bone\",\"bone\",\"lung\",\"skin\",\"skin\",\"skin\",\"bone\",\"skin\",\"lung\",\"lung\",\"bone\",\"bone\",\"bone\",\"bone\",\"bone\",\"bone\",\"bone\",\"bone\",\"bone\",\"bone\",\"bone\",\"bone\",\"bone\",\"bone\",\"bone\",\"bone\",\"bone\",\"skin\",\"skin\",\"lung\",\"lung\",\"lung\",\"lung\",\"lung\",\"lung\",\"lung\",\"lung\",\"lung\",\"lung\",\"lung\",\"lung\",\"lung\",\"lung\",\"lung\",\"lung\",\"kidney\",\"ovary\",\"gastric\",\"bone\",\"skin\",\"lung\",\"lung\",\"ovary\",\"skin\",\"thyroid\",\"ovary\",\"kidney\",\"kidney\",\"skin\",\"skin\",\"lung\",\"kidney\",\"lung\",\"lung\",\"lung\",\"skin\",\"bone\",\"gastric\",\"skin\",\"breast\",\"pancreas\",\"skin\",\"skin\",\"kidney\",\"kidney\",\"lung\",\"lung\",\"lung\",\"lung\",\"lung\",\"lung\",\"lung\",\"lung\",\"lung\",\"bone\",\"breast\",\"cervix\",\"ovary\",\"ovary\",\"ovary\",\"lung\",\"pancreas\",\"pancreas\",\"kidney\",\"kidney\",\"kidney\",\"kidney\",\"kidney\",\"kidney\",\"lung\",\"bone\",\"kidney\",\"lung\",\"lung\",\"gastric\",\"kidney\",\"skin\",\"cervix\",\"gastric\",\"bone\",\"skin\",\"skin\",\"skin\",\"breast\",\"blood\",\"blood\",\"blood\",\"upper_aerodigestive\",\"upper_aerodigestive\",\"lymphocyte\",\"lymphocyte\",\"blood\",\"peripheral_nervous_system\",\"blood\",\"colorectal\",\"lymphocyte\",\"lymphocyte\",\"blood\",\"central_nervous_system\",\"central_nervous_system\",\"central_nervous_system\",\"central_nervous_system\",\"central_nervous_system\",\"central_nervous_system\",\"central_nervous_system\",\"central_nervous_system\",\"central_nervous_system\",\"lymphocyte\",\"colorectal\",\"upper_aerodigestive\",\"urinary_tract\",\"lymphocyte\",\"bile_duct\",\"blood\",\"upper_aerodigestive\",\"lymphocyte\",\"blood\",\"blood\",\"esophagus\",\"upper_aerodigestive\",\"lymphocyte\",\"soft_tissue\",\"blood\",\"peripheral_nervous_system\",\"upper_aerodigestive\",\"upper_aerodigestive\",\"upper_aerodigestive\",\"lymphocyte\",\"lymphocyte\",\"lymphocyte\",\"lymphocyte\",\"blood\",\"central_nervous_system\",\"blood\",\"central_nervous_system\",\"upper_aerodigestive\",\"peripheral_nervous_system\",\"blood\",\"esophagus\",\"esophagus\",\"upper_aerodigestive\",\"urinary_tract\",\"blood\",\"central_nervous_system\",\"central_nervous_system\",\"blood\",\"soft_tissue\",\"lymphocyte\",\"blood\",\"blood\",\"blood\",\"blood\",\"peripheral_nervous_system\",\"peripheral_nervous_system\",\"peripheral_nervous_system\",\"peripheral_nervous_system\",\"peripheral_nervous_system\",\"peripheral_nervous_system\",\"peripheral_nervous_system\",\"peripheral_nervous_system\",\"peripheral_nervous_system\",\"lung\",\"embryo\",\"blood\",\"blood\",\"embryo\",\"esophagus\",\"lymphocyte\",\"upper_aerodigestive\",\"upper_aerodigestive\",\"upper_aerodigestive\",\"upper_aerodigestive\",\"upper_aerodigestive\",\"blood\",\"lymphocyte\",\"lymphocyte\",\"blood\",\"central_nervous_system\",\"upper_aerodigestive\",\"gastric\",\"lymphocyte\",\"blood\",\"soft_tissue\",\"soft_tissue\",\"esophagus\",\"bile_duct\",\"lymphocyte\",\"blood\",\"blood\",\"blood\",\"unknown\",\"lung\",\"skin\",\"blood\",\"peripheral_nervous_system\",\"colorectal\",\"unknown\",\"unknown\",\"unknown\",\"unknown\",\"unknown\",\"unknown\",\"unknown\",\"unknown\",\"unknown\",\"unknown\",\"unknown\",\"unknown\",\"unknown\",\"unknown\",\"unknown\",\"unknown\",\"unknown\",\"unknown\",\"unknown\",\"skin\",\"skin\",\"skin\",\"peripheral_nervous_system\",\"blood\",\"upper_aerodigestive\",\"lymphocyte\",\"colorectal\",\"liver\",\"bone\",\"thyroid\"],\"xaxis\":\"x\",\"yaxis\":\"y\",\"type\":\"histogram\"}],                        {\"template\":{\"data\":{\"bar\":[{\"error_x\":{\"color\":\"#2a3f5f\"},\"error_y\":{\"color\":\"#2a3f5f\"},\"marker\":{\"line\":{\"color\":\"#E5ECF6\",\"width\":0.5},\"pattern\":{\"fillmode\":\"overlay\",\"size\":10,\"solidity\":0.2}},\"type\":\"bar\"}],\"barpolar\":[{\"marker\":{\"line\":{\"color\":\"#E5ECF6\",\"width\":0.5},\"pattern\":{\"fillmode\":\"overlay\",\"size\":10,\"solidity\":0.2}},\"type\":\"barpolar\"}],\"carpet\":[{\"aaxis\":{\"endlinecolor\":\"#2a3f5f\",\"gridcolor\":\"white\",\"linecolor\":\"white\",\"minorgridcolor\":\"white\",\"startlinecolor\":\"#2a3f5f\"},\"baxis\":{\"endlinecolor\":\"#2a3f5f\",\"gridcolor\":\"white\",\"linecolor\":\"white\",\"minorgridcolor\":\"white\",\"startlinecolor\":\"#2a3f5f\"},\"type\":\"carpet\"}],\"choropleth\":[{\"colorbar\":{\"outlinewidth\":0,\"ticks\":\"\"},\"type\":\"choropleth\"}],\"contour\":[{\"colorbar\":{\"outlinewidth\":0,\"ticks\":\"\"},\"colorscale\":[[0.0,\"#0d0887\"],[0.1111111111111111,\"#46039f\"],[0.2222222222222222,\"#7201a8\"],[0.3333333333333333,\"#9c179e\"],[0.4444444444444444,\"#bd3786\"],[0.5555555555555556,\"#d8576b\"],[0.6666666666666666,\"#ed7953\"],[0.7777777777777778,\"#fb9f3a\"],[0.8888888888888888,\"#fdca26\"],[1.0,\"#f0f921\"]],\"type\":\"contour\"}],\"contourcarpet\":[{\"colorbar\":{\"outlinewidth\":0,\"ticks\":\"\"},\"type\":\"contourcarpet\"}],\"heatmap\":[{\"colorbar\":{\"outlinewidth\":0,\"ticks\":\"\"},\"colorscale\":[[0.0,\"#0d0887\"],[0.1111111111111111,\"#46039f\"],[0.2222222222222222,\"#7201a8\"],[0.3333333333333333,\"#9c179e\"],[0.4444444444444444,\"#bd3786\"],[0.5555555555555556,\"#d8576b\"],[0.6666666666666666,\"#ed7953\"],[0.7777777777777778,\"#fb9f3a\"],[0.8888888888888888,\"#fdca26\"],[1.0,\"#f0f921\"]],\"type\":\"heatmap\"}],\"heatmapgl\":[{\"colorbar\":{\"outlinewidth\":0,\"ticks\":\"\"},\"colorscale\":[[0.0,\"#0d0887\"],[0.1111111111111111,\"#46039f\"],[0.2222222222222222,\"#7201a8\"],[0.3333333333333333,\"#9c179e\"],[0.4444444444444444,\"#bd3786\"],[0.5555555555555556,\"#d8576b\"],[0.6666666666666666,\"#ed7953\"],[0.7777777777777778,\"#fb9f3a\"],[0.8888888888888888,\"#fdca26\"],[1.0,\"#f0f921\"]],\"type\":\"heatmapgl\"}],\"histogram\":[{\"marker\":{\"pattern\":{\"fillmode\":\"overlay\",\"size\":10,\"solidity\":0.2}},\"type\":\"histogram\"}],\"histogram2d\":[{\"colorbar\":{\"outlinewidth\":0,\"ticks\":\"\"},\"colorscale\":[[0.0,\"#0d0887\"],[0.1111111111111111,\"#46039f\"],[0.2222222222222222,\"#7201a8\"],[0.3333333333333333,\"#9c179e\"],[0.4444444444444444,\"#bd3786\"],[0.5555555555555556,\"#d8576b\"],[0.6666666666666666,\"#ed7953\"],[0.7777777777777778,\"#fb9f3a\"],[0.8888888888888888,\"#fdca26\"],[1.0,\"#f0f921\"]],\"type\":\"histogram2d\"}],\"histogram2dcontour\":[{\"colorbar\":{\"outlinewidth\":0,\"ticks\":\"\"},\"colorscale\":[[0.0,\"#0d0887\"],[0.1111111111111111,\"#46039f\"],[0.2222222222222222,\"#7201a8\"],[0.3333333333333333,\"#9c179e\"],[0.4444444444444444,\"#bd3786\"],[0.5555555555555556,\"#d8576b\"],[0.6666666666666666,\"#ed7953\"],[0.7777777777777778,\"#fb9f3a\"],[0.8888888888888888,\"#fdca26\"],[1.0,\"#f0f921\"]],\"type\":\"histogram2dcontour\"}],\"mesh3d\":[{\"colorbar\":{\"outlinewidth\":0,\"ticks\":\"\"},\"type\":\"mesh3d\"}],\"parcoords\":[{\"line\":{\"colorbar\":{\"outlinewidth\":0,\"ticks\":\"\"}},\"type\":\"parcoords\"}],\"pie\":[{\"automargin\":true,\"type\":\"pie\"}],\"scatter\":[{\"marker\":{\"colorbar\":{\"outlinewidth\":0,\"ticks\":\"\"}},\"type\":\"scatter\"}],\"scatter3d\":[{\"line\":{\"colorbar\":{\"outlinewidth\":0,\"ticks\":\"\"}},\"marker\":{\"colorbar\":{\"outlinewidth\":0,\"ticks\":\"\"}},\"type\":\"scatter3d\"}],\"scattercarpet\":[{\"marker\":{\"colorbar\":{\"outlinewidth\":0,\"ticks\":\"\"}},\"type\":\"scattercarpet\"}],\"scattergeo\":[{\"marker\":{\"colorbar\":{\"outlinewidth\":0,\"ticks\":\"\"}},\"type\":\"scattergeo\"}],\"scattergl\":[{\"marker\":{\"colorbar\":{\"outlinewidth\":0,\"ticks\":\"\"}},\"type\":\"scattergl\"}],\"scattermapbox\":[{\"marker\":{\"colorbar\":{\"outlinewidth\":0,\"ticks\":\"\"}},\"type\":\"scattermapbox\"}],\"scatterpolar\":[{\"marker\":{\"colorbar\":{\"outlinewidth\":0,\"ticks\":\"\"}},\"type\":\"scatterpolar\"}],\"scatterpolargl\":[{\"marker\":{\"colorbar\":{\"outlinewidth\":0,\"ticks\":\"\"}},\"type\":\"scatterpolargl\"}],\"scatterternary\":[{\"marker\":{\"colorbar\":{\"outlinewidth\":0,\"ticks\":\"\"}},\"type\":\"scatterternary\"}],\"surface\":[{\"colorbar\":{\"outlinewidth\":0,\"ticks\":\"\"},\"colorscale\":[[0.0,\"#0d0887\"],[0.1111111111111111,\"#46039f\"],[0.2222222222222222,\"#7201a8\"],[0.3333333333333333,\"#9c179e\"],[0.4444444444444444,\"#bd3786\"],[0.5555555555555556,\"#d8576b\"],[0.6666666666666666,\"#ed7953\"],[0.7777777777777778,\"#fb9f3a\"],[0.8888888888888888,\"#fdca26\"],[1.0,\"#f0f921\"]],\"type\":\"surface\"}],\"table\":[{\"cells\":{\"fill\":{\"color\":\"#EBF0F8\"},\"line\":{\"color\":\"white\"}},\"header\":{\"fill\":{\"color\":\"#C8D4E3\"},\"line\":{\"color\":\"white\"}},\"type\":\"table\"}]},\"layout\":{\"annotationdefaults\":{\"arrowcolor\":\"#2a3f5f\",\"arrowhead\":0,\"arrowwidth\":1},\"autotypenumbers\":\"strict\",\"coloraxis\":{\"colorbar\":{\"outlinewidth\":0,\"ticks\":\"\"}},\"colorscale\":{\"diverging\":[[0,\"#8e0152\"],[0.1,\"#c51b7d\"],[0.2,\"#de77ae\"],[0.3,\"#f1b6da\"],[0.4,\"#fde0ef\"],[0.5,\"#f7f7f7\"],[0.6,\"#e6f5d0\"],[0.7,\"#b8e186\"],[0.8,\"#7fbc41\"],[0.9,\"#4d9221\"],[1,\"#276419\"]],\"sequential\":[[0.0,\"#0d0887\"],[0.1111111111111111,\"#46039f\"],[0.2222222222222222,\"#7201a8\"],[0.3333333333333333,\"#9c179e\"],[0.4444444444444444,\"#bd3786\"],[0.5555555555555556,\"#d8576b\"],[0.6666666666666666,\"#ed7953\"],[0.7777777777777778,\"#fb9f3a\"],[0.8888888888888888,\"#fdca26\"],[1.0,\"#f0f921\"]],\"sequentialminus\":[[0.0,\"#0d0887\"],[0.1111111111111111,\"#46039f\"],[0.2222222222222222,\"#7201a8\"],[0.3333333333333333,\"#9c179e\"],[0.4444444444444444,\"#bd3786\"],[0.5555555555555556,\"#d8576b\"],[0.6666666666666666,\"#ed7953\"],[0.7777777777777778,\"#fb9f3a\"],[0.8888888888888888,\"#fdca26\"],[1.0,\"#f0f921\"]]},\"colorway\":[\"#636efa\",\"#EF553B\",\"#00cc96\",\"#ab63fa\",\"#FFA15A\",\"#19d3f3\",\"#FF6692\",\"#B6E880\",\"#FF97FF\",\"#FECB52\"],\"font\":{\"color\":\"#2a3f5f\"},\"geo\":{\"bgcolor\":\"white\",\"lakecolor\":\"white\",\"landcolor\":\"#E5ECF6\",\"showlakes\":true,\"showland\":true,\"subunitcolor\":\"white\"},\"hoverlabel\":{\"align\":\"left\"},\"hovermode\":\"closest\",\"mapbox\":{\"style\":\"light\"},\"paper_bgcolor\":\"white\",\"plot_bgcolor\":\"#E5ECF6\",\"polar\":{\"angularaxis\":{\"gridcolor\":\"white\",\"linecolor\":\"white\",\"ticks\":\"\"},\"bgcolor\":\"#E5ECF6\",\"radialaxis\":{\"gridcolor\":\"white\",\"linecolor\":\"white\",\"ticks\":\"\"}},\"scene\":{\"xaxis\":{\"backgroundcolor\":\"#E5ECF6\",\"gridcolor\":\"white\",\"gridwidth\":2,\"linecolor\":\"white\",\"showbackground\":true,\"ticks\":\"\",\"zerolinecolor\":\"white\"},\"yaxis\":{\"backgroundcolor\":\"#E5ECF6\",\"gridcolor\":\"white\",\"gridwidth\":2,\"linecolor\":\"white\",\"showbackground\":true,\"ticks\":\"\",\"zerolinecolor\":\"white\"},\"zaxis\":{\"backgroundcolor\":\"#E5ECF6\",\"gridcolor\":\"white\",\"gridwidth\":2,\"linecolor\":\"white\",\"showbackground\":true,\"ticks\":\"\",\"zerolinecolor\":\"white\"}},\"shapedefaults\":{\"line\":{\"color\":\"#2a3f5f\"}},\"ternary\":{\"aaxis\":{\"gridcolor\":\"white\",\"linecolor\":\"white\",\"ticks\":\"\"},\"baxis\":{\"gridcolor\":\"white\",\"linecolor\":\"white\",\"ticks\":\"\"},\"bgcolor\":\"#E5ECF6\",\"caxis\":{\"gridcolor\":\"white\",\"linecolor\":\"white\",\"ticks\":\"\"}},\"title\":{\"x\":0.05},\"xaxis\":{\"automargin\":true,\"gridcolor\":\"white\",\"linecolor\":\"white\",\"ticks\":\"\",\"title\":{\"standoff\":15},\"zerolinecolor\":\"white\",\"zerolinewidth\":2},\"yaxis\":{\"automargin\":true,\"gridcolor\":\"white\",\"linecolor\":\"white\",\"ticks\":\"\",\"title\":{\"standoff\":15},\"zerolinecolor\":\"white\",\"zerolinewidth\":2}}},\"xaxis\":{\"anchor\":\"y\",\"domain\":[0.0,1.0],\"title\":{\"text\":\"lineage\"}},\"yaxis\":{\"anchor\":\"x\",\"domain\":[0.0,1.0],\"title\":{\"text\":\"count\"}},\"legend\":{\"tracegroupgap\":0},\"margin\":{\"t\":60},\"barmode\":\"relative\"},                        {\"responsive\": true}                    ).then(function(){\n",
              "                            \n",
              "var gd = document.getElementById('78f1bf39-99c7-42b3-9923-691fd9bf8205');\n",
              "var x = new MutationObserver(function (mutations, observer) {{\n",
              "        var display = window.getComputedStyle(gd).display;\n",
              "        if (!display || display === 'none') {{\n",
              "            console.log([gd, 'removed!']);\n",
              "            Plotly.purge(gd);\n",
              "            observer.disconnect();\n",
              "        }}\n",
              "}});\n",
              "\n",
              "// Listen for the removal of the full notebook cells\n",
              "var notebookContainer = gd.closest('#notebook-container');\n",
              "if (notebookContainer) {{\n",
              "    x.observe(notebookContainer, {childList: true});\n",
              "}}\n",
              "\n",
              "// Listen for the clearing of the current output cell\n",
              "var outputEl = gd.closest('.output');\n",
              "if (outputEl) {{\n",
              "    x.observe(outputEl, {childList: true});\n",
              "}}\n",
              "\n",
              "                        })                };                            </script>        </div>\n",
              "</body>\n",
              "</html>"
            ]
          },
          "metadata": {}
        }
      ],
      "source": [
        "px.histogram(df, x = \"lineage\")"
      ]
    },
    {
      "cell_type": "code",
      "execution_count": 16,
      "metadata": {
        "colab": {
          "base_uri": "https://localhost:8080/",
          "height": 542
        },
        "id": "-nU68MYrtfpJ",
        "outputId": "b330ca47-c07e-438b-c3db-14043af0d6d0"
      },
      "outputs": [
        {
          "output_type": "display_data",
          "data": {
            "text/html": [
              "<html>\n",
              "<head><meta charset=\"utf-8\" /></head>\n",
              "<body>\n",
              "    <div>            <script src=\"https://cdnjs.cloudflare.com/ajax/libs/mathjax/2.7.5/MathJax.js?config=TeX-AMS-MML_SVG\"></script><script type=\"text/javascript\">if (window.MathJax) {MathJax.Hub.Config({SVG: {font: \"STIX-Web\"}});}</script>                <script type=\"text/javascript\">window.PlotlyConfig = {MathJaxConfig: 'local'};</script>\n",
              "        <script src=\"https://cdn.plot.ly/plotly-2.8.3.min.js\"></script>                <div id=\"26c63ac4-e913-4b6c-a4b5-65bd3394cf7c\" class=\"plotly-graph-div\" style=\"height:525px; width:100%;\"></div>            <script type=\"text/javascript\">                                    window.PLOTLYENV=window.PLOTLYENV || {};                                    if (document.getElementById(\"26c63ac4-e913-4b6c-a4b5-65bd3394cf7c\")) {                    Plotly.newPlot(                        \"26c63ac4-e913-4b6c-a4b5-65bd3394cf7c\",                        [{\"alignmentgroup\":\"True\",\"bingroup\":\"x\",\"hovertemplate\":\"primary_disease=%{x}<br>count=%{y}<extra></extra>\",\"legendgroup\":\"\",\"marker\":{\"color\":\"#636efa\",\"pattern\":{\"shape\":\"\"}},\"name\":\"\",\"offsetgroup\":\"\",\"orientation\":\"v\",\"showlegend\":false,\"x\":[\"Kidney Cancer\",\"Leukemia\",\"Lung Cancer\",\"Non-Cancerous\",\"Non-Cancerous\",\"Sarcoma\",\"Non-Cancerous\",\"Lymphoma\",\"Non-Cancerous\",\"Leukemia\",\"Lymphoma\",\"Non-Cancerous\",\"Leukemia\",\"Colon/Colorectal Cancer\",\"Pancreatic Cancer\",\"Gastric Cancer\",\"Non-Cancerous\",\"Leukemia\",\"Non-Cancerous\",\"Leukemia\",\"Lymphoma\",\"Non-Cancerous\",\"Lymphoma\",\"Non-Cancerous\",\"Leukemia\",\"Non-Cancerous\",\"Rhabdoid\",\"Endometrial/Uterine Cancer\",\"Non-Cancerous\",\"Lung Cancer\",\"Non-Cancerous\",\"Non-Cancerous\",\"Non-Cancerous\",\"Pancreatic Cancer\",\"Esophageal Cancer\",\"Lymphoma\",\"Non-Cancerous\",\"Non-Cancerous\",\"Non-Cancerous\",\"Gastric Cancer\",\"Leukemia\",\"Non-Cancerous\",\"Non-Cancerous\",\"Lymphoma\",\"Breast Cancer\",\"Lung Cancer\",\"Kidney Cancer\",\"Kidney Cancer\",\"Leukemia\",\"Gastric Cancer\",\"Brain Cancer\",\"Ovarian Cancer\",\"Non-Cancerous\",\"Kidney Cancer\",\"Lymphoma\",\"Lymphoma\",\"Non-Cancerous\",\"Bone Cancer\",\"Myeloma\",\"Myeloma\",\"Brain Cancer\",\"Leukemia\",\"Colon/Colorectal Cancer\",\"Leukemia\",\"Non-Cancerous\",\"Kidney Cancer\",\"Lung Cancer\",\"Non-Cancerous\",\"Non-Cancerous\",\"Non-Cancerous\",\"Rhabdoid\",\"Lung Cancer\",\"Myeloma\",\"Myeloma\",\"Leukemia\",\"Lymphoma\",\"Brain Cancer\",\"Brain Cancer\",\"Ovarian Cancer\",\"Non-Cancerous\",\"Lung Cancer\",\"Pancreatic Cancer\",\"Kidney Cancer\",\"Lung Cancer\",\"Head and Neck Cancer\",\"Esophageal Cancer\",\"Leukemia\",\"Lung Cancer\",\"Bladder Cancer\",\"Gastric Cancer\",\"Non-Cancerous\",\"Skin Cancer\",\"Bile Duct Cancer\",\"Lung Cancer\",\"Lung Cancer\",\"Lung Cancer\",\"Non-Cancerous\",\"Myeloma\",\"Lung Cancer\",\"Skin Cancer\",\"Lung Cancer\",\"Gastric Cancer\",\"Endometrial/Uterine Cancer\",\"Prostate Cancer\",\"Brain Cancer\",\"Bone Cancer\",\"Bone Cancer\",\"Bone Cancer\",\"Bone Cancer\",\"Gastric Cancer\",\"Cervical Cancer\",\"Non-Cancerous\",\"Leukemia\",\"Ovarian Cancer\",\"Myeloma\",\"Skin Cancer\",\"Lung Cancer\",\"Brain Cancer\",\"Brain Cancer\",\"Bone Cancer\",\"Cervical Cancer\",\"Lung Cancer\",\"Lung Cancer\",\"Non-Cancerous\",\"Lung Cancer\",\"Non-Cancerous\",\"Lymphoma\",\"Pancreatic Cancer\",\"Rhabdoid\",\"Lymphoma\",\"Rhabdoid\",\"Skin Cancer\",\"Skin Cancer\",\"Lymphoma\",\"Lymphoma\",\"Lymphoma\",\"Non-Cancerous\",\"Lymphoma\",\"Ovarian Cancer\",\"Lymphoma\",\"Lymphoma\",\"Lymphoma\",\"Bone Cancer\",\"Myeloma\",\"Kidney Cancer\",\"Sarcoma\",\"Skin Cancer\",\"Brain Cancer\",\"Kidney Cancer\",\"Non-Cancerous\",\"Kidney Cancer\",\"Lymphoma\",\"Rhabdoid\",\"Brain Cancer\",\"Bone Cancer\",\"Non-Cancerous\",\"Kidney Cancer\",\"Kidney Cancer\",\"Head and Neck Cancer\",\"Leukemia\",\"Lung Cancer\",\"Sarcoma\",\"Ovarian Cancer\",\"Bone Cancer\",\"Non-Cancerous\",\"Head and Neck Cancer\",\"Thyroid Cancer\",\"Non-Cancerous\",\"Neuroblastoma\",\"Ovarian Cancer\",\"Breast Cancer\",\"Breast Cancer\",\"Breast Cancer\",\"Breast Cancer\",\"Breast Cancer\",\"Bladder Cancer\",\"Bladder Cancer\",\"Breast Cancer\",\"Prostate Cancer\",\"Sarcoma\",\"Eye Cancer\",\"Endometrial/Uterine Cancer\",\"Head and Neck Cancer\",\"Head and Neck Cancer\",\"Head and Neck Cancer\",\"Cervical Cancer\",\"Breast Cancer\",\"Cervical Cancer\",\"Cervical Cancer\",\"Endometrial/Uterine Cancer\",\"Leukemia\",\"Skin Cancer\",\"Lymphoma\",\"Bile Duct Cancer\",\"Lymphoma\",\"Liposarcoma\",\"Myeloma\",\"Lung Cancer\",\"Neuroblastoma\",\"Lung Cancer\",\"Lung Cancer\",\"Lung Cancer\",\"Lung Cancer\",\"Lung Cancer\",\"Lung Cancer\",\"Lung Cancer\",\"Lung Cancer\",\"Skin Cancer\",\"Leukemia\",\"Leukemia\",\"Gallbladder Cancer\",\"Brain Cancer\",\"Brain Cancer\",\"Brain Cancer\",\"Leukemia\",\"Lymphoma\",\"Leukemia\",\"Gallbladder Cancer\",\"Brain Cancer\",\"Brain Cancer\",\"Brain Cancer\",\"Prostate Cancer\",\"Leukemia\",\"Leukemia\",\"Prostate Cancer\",\"Prostate Cancer\",\"Endometrial/Uterine Cancer\",\"Endometrial/Uterine Cancer\",\"Leukemia\",\"Gastric Cancer\",\"Teratoma\",\"Head and Neck Cancer\",\"Lymphoma\",\"Kidney Cancer\",\"Kidney Cancer\",\"Head and Neck Cancer\",\"Head and Neck Cancer\",\"Head and Neck Cancer\",\"Head and Neck Cancer\",\"Head and Neck Cancer\",\"Head and Neck Cancer\",\"Head and Neck Cancer\",\"Leukemia\",\"Bone Cancer\",\"Ovarian Cancer\",\"Sarcoma\",\"Non-Cancerous\",\"Colon/Colorectal Cancer\",\"Liposarcoma\",\"Liposarcoma\",\"Liposarcoma\",\"Liposarcoma\",\"Liposarcoma\",\"Liposarcoma\",\"Liposarcoma\",\"Liposarcoma\",\"Liposarcoma\",\"Bone Cancer\",\"Bone Cancer\",\"Colon/Colorectal Cancer\",\"Non-Cancerous\",\"Bile Duct Cancer\",\"Bile Duct Cancer\",\"Bile Duct Cancer\",\"Bile Duct Cancer\",\"Bile Duct Cancer\",\"Bile Duct Cancer\",\"Bile Duct Cancer\",\"Bile Duct Cancer\",\"Bile Duct Cancer\",\"Bile Duct Cancer\",\"Bile Duct Cancer\",\"Bile Duct Cancer\",\"Bile Duct Cancer\",\"Gallbladder Cancer\",\"Bile Duct Cancer\",\"Bile Duct Cancer\",\"Bile Duct Cancer\",\"Bile Duct Cancer\",\"Bile Duct Cancer\",\"Bile Duct Cancer\",\"Bile Duct Cancer\",\"Bone Cancer\",\"Bile Duct Cancer\",\"Bile Duct Cancer\",\"Gallbladder Cancer\",\"Skin Cancer\",\"Skin Cancer\",\"Lung Cancer\",\"Skin Cancer\",\"Ovarian Cancer\",\"Lung Cancer\",\"Leukemia\",\"Bile Duct Cancer\",\"Pancreatic Cancer\",\"Skin Cancer\",\"Skin Cancer\",\"Skin Cancer\",\"Skin Cancer\",\"Eye Cancer\",\"Eye Cancer\",\"Eye Cancer\",\"Eye Cancer\",\"Eye Cancer\",\"Eye Cancer\",\"Cervical Cancer\",\"Endometrial/Uterine Cancer\",\"Colon/Colorectal Cancer\",\"Colon/Colorectal Cancer\",\"Endometrial/Uterine Cancer\",\"Endometrial/Uterine Cancer\",\"Ovarian Cancer\",\"Pancreatic Cancer\",\"Thyroid Cancer\",\"Thyroid Cancer\",\"Head and Neck Cancer\",\"Endometrial/Uterine Cancer\",\"Sarcoma\",\"Lymphoma\",\"Leukemia\",\"Sarcoma\",\"Sarcoma\",\"Bone Cancer\",\"Neuroblastoma\",\"Sarcoma\",\"Colon/Colorectal Cancer\",\"Breast Cancer\",\"Breast Cancer\",\"Unknown\",\"Breast Cancer\",\"Breast Cancer\",\"Breast Cancer\",\"Breast Cancer\",\"Breast Cancer\",\"Breast Cancer\",\"Breast Cancer\",\"Breast Cancer\",\"Breast Cancer\",\"Breast Cancer\",\"Colon/Colorectal Cancer\",\"Lung Cancer\",\"Sarcoma\",\"Non-Cancerous\",\"Non-Cancerous\",\"Non-Cancerous\",\"Non-Cancerous\",\"Non-Cancerous\",\"Non-Cancerous\",\"Non-Cancerous\",\"Non-Cancerous\",\"Non-Cancerous\",\"Non-Cancerous\",\"Non-Cancerous\",\"Non-Cancerous\",\"Non-Cancerous\",\"Non-Cancerous\",\"Non-Cancerous\",\"Non-Cancerous\",\"Non-Cancerous\",\"Non-Cancerous\",\"Non-Cancerous\",\"Non-Cancerous\",\"Non-Cancerous\",\"Non-Cancerous\",\"Lymphoma\",\"Breast Cancer\",\"Gastric Cancer\",\"Skin Cancer\",\"Skin Cancer\",\"Skin Cancer\",\"Skin Cancer\",\"Non-Cancerous\",\"Non-Cancerous\",\"Non-Cancerous\",\"Non-Cancerous\",\"Non-Cancerous\",\"Non-Cancerous\",\"Bone Cancer\",\"Leukemia\",\"Skin Cancer\",\"Skin Cancer\",\"Skin Cancer\",\"Skin Cancer\",\"Skin Cancer\",\"Gastric Cancer\",\"Colon/Colorectal Cancer\",\"Colon/Colorectal Cancer\",\"Colon/Colorectal Cancer\",\"Pancreatic Cancer\",\"Brain Cancer\",\"Eye Cancer\",\"Sarcoma\",\"Sarcoma\",\"Unknown\",\"Unknown\",\"Bone Cancer\",\"Unknown\",\"Unknown\",\"Unknown\",\"Unknown\",\"Ovarian Cancer\",\"Leukemia\",\"Colon/Colorectal Cancer\",\"Leukemia\",\"Leukemia\",\"Leukemia\",\"Colon/Colorectal Cancer\",\"Skin Cancer\",\"Colon/Colorectal Cancer\",\"Bladder Cancer\",\"Lung Cancer\",\"Ovarian Cancer\",\"Skin Cancer\",\"Lung Cancer\",\"Breast Cancer\",\"Bladder Cancer\",\"Breast Cancer\",\"Leukemia\",\"Lung Cancer\",\"Pancreatic Cancer\",\"Pancreatic Cancer\",\"Myeloma\",\"Brain Cancer\",\"Bladder Cancer\",\"Brain Cancer\",\"Breast Cancer\",\"Lung Cancer\",\"Lung Cancer\",\"Pancreatic Cancer\",\"Leukemia\",\"Lung Cancer\",\"Brain Cancer\",\"Sarcoma\",\"Lymphoma\",\"Bone Cancer\",\"Brain Cancer\",\"Bone Cancer\",\"Pancreatic Cancer\",\"Breast Cancer\",\"Leukemia\",\"Kidney Cancer\",\"Gastric Cancer\",\"Ovarian Cancer\",\"Myeloma\",\"Bone Cancer\",\"Lymphoma\",\"Sarcoma\",\"Brain Cancer\",\"Lymphoma\",\"Myeloma\",\"Thyroid Cancer\",\"Leukemia\",\"Pancreatic Cancer\",\"Lymphoma\",\"Lung Cancer\",\"Non-Cancerous\",\"Leukemia\",\"Lung Cancer\",\"Brain Cancer\",\"Lymphoma\",\"Leukemia\",\"Leukemia\",\"Lymphoma\",\"Leukemia\",\"Brain Cancer\",\"Neuroblastoma\",\"Leukemia\",\"Leukemia\",\"Bone Cancer\",\"Non-Cancerous\",\"Pancreatic Cancer\",\"Lung Cancer\",\"Bone Cancer\",\"Non-Cancerous\",\"Prostate Cancer\",\"Ovarian Cancer\",\"Lung Cancer\",\"Pancreatic Cancer\",\"Brain Cancer\",\"Rhabdoid\",\"Breast Cancer\",\"Brain Cancer\",\"Neuroblastoma\",\"Sarcoma\",\"Leukemia\",\"Brain Cancer\",\"Ovarian Cancer\",\"Leukemia\",\"Leukemia\",\"Lymphoma\",\"Pancreatic Cancer\",\"Pancreatic Cancer\",\"Lung Cancer\",\"Breast Cancer\",\"Leukemia\",\"Leukemia\",\"Pancreatic Cancer\",\"Prostate Cancer\",\"Ovarian Cancer\",\"Breast Cancer\",\"Pancreatic Cancer\",\"Neuroblastoma\",\"Lung Cancer\",\"Ovarian Cancer\",\"Lymphoma\",\"Brain Cancer\",\"Bladder Cancer\",\"Brain Cancer\",\"Lung Cancer\",\"Non-Cancerous\",\"Ovarian Cancer\",\"Unknown\",\"Non-Cancerous\",\"Non-Cancerous\",\"Neuroblastoma\",\"Brain Cancer\",\"Pancreatic Cancer\",\"Pancreatic Cancer\",\"Gallbladder Cancer\",\"Bladder Cancer\",\"Lung Cancer\",\"Gastric Cancer\",\"Sarcoma\",\"Leukemia\",\"Breast Cancer\",\"Breast Cancer\",\"Neuroblastoma\",\"Lung Cancer\",\"Leukemia\",\"Brain Cancer\",\"Lung Cancer\",\"Pancreatic Cancer\",\"Leukemia\",\"Lymphoma\",\"Kidney Cancer\",\"Rhabdoid\",\"Lung Cancer\",\"Lymphoma\",\"Thyroid Cancer\",\"Pancreatic Cancer\",\"Myeloma\",\"Leukemia\",\"Sarcoma\",\"Kidney Cancer\",\"Thyroid Cancer\",\"Lung Cancer\",\"Prostate Cancer\",\"Pancreatic Cancer\",\"Head and Neck Cancer\",\"Bile Duct Cancer\",\"Myeloma\",\"Non-Cancerous\",\"Lung Cancer\",\"Lung Cancer\",\"Head and Neck Cancer\",\"Kidney Cancer\",\"Unknown\",\"Thyroid Cancer\",\"Endometrial/Uterine Cancer\",\"Myeloma\",\"Leukemia\",\"Breast Cancer\",\"Leukemia\",\"Leukemia\",\"Non-Cancerous\",\"Brain Cancer\",\"Rhabdoid\",\"Colon/Colorectal Cancer\",\"Neuroblastoma\",\"Myeloma\",\"Lymphoma\",\"Head and Neck Cancer\",\"Brain Cancer\",\"Bile Duct Cancer\",\"Bone Cancer\",\"Brain Cancer\",\"Breast Cancer\",\"Pancreatic Cancer\",\"Non-Cancerous\",\"Brain Cancer\",\"Liver Cancer\",\"Leukemia\",\"Skin Cancer\",\"Liver Cancer\",\"Pancreatic Cancer\",\"Breast Cancer\",\"Gastric Cancer\",\"Lymphoma\",\"Neuroblastoma\",\"Head and Neck Cancer\",\"Brain Cancer\",\"Brain Cancer\",\"Lymphoma\",\"Kidney Cancer\",\"Pancreatic Cancer\",\"Colon/Colorectal Cancer\",\"Ovarian Cancer\",\"Head and Neck Cancer\",\"Non-Cancerous\",\"Bladder Cancer\",\"Pancreatic Cancer\",\"Brain Cancer\",\"Lymphoma\",\"Kidney Cancer\",\"Gastric Cancer\",\"Breast Cancer\",\"Colon/Colorectal Cancer\",\"Kidney Cancer\",\"Lung Cancer\",\"Colon/Colorectal Cancer\",\"Colon/Colorectal Cancer\",\"Head and Neck Cancer\",\"Gastric Cancer\",\"Ovarian Cancer\",\"Lung Cancer\",\"Breast Cancer\",\"Neuroblastoma\",\"Neuroblastoma\",\"Lung Cancer\",\"Kidney Cancer\",\"Leukemia\",\"Lung Cancer\",\"Pancreatic Cancer\",\"Pancreatic Cancer\",\"Lymphoma\",\"Bile Duct Cancer\",\"Brain Cancer\",\"Pancreatic Cancer\",\"Lymphoma\",\"Kidney Cancer\",\"Brain Cancer\",\"Skin Cancer\",\"Breast Cancer\",\"Breast Cancer\",\"Ovarian Cancer\",\"Bone Cancer\",\"Ovarian Cancer\",\"Pancreatic Cancer\",\"Lung Cancer\",\"Brain Cancer\",\"Colon/Colorectal Cancer\",\"Lymphoma\",\"Brain Cancer\",\"Lung Cancer\",\"Ovarian Cancer\",\"Lung Cancer\",\"Endometrial/Uterine Cancer\",\"Leukemia\",\"Leukemia\",\"Colon/Colorectal Cancer\",\"Lung Cancer\",\"Leukemia\",\"Leukemia\",\"Endometrial/Uterine Cancer\",\"Gastric Cancer\",\"Skin Cancer\",\"Esophageal Cancer\",\"Non-Cancerous\",\"Pancreatic Cancer\",\"Ovarian Cancer\",\"Lung Cancer\",\"Neuroblastoma\",\"Lung Cancer\",\"Neuroblastoma\",\"Lung Cancer\",\"Lymphoma\",\"Liver Cancer\",\"Kidney Cancer\",\"Esophageal Cancer\",\"Lung Cancer\",\"Pancreatic Cancer\",\"Skin Cancer\",\"Brain Cancer\",\"Ovarian Cancer\",\"Leukemia\",\"Lung Cancer\",\"Brain Cancer\",\"Breast Cancer\",\"Lung Cancer\",\"Pancreatic Cancer\",\"Lymphoma\",\"Lung Cancer\",\"Leukemia\",\"Lung Cancer\",\"Lymphoma\",\"Lung Cancer\",\"Neuroblastoma\",\"Colon/Colorectal Cancer\",\"Lung Cancer\",\"Gastric Cancer\",\"Neuroblastoma\",\"Leukemia\",\"Pancreatic Cancer\",\"Skin Cancer\",\"Breast Cancer\",\"Colon/Colorectal Cancer\",\"Gastric Cancer\",\"Breast Cancer\",\"Esophageal Cancer\",\"Pancreatic Cancer\",\"Lung Cancer\",\"Gastric Cancer\",\"Lymphoma\",\"Lung Cancer\",\"Bone Cancer\",\"Colon/Colorectal Cancer\",\"Liver Cancer\",\"Leukemia\",\"Myeloma\",\"Bone Cancer\",\"Lymphoma\",\"Neuroblastoma\",\"Lung Cancer\",\"Brain Cancer\",\"Leukemia\",\"Brain Cancer\",\"Lymphoma\",\"Leukemia\",\"Leukemia\",\"Breast Cancer\",\"Kidney Cancer\",\"Brain Cancer\",\"Bile Duct Cancer\",\"Lung Cancer\",\"Lung Cancer\",\"Myeloma\",\"Colon/Colorectal Cancer\",\"Lung Cancer\",\"Esophageal Cancer\",\"Bladder Cancer\",\"Leukemia\",\"Leukemia\",\"Brain Cancer\",\"Lung Cancer\",\"Bone Cancer\",\"Lung Cancer\",\"Liver Cancer\",\"Lung Cancer\",\"Lung Cancer\",\"Bladder Cancer\",\"Endometrial/Uterine Cancer\",\"Lung Cancer\",\"Colon/Colorectal Cancer\",\"Skin Cancer\",\"Lymphoma\",\"Colon/Colorectal Cancer\",\"Skin Cancer\",\"Leukemia\",\"Leukemia\",\"Endometrial/Uterine Cancer\",\"Esophageal Cancer\",\"Ovarian Cancer\",\"Bone Cancer\",\"Kidney Cancer\",\"Colon/Colorectal Cancer\",\"Lung Cancer\",\"Head and Neck Cancer\",\"Lung Cancer\",\"Pancreatic Cancer\",\"Liver Cancer\",\"Colon/Colorectal Cancer\",\"Liver Cancer\",\"Skin Cancer\",\"Bone Cancer\",\"Skin Cancer\",\"Myeloma\",\"Gastric Cancer\",\"Kidney Cancer\",\"Kidney Cancer\",\"Ovarian Cancer\",\"Lung Cancer\",\"Leukemia\",\"Kidney Cancer\",\"Lung Cancer\",\"Endometrial/Uterine Cancer\",\"Myeloma\",\"Brain Cancer\",\"Lung Cancer\",\"Leukemia\",\"Lymphoma\",\"Skin Cancer\",\"Lung Cancer\",\"Ovarian Cancer\",\"Lung Cancer\",\"Brain Cancer\",\"Neuroblastoma\",\"Lung Cancer\",\"Lung Cancer\",\"Sarcoma\",\"Skin Cancer\",\"Lung Cancer\",\"Esophageal Cancer\",\"Lung Cancer\",\"Thyroid Cancer\",\"Kidney Cancer\",\"Skin Cancer\",\"Kidney Cancer\",\"Ovarian Cancer\",\"Bile Duct Cancer\",\"Lung Cancer\",\"Brain Cancer\",\"Skin Cancer\",\"Gastric Cancer\",\"Pancreatic Cancer\",\"Brain Cancer\",\"Colon/Colorectal Cancer\",\"Liver Cancer\",\"Head and Neck Cancer\",\"Bladder Cancer\",\"Liver Cancer\",\"Liver Cancer\",\"Skin Cancer\",\"Liver Cancer\",\"Brain Cancer\",\"Liver Cancer\",\"Lung Cancer\",\"Lung Cancer\",\"Liver Cancer\",\"Kidney Cancer\",\"Gastric Cancer\",\"Bladder Cancer\",\"Leukemia\",\"Esophageal Cancer\",\"Colon/Colorectal Cancer\",\"Cervical Cancer\",\"Colon/Colorectal Cancer\",\"Liver Cancer\",\"Kidney Cancer\",\"Lung Cancer\",\"Leukemia\",\"Bone Cancer\",\"Head and Neck Cancer\",\"Colon/Colorectal Cancer\",\"Pancreatic Cancer\",\"Head and Neck Cancer\",\"Brain Cancer\",\"Sarcoma\",\"Lung Cancer\",\"Gastric Cancer\",\"Lung Cancer\",\"Lymphoma\",\"Lung Cancer\",\"Lung Cancer\",\"Myeloma\",\"Lung Cancer\",\"Lung Cancer\",\"Bone Cancer\",\"Pancreatic Cancer\",\"Head and Neck Cancer\",\"Leukemia\",\"Ovarian Cancer\",\"Lung Cancer\",\"Bladder Cancer\",\"Ovarian Cancer\",\"Lung Cancer\",\"Ovarian Cancer\",\"Lung Cancer\",\"Lung Cancer\",\"Colon/Colorectal Cancer\",\"Lymphoma\",\"Pancreatic Cancer\",\"Breast Cancer\",\"Liver Cancer\",\"Gastric Cancer\",\"Non-Cancerous\",\"Non-Cancerous\",\"Myeloma\",\"Ovarian Cancer\",\"Brain Cancer\",\"Esophageal Cancer\",\"Bladder Cancer\",\"Head and Neck Cancer\",\"Bladder Cancer\",\"Head and Neck Cancer\",\"Head and Neck Cancer\",\"Skin Cancer\",\"Leukemia\",\"Colon/Colorectal Cancer\",\"Breast Cancer\",\"Kidney Cancer\",\"Cervical Cancer\",\"Leukemia\",\"Brain Cancer\",\"Lung Cancer\",\"Gastric Cancer\",\"Esophageal Cancer\",\"Lung Cancer\",\"Lung Cancer\",\"Colon/Colorectal Cancer\",\"Bladder Cancer\",\"Lymphoma\",\"Breast Cancer\",\"Lung Cancer\",\"Brain Cancer\",\"Brain Cancer\",\"Skin Cancer\",\"Breast Cancer\",\"Ovarian Cancer\",\"Lung Cancer\",\"Myeloma\",\"Liver Cancer\",\"Lung Cancer\",\"Skin Cancer\",\"Skin Cancer\",\"Gastric Cancer\",\"Skin Cancer\",\"Lymphoma\",\"Ovarian Cancer\",\"Lung Cancer\",\"Lung Cancer\",\"Lung Cancer\",\"Myeloma\",\"Lung Cancer\",\"Lung Cancer\",\"Brain Cancer\",\"Brain Cancer\",\"Bladder Cancer\",\"Lung Cancer\",\"Brain Cancer\",\"Lung Cancer\",\"Rhabdoid\",\"Pancreatic Cancer\",\"Kidney Cancer\",\"Pancreatic Cancer\",\"Lung Cancer\",\"Leukemia\",\"Esophageal Cancer\",\"Head and Neck Cancer\",\"Rhabdoid\",\"Ovarian Cancer\",\"Brain Cancer\",\"Lung Cancer\",\"Lymphoma\",\"Bone Cancer\",\"Skin Cancer\",\"Skin Cancer\",\"Gastric Cancer\",\"Ovarian Cancer\",\"Head and Neck Cancer\",\"Head and Neck Cancer\",\"Liver Cancer\",\"Breast Cancer\",\"Brain Cancer\",\"Brain Cancer\",\"Breast Cancer\",\"Liver Cancer\",\"Myeloma\",\"Lung Cancer\",\"Lung Cancer\",\"Head and Neck Cancer\",\"Brain Cancer\",\"Skin Cancer\",\"Gastric Cancer\",\"Leukemia\",\"Esophageal Cancer\",\"Lung Cancer\",\"Lung Cancer\",\"Skin Cancer\",\"Leukemia\",\"Breast Cancer\",\"Skin Cancer\",\"Ovarian Cancer\",\"Esophageal Cancer\",\"Lung Cancer\",\"Kidney Cancer\",\"Skin Cancer\",\"Colon/Colorectal Cancer\",\"Pancreatic Cancer\",\"Myeloma\",\"Lymphoma\",\"Brain Cancer\",\"Lymphoma\",\"Ovarian Cancer\",\"Myeloma\",\"Lung Cancer\",\"Lymphoma\",\"Skin Cancer\",\"Lung Cancer\",\"Ovarian Cancer\",\"Lymphoma\",\"Lung Cancer\",\"Lung Cancer\",\"Lung Cancer\",\"Breast Cancer\",\"Lung Cancer\",\"Lung Cancer\",\"Liver Cancer\",\"Lung Cancer\",\"Brain Cancer\",\"Gastric Cancer\",\"Lung Cancer\",\"Brain Cancer\",\"Lung Cancer\",\"Gastric Cancer\",\"Esophageal Cancer\",\"Colon/Colorectal Cancer\",\"Lung Cancer\",\"Head and Neck Cancer\",\"Colon/Colorectal Cancer\",\"Kidney Cancer\",\"Liver Cancer\",\"Lymphoma\",\"Ovarian Cancer\",\"Sarcoma\",\"Lung Cancer\",\"Breast Cancer\",\"Head and Neck Cancer\",\"Esophageal Cancer\",\"Esophageal Cancer\",\"Lung Cancer\",\"Ovarian Cancer\",\"Lymphoma\",\"Lung Cancer\",\"Breast Cancer\",\"Lung Cancer\",\"Ovarian Cancer\",\"Lymphoma\",\"Lung Cancer\",\"Ovarian Cancer\",\"Lung Cancer\",\"Lung Cancer\",\"Lymphoma\",\"Colon/Colorectal Cancer\",\"Breast Cancer\",\"Lung Cancer\",\"Ovarian Cancer\",\"Myeloma\",\"Head and Neck Cancer\",\"Thyroid Cancer\",\"Esophageal Cancer\",\"Lung Cancer\",\"Ovarian Cancer\",\"Bladder Cancer\",\"Breast Cancer\",\"Colon/Colorectal Cancer\",\"Bladder Cancer\",\"Breast Cancer\",\"Lung Cancer\",\"Lung Cancer\",\"Skin Cancer\",\"Lung Cancer\",\"Head and Neck Cancer\",\"Lung Cancer\",\"Liver Cancer\",\"Head and Neck Cancer\",\"Gastric Cancer\",\"Brain Cancer\",\"Liver Cancer\",\"Head and Neck Cancer\",\"Non-Cancerous\",\"Lung Cancer\",\"Lung Cancer\",\"Myeloma\",\"Gastric Cancer\",\"Lung Cancer\",\"Bone Cancer\",\"Lung Cancer\",\"Skin Cancer\",\"Leukemia\",\"Lung Cancer\",\"Bladder Cancer\",\"Lymphoma\",\"Breast Cancer\",\"Brain Cancer\",\"Lung Cancer\",\"Gastric Cancer\",\"Breast Cancer\",\"Brain Cancer\",\"Head and Neck Cancer\",\"Myeloma\",\"Gastric Cancer\",\"Skin Cancer\",\"Lung Cancer\",\"Lung Cancer\",\"Breast Cancer\",\"Lung Cancer\",\"Leukemia\",\"Head and Neck Cancer\",\"Sarcoma\",\"Lymphoma\",\"Lung Cancer\",\"Lung Cancer\",\"Brain Cancer\",\"Esophageal Cancer\",\"Head and Neck Cancer\",\"Lung Cancer\",\"Lung Cancer\",\"Lung Cancer\",\"Leukemia\",\"Breast Cancer\",\"Esophageal Cancer\",\"Lung Cancer\",\"Lymphoma\",\"Lung Cancer\",\"Skin Cancer\",\"Lung Cancer\",\"Lung Cancer\",\"Lung Cancer\",\"Kidney Cancer\",\"Gastric Cancer\",\"Head and Neck Cancer\",\"Leukemia\",\"Ovarian Cancer\",\"Colon/Colorectal Cancer\",\"Skin Cancer\",\"Lung Cancer\",\"Bladder Cancer\",\"Lung Cancer\",\"Neuroblastoma\",\"Skin Cancer\",\"Lymphoma\",\"Brain Cancer\",\"Esophageal Cancer\",\"Skin Cancer\",\"Ovarian Cancer\",\"Skin Cancer\",\"Skin Cancer\",\"Lymphoma\",\"Lung Cancer\",\"Myeloma\",\"Breast Cancer\",\"Brain Cancer\",\"Colon/Colorectal Cancer\",\"Myeloma\",\"Skin Cancer\",\"Esophageal Cancer\",\"Esophageal Cancer\",\"Lung Cancer\",\"Lung Cancer\",\"Skin Cancer\",\"Breast Cancer\",\"Myeloma\",\"Lung Cancer\",\"Endometrial/Uterine Cancer\",\"Head and Neck Cancer\",\"Sarcoma\",\"Bladder Cancer\",\"Sarcoma\",\"Head and Neck Cancer\",\"Myeloma\",\"Bladder Cancer\",\"Lung Cancer\",\"Lung Cancer\",\"Colon/Colorectal Cancer\",\"Lung Cancer\",\"Lung Cancer\",\"Head and Neck Cancer\",\"Gastric Cancer\",\"Liver Cancer\",\"Breast Cancer\",\"Lung Cancer\",\"Lung Cancer\",\"Lung Cancer\",\"Esophageal Cancer\",\"Breast Cancer\",\"Breast Cancer\",\"Lung Cancer\",\"Breast Cancer\",\"Lung Cancer\",\"Lung Cancer\",\"Bladder Cancer\",\"Brain Cancer\",\"Endometrial/Uterine Cancer\",\"Esophageal Cancer\",\"Lung Cancer\",\"Lung Cancer\",\"Lung Cancer\",\"Lung Cancer\",\"Lung Cancer\",\"Lung Cancer\",\"Esophageal Cancer\",\"Leukemia\",\"Lung Cancer\",\"Breast Cancer\",\"Lymphoma\",\"Lung Cancer\",\"Endometrial/Uterine Cancer\",\"Gastric Cancer\",\"Skin Cancer\",\"Skin Cancer\",\"Brain Cancer\",\"Skin Cancer\",\"Ovarian Cancer\",\"Lung Cancer\",\"Brain Cancer\",\"Lung Cancer\",\"Myeloma\",\"Lung Cancer\",\"Lung Cancer\",\"Lung Cancer\",\"Lung Cancer\",\"Lung Cancer\",\"Colon/Colorectal Cancer\",\"Bladder Cancer\",\"Thyroid Cancer\",\"Gastric Cancer\",\"Lung Cancer\",\"Lung Cancer\",\"Breast Cancer\",\"Thyroid Cancer\",\"Bladder Cancer\",\"Ovarian Cancer\",\"Kidney Cancer\",\"Breast Cancer\",\"Gastric Cancer\",\"Lung Cancer\",\"Endometrial/Uterine Cancer\",\"Lymphoma\",\"Skin Cancer\",\"Lung Cancer\",\"Esophageal Cancer\",\"Leukemia\",\"Gastric Cancer\",\"Leukemia\",\"Lung Cancer\",\"Leukemia\",\"Lymphoma\",\"Lung Cancer\",\"Lung Cancer\",\"Colon/Colorectal Cancer\",\"Breast Cancer\",\"Endometrial/Uterine Cancer\",\"Lung Cancer\",\"Breast Cancer\",\"Skin Cancer\",\"Gastric Cancer\",\"Pancreatic Cancer\",\"Breast Cancer\",\"Colon/Colorectal Cancer\",\"Ovarian Cancer\",\"Leukemia\",\"Leukemia\",\"Sarcoma\",\"Endometrial/Uterine Cancer\",\"Endometrial/Uterine Cancer\",\"Leukemia\",\"Colon/Colorectal Cancer\",\"Lymphoma\",\"Lung Cancer\",\"Endometrial/Uterine Cancer\",\"Ovarian Cancer\",\"Gastric Cancer\",\"Gastric Cancer\",\"Colon/Colorectal Cancer\",\"Lung Cancer\",\"Leukemia\",\"Endometrial/Uterine Cancer\",\"Colon/Colorectal Cancer\",\"Prostate Cancer\",\"Colon/Colorectal Cancer\",\"Colon/Colorectal Cancer\",\"Colon/Colorectal Cancer\",\"Leukemia\",\"Endometrial/Uterine Cancer\",\"Ovarian Cancer\",\"Colon/Colorectal Cancer\",\"Leukemia\",\"Endometrial/Uterine Cancer\",\"Ovarian Cancer\",\"Colon/Colorectal Cancer\",\"Skin Cancer\",\"Colon/Colorectal Cancer\",\"Colon/Colorectal Cancer\",\"Colon/Colorectal Cancer\",\"Endometrial/Uterine Cancer\",\"Bladder Cancer\",\"Endometrial/Uterine Cancer\",\"Lung Cancer\",\"Bile Duct Cancer\",\"Prostate Cancer\",\"Endometrial/Uterine Cancer\",\"Prostate Cancer\",\"Lung Cancer\",\"Leukemia\",\"Colon/Colorectal Cancer\",\"Leukemia\",\"Endometrial/Uterine Cancer\",\"Colon/Colorectal Cancer\",\"Colon/Colorectal Cancer\",\"Skin Cancer\",\"Endometrial/Uterine Cancer\",\"Colon/Colorectal Cancer\",\"Endometrial/Uterine Cancer\",\"Colon/Colorectal Cancer\",\"Head and Neck Cancer\",\"Endometrial/Uterine Cancer\",\"Endometrial/Uterine Cancer\",\"Leukemia\",\"Endometrial/Uterine Cancer\",\"Colon/Colorectal Cancer\",\"Colon/Colorectal Cancer\",\"Colon/Colorectal Cancer\",\"Bone Cancer\",\"Skin Cancer\",\"Brain Cancer\",\"Rhabdoid\",\"Liver Cancer\",\"Bone Cancer\",\"Thyroid Cancer\",\"Skin Cancer\",\"Rhabdoid\",\"Bone Cancer\",\"Bone Cancer\",\"Rhabdoid\",\"Bone Cancer\",\"Unknown\",\"Bone Cancer\",\"Bone Cancer\",\"Leukemia\",\"Bone Cancer\",\"Colon/Colorectal Cancer\",\"Skin Cancer\",\"Skin Cancer\",\"Ovarian Cancer\",\"Lung Cancer\",\"Sarcoma\",\"Brain Cancer\",\"Brain Cancer\",\"Lymphoma\",\"Rhabdoid\",\"Lymphoma\",\"Colon/Colorectal Cancer\",\"Ovarian Cancer\",\"Lymphoma\",\"Breast Cancer\",\"Brain Cancer\",\"Lymphoma\",\"Pancreatic Cancer\",\"Lung Cancer\",\"Colon/Colorectal Cancer\",\"Colon/Colorectal Cancer\",\"Cervical Cancer\",\"Liver Cancer\",\"Head and Neck Cancer\",\"Colon/Colorectal Cancer\",\"Myeloma\",\"Sarcoma\",\"Pancreatic Cancer\",\"Leukemia\",\"Pancreatic Cancer\",\"Lymphoma\",\"Lung Cancer\",\"Brain Cancer\",\"Lymphoma\",\"Lymphoma\",\"Brain Cancer\",\"Brain Cancer\",\"Leukemia\",\"Rhabdoid\",\"Leukemia\",\"Skin Cancer\",\"Lung Cancer\",\"Lung Cancer\",\"Lung Cancer\",\"Ovarian Cancer\",\"Ovarian Cancer\",\"Pancreatic Cancer\",\"Unknown\",\"Bladder Cancer\",\"Sarcoma\",\"Neuroblastoma\",\"Sarcoma\",\"Skin Cancer\",\"Bone Cancer\",\"Bone Cancer\",\"Sarcoma\",\"Brain Cancer\",\"Colon/Colorectal Cancer\",\"Lymphoma\",\"Bone Cancer\",\"Kidney Cancer\",\"Rhabdoid\",\"Rhabdoid\",\"Rhabdoid\",\"Brain Cancer\",\"Head and Neck Cancer\",\"Head and Neck Cancer\",\"Brain Cancer\",\"Lung Cancer\",\"Skin Cancer\",\"Breast Cancer\",\"Sarcoma\",\"Sarcoma\",\"Sarcoma\",\"Sarcoma\",\"Ovarian Cancer\",\"Sarcoma\",\"Bone Cancer\",\"Rhabdoid\",\"Eye Cancer\",\"Neuroblastoma\",\"Neuroblastoma\",\"Neuroblastoma\",\"Neuroblastoma\",\"Thyroid Cancer\",\"Thyroid Cancer\",\"Liver Cancer\",\"Thyroid Cancer\",\"Sarcoma\",\"Skin Cancer\",\"Brain Cancer\",\"Head and Neck Cancer\",\"Head and Neck Cancer\",\"Cervical Cancer\",\"Cervical Cancer\",\"Cervical Cancer\",\"Cervical Cancer\",\"Neuroblastoma\",\"Skin Cancer\",\"Ovarian Cancer\",\"Cervical Cancer\",\"Neuroblastoma\",\"Colon/Colorectal Cancer\",\"Head and Neck Cancer\",\"Thyroid Cancer\",\"Pancreatic Cancer\",\"Neuroblastoma\",\"Neuroblastoma\",\"Breast Cancer\",\"Cervical Cancer\",\"Cervical Cancer\",\"Lung Cancer\",\"Lung Cancer\",\"Lung Cancer\",\"Lung Cancer\",\"Neuroblastoma\",\"Esophageal Cancer\",\"Ovarian Cancer\",\"Ovarian Cancer\",\"Ovarian Cancer\",\"Pancreatic Cancer\",\"Pancreatic Cancer\",\"Pancreatic Cancer\",\"Pancreatic Cancer\",\"Pancreatic Cancer\",\"Pancreatic Cancer\",\"Pancreatic Cancer\",\"Prostate Cancer\",\"Thyroid Cancer\",\"Head and Neck Cancer\",\"Lung Cancer\",\"Breast Cancer\",\"Breast Cancer\",\"Breast Cancer\",\"Breast Cancer\",\"Breast Cancer\",\"Kidney Cancer\",\"Colon/Colorectal Cancer\",\"Cervical Cancer\",\"Adrenal Cancer\",\"Cervical Cancer\",\"Ovarian Cancer\",\"Bladder Cancer\",\"Bladder Cancer\",\"Bladder Cancer\",\"Bladder Cancer\",\"Bladder Cancer\",\"Bladder Cancer\",\"Bladder Cancer\",\"Bladder Cancer\",\"Lung Cancer\",\"Ovarian Cancer\",\"Eye Cancer\",\"Bone Cancer\",\"Bone Cancer\",\"Skin Cancer\",\"Thyroid Cancer\",\"Lymphoma\",\"Cervical Cancer\",\"Leukemia\",\"Prostate Cancer\",\"Colon/Colorectal Cancer\",\"Colon/Colorectal Cancer\",\"Colon/Colorectal Cancer\",\"Colon/Colorectal Cancer\",\"Colon/Colorectal Cancer\",\"Colon/Colorectal Cancer\",\"Leukemia\",\"Leukemia\",\"Lung Cancer\",\"Lung Cancer\",\"Bile Duct Cancer\",\"Esophageal Cancer\",\"Esophageal Cancer\",\"Lymphoma\",\"Esophageal Cancer\",\"Endometrial/Uterine Cancer\",\"Bone Cancer\",\"Skin Cancer\",\"Skin Cancer\",\"Skin Cancer\",\"Cervical Cancer\",\"Bone Cancer\",\"Thyroid Cancer\",\"Endometrial/Uterine Cancer\",\"Endometrial/Uterine Cancer\",\"Rhabdoid\",\"Bile Duct Cancer\",\"Head and Neck Cancer\",\"Head and Neck Cancer\",\"Esophageal Cancer\",\"Lung Cancer\",\"Skin Cancer\",\"Skin Cancer\",\"Skin Cancer\",\"Eye Cancer\",\"Skin Cancer\",\"Skin Cancer\",\"Skin Cancer\",\"Skin Cancer\",\"Skin Cancer\",\"Leukemia\",\"Embryonal Cancer\",\"Lung Cancer\",\"Lung Cancer\",\"Neuroblastoma\",\"Brain Cancer\",\"Brain Cancer\",\"Brain Cancer\",\"Lymphoma\",\"Head and Neck Cancer\",\"Head and Neck Cancer\",\"Ovarian Cancer\",\"Ovarian Cancer\",\"Ovarian Cancer\",\"Lymphoma\",\"Lymphoma\",\"Leukemia\",\"Head and Neck Cancer\",\"Lymphoma\",\"Skin Cancer\",\"Cervical Cancer\",\"Gastric Cancer\",\"Esophageal Cancer\",\"Endometrial/Uterine Cancer\",\"Leukemia\",\"Brain Cancer\",\"Bile Duct Cancer\",\"Neuroblastoma\",\"Lymphoma\",\"Lymphoma\",\"Sarcoma\",\"Lymphoma\",\"Skin Cancer\",\"Lymphoma\",\"Brain Cancer\",\"Bone Cancer\",\"Neuroblastoma\",\"Leukemia\",\"Leukemia\",\"Leukemia\",\"Leukemia\",\"Sarcoma\",\"Sarcoma\",\"Sarcoma\",\"Sarcoma\",\"Sarcoma\",\"Breast Cancer\",\"Breast Cancer\",\"Bile Duct Cancer\",\"Gallbladder Cancer\",\"Bone Cancer\",\"Bone Cancer\",\"Lung Cancer\",\"Skin Cancer\",\"Cervical Cancer\",\"Colon/Colorectal Cancer\",\"Head and Neck Cancer\",\"Skin Cancer\",\"Head and Neck Cancer\",\"Head and Neck Cancer\",\"Lung Cancer\",\"Lung Cancer\",\"Leukemia\",\"Leukemia\",\"Lymphoma\",\"Bone Cancer\",\"Lung Cancer\",\"Neuroblastoma\",\"Skin Cancer\",\"Lung Cancer\",\"Kidney Cancer\",\"Skin Cancer\",\"Bone Cancer\",\"Bone Cancer\",\"Bone Cancer\",\"Lung Cancer\",\"Skin Cancer\",\"Skin Cancer\",\"Skin Cancer\",\"Bone Cancer\",\"Skin Cancer\",\"Lung Cancer\",\"Lung Cancer\",\"Bone Cancer\",\"Bone Cancer\",\"Bone Cancer\",\"Bone Cancer\",\"Bone Cancer\",\"Bone Cancer\",\"Bone Cancer\",\"Bone Cancer\",\"Bone Cancer\",\"Bone Cancer\",\"Bone Cancer\",\"Bone Cancer\",\"Bone Cancer\",\"Bone Cancer\",\"Bone Cancer\",\"Bone Cancer\",\"Bone Cancer\",\"Skin Cancer\",\"Skin Cancer\",\"Lung Cancer\",\"Lung Cancer\",\"Lung Cancer\",\"Lung Cancer\",\"Lung Cancer\",\"Lung Cancer\",\"Lung Cancer\",\"Lung Cancer\",\"Lung Cancer\",\"Lung Cancer\",\"Lung Cancer\",\"Lung Cancer\",\"Lung Cancer\",\"Lung Cancer\",\"Lung Cancer\",\"Unknown\",\"Kidney Cancer\",\"Ovarian Cancer\",\"Gastric Cancer\",\"Bone Cancer\",\"Skin Cancer\",\"Lung Cancer\",\"Lung Cancer\",\"Ovarian Cancer\",\"Skin Cancer\",\"Thyroid Cancer\",\"Ovarian Cancer\",\"Kidney Cancer\",\"Kidney Cancer\",\"Skin Cancer\",\"Skin Cancer\",\"Lung Cancer\",\"Kidney Cancer\",\"Lung Cancer\",\"Lung Cancer\",\"Lung Cancer\",\"Skin Cancer\",\"Bone Cancer\",\"Gastric Cancer\",\"Skin Cancer\",\"Breast Cancer\",\"Pancreatic Cancer\",\"Skin Cancer\",\"Skin Cancer\",\"Kidney Cancer\",\"Kidney Cancer\",\"Lung Cancer\",\"Lung Cancer\",\"Lung Cancer\",\"Lung Cancer\",\"Lung Cancer\",\"Lung Cancer\",\"Lung Cancer\",\"Lung Cancer\",\"Lung Cancer\",\"Bone Cancer\",\"Breast Cancer\",\"Cervical Cancer\",\"Ovarian Cancer\",\"Ovarian Cancer\",\"Ovarian Cancer\",\"Lung Cancer\",\"Pancreatic Cancer\",\"Pancreatic Cancer\",\"Kidney Cancer\",\"Kidney Cancer\",\"Kidney Cancer\",\"Kidney Cancer\",\"Kidney Cancer\",\"Kidney Cancer\",\"Lung Cancer\",\"Bone Cancer\",\"Kidney Cancer\",\"Lung Cancer\",\"Lung Cancer\",\"Gastric Cancer\",\"Kidney Cancer\",\"Skin Cancer\",\"Cervical Cancer\",\"Gastric Cancer\",\"Bone Cancer\",\"Skin Cancer\",\"Skin Cancer\",\"Skin Cancer\",\"Breast Cancer\",\"Leukemia\",\"Non-Cancerous\",\"Leukemia\",\"Head and Neck Cancer\",\"Head and Neck Cancer\",\"Lymphoma\",\"Lymphoma\",\"Leukemia\",\"Neuroblastoma\",\"Leukemia\",\"Colon/Colorectal Cancer\",\"Lymphoma\",\"Lymphoma\",\"Leukemia\",\"Brain Cancer\",\"Brain Cancer\",\"Brain Cancer\",\"Brain Cancer\",\"Brain Cancer\",\"Brain Cancer\",\"Brain Cancer\",\"Brain Cancer\",\"Brain Cancer\",\"Lymphoma\",\"Colon/Colorectal Cancer\",\"Head and Neck Cancer\",\"Bladder Cancer\",\"Lymphoma\",\"Bile Duct Cancer\",\"Leukemia\",\"Head and Neck Cancer\",\"Lymphoma\",\"Leukemia\",\"Leukemia\",\"Esophageal Cancer\",\"Head and Neck Cancer\",\"Lymphoma\",\"Sarcoma\",\"Non-Cancerous\",\"Neuroblastoma\",\"Head and Neck Cancer\",\"Head and Neck Cancer\",\"Head and Neck Cancer\",\"Lymphoma\",\"Lymphoma\",\"Lymphoma\",\"Lymphoma\",\"Leukemia\",\"Brain Cancer\",\"Leukemia\",\"Brain Cancer\",\"Head and Neck Cancer\",\"Neuroblastoma\",\"Leukemia\",\"Esophageal Cancer\",\"Esophageal Cancer\",\"Head and Neck Cancer\",\"Bladder Cancer\",\"Leukemia\",\"Brain Cancer\",\"Brain Cancer\",\"Non-Cancerous\",\"Sarcoma\",\"Lymphoma\",\"Leukemia\",\"Leukemia\",\"Leukemia\",\"Leukemia\",\"Neuroblastoma\",\"Neuroblastoma\",\"Neuroblastoma\",\"Neuroblastoma\",\"Neuroblastoma\",\"Neuroblastoma\",\"Neuroblastoma\",\"Neuroblastoma\",\"Neuroblastoma\",\"Lung Cancer\",\"Embryonal Cancer\",\"Leukemia\",\"Leukemia\",\"Embryonal Cancer\",\"Esophageal Cancer\",\"Lymphoma\",\"Head and Neck Cancer\",\"Head and Neck Cancer\",\"Head and Neck Cancer\",\"Head and Neck Cancer\",\"Head and Neck Cancer\",\"Leukemia\",\"Lymphoma\",\"Lymphoma\",\"Leukemia\",\"Brain Cancer\",\"Head and Neck Cancer\",\"Gastric Cancer\",\"Lymphoma\",\"Leukemia\",\"Sarcoma\",\"Liposarcoma\",\"Esophageal Cancer\",\"Gallbladder Cancer\",\"Lymphoma\",\"Leukemia\",\"Non-Cancerous\",\"Leukemia\",\"Unknown\",\"Lung Cancer\",\"Skin Cancer\",\"Leukemia\",\"Neuroblastoma\",\"Colon/Colorectal Cancer\",\"Non-Cancerous\",\"Non-Cancerous\",\"Non-Cancerous\",\"Non-Cancerous\",\"Non-Cancerous\",\"Non-Cancerous\",\"Non-Cancerous\",\"Non-Cancerous\",\"Non-Cancerous\",\"Non-Cancerous\",\"Non-Cancerous\",\"Non-Cancerous\",\"Non-Cancerous\",\"Non-Cancerous\",\"Non-Cancerous\",\"Non-Cancerous\",\"Non-Cancerous\",\"Non-Cancerous\",\"Non-Cancerous\",\"Skin Cancer\",\"Skin Cancer\",\"Skin Cancer\",\"Neuroblastoma\",\"Leukemia\",\"Head and Neck Cancer\",\"Lymphoma\",\"Colon/Colorectal Cancer\",\"Liver Cancer\",\"Bone Cancer\",\"Thyroid Cancer\"],\"xaxis\":\"x\",\"yaxis\":\"y\",\"type\":\"histogram\"}],                        {\"template\":{\"data\":{\"bar\":[{\"error_x\":{\"color\":\"#2a3f5f\"},\"error_y\":{\"color\":\"#2a3f5f\"},\"marker\":{\"line\":{\"color\":\"#E5ECF6\",\"width\":0.5},\"pattern\":{\"fillmode\":\"overlay\",\"size\":10,\"solidity\":0.2}},\"type\":\"bar\"}],\"barpolar\":[{\"marker\":{\"line\":{\"color\":\"#E5ECF6\",\"width\":0.5},\"pattern\":{\"fillmode\":\"overlay\",\"size\":10,\"solidity\":0.2}},\"type\":\"barpolar\"}],\"carpet\":[{\"aaxis\":{\"endlinecolor\":\"#2a3f5f\",\"gridcolor\":\"white\",\"linecolor\":\"white\",\"minorgridcolor\":\"white\",\"startlinecolor\":\"#2a3f5f\"},\"baxis\":{\"endlinecolor\":\"#2a3f5f\",\"gridcolor\":\"white\",\"linecolor\":\"white\",\"minorgridcolor\":\"white\",\"startlinecolor\":\"#2a3f5f\"},\"type\":\"carpet\"}],\"choropleth\":[{\"colorbar\":{\"outlinewidth\":0,\"ticks\":\"\"},\"type\":\"choropleth\"}],\"contour\":[{\"colorbar\":{\"outlinewidth\":0,\"ticks\":\"\"},\"colorscale\":[[0.0,\"#0d0887\"],[0.1111111111111111,\"#46039f\"],[0.2222222222222222,\"#7201a8\"],[0.3333333333333333,\"#9c179e\"],[0.4444444444444444,\"#bd3786\"],[0.5555555555555556,\"#d8576b\"],[0.6666666666666666,\"#ed7953\"],[0.7777777777777778,\"#fb9f3a\"],[0.8888888888888888,\"#fdca26\"],[1.0,\"#f0f921\"]],\"type\":\"contour\"}],\"contourcarpet\":[{\"colorbar\":{\"outlinewidth\":0,\"ticks\":\"\"},\"type\":\"contourcarpet\"}],\"heatmap\":[{\"colorbar\":{\"outlinewidth\":0,\"ticks\":\"\"},\"colorscale\":[[0.0,\"#0d0887\"],[0.1111111111111111,\"#46039f\"],[0.2222222222222222,\"#7201a8\"],[0.3333333333333333,\"#9c179e\"],[0.4444444444444444,\"#bd3786\"],[0.5555555555555556,\"#d8576b\"],[0.6666666666666666,\"#ed7953\"],[0.7777777777777778,\"#fb9f3a\"],[0.8888888888888888,\"#fdca26\"],[1.0,\"#f0f921\"]],\"type\":\"heatmap\"}],\"heatmapgl\":[{\"colorbar\":{\"outlinewidth\":0,\"ticks\":\"\"},\"colorscale\":[[0.0,\"#0d0887\"],[0.1111111111111111,\"#46039f\"],[0.2222222222222222,\"#7201a8\"],[0.3333333333333333,\"#9c179e\"],[0.4444444444444444,\"#bd3786\"],[0.5555555555555556,\"#d8576b\"],[0.6666666666666666,\"#ed7953\"],[0.7777777777777778,\"#fb9f3a\"],[0.8888888888888888,\"#fdca26\"],[1.0,\"#f0f921\"]],\"type\":\"heatmapgl\"}],\"histogram\":[{\"marker\":{\"pattern\":{\"fillmode\":\"overlay\",\"size\":10,\"solidity\":0.2}},\"type\":\"histogram\"}],\"histogram2d\":[{\"colorbar\":{\"outlinewidth\":0,\"ticks\":\"\"},\"colorscale\":[[0.0,\"#0d0887\"],[0.1111111111111111,\"#46039f\"],[0.2222222222222222,\"#7201a8\"],[0.3333333333333333,\"#9c179e\"],[0.4444444444444444,\"#bd3786\"],[0.5555555555555556,\"#d8576b\"],[0.6666666666666666,\"#ed7953\"],[0.7777777777777778,\"#fb9f3a\"],[0.8888888888888888,\"#fdca26\"],[1.0,\"#f0f921\"]],\"type\":\"histogram2d\"}],\"histogram2dcontour\":[{\"colorbar\":{\"outlinewidth\":0,\"ticks\":\"\"},\"colorscale\":[[0.0,\"#0d0887\"],[0.1111111111111111,\"#46039f\"],[0.2222222222222222,\"#7201a8\"],[0.3333333333333333,\"#9c179e\"],[0.4444444444444444,\"#bd3786\"],[0.5555555555555556,\"#d8576b\"],[0.6666666666666666,\"#ed7953\"],[0.7777777777777778,\"#fb9f3a\"],[0.8888888888888888,\"#fdca26\"],[1.0,\"#f0f921\"]],\"type\":\"histogram2dcontour\"}],\"mesh3d\":[{\"colorbar\":{\"outlinewidth\":0,\"ticks\":\"\"},\"type\":\"mesh3d\"}],\"parcoords\":[{\"line\":{\"colorbar\":{\"outlinewidth\":0,\"ticks\":\"\"}},\"type\":\"parcoords\"}],\"pie\":[{\"automargin\":true,\"type\":\"pie\"}],\"scatter\":[{\"marker\":{\"colorbar\":{\"outlinewidth\":0,\"ticks\":\"\"}},\"type\":\"scatter\"}],\"scatter3d\":[{\"line\":{\"colorbar\":{\"outlinewidth\":0,\"ticks\":\"\"}},\"marker\":{\"colorbar\":{\"outlinewidth\":0,\"ticks\":\"\"}},\"type\":\"scatter3d\"}],\"scattercarpet\":[{\"marker\":{\"colorbar\":{\"outlinewidth\":0,\"ticks\":\"\"}},\"type\":\"scattercarpet\"}],\"scattergeo\":[{\"marker\":{\"colorbar\":{\"outlinewidth\":0,\"ticks\":\"\"}},\"type\":\"scattergeo\"}],\"scattergl\":[{\"marker\":{\"colorbar\":{\"outlinewidth\":0,\"ticks\":\"\"}},\"type\":\"scattergl\"}],\"scattermapbox\":[{\"marker\":{\"colorbar\":{\"outlinewidth\":0,\"ticks\":\"\"}},\"type\":\"scattermapbox\"}],\"scatterpolar\":[{\"marker\":{\"colorbar\":{\"outlinewidth\":0,\"ticks\":\"\"}},\"type\":\"scatterpolar\"}],\"scatterpolargl\":[{\"marker\":{\"colorbar\":{\"outlinewidth\":0,\"ticks\":\"\"}},\"type\":\"scatterpolargl\"}],\"scatterternary\":[{\"marker\":{\"colorbar\":{\"outlinewidth\":0,\"ticks\":\"\"}},\"type\":\"scatterternary\"}],\"surface\":[{\"colorbar\":{\"outlinewidth\":0,\"ticks\":\"\"},\"colorscale\":[[0.0,\"#0d0887\"],[0.1111111111111111,\"#46039f\"],[0.2222222222222222,\"#7201a8\"],[0.3333333333333333,\"#9c179e\"],[0.4444444444444444,\"#bd3786\"],[0.5555555555555556,\"#d8576b\"],[0.6666666666666666,\"#ed7953\"],[0.7777777777777778,\"#fb9f3a\"],[0.8888888888888888,\"#fdca26\"],[1.0,\"#f0f921\"]],\"type\":\"surface\"}],\"table\":[{\"cells\":{\"fill\":{\"color\":\"#EBF0F8\"},\"line\":{\"color\":\"white\"}},\"header\":{\"fill\":{\"color\":\"#C8D4E3\"},\"line\":{\"color\":\"white\"}},\"type\":\"table\"}]},\"layout\":{\"annotationdefaults\":{\"arrowcolor\":\"#2a3f5f\",\"arrowhead\":0,\"arrowwidth\":1},\"autotypenumbers\":\"strict\",\"coloraxis\":{\"colorbar\":{\"outlinewidth\":0,\"ticks\":\"\"}},\"colorscale\":{\"diverging\":[[0,\"#8e0152\"],[0.1,\"#c51b7d\"],[0.2,\"#de77ae\"],[0.3,\"#f1b6da\"],[0.4,\"#fde0ef\"],[0.5,\"#f7f7f7\"],[0.6,\"#e6f5d0\"],[0.7,\"#b8e186\"],[0.8,\"#7fbc41\"],[0.9,\"#4d9221\"],[1,\"#276419\"]],\"sequential\":[[0.0,\"#0d0887\"],[0.1111111111111111,\"#46039f\"],[0.2222222222222222,\"#7201a8\"],[0.3333333333333333,\"#9c179e\"],[0.4444444444444444,\"#bd3786\"],[0.5555555555555556,\"#d8576b\"],[0.6666666666666666,\"#ed7953\"],[0.7777777777777778,\"#fb9f3a\"],[0.8888888888888888,\"#fdca26\"],[1.0,\"#f0f921\"]],\"sequentialminus\":[[0.0,\"#0d0887\"],[0.1111111111111111,\"#46039f\"],[0.2222222222222222,\"#7201a8\"],[0.3333333333333333,\"#9c179e\"],[0.4444444444444444,\"#bd3786\"],[0.5555555555555556,\"#d8576b\"],[0.6666666666666666,\"#ed7953\"],[0.7777777777777778,\"#fb9f3a\"],[0.8888888888888888,\"#fdca26\"],[1.0,\"#f0f921\"]]},\"colorway\":[\"#636efa\",\"#EF553B\",\"#00cc96\",\"#ab63fa\",\"#FFA15A\",\"#19d3f3\",\"#FF6692\",\"#B6E880\",\"#FF97FF\",\"#FECB52\"],\"font\":{\"color\":\"#2a3f5f\"},\"geo\":{\"bgcolor\":\"white\",\"lakecolor\":\"white\",\"landcolor\":\"#E5ECF6\",\"showlakes\":true,\"showland\":true,\"subunitcolor\":\"white\"},\"hoverlabel\":{\"align\":\"left\"},\"hovermode\":\"closest\",\"mapbox\":{\"style\":\"light\"},\"paper_bgcolor\":\"white\",\"plot_bgcolor\":\"#E5ECF6\",\"polar\":{\"angularaxis\":{\"gridcolor\":\"white\",\"linecolor\":\"white\",\"ticks\":\"\"},\"bgcolor\":\"#E5ECF6\",\"radialaxis\":{\"gridcolor\":\"white\",\"linecolor\":\"white\",\"ticks\":\"\"}},\"scene\":{\"xaxis\":{\"backgroundcolor\":\"#E5ECF6\",\"gridcolor\":\"white\",\"gridwidth\":2,\"linecolor\":\"white\",\"showbackground\":true,\"ticks\":\"\",\"zerolinecolor\":\"white\"},\"yaxis\":{\"backgroundcolor\":\"#E5ECF6\",\"gridcolor\":\"white\",\"gridwidth\":2,\"linecolor\":\"white\",\"showbackground\":true,\"ticks\":\"\",\"zerolinecolor\":\"white\"},\"zaxis\":{\"backgroundcolor\":\"#E5ECF6\",\"gridcolor\":\"white\",\"gridwidth\":2,\"linecolor\":\"white\",\"showbackground\":true,\"ticks\":\"\",\"zerolinecolor\":\"white\"}},\"shapedefaults\":{\"line\":{\"color\":\"#2a3f5f\"}},\"ternary\":{\"aaxis\":{\"gridcolor\":\"white\",\"linecolor\":\"white\",\"ticks\":\"\"},\"baxis\":{\"gridcolor\":\"white\",\"linecolor\":\"white\",\"ticks\":\"\"},\"bgcolor\":\"#E5ECF6\",\"caxis\":{\"gridcolor\":\"white\",\"linecolor\":\"white\",\"ticks\":\"\"}},\"title\":{\"x\":0.05},\"xaxis\":{\"automargin\":true,\"gridcolor\":\"white\",\"linecolor\":\"white\",\"ticks\":\"\",\"title\":{\"standoff\":15},\"zerolinecolor\":\"white\",\"zerolinewidth\":2},\"yaxis\":{\"automargin\":true,\"gridcolor\":\"white\",\"linecolor\":\"white\",\"ticks\":\"\",\"title\":{\"standoff\":15},\"zerolinecolor\":\"white\",\"zerolinewidth\":2}}},\"xaxis\":{\"anchor\":\"y\",\"domain\":[0.0,1.0],\"title\":{\"text\":\"primary_disease\"}},\"yaxis\":{\"anchor\":\"x\",\"domain\":[0.0,1.0],\"title\":{\"text\":\"count\"}},\"legend\":{\"tracegroupgap\":0},\"margin\":{\"t\":60},\"barmode\":\"relative\"},                        {\"responsive\": true}                    ).then(function(){\n",
              "                            \n",
              "var gd = document.getElementById('26c63ac4-e913-4b6c-a4b5-65bd3394cf7c');\n",
              "var x = new MutationObserver(function (mutations, observer) {{\n",
              "        var display = window.getComputedStyle(gd).display;\n",
              "        if (!display || display === 'none') {{\n",
              "            console.log([gd, 'removed!']);\n",
              "            Plotly.purge(gd);\n",
              "            observer.disconnect();\n",
              "        }}\n",
              "}});\n",
              "\n",
              "// Listen for the removal of the full notebook cells\n",
              "var notebookContainer = gd.closest('#notebook-container');\n",
              "if (notebookContainer) {{\n",
              "    x.observe(notebookContainer, {childList: true});\n",
              "}}\n",
              "\n",
              "// Listen for the clearing of the current output cell\n",
              "var outputEl = gd.closest('.output');\n",
              "if (outputEl) {{\n",
              "    x.observe(outputEl, {childList: true});\n",
              "}}\n",
              "\n",
              "                        })                };                            </script>        </div>\n",
              "</body>\n",
              "</html>"
            ]
          },
          "metadata": {}
        }
      ],
      "source": [
        "px.histogram(df, x = \"primary_disease\")"
      ]
    },
    {
      "cell_type": "code",
      "execution_count": 17,
      "metadata": {
        "colab": {
          "base_uri": "https://localhost:8080/",
          "height": 542
        },
        "id": "4dswHpjDtfpQ",
        "outputId": "fe6a0192-1ae8-40c2-ee43-80a1dd9ea329"
      },
      "outputs": [
        {
          "output_type": "display_data",
          "data": {
            "text/html": [
              "<html>\n",
              "<head><meta charset=\"utf-8\" /></head>\n",
              "<body>\n",
              "    <div>            <script src=\"https://cdnjs.cloudflare.com/ajax/libs/mathjax/2.7.5/MathJax.js?config=TeX-AMS-MML_SVG\"></script><script type=\"text/javascript\">if (window.MathJax) {MathJax.Hub.Config({SVG: {font: \"STIX-Web\"}});}</script>                <script type=\"text/javascript\">window.PlotlyConfig = {MathJaxConfig: 'local'};</script>\n",
              "        <script src=\"https://cdn.plot.ly/plotly-2.8.3.min.js\"></script>                <div id=\"469fc9d4-0144-4534-83b0-17c37a1d2280\" class=\"plotly-graph-div\" style=\"height:525px; width:100%;\"></div>            <script type=\"text/javascript\">                                    window.PLOTLYENV=window.PLOTLYENV || {};                                    if (document.getElementById(\"469fc9d4-0144-4534-83b0-17c37a1d2280\")) {                    Plotly.newPlot(                        \"469fc9d4-0144-4534-83b0-17c37a1d2280\",                        [{\"alignmentgroup\":\"True\",\"bingroup\":\"x\",\"hovertemplate\":\"lineage_subtype=%{x}<br>count=%{y}<extra></extra>\",\"legendgroup\":\"\",\"marker\":{\"color\":\"#636efa\",\"pattern\":{\"shape\":\"\"}},\"name\":\"\",\"offsetgroup\":\"\",\"orientation\":\"v\",\"showlegend\":false,\"x\":[\"renal_cell_carcinoma\",\"ALL\",\"NSCLC\",\"fibroblast_skin\",0,\"rhabdomyosarcoma\",0,\"non_hodgkin_lymphoma\",\"fibroblast_bone\",\"CML\",\"non_hodgkin_lymphoma\",\"fibroblast_soft_tissue\",\"AML\",\"colorectal_adenocarcinoma\",\"exocrine\",\"gastric_adenocarcinoma\",\"fibroblast_bone\",\"ALL\",\"fibroblast_lymphocyte\",\"ALL\",\"non_hodgkin_lymphoma\",\"fibroblast_bone\",\"non_hodgkin_lymphoma\",\"fibroblast_lymphocyte\",\"AML\",0,\"malignant_rhabdoid_tumor\",\"endometrial_adenocarcinoma\",\"fibroblast_soft_tissue\",\"SCLC\",\"fibroblast_skin\",\"fibroblast_bone\",\"fibroblast_skin\",\"exocrine\",\"esophagus_adenocarcinoma\",\"non_hodgkin_lymphoma\",\"fibroblast_bone\",\"fibroblast_bone\",\"fibroblast_breast\",\"gastric_adenocarcinoma\",\"CML\",\"fibroblast_skin\",\"fibroblast_upper_aerodigestive\",\"non_hodgkin_lymphoma\",\"breast_ductal_carcinoma\",\"SCLC\",\"renal_cell_carcinoma\",\"renal_cell_carcinoma\",\"CML\",\"gastric_adenocarcinoma\",\"glioma\",\"ovary_adenocarcinoma\",\"fibroblast_bone\",\"renal_cell_carcinoma\",\"non_hodgkin_lymphoma\",\"non_hodgkin_lymphoma\",\"fibroblast_breast\",\"chondrosarcoma\",\"multiple_myeloma\",\"multiple_myeloma\",\"glioma\",\"CML\",\"colorectal_adenocarcinoma\",\"ALL\",0,\"renal_cell_carcinoma\",\"SCLC\",\"fibroblast_bone\",\"fibroblast_bone\",\"fibroblast_lung\",\"malignant_rhabdoid_tumor\",\"NSCLC\",\"multiple_myeloma\",\"multiple_myeloma\",\"AML\",\"lymphoma_unspecified\",\"meningioma\",\"glioma\",\"ovary_adenocarcinoma\",0,\"mesothelioma\",\"exocrine\",\"renal_cell_carcinoma\",\"NSCLC\",\"upper_aerodigestive_squamous\",\"esophagus_squamous\",\"ALL\",\"NSCLC\",\"bladder_carcinoma\",\"gastric_adenocarcinoma\",\"fibroblast_lung\",\"melanoma\",\"cholangiocarcinoma\",\"NSCLC\",\"NSCLC\",\"NSCLC\",\"fibroblast_colorectal\",\"multiple_myeloma\",\"SCLC\",\"melanoma\",\"NSCLC\",\"gastric_adenocarcinoma\",\"endometrial_adenocarcinoma\",\"prostate_adenocarcinoma\",\"glioma\",\"Ewing_sarcoma\",\"Ewing_sarcoma\",\"Ewing_sarcoma\",\"Ewing_sarcoma\",\"duodenal_adenocarcinoma\",\"cervical_carcinoma\",0,\"AML\",\"ovary_adenocarcinoma\",\"multiple_myeloma\",\"melanoma\",\"SCLC\",\"medulloblastoma\",\"medulloblastoma\",\"Ewing_sarcoma\",\"cervical_carcinoma\",\"NSCLC\",\"NSCLC\",0,\"NSCLC\",\"fibroblast_lymphocyte\",\"lymphoma_unspecified\",\"exocrine\",\"malignant_rhabdoid_tumor\",\"lymphoma_unspecified\",\"malignant_rhabdoid_tumor\",\"merkel_cell_carcinoma\",\"merkel_cell_carcinoma\",\"lymphoma_unspecified\",\"lymphoma_unspecified\",\"lymphoma_unspecified\",0,\"lymphoma_unspecified\",\"ovary_adenocarcinoma\",\"non_hodgkin_lymphoma\",\"lymphoma_unspecified\",\"lymphoma_unspecified\",\"chondrosarcoma\",\"multiple_myeloma\",\"renal_cell_carcinoma\",\"undifferentiated_sarcoma\",\"merkel_cell_carcinoma\",\"glioma\",\"renal_cell_carcinoma\",0,\"renal_cell_carcinoma\",\"lymphoma_unspecified\",\"malignant_rhabdoid_tumor\",\"medulloblastoma\",\"Ewing_sarcoma\",\"fibroblast_lung\",\"renal_cell_carcinoma\",\"renal_cell_carcinoma\",\"upper_aerodigestive_squamous\",\"AML\",\"NSCLC\",\"synovial_sarcoma\",\"SCCOHT\",\"Ewing_sarcoma\",0,\"upper_aerodigestive_squamous\",\"thyroid_carcinoma\",0,\"neuroblastoma\",\"ovary_adenocarcinoma\",\"breast_carcinoma\",\"breast_ductal_carcinoma\",\"breast_carcinoma\",\"breast_carcinoma\",\"breast_adenocarcinoma\",\"bladder_carcinoma\",\"bladder_carcinoma\",\"breast_ductal_carcinoma\",\"prostate_adenocarcinoma\",\"epithelioid_sarcoma\",\"uveal_melanoma\",\"uterine_carcinosarcoma\",\"upper_aerodigestive_squamous\",\"upper_aerodigestive_squamous\",\"upper_aerodigestive_squamous\",\"cervical_adenocarcinoma\",\"breast_ductal_carcinoma\",\"cervical_squamous\",\"cervical_carcinoma\",\"endometrial_adenocarcinoma\",\"unspecified_leukemia\",\"skin_squamous\",\"non_hodgkin_lymphoma\",\"cholangiocarcinoma\",\"non_hodgkin_lymphoma\",\"liposarcoma\",\"multiple_myeloma\",\"mesothelioma\",\"neuroblastoma\",\"mesothelioma\",\"mesothelioma\",\"mesothelioma\",\"mesothelioma\",\"mesothelioma\",\"mesothelioma\",\"mesothelioma\",\"mesothelioma\",\"melanoma\",\"CML\",\"AML\",\"gallbladder_adenocarcinoma\",\"glioma\",\"glioma\",\"glioma\",\"AML\",\"non_hodgkin_lymphoma\",\"AML\",\"gallbladder_adenocarcinoma\",\"glioma\",\"glioma\",\"glioma\",\"prostate_adenocarcinoma\",\"CLL\",\"AML\",\"prostate_adenocarcinoma\",\"prostate_adenocarcinoma\",\"endometrial_squamous\",\"endometrial_squamous\",\"AML\",\"gastric_adenocarcinoma\",\"teratoma\",\"upper_aerodigestive_squamous\",\"hodgkin_lymphoma\",0,0,\"upper_aerodigestive_squamous\",\"upper_aerodigestive_squamous\",\"upper_aerodigestive_squamous\",\"upper_aerodigestive_squamous\",\"upper_aerodigestive_squamous\",\"upper_aerodigestive_squamous\",\"upper_aerodigestive_squamous\",\"CLL\",\"osteosarcoma\",\"ovary_adenocarcinoma\",\"rhabdomyosarcoma\",\"fibroblast_soft_tissue\",\"colorectal_adenocarcinoma\",\"liposarcoma\",\"liposarcoma\",\"liposarcoma\",\"liposarcoma\",\"liposarcoma\",\"liposarcoma\",\"liposarcoma\",\"liposarcoma\",\"liposarcoma\",\"osteosarcoma\",\"osteosarcoma\",\"colorectal_adenocarcinoma\",0,\"cholangiocarcinoma\",\"cholangiocarcinoma\",\"cholangiocarcinoma\",\"cholangiocarcinoma\",\"cholangiocarcinoma\",\"cholangiocarcinoma\",\"cholangiocarcinoma\",\"cholangiocarcinoma\",\"cholangiocarcinoma\",\"cholangiocarcinoma\",\"cholangiocarcinoma\",\"cholangiocarcinoma\",\"cholangiocarcinoma\",\"gallbladder_adenocarcinoma\",\"cholangiocarcinoma\",\"cholangiocarcinoma\",\"cholangiocarcinoma\",\"cholangiocarcinoma\",\"cholangiocarcinoma\",\"cholangiocarcinoma\",\"cholangiocarcinoma\",\"chordoma\",\"cholangiocarcinoma\",\"cholangiocarcinoma\",\"gallbladder_adenocarcinoma\",\"melanoma\",\"melanoma\",\"mesothelioma\",\"melanoma\",\"ovary_adenocarcinoma\",\"mesothelioma\",\"ALL\",\"cholangiocarcinoma\",\"exocrine\",\"melanoma\",\"melanoma\",\"melanoma\",\"melanoma\",\"uveal_melanoma\",\"uveal_melanoma\",\"uveal_melanoma\",\"uveal_melanoma\",\"uveal_melanoma\",\"uveal_melanoma\",\"glassy_cell_carcinoma\",\"choriocarcinoma\",\"colorectal_adenocarcinoma\",\"colorectal_adenocarcinoma\",\"endometrial_adenocarcinoma\",\"endometrial_adenocarcinoma\",\"krukenberg_tumor\",\"exocrine\",\"thyroid_carcinoma\",\"thyroid_squamous\",\"upper_aerodigestive_squamous\",\"MMMT\",\"rhabdomyosarcoma\",\"non_hodgkin_lymphoma\",\"CML\",\"MPNST\",\"MPNST\",\"osteosarcoma\",\"neuroblastoma\",\"synovial_sarcoma\",\"colorectal_adenocarcinoma\",0,0,0,0,0,0,0,0,0,0,0,0,0,0,0,0,0,0,0,0,0,0,0,0,0,0,0,0,0,0,0,0,0,0,0,0,0,0,\"non_hodgkin_lymphoma\",\"breast_carcinoma\",\"gastric_adenocarcinoma\",\"melanoma\",\"melanoma\",\"melanoma\",\"melanoma\",0,0,0,0,0,0,\"osteosarcoma\",\"CML\",\"melanoma\",\"melanoma\",\"melanoma\",\"melanoma\",\"melanoma\",0,\"colorectal_adenocarcinoma\",\"colorectal_adenocarcinoma\",\"colorectal_adenocarcinoma\",0,\"glioma\",\"uveal_melanoma\",\"MPNST\",\"MPNST\",\"leiomyosarcoma\",\"MPNST\",\"osteosarcoma\",0,0,0,\"melanoma\",\"ovary_adenocarcinoma\",\"AML\",\"colorectal_adenocarcinoma\",\"AML\",\"AML\",\"AML\",\"colorectal_adenocarcinoma\",\"melanoma\",\"colorectal_adenocarcinoma\",\"bladder_carcinoma\",\"NSCLC\",\"ovary_adenocarcinoma\",\"melanoma\",\"NSCLC\",\"breast_carcinoma\",\"bladder_carcinoma\",\"breast_carcinoma\",\"ALL\",\"NSCLC\",\"exocrine\",\"exocrine\",\"multiple_myeloma\",\"meningioma\",\"bladder_carcinoma\",\"glioma\",\"breast_carcinoma\",\"NSCLC\",\"NSCLC\",\"exocrine\",\"AML\",\"NSCLC\",\"glioma\",\"thyroid_sarcoma\",\"lymphoma_unspecified\",\"Ewing_sarcoma\",\"glioma\",\"Ewing_sarcoma\",\"exocrine\",\"breast_ductal_carcinoma\",\"AML\",\"renal_cell_carcinoma\",\"gastric_adenocarcinoma\",\"ovary_adenocarcinoma\",\"multiple_myeloma\",\"Ewing_sarcoma\",\"non_hodgkin_lymphoma\",\"fibrosarcoma\",\"medulloblastoma\",\"non_hodgkin_lymphoma\",\"multiple_myeloma\",\"thyroid_carcinoma\",\"ALL\",\"exocrine\",\"non_hodgkin_lymphoma\",\"NSCLC\",\"fibroblast_lymphocyte\",\"AML\",\"NSCLC\",\"glioma\",\"hodgkin_lymphoma\",\"ALL\",\"CML\",\"non_hodgkin_lymphoma\",\"CML\",\"glioma\",\"neuroblastoma\",\"AML\",\"AML\",\"osteosarcoma\",\"fibroblast_breast\",\"exocrine\",\"mesothelioma\",\"Ewing_sarcoma\",\"fibroblast_urinary_tract\",\"prostate_adenocarcinoma\",\"ovary_adenocarcinoma\",\"mesothelioma\",\"exocrine\",\"medulloblastoma\",\"malignant_rhabdoid_tumor\",\"breast_ductal_carcinoma\",\"glioma\",\"neuroblastoma\",\"rhabdomyosarcoma\",\"ALL\",\"glioma\",\"ovary_adenocarcinoma\",\"ALL\",\"ALL\",\"non_hodgkin_lymphoma\",\"exocrine\",\"exocrine\",\"NSCLC\",\"breast_ductal_carcinoma\",\"AML\",\"AML\",\"exocrine\",\"prostate_adenocarcinoma\",\"ovary_adenocarcinoma\",\"breast_adenocarcinoma\",\"exocrine\",\"neuroblastoma\",\"NSCLC\",\"ovary_adenocarcinoma\",\"non_hodgkin_lymphoma\",\"glioma\",\"bladder_carcinoma\",\"glioma\",\"SCLC\",\"fibroblast_lung\",\"ovary_adenocarcinoma\",\"rhabdomyosarcoma, embryonal\",\"fibroblast_breast\",\"fibroblast_skin\",\"neuroblastoma\",\"glioma\",\"exocrine\",\"exocrine\",\"gallbladder_adenocarcinoma\",\"bladder_carcinoma\",\"NSCLC\",\"gastric_adenocarcinoma\",\"leiomyosarcoma\",\"AML\",\"breast_ductal_carcinoma\",\"breast_carcinoma\",\"neuroblastoma\",\"NSCLC\",\"ALL\",\"glioma\",\"mesothelioma\",\"exocrine\",\"ALL\",\"non_hodgkin_lymphoma\",\"renal_cell_carcinoma\",\"ATRT\",\"NSCLC\",\"non_hodgkin_lymphoma\",\"thyroid_squamous\",\"exocrine\",\"multiple_myeloma\",\"AML\",\"rhabdomyosarcoma\",\"renal_cell_carcinoma\",\"thyroid_carcinoma\",\"NSCLC\",\"prostate_small_cell\",\"exocrine\",\"upper_aerodigestive_squamous\",\"cholangiocarcinoma\",\"multiple_myeloma\",\"fibroblast_breast\",\"NSCLC\",\"SCLC\",\"upper_aerodigestive_squamous\",\"renal_cell_carcinoma\",0,\"thyroid_carcinoma\",\"endometrial_adenocarcinoma\",\"multiple_myeloma\",\"AML\",\"breast_ductal_carcinoma\",\"ALL\",\"AML\",\"fibroblast_colorectal\",\"glioma\",\"malignant_rhabdoid_tumor\",\"colorectal_adenocarcinoma\",\"neuroblastoma\",\"multiple_myeloma\",\"ATL\",\"upper_aerodigestive_squamous\",\"glioma\",\"cholangiocarcinoma\",\"Ewing_sarcoma\",\"medulloblastoma\",\"breast_carcinoma\",\"exocrine\",\"fibroblast_colorectal\",\"glioma\",\"hepatocellular_carcinoma\",\"AML\",\"melanoma\",\"hepatocellular_carcinoma\",\"exocrine\",\"breast_ductal_carcinoma\",\"gastric_small_cell\",\"non_hodgkin_lymphoma\",\"neuroblastoma\",\"upper_aerodigestive_squamous\",\"glioma\",\"glioma\",\"non_hodgkin_lymphoma\",\"renal_cell_carcinoma\",\"exocrine\",\"colorectal_adenocarcinoma\",\"ovary_adenocarcinoma\",\"upper_aerodigestive_squamous\",\"fibroblast_skin\",\"bladder_carcinoma\",\"exocrine\",\"glioma\",\"non_hodgkin_lymphoma\",\"renal_cell_carcinoma\",\"gastric_adenocarcinoma\",\"breast_adenocarcinoma\",\"colorectal_adenocarcinoma\",\"renal_cell_carcinoma\",\"NSCLC\",\"colorectal_adenocarcinoma\",\"colorectal_adenocarcinoma\",\"upper_aerodigestive_squamous\",\"gastric_adenocarcinoma\",\"ovary_adenocarcinoma\",\"SCLC\",\"breast_carcinoma\",\"neuroblastoma\",\"neuroblastoma\",\"NSCLC\",\"renal_cell_carcinoma\",\"AML\",\"NSCLC\",\"exocrine\",\"exocrine\",\"hodgkin_lymphoma\",\"cholangiocarcinoma\",\"glioma\",\"exocrine\",\"non_hodgkin_lymphoma\",\"renal_cell_carcinoma\",\"glioma\",\"melanoma\",\"breast_ductal_carcinoma\",\"breast_ductal_carcinoma\",\"ovary_adenocarcinoma\",\"Ewing_sarcoma\",\"brenner_tumor\",\"exocrine\",\"NSCLC\",\"glioma\",\"colorectal_adenocarcinoma\",\"non_hodgkin_lymphoma\",\"glioma\",\"SCLC\",\"ovary_adenocarcinoma\",\"SCLC\",\"endometrial_adenocarcinoma\",\"AML\",\"CML\",\"colorectal_adenocarcinoma\",\"SCLC\",\"AML\",\"CML\",\"mullerian_carcinoma\",\"gastric_adenocarcinoma\",\"melanoma\",\"esophagus_squamous\",\"fibroblast_skin\",\"exocrine\",\"ovary_adenocarcinoma\",\"NSCLC\",\"neuroblastoma\",\"NSCLC\",\"neuroblastoma\",\"NSCLC\",\"non_hodgkin_lymphoma\",\"hepatocellular_carcinoma\",\"renal_cell_carcinoma\",\"esophagus_squamous\",\"mesothelioma\",\"exocrine\",\"melanoma\",\"glioma\",\"ovary_adenocarcinoma\",\"CML\",\"NSCLC\",\"glioma\",\"breast_ductal_carcinoma\",\"mesothelioma\",\"exocrine\",\"non_hodgkin_lymphoma\",\"mesothelioma\",\"AML\",\"NSCLC\",\"non_hodgkin_lymphoma\",\"NSCLC\",\"neuroblastoma\",\"colorectal_adenocarcinoma\",\"NSCLC\",\"gastric_adenocarcinoma\",\"neuroblastoma\",\"CLL\",\"endocrine\",\"melanoma\",\"breast_ductal_carcinoma\",\"colorectal_adenocarcinoma\",\"gastric_adenocarcinoma\",\"breast_carcinoma\",\"esophagus_squamous\",\"exocrine\",\"SCLC\",\"gastric_adenocarcinoma\",\"non_hodgkin_lymphoma\",\"SCLC\",\"osteosarcoma\",\"caecum_adenocarcinoma\",\"hepatocellular_carcinoma\",\"AML\",\"multiple_myeloma\",\"osteosarcoma\",\"non_hodgkin_lymphoma\",\"neuroblastoma\",\"NSCLC\",\"glioma\",\"AML\",\"glioma\",\"non_hodgkin_lymphoma\",\"ALL\",\"AML\",\"breast_ductal_carcinoma\",0,\"glioma\",\"cholangiocarcinoma\",\"NSCLC\",\"NSCLC\",\"multiple_myeloma\",\"colorectal_adenocarcinoma\",\"SCLC\",\"esophagus_adenocarcinoma\",\"bladder_carcinoma\",\"AML\",\"AML\",\"glioma\",\"NSCLC\",\"Ewing_sarcoma\",\"NSCLC\",\"hepatocellular_carcinoma\",\"SCLC\",\"NSCLC\",\"bladder_carcinoma\",\"clear_cell_carcinoma\",\"SCLC\",\"colorectal_adenocarcinoma\",\"melanoma\",\"non_hodgkin_lymphoma\",\"colorectal_adenocarcinoma\",\"melanoma\",\"CLL\",\"AML\",\"MMMT\",\"esophagus_squamous\",\"ovary_adenocarcinoma\",\"osteosarcoma\",\"renal_cell_carcinoma\",\"colorectal_adenocarcinoma\",\"NSCLC\",\"upper_aerodigestive_squamous\",\"NSCLC\",\"exocrine\",\"hepatocellular_carcinoma\",\"colorectal_adenocarcinoma\",\"hepatocellular_carcinoma\",\"melanoma\",\"Ewing_sarcoma\",\"melanoma\",\"multiple_myeloma\",\"gastric_adenocarcinoma\",\"renal_cell_carcinoma\",\"renal_cell_carcinoma\",\"ovary_adenocarcinoma\",\"SCLC\",\"CML\",\"renal_cell_carcinoma\",\"NSCLC\",\"endometrial_adenocarcinoma\",\"multiple_myeloma\",\"glioma\",\"NSCLC\",\"AML\",\"non_hodgkin_lymphoma\",\"melanoma\",\"NSCLC\",\"ovary_adenocarcinoma\",\"NSCLC\",\"glioma\",\"neuroblastoma\",\"NSCLC\",\"NSCLC\",\"uterine_sarcoma\",\"melanoma\",\"NSCLC\",\"esophagus_squamous\",\"NSCLC\",\"thyroid_carcinoma\",\"renal_cell_carcinoma\",\"melanoma\",\"renal_cell_carcinoma\",\"ovary_adenocarcinoma\",\"cholangiocarcinoma\",\"NSCLC\",\"glioma\",\"melanoma\",\"gastric_adenocarcinoma\",\"exocrine\",\"glioma\",\"colorectal_adenocarcinoma\",0,\"upper_aerodigestive_squamous\",\"bladder_carcinoma\",\"hepatocellular_carcinoma\",\"hepatocellular_carcinoma\",\"melanoma\",\"hepatocellular_carcinoma\",\"glioma\",\"hepatocellular_carcinoma\",\"NSCLC\",\"NSCLC\",\"hepatocellular_carcinoma\",\"renal_cell_carcinoma\",\"gastric_adenocarcinoma\",\"bladder_carcinoma\",\"AML\",\"esophagus_squamous\",\"colorectal_adenocarcinoma\",\"cervical_squamous\",\"colorectal_adenocarcinoma\",\"hepatocellular_carcinoma\",\"renal_cell_carcinoma\",\"NSCLC\",\"AML\",\"Ewing_sarcoma\",\"upper_aerodigestive_squamous\",\"colorectal_adenocarcinoma\",\"exocrine\",\"upper_aerodigestive_squamous\",\"glioma\",\"leiomyosarcoma\",\"SCLC\",\"gastric_adenocarcinoma\",\"SCLC\",\"non_hodgkin_lymphoma\",\"NSCLC\",\"NSCLC\",\"multiple_myeloma\",\"SCLC\",\"SCLC\",\"chondrosarcoma\",\"exocrine\",\"upper_aerodigestive_squamous\",\"ALL\",\"ovary_adenocarcinoma\",\"NSCLC\",\"bladder_carcinoma\",\"ovary_adenocarcinoma\",\"SCLC\",\"ovary_adenocarcinoma\",\"NSCLC\",\"SCLC\",\"colorectal_adenocarcinoma\",\"non_hodgkin_lymphoma\",\"exocrine\",\"breast_ductal_carcinoma\",\"hepatocellular_carcinoma\",\"duodenal_adenocarcinoma\",\"fibroblast_lung\",\"fibroblast_breast\",\"multiple_myeloma\",\"ovary_adenocarcinoma\",\"glioma\",\"esophagus_squamous\",\"bladder_carcinoma\",\"upper_aerodigestive_squamous\",\"bladder_carcinoma\",\"upper_aerodigestive_squamous\",\"upper_aerodigestive_squamous\",\"melanoma\",\"CML\",\"colorectal_adenocarcinoma\",\"breast_ductal_carcinoma\",\"renal_cell_carcinoma\",\"cervical_carcinoma\",\"AML\",\"glioma\",\"SCLC\",\"gastric_small_cell\",\"esophagus_squamous\",\"NSCLC\",\"NSCLC\",\"colorectal_adenocarcinoma\",\"bladder_carcinoma\",\"non_hodgkin_lymphoma\",\"breast_ductal_carcinoma\",\"mesothelioma\",\"glioma\",\"glioma\",\"melanoma\",\"breast_carcinoma\",\"ovary_adenocarcinoma\",\"NSCLC\",\"multiple_myeloma\",\"hepatocellular_carcinoma\",\"NSCLC\",\"melanoma\",\"melanoma\",\"gastric_adenocarcinoma\",\"melanoma\",\"non_hodgkin_lymphoma\",\"ovary_adenocarcinoma\",\"NSCLC\",\"SCLC\",\"NSCLC\",\"multiple_myeloma\",\"NSCLC\",\"NSCLC\",\"glioma\",\"glioma\",\"bladder_carcinoma\",\"SCLC\",\"glioma\",\"NSCLC\",\"malignant_rhabdoid_tumor\",\"exocrine\",\"renal_cell_carcinoma\",\"exocrine\",\"NSCLC\",\"CML\",\"esophagus_squamous\",\"upper_aerodigestive_squamous\",\"malignant_rhabdoid_tumor\",\"ovary_adenocarcinoma\",\"glioma\",\"SCLC\",\"non_hodgkin_lymphoma\",\"osteosarcoma\",\"melanoma\",\"melanoma\",\"gastric_adenocarcinoma\",\"ovary_adenocarcinoma\",\"upper_aerodigestive_squamous\",\"upper_aerodigestive_squamous\",\"hepatocellular_carcinoma\",\"breast_ductal_carcinoma\",\"glioma\",\"glioma\",\"breast_ductal_carcinoma\",\"hepatocellular_carcinoma\",\"multiple_myeloma\",\"NSCLC\",\"NSCLC\",\"upper_aerodigestive_squamous\",\"glioma\",\"melanoma\",\"gastric_adenocarcinoma\",\"ALL\",\"esophagus_squamous\",\"NSCLC\",\"SCLC\",\"melanoma\",\"AML\",\"breast_ductal_carcinoma\",\"melanoma\",\"ovary_adenocarcinoma\",\"esophagus_squamous\",\"mesothelioma\",\"renal_cell_carcinoma\",\"melanoma\",\"colorectal_adenocarcinoma\",\"exocrine\",\"multiple_myeloma\",\"non_hodgkin_lymphoma\",\"glioma\",\"non_hodgkin_lymphoma\",\"ovary_adenocarcinoma\",\"multiple_myeloma\",\"SCLC\",\"non_hodgkin_lymphoma\",\"melanoma\",\"NSCLC\",\"ovary_adenocarcinoma\",\"non_hodgkin_lymphoma\",\"NSCLC\",\"NSCLC\",\"NSCLC\",\"breast_ductal_carcinoma\",\"NSCLC\",\"SCLC\",\"hepatoblastoma\",\"NSCLC\",\"glioma\",\"gastric_adenocarcinoma\",\"NSCLC\",\"glioma\",\"NSCLC\",\"gastric_adenocarcinoma\",\"esophagus_squamous\",\"colorectal_adenocarcinoma\",\"NSCLC\",\"upper_aerodigestive_squamous\",\"colorectal_adenocarcinoma\",\"renal_cell_carcinoma\",\"hepatocellular_carcinoma\",\"non_hodgkin_lymphoma\",\"ovary_adenocarcinoma\",\"rhabdomyosarcoma\",\"NSCLC\",\"breast_ductal_carcinoma\",\"upper_aerodigestive_squamous\",\"esophagus_squamous\",\"esophagus_squamous\",\"SCLC\",\"ovary_adenocarcinoma\",\"non_hodgkin_lymphoma\",\"SCLC\",\"breast_ductal_carcinoma\",\"NSCLC\",\"ovary_adenocarcinoma\",\"hodgkin_lymphoma\",\"SCLC\",\"ovary_carcinoma\",\"NSCLC\",\"NSCLC\",\"non_hodgkin_lymphoma\",\"colorectal_adenocarcinoma\",\"breast_ductal_carcinoma\",\"NSCLC\",\"ovary_adenocarcinoma\",\"multiple_myeloma\",\"upper_aerodigestive_squamous\",\"thyroid_carcinoma\",\"esophagus_squamous\",\"NSCLC\",\"ovary_adenocarcinoma\",\"bladder_carcinoma\",\"breast_carcinoma\",\"colorectal_adenocarcinoma\",\"bladder_carcinoma\",\"breast_ductal_carcinoma\",\"SCLC\",\"SCLC\",\"melanoma\",\"NSCLC\",\"upper_aerodigestive_squamous\",\"NSCLC\",\"hepatocellular_carcinoma\",\"upper_aerodigestive_squamous\",\"gastric_adenocarcinoma\",\"glioma\",\"hepatocellular_carcinoma\",\"upper_aerodigestive_squamous\",\"fibroblast_lung\",\"SCLC\",\"NSCLC\",\"multiple_myeloma\",\"gastric_adenocarcinoma\",\"NSCLC\",\"osteosarcoma\",\"SCLC\",\"melanoma\",\"AML\",\"SCLC\",\"bladder_carcinoma\",\"hodgkin_lymphoma\",\"breast_ductal_carcinoma\",\"glioma\",\"NSCLC\",\"gastric_adenocarcinoma\",\"breast_ductal_carcinoma\",\"glioma\",\"upper_aerodigestive_squamous\",\"multiple_myeloma\",\"gastric_adenocarcinoma\",\"melanoma\",\"NSCLC\",\"SCLC\",\"breast_carcinoma\",\"NSCLC\",\"AML\",\"upper_aerodigestive_squamous\",\"rhabdomyosarcoma\",\"non_hodgkin_lymphoma\",\"NSCLC\",\"lung_carcinoid\",\"medulloblastoma\",\"esophagus_squamous\",\"upper_aerodigestive_squamous\",\"NSCLC\",\"SCLC\",\"NSCLC\",\"ALL\",\"breast_carcinoma\",\"esophagus_squamous\",\"NSCLC\",\"non_hodgkin_lymphoma\",\"NSCLC\",\"melanoma\",\"NSCLC\",\"SCLC\",\"NSCLC\",\"renal_cell_carcinoma\",\"gastric_adenocarcinoma\",\"upper_aerodigestive_squamous\",\"ALL\",\"ovary_adenocarcinoma\",\"colorectal_adenocarcinoma\",\"melanoma\",\"SCLC\",\"bladder_carcinoma\",\"SCLC\",\"neuroblastoma\",\"melanoma\",\"hodgkin_lymphoma\",\"glioma\",\"esophagus_squamous\",\"melanoma\",\"ovary_adenocarcinoma\",\"melanoma\",\"melanoma\",\"hodgkin_lymphoma\",\"SCLC\",\"multiple_myeloma\",\"breast_ductal_carcinoma\",\"glioma\",\"colorectal_adenocarcinoma\",\"multiple_myeloma\",\"melanoma\",\"esophagus_squamous\",\"esophagus_squamous\",\"NSCLC\",\"NSCLC\",\"melanoma\",\"breast_ductal_carcinoma\",\"multiple_myeloma\",\"SCLC\",\"endometrial_adenocarcinoma\",\"upper_aerodigestive_squamous\",\"rhabdomyosarcoma\",\"bladder_carcinoma\",\"pleomorphic_sarcoma\",\"upper_aerodigestive_squamous\",\"multiple_myeloma\",\"bladder_carcinoma\",\"NSCLC\",\"NSCLC\",\"colorectal_adenocarcinoma\",\"NSCLC\",\"SCLC\",\"upper_aerodigestive_squamous\",\"gastric_adenocarcinoma\",\"hepatocellular_carcinoma\",\"breast_carcinoma\",\"NSCLC\",\"NSCLC\",\"NSCLC\",\"esophagus_squamous\",\"breast_carcinoma\",\"breast_carcinoma\",\"NSCLC\",\"breast_ductal_carcinoma\",\"NSCLC\",\"NSCLC\",\"bladder_carcinoma\",\"glioma\",\"endometrial_adenocarcinoma\",\"esophagus_squamous\",\"SCLC\",\"NSCLC\",\"NSCLC\",\"NSCLC\",\"SCLC\",\"NSCLC\",\"esophagus_squamous\",\"ALL\",\"NSCLC\",\"breast_carcinoma\",\"non_hodgkin_lymphoma\",\"NSCLC\",\"endometrial_adenocarcinoma\",\"gastric_adenocarcinoma\",\"melanoma\",\"melanoma\",\"glioma\",\"melanoma\",\"ovary_adenocarcinoma\",\"NSCLC\",\"glioma\",\"NSCLC\",\"multiple_myeloma\",\"SCLC\",\"NSCLC\",\"NSCLC\",\"NSCLC\",\"NSCLC\",\"colorectal_adenocarcinoma\",\"bladder_carcinoma\",\"thyroid_carcinoma\",\"gastric_adenocarcinoma\",\"NSCLC\",\"NSCLC\",\"breast_ductal_carcinoma\",\"thyroid_carcinoma\",\"bladder_carcinoma\",\"ovary_adenocarcinoma\",\"renal_cell_carcinoma\",\"breast_carcinoma\",\"gastric_adenocarcinoma\",\"SCLC\",\"endometrial_stromal_sarcoma\",\"non_hodgkin_lymphoma\",\"melanoma\",\"NSCLC\",\"esophagus_squamous\",\"ALL\",\"gastric_adenocarcinoma\",\"CML\",\"NSCLC\",\"ALL\",\"non_hodgkin_lymphoma\",\"NSCLC\",\"NSCLC\",\"colorectal_adenocarcinoma\",\"breast_ductal_carcinoma\",\"endometrial_adenocarcinoma\",\"NSCLC\",\"breast_carcinoma\",\"melanoma\",\"gastric_adenocarcinoma\",\"exocrine\",\"breast_carcinoma\",\"colorectal_adenocarcinoma\",\"ovary_adenocarcinoma\",\"ALL\",\"ALL\",\"leiomyosarcoma\",\"endometrial_adenocarcinoma\",\"endometrial_adenocarcinoma\",\"ALL\",\"colorectal_adenocarcinoma\",\"non_hodgkin_lymphoma\",\"NSCLC\",\"endometrial_adenocarcinoma\",\"ovary_adenocarcinoma\",\"gastric_adenocarcinoma\",\"gastric_adenocarcinoma\",\"colorectal_adenocarcinoma\",\"NSCLC\",\"ALL\",\"endometrial_adenocarcinoma\",\"colorectal_adenocarcinoma\",\"prostate_adenocarcinoma\",\"colorectal_adenocarcinoma\",\"colorectal_adenocarcinoma\",\"colorectal_adenocarcinoma\",\"ALL\",\"endometrial_adenocarcinoma\",\"ovary_adenocarcinoma\",\"colorectal_adenocarcinoma\",\"ALL\",\"endometrial_adenosquamous\",\"ovary_adenocarcinoma\",\"colorectal_adenocarcinoma\",\"melanoma\",\"colorectal_adenocarcinoma\",\"colorectal_adenocarcinoma\",\"colorectal_adenocarcinoma\",\"endometrial_adenocarcinoma\",\"bladder_carcinoma\",\"endometrial_adenocarcinoma\",\"NSCLC\",\"cholangiocarcinoma\",\"prostate_adenocarcinoma\",\"endometrial_adenocarcinoma\",\"prostate_adenocarcinoma\",\"NSCLC\",\"ALL\",\"colorectal_adenocarcinoma\",\"CML\",\"endometrial_adenocarcinoma\",\"colorectal_adenocarcinoma\",\"colorectal_adenocarcinoma\",\"melanoma\",\"endometrial_adenocarcinoma\",\"colorectal_adenocarcinoma\",\"endometrial_adenocarcinoma\",\"colorectal_adenocarcinoma\",\"upper_aerodigestive_squamous\",\"endometrial_adenocarcinoma\",\"endometrial_adenocarcinoma\",\"ALL\",\"endometrial_adenocarcinoma\",\"colorectal_adenocarcinoma\",\"colorectal_adenocarcinoma\",\"colorectal_adenocarcinoma\",\"osteosarcoma\",\"melanoma\",\"glioma\",\"ATRT\",\"hepatocellular_carcinoma\",\"Ewing_sarcoma\",\"thyroid_squamous\",\"melanoma\",\"ATRT\",\"Ewing_sarcoma\",\"Ewing_sarcoma\",\"ATRT\",\"Ewing_sarcoma\",\"PNET\",\"Ewing_sarcoma\",\"Ewing_sarcoma\",\"AML\",\"Ewing_sarcoma\",\"colorectal_adenocarcinoma\",\"melanoma\",\"melanoma\",\"ovary_adenocarcinoma\",\"SCLC\",\"rhabdomyosarcoma\",\"medulloblastoma\",\"medulloblastoma\",\"lymphoma_unspecified\",\"malignant_rhabdoid_tumor\",\"lymphoma_unspecified\",\"colorectal_adenocarcinoma\",\"ovary_adenocarcinoma\",\"non_hodgkin_lymphoma\",\"breast_carcinoma\",\"meningioma\",\"lymphoma_unspecified\",\"exocrine\",\"NSCLC\",\"colorectal_adenocarcinoma\",\"colorectal_adenocarcinoma\",\"cervical_carcinoma\",\"hepatocellular_carcinoma\",\"upper_aerodigestive_squamous\",\"colorectal_adenocarcinoma\",\"multiple_myeloma\",\"rhabdomyosarcoma\",\"exocrine\",\"ALL\",\"exocrine\",\"lymphoma_unspecified\",\"NSCLC\",\"glioma\",\"lymphoma_unspecified\",\"lymphoma_unspecified\",\"glioma\",\"glioma\",\"ALL\",\"malignant_rhabdoid_tumor\",\"AML\",\"merkel_cell_carcinoma\",\"SCLC\",\"NSCLC\",\"SCLC\",\"ovary_adenocarcinoma\",\"ovary_adenocarcinoma\",\"exocrine\",0,\"bladder_carcinoma\",\"rhabdomyosarcoma\",\"neuroblastoma\",\"rhabdomyosarcoma\",\"melanoma\",\"Ewing_sarcoma\",\"Ewing_sarcoma\",\"rhabdomyosarcoma\",\"glioma\",\"colorectal_adenocarcinoma\",\"hodgkin_lymphoma\",\"Ewing_sarcoma\",0,\"malignant_rhabdoid_tumor\",\"malignant_rhabdoid_tumor\",\"malignant_rhabdoid_tumor\",\"glioma\",\"upper_aerodigestive_squamous\",\"upper_aerodigestive_squamous\",\"medulloblastoma\",\"NSCLC\",\"melanoma\",\"breast_ductal_carcinoma\",\"synovial_sarcoma\",\"synovial_sarcoma\",\"synovial_sarcoma\",\"synovial_sarcoma\",\"SCCOHT\",\"synovial_sarcoma\",\"Ewing_sarcoma\",\"ATRT\",\"retinoblastoma\",\"neuroblastoma\",\"neuroblastoma\",\"neuroblastoma\",\"neuroblastoma\",\"thyroid_carcinoma\",\"thyroid_carcinoma\",\"hepatocellular_carcinoma\",\"thyroid_squamous\",\"synovial_sarcoma\",\"skin_squamous\",\"glioma\",\"upper_aerodigestive_squamous\",\"upper_aerodigestive_squamous\",\"cervical_carcinoma\",\"cervical_carcinoma\",\"cervical_carcinoma\",\"cervical_squamous\",\"neuroblastoma\",\"melanoma\",\"ovary_carcinoma\",\"cervical_adenocarcinoma\",\"neuroblastoma\",\"colorectal_adenocarcinoma\",\"upper_aerodigestive_squamous\",\"thyroid_carcinoma\",\"exocrine\",\"neuroblastoma\",\"neuroblastoma\",\"breast_carcinoma\",\"cervical_squamous\",\"cervical_squamous\",\"NSCLC\",\"NSCLC\",\"SCLC\",\"SCLC\",\"neuroblastoma\",\"esophagus_adenocarcinoma\",\"ovary_adenocarcinoma\",\"ovary_adenocarcinoma\",\"mixed_germ_cell\",\"exocrine\",\"exocrine\",\"exocrine\",\"exocrine\",\"exocrine\",\"exocrine\",\"exocrine\",\"prostate_adenocarcinoma\",\"thyroid_carcinoma\",\"upper_aerodigestive_squamous\",\"SCLC\",\"breast_ductal_carcinoma\",\"breast_carcinoma\",\"breast_carcinoma\",\"breast_carcinoma\",\"breast_carcinoma\",\"renal_cell_carcinoma\",\"colorectal_adenocarcinoma\",\"cervical_squamous\",\"adrenal_carcinoma\",\"cervical_squamous\",\"ovary_adenocarcinoma\",\"bladder_carcinoma\",\"bladder_carcinoma\",\"bladder_carcinoma\",\"bladder_carcinoma\",\"bladder_carcinoma\",\"bladder_carcinoma\",\"bladder_carcinoma\",\"bladder_carcinoma\",\"lung_carcinoid\",\"ovary_adenocarcinoma\",\"retinoblastoma\",\"Ewing_sarcoma\",\"Ewing_sarcoma\",\"skin_squamous\",\"thyroid_carcinoma\",\"non_hodgkin_lymphoma\",\"cervical_squamous\",\"hairy_cell_leukemia\",\"prostate_hyperplasia\",\"colorectal_adenocarcinoma\",\"colorectal_adenocarcinoma\",\"colorectal_adenocarcinoma\",\"colorectal_adenocarcinoma\",\"colorectal_adenocarcinoma\",\"colorectal_adenocarcinoma\",\"unspecified_leukemia\",\"unspecified_leukemia\",\"NSCLC\",\"lung_carcinoma\",\"cholangiocarcinoma\",\"esophagus_adenocarcinoma\",\"esophagus_adenocarcinoma\",\"non_hodgkin_lymphoma\",\"esophagus_adenocarcinoma\",\"endometrial_adenocarcinoma\",\"chondrosarcoma\",\"skin_squamous\",\"melanoma\",\"skin_squamous\",\"cervical_carcinoma\",\"osteosarcoma\",\"thyroid_carcinoma\",\"choriocarcinoma\",\"choriocarcinoma\",\"malignant_rhabdoid_tumor\",\"cholangiocarcinoma\",\"upper_aerodigestive_squamous\",\"upper_aerodigestive_squamous\",\"esophagus_adenocarcinoma\",\"SCLC\",\"merkel_cell_carcinoma\",\"merkel_cell_carcinoma\",\"merkel_cell_carcinoma\",\"uveal_melanoma\",\"melanoma\",\"melanoma\",\"melanoma\",\"melanoma\",\"melanoma\",\"AML\",\"embryo_carcinoma\",\"SCLC\",\"SCLC\",\"neuroblastoma\",\"glioma\",\"glioma\",\"glioma\",\"non_hodgkin_lymphoma\",\"upper_aerodigestive_squamous\",\"upper_aerodigestive_squamous\",\"ovary_adenocarcinoma\",\"ovary_adenocarcinoma\",\"ovary_adenocarcinoma\",\"non_hodgkin_lymphoma\",\"lymphoma_unspecified\",\"ALL\",\"upper_aerodigestive_squamous\",\"non_hodgkin_lymphoma\",\"melanoma\",\"cervical_adenocarcinoma\",\"gastric_adenocarcinoma\",\"esophagus_adenocarcinoma\",\"endometrial_squamous\",\"ALL\",\"PNET\",\"cholangiocarcinoma\",\"neuroblastoma\",\"lymphoma_unspecified\",\"non_hodgkin_lymphoma\",\"epithelioid_sarcoma\",\"non_hodgkin_lymphoma\",\"melanoma\",\"lymphoma_unspecified\",\"PNET\",\"osteosarcoma\",\"neuroblastoma\",\"ALL\",\"ALL\",\"ALL\",\"ALL\",\"rhabdomyosarcoma\",\"rhabdomyosarcoma\",\"rhabdomyosarcoma\",\"rhabdomyosarcoma\",\"rhabdomyosarcoma\",\"breast_ductal_carcinoma\",0,\"cholangiocarcinoma\",\"gallbladder_adenocarcinoma\",\"chordoma\",\"chordoma\",\"SCLC\",\"melanoma\",\"cervical_carcinoma\",\"colorectal_adenocarcinoma\",\"upper_aerodigestive_squamous\",\"melanoma\",\"upper_aerodigestive_carcinoma\",\"upper_aerodigestive_squamous\",\"SCLC\",\"SCLC\",\"ALL\",\"ALL\",\"lymphoma_unspecified\",\"osteosarcoma\",\"SCLC\",\"neuroblastoma\",\"melanoma\",\"NSCLC\",\"renal_cell_carcinoma\",\"skin_squamous\",\"chondrosarcoma\",\"chondrosarcoma\",\"chondrosarcoma\",\"SCLC\",\"melanoma\",\"melanoma\",\"melanoma\",\"chondrosarcoma\",\"skin_squamous\",\"NSCLC\",\"NSCLC\",\"Ewing_sarcoma\",\"Ewing_sarcoma\",\"Ewing_sarcoma\",\"Ewing_sarcoma\",\"Ewing_sarcoma\",\"Ewing_sarcoma\",\"Ewing_sarcoma\",\"Ewing_sarcoma\",\"Ewing_sarcoma\",\"Ewing_sarcoma\",\"Ewing_sarcoma\",\"Ewing_sarcoma\",\"Ewing_sarcoma\",\"Ewing_sarcoma\",\"Ewing_sarcoma\",\"Ewing_sarcoma\",\"Ewing_sarcoma\",\"melanoma\",\"melanoma\",\"NSCLC\",\"mesothelioma\",\"mesothelioma\",\"mesothelioma\",\"mesothelioma\",\"mesothelioma\",\"mesothelioma\",\"mesothelioma\",\"mesothelioma\",\"mesothelioma\",\"mesothelioma\",\"mesothelioma\",\"mesothelioma\",\"mesothelioma\",\"mesothelioma\",\"NSCLC\",\"renal_cell_carcinoma\",\"ovary_adenocarcinoma\",\"gastric_adenocarcinoma\",\"osteosarcoma\",\"melanoma\",\"SCLC\",\"SCLC\",\"ovary_adenocarcinoma\",\"melanoma\",\"thyroid_carcinoma\",\"granulosa_cell_tumor\",\"renal_cell_carcinoma\",\"renal_cell_carcinoma\",\"melanoma\",\"melanoma\",\"SCLC\",\"renal_cell_carcinoma\",\"NSCLC\",\"NSCLC\",\"NSCLC\",\"melanoma\",\"Ewing_sarcoma\",\"gastric_adenocarcinoma\",\"melanoma\",\"breast_carcinoma\",\"exocrine\",\"melanoma\",\"melanoma\",\"renal_cell_carcinoma\",\"renal_cell_carcinoma\",\"SCLC\",\"SCLC\",\"SCLC\",\"NSCLC\",\"SCLC\",\"lung_carcinoid\",\"SCLC\",\"SCLC\",\"lung_carcinoid\",\"osteosarcoma\",\"breast_carcinoma\",\"cervical_squamous\",\"ovary_adenocarcinoma\",\"ovary_adenocarcinoma\",\"ovary_adenocarcinoma\",\"NSCLC\",\"exocrine\",\"exocrine\",\"renal_cell_carcinoma\",\"renal_cell_carcinoma\",\"renal_cell_carcinoma\",\"renal_cell_carcinoma\",\"renal_cell_carcinoma\",\"renal_cell_carcinoma\",\"SCLC\",\"Ewing_sarcoma\",\"renal_cell_carcinoma\",\"SCLC\",\"SCLC\",\"choriocarcinoma\",\"renal_cell_carcinoma\",0,\"cervical_small_cell\",\"gastric_adenocarcinoma\",\"chordoma\",\"melanoma\",\"melanoma\",\"melanoma\",\"breast_ductal_carcinoma\",\"ALL\",0,\"ALL\",\"upper_aerodigestive_squamous\",\"upper_aerodigestive_squamous\",\"non_hodgkin_lymphoma\",\"non_hodgkin_lymphoma\",\"ALL\",\"neuroblastoma\",\"AML\",\"colorectal_adenocarcinoma\",\"non_hodgkin_lymphoma\",\"non_hodgkin_lymphoma\",\"ALL\",\"glioma\",\"glioma\",\"glioma\",\"glioma\",\"glioma\",\"glioma\",\"glioma\",\"glioma\",\"glioma\",\"non_hodgkin_lymphoma\",\"colorectal_adenocarcinoma\",0,\"bladder_carcinoma\",\"non_hodgkin_lymphoma\",\"cholangiocarcinoma\",\"ALL\",0,\"non_hodgkin_lymphoma\",\"ALL\",\"hairy_cell_leukemia\",\"esophagus_squamous\",\"upper_aerodigestive_squamous\",\"hodgkin_lymphoma\",\"fibrosarcoma\",0,\"neuroblastoma\",\"upper_aerodigestive_squamous\",\"upper_aerodigestive_squamous\",\"upper_aerodigestive_squamous\",\"non_hodgkin_lymphoma\",\"non_hodgkin_lymphoma\",\"non_hodgkin_lymphoma\",\"non_hodgkin_lymphoma\",\"ALL\",\"glioma\",\"AML\",\"glioma\",\"upper_aerodigestive_squamous\",\"neuroblastoma\",\"AML\",\"esophagus_squamous\",\"esophagus_squamous\",\"upper_aerodigestive_squamous\",\"bladder_carcinoma\",\"ALL\",\"glioma\",\"glioma\",0,\"malignant_fibrous_histiocytoma\",\"non_hodgkin_lymphoma\",\"AML\",\"hairy_cell_leukemia\",\"ALL\",\"acute_biphenotypic_leukemia\",\"neuroblastoma\",\"neuroblastoma\",\"neuroblastoma\",\"neuroblastoma\",\"neuroblastoma\",\"neuroblastoma\",\"neuroblastoma\",\"neuroblastoma\",\"neuroblastoma\",\"SCLC\",0,\"NKC\",\"AML\",\"embryo_carcinoma\",\"esophagus_adenocarcinoma\",\"non_hodgkin_lymphoma\",\"upper_aerodigestive_squamous\",\"upper_aerodigestive_squamous\",\"upper_aerodigestive_squamous\",\"upper_aerodigestive_squamous\",\"upper_aerodigestive_squamous\",\"AML\",\"non_hodgkin_lymphoma\",\"non_hodgkin_lymphoma\",\"CML\",\"glioma\",\"upper_aerodigestive_squamous\",\"gastric_adenocarcinoma\",\"non_hodgkin_lymphoma\",\"ALL\",\"fibrosarcoma\",\"liposarcoma\",\"esophagus_squamous\",\"gallbladder_adenocarcinoma\",\"non_hodgkin_lymphoma\",\"AML\",0,\"NKC\",0,\"NSCLC\",\"melanoma\",\"hairy_cell_leukemia\",\"neuroblastoma\",\"colorectal_adenocarcinoma\",0,0,0,0,0,0,0,0,0,0,0,0,0,0,0,0,0,0,0,\"melanoma\",\"melanoma\",\"melanoma\",\"neuroblastoma\",\"AML\",\"upper_aerodigestive_squamous\",\"non_hodgkin_lymphoma\",\"colorectal_adenocarcinoma\",\"hepatoblastoma\",\"osteosarcoma\",\"thyroid_carcinoma\"],\"xaxis\":\"x\",\"yaxis\":\"y\",\"type\":\"histogram\"}],                        {\"template\":{\"data\":{\"bar\":[{\"error_x\":{\"color\":\"#2a3f5f\"},\"error_y\":{\"color\":\"#2a3f5f\"},\"marker\":{\"line\":{\"color\":\"#E5ECF6\",\"width\":0.5},\"pattern\":{\"fillmode\":\"overlay\",\"size\":10,\"solidity\":0.2}},\"type\":\"bar\"}],\"barpolar\":[{\"marker\":{\"line\":{\"color\":\"#E5ECF6\",\"width\":0.5},\"pattern\":{\"fillmode\":\"overlay\",\"size\":10,\"solidity\":0.2}},\"type\":\"barpolar\"}],\"carpet\":[{\"aaxis\":{\"endlinecolor\":\"#2a3f5f\",\"gridcolor\":\"white\",\"linecolor\":\"white\",\"minorgridcolor\":\"white\",\"startlinecolor\":\"#2a3f5f\"},\"baxis\":{\"endlinecolor\":\"#2a3f5f\",\"gridcolor\":\"white\",\"linecolor\":\"white\",\"minorgridcolor\":\"white\",\"startlinecolor\":\"#2a3f5f\"},\"type\":\"carpet\"}],\"choropleth\":[{\"colorbar\":{\"outlinewidth\":0,\"ticks\":\"\"},\"type\":\"choropleth\"}],\"contour\":[{\"colorbar\":{\"outlinewidth\":0,\"ticks\":\"\"},\"colorscale\":[[0.0,\"#0d0887\"],[0.1111111111111111,\"#46039f\"],[0.2222222222222222,\"#7201a8\"],[0.3333333333333333,\"#9c179e\"],[0.4444444444444444,\"#bd3786\"],[0.5555555555555556,\"#d8576b\"],[0.6666666666666666,\"#ed7953\"],[0.7777777777777778,\"#fb9f3a\"],[0.8888888888888888,\"#fdca26\"],[1.0,\"#f0f921\"]],\"type\":\"contour\"}],\"contourcarpet\":[{\"colorbar\":{\"outlinewidth\":0,\"ticks\":\"\"},\"type\":\"contourcarpet\"}],\"heatmap\":[{\"colorbar\":{\"outlinewidth\":0,\"ticks\":\"\"},\"colorscale\":[[0.0,\"#0d0887\"],[0.1111111111111111,\"#46039f\"],[0.2222222222222222,\"#7201a8\"],[0.3333333333333333,\"#9c179e\"],[0.4444444444444444,\"#bd3786\"],[0.5555555555555556,\"#d8576b\"],[0.6666666666666666,\"#ed7953\"],[0.7777777777777778,\"#fb9f3a\"],[0.8888888888888888,\"#fdca26\"],[1.0,\"#f0f921\"]],\"type\":\"heatmap\"}],\"heatmapgl\":[{\"colorbar\":{\"outlinewidth\":0,\"ticks\":\"\"},\"colorscale\":[[0.0,\"#0d0887\"],[0.1111111111111111,\"#46039f\"],[0.2222222222222222,\"#7201a8\"],[0.3333333333333333,\"#9c179e\"],[0.4444444444444444,\"#bd3786\"],[0.5555555555555556,\"#d8576b\"],[0.6666666666666666,\"#ed7953\"],[0.7777777777777778,\"#fb9f3a\"],[0.8888888888888888,\"#fdca26\"],[1.0,\"#f0f921\"]],\"type\":\"heatmapgl\"}],\"histogram\":[{\"marker\":{\"pattern\":{\"fillmode\":\"overlay\",\"size\":10,\"solidity\":0.2}},\"type\":\"histogram\"}],\"histogram2d\":[{\"colorbar\":{\"outlinewidth\":0,\"ticks\":\"\"},\"colorscale\":[[0.0,\"#0d0887\"],[0.1111111111111111,\"#46039f\"],[0.2222222222222222,\"#7201a8\"],[0.3333333333333333,\"#9c179e\"],[0.4444444444444444,\"#bd3786\"],[0.5555555555555556,\"#d8576b\"],[0.6666666666666666,\"#ed7953\"],[0.7777777777777778,\"#fb9f3a\"],[0.8888888888888888,\"#fdca26\"],[1.0,\"#f0f921\"]],\"type\":\"histogram2d\"}],\"histogram2dcontour\":[{\"colorbar\":{\"outlinewidth\":0,\"ticks\":\"\"},\"colorscale\":[[0.0,\"#0d0887\"],[0.1111111111111111,\"#46039f\"],[0.2222222222222222,\"#7201a8\"],[0.3333333333333333,\"#9c179e\"],[0.4444444444444444,\"#bd3786\"],[0.5555555555555556,\"#d8576b\"],[0.6666666666666666,\"#ed7953\"],[0.7777777777777778,\"#fb9f3a\"],[0.8888888888888888,\"#fdca26\"],[1.0,\"#f0f921\"]],\"type\":\"histogram2dcontour\"}],\"mesh3d\":[{\"colorbar\":{\"outlinewidth\":0,\"ticks\":\"\"},\"type\":\"mesh3d\"}],\"parcoords\":[{\"line\":{\"colorbar\":{\"outlinewidth\":0,\"ticks\":\"\"}},\"type\":\"parcoords\"}],\"pie\":[{\"automargin\":true,\"type\":\"pie\"}],\"scatter\":[{\"marker\":{\"colorbar\":{\"outlinewidth\":0,\"ticks\":\"\"}},\"type\":\"scatter\"}],\"scatter3d\":[{\"line\":{\"colorbar\":{\"outlinewidth\":0,\"ticks\":\"\"}},\"marker\":{\"colorbar\":{\"outlinewidth\":0,\"ticks\":\"\"}},\"type\":\"scatter3d\"}],\"scattercarpet\":[{\"marker\":{\"colorbar\":{\"outlinewidth\":0,\"ticks\":\"\"}},\"type\":\"scattercarpet\"}],\"scattergeo\":[{\"marker\":{\"colorbar\":{\"outlinewidth\":0,\"ticks\":\"\"}},\"type\":\"scattergeo\"}],\"scattergl\":[{\"marker\":{\"colorbar\":{\"outlinewidth\":0,\"ticks\":\"\"}},\"type\":\"scattergl\"}],\"scattermapbox\":[{\"marker\":{\"colorbar\":{\"outlinewidth\":0,\"ticks\":\"\"}},\"type\":\"scattermapbox\"}],\"scatterpolar\":[{\"marker\":{\"colorbar\":{\"outlinewidth\":0,\"ticks\":\"\"}},\"type\":\"scatterpolar\"}],\"scatterpolargl\":[{\"marker\":{\"colorbar\":{\"outlinewidth\":0,\"ticks\":\"\"}},\"type\":\"scatterpolargl\"}],\"scatterternary\":[{\"marker\":{\"colorbar\":{\"outlinewidth\":0,\"ticks\":\"\"}},\"type\":\"scatterternary\"}],\"surface\":[{\"colorbar\":{\"outlinewidth\":0,\"ticks\":\"\"},\"colorscale\":[[0.0,\"#0d0887\"],[0.1111111111111111,\"#46039f\"],[0.2222222222222222,\"#7201a8\"],[0.3333333333333333,\"#9c179e\"],[0.4444444444444444,\"#bd3786\"],[0.5555555555555556,\"#d8576b\"],[0.6666666666666666,\"#ed7953\"],[0.7777777777777778,\"#fb9f3a\"],[0.8888888888888888,\"#fdca26\"],[1.0,\"#f0f921\"]],\"type\":\"surface\"}],\"table\":[{\"cells\":{\"fill\":{\"color\":\"#EBF0F8\"},\"line\":{\"color\":\"white\"}},\"header\":{\"fill\":{\"color\":\"#C8D4E3\"},\"line\":{\"color\":\"white\"}},\"type\":\"table\"}]},\"layout\":{\"annotationdefaults\":{\"arrowcolor\":\"#2a3f5f\",\"arrowhead\":0,\"arrowwidth\":1},\"autotypenumbers\":\"strict\",\"coloraxis\":{\"colorbar\":{\"outlinewidth\":0,\"ticks\":\"\"}},\"colorscale\":{\"diverging\":[[0,\"#8e0152\"],[0.1,\"#c51b7d\"],[0.2,\"#de77ae\"],[0.3,\"#f1b6da\"],[0.4,\"#fde0ef\"],[0.5,\"#f7f7f7\"],[0.6,\"#e6f5d0\"],[0.7,\"#b8e186\"],[0.8,\"#7fbc41\"],[0.9,\"#4d9221\"],[1,\"#276419\"]],\"sequential\":[[0.0,\"#0d0887\"],[0.1111111111111111,\"#46039f\"],[0.2222222222222222,\"#7201a8\"],[0.3333333333333333,\"#9c179e\"],[0.4444444444444444,\"#bd3786\"],[0.5555555555555556,\"#d8576b\"],[0.6666666666666666,\"#ed7953\"],[0.7777777777777778,\"#fb9f3a\"],[0.8888888888888888,\"#fdca26\"],[1.0,\"#f0f921\"]],\"sequentialminus\":[[0.0,\"#0d0887\"],[0.1111111111111111,\"#46039f\"],[0.2222222222222222,\"#7201a8\"],[0.3333333333333333,\"#9c179e\"],[0.4444444444444444,\"#bd3786\"],[0.5555555555555556,\"#d8576b\"],[0.6666666666666666,\"#ed7953\"],[0.7777777777777778,\"#fb9f3a\"],[0.8888888888888888,\"#fdca26\"],[1.0,\"#f0f921\"]]},\"colorway\":[\"#636efa\",\"#EF553B\",\"#00cc96\",\"#ab63fa\",\"#FFA15A\",\"#19d3f3\",\"#FF6692\",\"#B6E880\",\"#FF97FF\",\"#FECB52\"],\"font\":{\"color\":\"#2a3f5f\"},\"geo\":{\"bgcolor\":\"white\",\"lakecolor\":\"white\",\"landcolor\":\"#E5ECF6\",\"showlakes\":true,\"showland\":true,\"subunitcolor\":\"white\"},\"hoverlabel\":{\"align\":\"left\"},\"hovermode\":\"closest\",\"mapbox\":{\"style\":\"light\"},\"paper_bgcolor\":\"white\",\"plot_bgcolor\":\"#E5ECF6\",\"polar\":{\"angularaxis\":{\"gridcolor\":\"white\",\"linecolor\":\"white\",\"ticks\":\"\"},\"bgcolor\":\"#E5ECF6\",\"radialaxis\":{\"gridcolor\":\"white\",\"linecolor\":\"white\",\"ticks\":\"\"}},\"scene\":{\"xaxis\":{\"backgroundcolor\":\"#E5ECF6\",\"gridcolor\":\"white\",\"gridwidth\":2,\"linecolor\":\"white\",\"showbackground\":true,\"ticks\":\"\",\"zerolinecolor\":\"white\"},\"yaxis\":{\"backgroundcolor\":\"#E5ECF6\",\"gridcolor\":\"white\",\"gridwidth\":2,\"linecolor\":\"white\",\"showbackground\":true,\"ticks\":\"\",\"zerolinecolor\":\"white\"},\"zaxis\":{\"backgroundcolor\":\"#E5ECF6\",\"gridcolor\":\"white\",\"gridwidth\":2,\"linecolor\":\"white\",\"showbackground\":true,\"ticks\":\"\",\"zerolinecolor\":\"white\"}},\"shapedefaults\":{\"line\":{\"color\":\"#2a3f5f\"}},\"ternary\":{\"aaxis\":{\"gridcolor\":\"white\",\"linecolor\":\"white\",\"ticks\":\"\"},\"baxis\":{\"gridcolor\":\"white\",\"linecolor\":\"white\",\"ticks\":\"\"},\"bgcolor\":\"#E5ECF6\",\"caxis\":{\"gridcolor\":\"white\",\"linecolor\":\"white\",\"ticks\":\"\"}},\"title\":{\"x\":0.05},\"xaxis\":{\"automargin\":true,\"gridcolor\":\"white\",\"linecolor\":\"white\",\"ticks\":\"\",\"title\":{\"standoff\":15},\"zerolinecolor\":\"white\",\"zerolinewidth\":2},\"yaxis\":{\"automargin\":true,\"gridcolor\":\"white\",\"linecolor\":\"white\",\"ticks\":\"\",\"title\":{\"standoff\":15},\"zerolinecolor\":\"white\",\"zerolinewidth\":2}}},\"xaxis\":{\"anchor\":\"y\",\"domain\":[0.0,1.0],\"title\":{\"text\":\"lineage_subtype\"}},\"yaxis\":{\"anchor\":\"x\",\"domain\":[0.0,1.0],\"title\":{\"text\":\"count\"}},\"legend\":{\"tracegroupgap\":0},\"margin\":{\"t\":60},\"barmode\":\"relative\"},                        {\"responsive\": true}                    ).then(function(){\n",
              "                            \n",
              "var gd = document.getElementById('469fc9d4-0144-4534-83b0-17c37a1d2280');\n",
              "var x = new MutationObserver(function (mutations, observer) {{\n",
              "        var display = window.getComputedStyle(gd).display;\n",
              "        if (!display || display === 'none') {{\n",
              "            console.log([gd, 'removed!']);\n",
              "            Plotly.purge(gd);\n",
              "            observer.disconnect();\n",
              "        }}\n",
              "}});\n",
              "\n",
              "// Listen for the removal of the full notebook cells\n",
              "var notebookContainer = gd.closest('#notebook-container');\n",
              "if (notebookContainer) {{\n",
              "    x.observe(notebookContainer, {childList: true});\n",
              "}}\n",
              "\n",
              "// Listen for the clearing of the current output cell\n",
              "var outputEl = gd.closest('.output');\n",
              "if (outputEl) {{\n",
              "    x.observe(outputEl, {childList: true});\n",
              "}}\n",
              "\n",
              "                        })                };                            </script>        </div>\n",
              "</body>\n",
              "</html>"
            ]
          },
          "metadata": {}
        }
      ],
      "source": [
        "px.histogram(df, x = \"lineage_subtype\")"
      ]
    },
    {
      "cell_type": "code",
      "execution_count": 18,
      "metadata": {
        "colab": {
          "base_uri": "https://localhost:8080/",
          "height": 542
        },
        "id": "RhTty1xstfpR",
        "outputId": "cf48127e-68c1-449a-d63a-96cf38cbf7bc"
      },
      "outputs": [
        {
          "output_type": "display_data",
          "data": {
            "text/html": [
              "<html>\n",
              "<head><meta charset=\"utf-8\" /></head>\n",
              "<body>\n",
              "    <div>            <script src=\"https://cdnjs.cloudflare.com/ajax/libs/mathjax/2.7.5/MathJax.js?config=TeX-AMS-MML_SVG\"></script><script type=\"text/javascript\">if (window.MathJax) {MathJax.Hub.Config({SVG: {font: \"STIX-Web\"}});}</script>                <script type=\"text/javascript\">window.PlotlyConfig = {MathJaxConfig: 'local'};</script>\n",
              "        <script src=\"https://cdn.plot.ly/plotly-2.8.3.min.js\"></script>                <div id=\"a7062435-4eb4-4db9-a67e-1728593a94f9\" class=\"plotly-graph-div\" style=\"height:525px; width:100%;\"></div>            <script type=\"text/javascript\">                                    window.PLOTLYENV=window.PLOTLYENV || {};                                    if (document.getElementById(\"a7062435-4eb4-4db9-a67e-1728593a94f9\")) {                    Plotly.newPlot(                        \"a7062435-4eb4-4db9-a67e-1728593a94f9\",                        [{\"alignmentgroup\":\"True\",\"bingroup\":\"x\",\"hovertemplate\":\"lineage_sub_subtype=%{x}<br>count=%{y}<extra></extra>\",\"legendgroup\":\"\",\"marker\":{\"color\":\"#636efa\",\"pattern\":{\"shape\":\"\"}},\"name\":\"\",\"offsetgroup\":\"\",\"orientation\":\"v\",\"showlegend\":false,\"x\":[0,\"b_cell\",\"NSCLC_adenocarcinoma\",0,0,0,0,\"b_cell_mantle_cell\",0,0,\"t_cell_cutaneous\",0,0,0,\"exocrine_adenocarcinoma\",0,0,\"t_cell\",0,\"b_cell\",\"DLBCL\",0,\"DLBCL\",0,\"M2\",0,0,0,0,0,0,0,0,\"exocrine_adenocarcinoma\",0,\"b_cell_mantle_cell\",0,0,0,\"tubular\",\"blast_crisis\",0,0,\"DLBCL\",\"ERneg_HER2neg\",0,0,\"clear_cell\",\"blast_crisis\",0,\"glioblastoma\",\"mucinous\",0,0,\"DLBCL\",\"b_cell\",0,0,0,0,\"glioblastoma\",\"blast_crisis\",0,\"b_cell\",0,\"clear_cell\",0,0,0,0,0,\"NSCLC_squamous\",0,0,\"M7\",\"t_cell\",0,\"glioblastoma\",\"high_grade_serous\",0,0,\"exocrine_adenosquamous\",\"clear_cell\",\"NSCLC_adenocarcinoma\",\"tongue\",0,\"b_cell\",\"NSCLC_squamous\",\"bladder_transitional_cell\",0,0,0,\"intrahepatic\",\"NSCLC_large_cell\",\"NSCLC_adenocarcinoma\",\"NSCLC_adenocarcinoma\",0,0,0,0,\"NSCLC_large_cell\",0,0,0,\"astrocytoma\",0,0,0,0,0,\"blank\",0,0,0,\"plasmacytoma\",0,0,\"med_group_3\",0,0,\"NSCLC_adenocarcinoma\",\"NSCLC_squamous\",\"NSCLC_squamous\",0,\"NSCLC_adenocarcinoma\",0,\"t_cell\",\"exocrine_adenocarcinoma\",0,0,0,0,0,\"t_cell\",\"t_cell\",\"t_cell\",0,0,\"serous\",\"DLBCL\",\"t_cell\",\"t_cell\",0,0,\"renal_medullary_carcinoma\",0,0,\"astrocytoma\",\"clear_cell\",0,0,0,0,0,0,0,0,0,\"oral\",0,\"NSCLC_squamous\",0,0,0,0,\"buccal_mucosa\",\"anaplastic\",0,0,\"serous\",\"ERneg_HER2neg\",\"ERneg_HER2neg\",\"ERneg_HER2pos\",\"ERpos_HER2pos\",\"ERneg_HER2pos\",\"bladder_transitional_cell\",\"bladder_squamous\",0,0,0,0,0,\"tongue\",\"oral\",\"buccal_mucosa\",\"endocervical\",\"ERpos_HER2pos\",0,\"endocervical\",0,\"b_cell\",0,\"splenic_lymphoma\",\"intrahepatic\",\"b_cell\",0,0,0,0,0,0,0,0,0,0,0,0,0,0,0,0,\"glioblastoma\",\"glioblastoma\",\"glioblastoma\",0,\"DLBCL\",0,0,\"glioblastoma\",\"glioblastoma\",\"glioblastoma\",0,\"b_cell\",0,0,0,0,0,0,0,\"testicular\",0,0,0,0,0,0,0,0,0,0,0,\"b_cell\",0,\"clear_cell\",\"alveolar\",\"alveolar\",0,0,0,\"WDLPS\",\"WDLPS\",\"WDLPS\",\"DDLPS\",\"DDLPS\",\"WD_DDPLS\",\"DDLPS\",0,0,0,0,\"intrahepatic\",\"intrahepatic\",\"intrahepatic\",\"intrahepatic\",\"intrahepatic\",\"extrahepatic\",\"intrahepatic\",\"intrahepatic\",\"intrahepatic\",\"intrahepatic\",\"intrahepatic\",\"intrahepatic\",\"intrahepatic\",0,\"intrahepatic\",\"intrahepatic\",\"intrahepatic\",\"intrahepatic\",\"extrahepatic\",\"intrahepatic\",\"intrahepatic\",0,\"intrahepatic\",\"intrahepatic\",0,0,0,0,0,\"endometrioid\",0,\"b_cell\",\"extrahepatic\",\"exocrine_adenocarcinoma\",0,0,0,0,0,0,0,0,0,0,0,0,\"papillotubular\",0,0,0,0,\"exocrine_adenocarcinoma\",0,0,\"sinus\",0,\"embryonal\",\"b_cell_burkitt\",0,0,0,0,\"adrenal\",0,0,0,0,0,0,0,0,0,0,0,0,0,0,0,0,0,0,0,0,0,0,0,0,0,0,0,0,0,0,0,0,0,0,0,0,0,0,0,0,\"b_cell_follicular\",0,0,0,0,0,0,0,0,0,0,0,0,0,0,\"acral\",\"acral\",\"acral\",\"mucosal\",\"acral\",0,0,0,0,0,\"glioblastoma\",0,0,0,0,0,0,0,0,0,\"uveal\",\"high_grade_serous\",\"M3\",0,\"M6\",\"M6\",\"M5\",0,0,0,0,\"NSCLC_adenocarcinoma\",\"high_grade_serous\",0,\"NSCLC_large_cell\",\"ERneg_HER2pos\",0,\"ERpos_HER2neg\",\"b_cell\",\"NSCLC_adenocarcinoma\",\"exocrine_adenocarcinoma\",\"exocrine_adenocarcinoma\",0,0,0,\"glioblastoma\",\"ERpos_HER2neg\",\"NSCLC_adenocarcinoma\",\"NSCLC_adenocarcinoma\",\"exocrine_adenocarcinoma\",\"M3\",\"NSCLC_adenocarcinoma\",\"glioblastoma\",0,\"b_cell\",0,\"astrocytoma\",0,\"exocrine_adenocarcinoma\",\"ERpos_HER2neg\",0,0,0,\"endometrioid\",\"plasmacytoma\",0,\"t_cell_ALCL\",0,\"med_group_3\",\"DLBCL\",0,\"follicular\",\"b_cell\",\"exocrine_adenocarcinoma\",\"t_cell_cutaneous\",\"NSCLC_adenocarcinoma\",0,0,\"NSCLC_adenocarcinoma\",\"oligodendroglioma\",0,\"b_cell\",0,\"b_cell_mantle_cell\",\"blast_crisis\",\"astrocytoma\",0,\"M5\",0,0,0,\"exocrine_adenocarcinoma\",0,0,0,0,\"serous\",0,\"exocrine_adenocarcinoma\",\"med_group_3\",0,\"ERpos_HER2neg\",\"glioblastoma\",0,\"alveolar\",\"t_cell\",\"glioblastoma\",\"high_grade_serous\",\"t_cell\",\"t_cell\",\"b_cell_mantle_cell\",\"exocrine_adenocarcinoma\",\"exocrine_adenosquamous\",\"NSCLC_adenocarcinoma\",\"ERneg_HER2neg\",\"M5\",\"M4\",\"exocrine_adenocarcinoma\",0,\"high_grade_serous\",\"ERpos_HER2pos\",\"exocrine_adenocarcinoma\",0,\"NSCLC_adenocarcinoma\",\"endometrioid\",\"DLBCL\",\"oligodendroglioma\",0,\"astrocytoma\",0,0,\"high_grade_serous\",\"embryonal\",0,0,0,\"astrocytoma\",\"exocrine_adenocarcinoma\",\"exocrine_adenocarcinoma\",0,\"bladder_transitional_cell\",0,0,0,\"M5\",\"ERpos_HER2neg\",\"ERneg_HER2neg\",0,\"NSCLC_adenocarcinoma\",\"b_cell\",\"glioblastoma\",0,\"exocrine_adenocarcinoma\",\"b_cell\",\"DLBCL\",0,0,\"NSCLC_adenocarcinoma\",\"b_cell_burkitt\",0,\"exocrine_adenocarcinoma\",0,\"M5\",\"embryonal\",0,\"anaplastic\",\"NSCLC_squamous\",0,\"exocrine_adenocarcinoma\",0,\"extrahepatic\",0,0,0,0,0,0,0,\"papillary\",0,0,0,\"ERneg_HER2neg\",\"t_cell\",\"M5\",0,\"glioblastoma\",0,0,0,0,0,\"pharynx\",\"glioblastoma\",\"intrahepatic\",0,0,\"ERneg_HER2neg\",\"exocrine_adenocarcinoma\",0,\"glioblastoma\",0,\"M3\",0,0,\"exocrine_adenocarcinoma\",\"ERneg_HER2neg\",0,\"t_cell_ALCL\",0,\"oral\",\"glioblastoma\",\"astrocytoma\",\"t_cell_ALCL\",\"clear_cell\",\"exocrine_adenocarcinoma\",0,\"mucinous\",\"oral\",0,\"bladder_transitional_cell\",\"exocrine_adenocarcinoma\",\"glioblastoma\",\"b_cell_burkitt\",0,\"diffuse_gastric\",\"ERneg_HER2pos\",0,0,0,0,0,0,0,\"high_grade_serous\",0,\"ERneg_HER2neg\",0,0,\"NSCLC_squamous\",0,\"M2\",0,\"exocrine_adenocarcinoma\",\"exocrine_adenocarcinoma\",0,\"extrahepatic\",\"glioblastoma\",\"exocrine_adenocarcinoma\",\"DLBCL\",\"clear_cell\",0,0,\"ERneg_HER2neg\",\"ERpos_HER2pos\",\"high_grade_serous\",0,0,\"exocrine_adenocarcinoma\",\"NSCLC_adenocarcinoma\",\"glioblastoma\",0,\"DLBCL\",\"glioblastoma\",0,\"high_grade_serous\",0,0,\"M3\",\"blast_crisis\",0,0,\"M4\",\"blast_crisis\",0,0,0,0,0,\"exocrine_adenocarcinoma\",\"clear_cell\",\"NSCLC_adenocarcinoma\",0,\"NSCLC_adenocarcinoma\",0,\"NSCLC_adenocarcinoma\",\"DLBCL\",0,0,0,0,\"exocrine_adenocarcinoma\",0,\"astrocytoma\",\"clear_cell\",\"blast_crisis\",\"NSCLC_adenocarcinoma\",\"astrocytoma\",\"ERpos_HER2neg\",0,\"exocrine_adenocarcinoma\",\"DLBCL\",0,\"M4\",\"NSCLC_adenocarcinoma\",\"t_cell_ALCL\",\"NSCLC_adenocarcinoma\",0,0,\"NSCLC_adenocarcinoma\",\"diffuse_gastric\",0,\"b_cell\",\"somatostatinoma\",0,\"ERpos_HER2neg\",0,0,\"ERpos_HER2neg\",0,\"exocrine_adenocarcinoma\",0,\"diffuse_gastric\",\"b_cell_mantle_cell\",0,0,0,0,0,0,0,\"DLBCL\",0,\"NSCLC_squamous\",\"glioblastoma\",0,\"glioblastoma\",\"b_cell\",\"t_cell\",0,\"ERneg_HER2neg\",0,\"glioblastoma\",\"extrahepatic\",\"NSCLC_adenosquamous\",\"NSCLC_adenocarcinoma\",0,0,0,0,\"bladder_transitional_cell\",0,0,0,\"NSCLC_squamous\",0,\"NSCLC_adenocarcinoma\",0,0,\"NSCLC_squamous\",\"bladder_transitional_cell\",0,0,0,0,\"b_cell_burkitt\",0,0,\"b_cell\",0,0,0,\"high_grade_serous\",0,\"clear_cell\",0,\"NSCLC_adenocarcinoma\",\"oral\",\"NSCLC_adenocarcinoma\",\"exocrine_adenocarcinoma\",0,0,0,0,0,0,0,\"tubular\",0,0,\"high_grade_serous\",0,\"blast_crisis\",\"clear_cell\",\"NSCLC_large_cell\",0,0,\"astrocytoma\",\"NSCLC_large_cell\",\"M4\",\"b_cell_burkitt\",0,\"NSCLC_squamous\",\"high_grade_serous\",\"NSCLC_large_cell\",\"glioblastoma\",0,\"NSCLC_adenocarcinoma\",\"NSCLC_adenocarcinoma\",0,0,\"NSCLC_adenocarcinoma\",0,\"NSCLC_squamous\",\"papillary\",0,0,0,\"high_grade_serous\",\"extrahepatic\",\"NSCLC_large_cell\",\"glioblastoma\",0,\"tubular\",\"exocrine_adenocarcinoma\",\"glioblastoma\",0,0,0,\"bladder_transitional_cell\",\"hbs_antigen_carrier\",0,0,0,\"glioblastoma\",0,\"NSCLC_squamous\",\"NSCLC_adenocarcinoma\",0,0,0,\"bladder_transitional_cell\",\"M6\",0,0,\"astrocytoma\",0,0,0,\"NSCLC_adenocarcinoma\",\"M2\",0,\"laryngeal\",0,\"exocrine_adenocarcinoma\",\"oral\",0,0,0,0,0,\"t_cell_cutaneous\",\"NSCLC_large_cell\",\"NSCLC_squamous\",0,0,0,0,\"exocrine_adenocarcinoma\",\"oral\",\"t_cell\",\"high_grade_serous\",\"NSCLC_adenocarcinoma\",\"bladder_transitional_cell\",\"high_grade_serous\",0,\"clear_cell\",\"NSCLC_adenocarcinoma\",0,0,\"DLBCL\",\"exocrine_adenocarcinoma\",\"ERneg_HER2neg\",0,0,0,0,0,\"low_grade_serous\",\"glioblastoma\",0,\"bladder_transitional_cell\",0,0,\"oral\",\"laryngeal\",0,\"blast_crisis\",0,\"ERneg_HER2pos\",0,0,\"M5\",\"glioblastoma\",0,0,0,\"NSCLC_adenocarcinoma\",\"NSCLC_squamous\",0,\"bladder_transitional_cell\",\"b_cell_burkitt\",\"ERpos_HER2pos\",0,\"glioblastoma\",\"glioblastoma\",0,\"ERneg_HER2neg\",\"high_grade_serous\",\"NSCLC_adenocarcinoma\",0,0,\"NSCLC_adenocarcinoma\",0,\"amelanotic\",0,0,\"b_cell\",\"high_grade_serous\",\"NSCLC_squamous\",0,\"NSCLC_adenocarcinoma\",0,\"NSCLC_adenocarcinoma\",\"NSCLC_adenocarcinoma\",\"astrocytoma\",0,\"bladder_transitional_cell\",0,\"glioblastoma\",\"NSCLC_large_cell\",0,\"exocrine_adenocarcinoma\",0,\"exocrine_adenocarcinoma\",0,\"blast_crisis\",0,\"basaloid\",0,\"mucinous\",\"astrocytoma\",0,\"DLBCL\",0,0,0,0,\"high_grade_serous\",\"hypopharyngeal\",\"oral\",0,\"ERneg_HER2neg\",\"glioblastoma\",\"glioblastoma\",\"ERneg_HER2neg\",0,\"plasmacytoma\",\"NSCLC_large_cell\",\"NSCLC_adenosquamous\",\"tongue\",\"astrocytoma\",0,\"diffuse_gastric\",\"t_cell\",0,\"NSCLC_adenocarcinoma\",0,0,\"M7\",\"ERneg_HER2neg\",0,\"clear_cell\",0,0,\"clear_cell\",0,0,\"exocrine_adenocarcinoma\",0,\"b_cell_burkitt\",0,\"DLBCL\",\"endometrioid\",0,0,\"DLBCL\",0,\"NSCLC_large_cell\",\"clear_cell\",\"t_cell_ALCL\",\"NSCLC_squamous\",\"NSCLC_adenocarcinoma\",\"NSCLC_adenocarcinoma\",\"ERneg_HER2neg\",\"NSCLC_squamous\",0,0,\"NSCLC_large_cell\",\"glioblastoma\",\"diffuse_gastric\",\"NSCLC_adenocarcinoma\",\"glioblastoma\",\"NSCLC_adenocarcinoma\",\"tubular\",\"laryngeal\",0,\"NSCLC_adenocarcinoma\",0,0,\"clear_cell\",0,\"b_cell\",\"mixed_serous_clear_cell\",0,\"NSCLC_squamous\",\"ERneg_HER2neg\",\"laryngeal\",0,0,0,\"high_grade_serous\",\"DLBCL\",0,\"ERneg_HER2neg\",\"NSCLC_squamous\",\"mucinous\",0,0,0,\"NSCLC_squamous\",\"NSCLC_adenocarcinoma\",\"b_cell_burkitt\",0,\"ERneg_HER2pos\",\"NSCLC_adenocarcinoma\",\"high_grade_serous\",0,\"laryngeal\",\"follicular\",0,\"NSCLC_adenocarcinoma\",\"clear_cell\",\"bladder_transitional_cell\",\"ERneg_HER2neg\",0,0,\"ERneg_HER2pos\",0,0,0,\"NSCLC_adenocarcinoma\",\"oral\",\"NSCLC_adenocarcinoma\",0,\"oral\",\"signet_ring_cell\",\"glioblastoma\",0,\"salivary_gland\",0,0,\"NSCLC_adenocarcinoma\",0,0,\"NSCLC_squamous\",0,0,0,\"M6\",0,0,0,\"ERneg_HER2pos\",\"glioblastoma\",\"NSCLC_adenocarcinoma\",0,\"ERpos_HER2neg\",\"glioblastoma\",0,0,\"mucinous\",0,\"NSCLC_adenocarcinoma\",0,\"ERneg_HER2neg\",\"NSCLC_squamous\",\"M5\",\"oral\",0,\"t_cell_ALCL\",\"NSCLC_adenocarcinoma\",0,0,0,0,\"NSCLC_adenocarcinoma\",0,\"NSCLC_adenocarcinoma\",\"b_cell\",\"ERpos_HER2neg\",0,\"NSCLC_adenocarcinoma\",\"b_cell_burkitt\",\"NSCLC_adenocarcinoma\",0,\"NSCLC_large_cell\",0,\"NSCLC_adenocarcinoma\",\"transitional_cell\",\"signet_ring_cell\",\"oral\",\"t_cell\",\"mucinous\",0,\"amelanotic\",0,\"bladder_transitional_cell\",0,0,0,0,\"oligodendroglioma\",0,0,\"endometrioid\",0,0,0,0,\"plasmacytoma\",\"ERpos_HER2neg\",\"glioblastoma\",0,0,0,0,0,0,0,0,\"ERpos_HER2pos\",0,0,0,0,\"alveolar\",\"bladder_transitional_cell\",0,\"tongue\",\"plasmacytoma\",\"bladder_squamous\",\"NSCLC_adenosquamous\",\"NSCLC_adenocarcinoma\",0,\"NSCLC_squamous\",0,0,0,0,\"ERneg_HER2neg\",\"NSCLC_adenocarcinoma\",\"NSCLC_adenocarcinoma\",\"NSCLC_large_cell\",0,\"ERneg_HER2neg\",\"ERneg_HER2neg\",\"NSCLC_squamous\",\"ERneg_HER2pos\",\"NSCLC_adenocarcinoma\",\"NSCLC_adenocarcinoma\",0,\"glioblastoma\",0,0,0,0,\"NSCLC_adenosquamous\",\"NSCLC_adenocarcinoma\",0,\"NSCLC_adenocarcinoma\",0,\"b_cell\",\"NSCLC_adenocarcinoma\",\"ERpos_HER2neg\",\"b_cell_burkitt\",\"NSCLC_squamous\",0,0,0,0,\"astrocytoma\",\"amelanotic\",\"clear_cell\",\"NSCLC_adenocarcinoma\",\"glioblastoma\",\"NSCLC_adenocarcinoma\",0,0,\"NSCLC_large_cell\",\"NSCLC_adenocarcinoma\",\"NSCLC_adenocarcinoma\",\"NSCLC_squamous\",0,0,\"follicular\",\"tubular\",\"NSCLC_adenocarcinoma\",\"NSCLC_large_cell\",\"ERneg_HER2neg\",\"anaplastic\",0,\"clear_cell\",\"clear_cell\",\"ERneg_HER2neg\",0,0,0,\"b_cell\",0,\"NSCLC_adenocarcinoma\",0,\"t_cell\",0,\"blast_crisis\",\"NSCLC_squamous\",\"b_cell\",\"b_cell\",0,\"NSCLC_adenocarcinoma\",0,\"ERpos_HER2pos\",0,0,\"ERneg_HER2pos\",0,0,\"exocrine_adenocarcinoma\",\"ERpos_HER2pos\",0,\"endometrioid\",\"t_cell\",\"b_cell\",0,0,0,\"t_cell\",0,\"b_cell_burkitt\",\"NSCLC_adenocarcinoma\",0,\"endometrioid\",0,0,0,\"NSCLC_adenocarcinoma\",\"t_cell\",0,0,0,0,0,0,\"b_cell\",0,\"clear_cell\",0,\"t_cell\",0,\"mixed_endometrioid_clear_cell\",0,0,0,0,0,0,\"bladder_transitional_cell\",0,\"NSCLC_squamous\",\"intrahepatic\",0,0,0,\"NSCLC_large_cell\",\"t_cell\",0,\"blast_crisis\",0,0,0,0,0,\"mucinous\",0,0,0,0,0,\"t_cell\",0,0,0,0,0,0,0,0,0,0,\"follicular\",0,0,0,0,0,0,0,0,0,0,0,0,0,0,\"high_grade_serous\",0,\"alveolar\",\"med_group_3\",\"med_group_3\",\"t_cell\",0,\"t_cell\",0,0,\"b_cell_burkitt\",0,0,\"t_cell\",\"exocrine_adenocarcinoma\",\"NSCLC_mucoepidermoid\",0,0,0,0,\"oral\",0,0,0,\"exocrine_adenocarcinoma\",\"b_cell\",\"exocrine_adenocarcinoma\",\"t_cell\",\"NSCLC_squamous\",0,\"t_cell\",\"b_cell\",0,0,\"t_cell\",0,0,0,0,\"NSCLC_adenocarcinoma\",0,\"serous\",\"high_grade_serous\",\"exocrine_adenocarcinoma\",0,0,0,0,0,0,0,0,\"embryonal\",\"glioblastoma\",0,0,0,0,0,0,0,0,\"oral\",\"oral\",0,\"NSCLC_adenocarcinoma\",0,\"ERpos_HER2neg\",0,0,0,0,0,0,0,0,0,0,0,0,0,0,0,0,0,0,0,\"glioblastoma\",\"oral\",\"oral\",0,0,0,0,0,0,0,0,0,0,\"buccal_mucosa\",\"giant_cell\",\"exocrine_adenocarcinoma\",0,0,0,0,0,0,0,0,0,0,0,\"clear_cell\",0,0,\"exocrine_adenocarcinoma\",\"exocrine_adenocarcinoma\",\"exocrine_adenocarcinoma\",\"exocrine_adenocarcinoma\",\"exocrine_adenocarcinoma\",\"exocrine_adenocarcinoma\",\"exocrine_adenocarcinoma\",0,\"follicular\",0,0,\"ERneg_HER2neg\",\"ERneg_HER2neg\",\"ERneg_HER2neg\",\"ERneg_HER2neg\",\"ERpos_HER2pos\",0,0,0,0,0,0,\"bladder_transitional_cell\",\"bladder_transitional_cell\",\"bladder_transitional_cell\",\"bladder_transitional_cell\",\"bladder_transitional_cell\",\"bladder_transitional_cell\",\"bladder_transitional_cell\",\"bladder_transitional_cell\",0,\"serous\",0,0,0,0,0,\"b_cell_burkitt\",0,0,0,0,0,0,0,0,0,\"b_cell\",\"b_cell\",\"NSCLC_squamous\",0,\"extrahepatic\",0,0,\"b_cell\",0,0,0,\"keratoacanthoma\",0,0,0,0,\"papillary\",0,0,0,\"extrahepatic\",0,\"oral\",0,0,0,0,0,0,\"amelanotic\",0,0,0,0,0,0,0,0,0,\"glioblastoma\",\"glioblastoma\",\"glioblastoma\",\"DLBCL\",0,0,0,0,0,\"b_cell_burkitt\",\"b_cell\",\"b_cell\",0,\"b_cell\",0,0,0,0,0,\"b_cell\",0,\"extrahepatic\",0,\"b_cell\",\"lymphoblastic_lymphoma\",0,\"DLBCL\",0,\"b_cell\",0,0,0,\"b_cell\",\"b_cell\",\"t_cell\",\"t_cell\",\"alveolar\",\"alveolar\",\"embryonal\",\"embryonal\",\"alveolar\",\"ERneg_HER2neg\",0,\"intrahepatic\",0,0,0,0,0,0,0,\"tongue\",0,\"gingival\",\"oral\",0,0,\"t_cell\",\"b_cell\",\"b_cell\",0,0,0,0,\"NSCLC_adenocarcinoma\",0,0,0,0,0,0,0,0,0,0,0,0,0,0,0,0,0,0,0,0,0,0,0,0,0,0,0,0,0,0,0,0,\"NSCLC_squamous\",0,0,0,0,0,0,0,0,0,0,0,0,0,0,\"NSCLC_adenosquamous\",0,\"high_grade_serous\",\"signet_ring_cell\",0,0,0,0,\"serous\",0,\"papillary\",0,0,0,0,0,0,0,\"NSCLC_squamous\",\"NSCLC_adenocarcinoma\",\"NSCLC_large_cell\",\"amelanotic\",0,\"tubular\",0,0,\"exocrine_adenocarcinoma\",0,0,0,0,0,0,0,\"NSCLC_adenocarcinoma\",0,0,0,0,0,0,0,0,\"serous\",\"serous\",\"high_grade_serous\",\"NSCLC_adenocarcinoma\",\"exocrine_adenocarcinoma\",\"exocrine_adenocarcinoma\",\"clear_cell\",\"clear_cell\",\"clear_cell\",\"clear_cell\",\"clear_cell\",\"clear_cell\",0,0,0,0,0,0,0,0,0,0,\"chordoma_sacral\",0,0,0,\"ERpos_HER2neg\",\"b_cell\",0,\"b_cell\",0,0,\"b_cell_primary_effusion\",\"b_cell_primary_effusion\",\"t_cell\",0,0,0,\"b_cell_primary_effusion\",\"DLBCL\",\"t_cell\",\"glioblastoma\",\"glioblastoma\",\"glioblastoma\",\"glioblastoma\",\"glioblastoma\",\"glioblastoma\",\"glioblastoma\",\"glioblastoma\",\"glioblastoma\",\"b_cell_burkitt\",0,0,0,\"b_cell_burkitt\",\"intrahepatic\",\"b_cell\",0,\"t_cell_cutaneous\",\"b_cell\",0,0,\"oral\",0,0,0,0,\"laryngeal\",\"oral\",\"laryngeal\",\"b_cell_burkitt\",\"b_cell_primary_effusion\",\"b_cell_mediastinal_large\",\"DLBCL\",\"t_cell\",\"astrocytoma\",\"M6\",\"glioblastoma\",0,0,\"M4\",0,0,0,0,\"b_cell\",\"glioblastoma\",\"astrocytoma\",0,0,\"b_cell\",0,0,\"b_cell\",0,0,0,0,0,0,0,0,0,0,0,0,0,0,0,0,\"b_cell_burkitt\",0,0,0,\"laryngeal\",0,0,\"b_cell_burkitt\",\"b_cell\",0,\"astrocytoma\",0,0,\"b_cell\",\"b_cell\",0,0,0,0,\"b_cell\",\"M5\",0,0,0,\"NSCLC_adenocarcinoma\",0,0,0,0,0,0,0,0,0,0,0,0,0,0,0,0,0,0,0,0,0,0,0,0,0,0,0,0,\"hypopharyngeal\",\"b_cell_primary_effusion\",0,0,0,0],\"xaxis\":\"x\",\"yaxis\":\"y\",\"type\":\"histogram\"}],                        {\"template\":{\"data\":{\"bar\":[{\"error_x\":{\"color\":\"#2a3f5f\"},\"error_y\":{\"color\":\"#2a3f5f\"},\"marker\":{\"line\":{\"color\":\"#E5ECF6\",\"width\":0.5},\"pattern\":{\"fillmode\":\"overlay\",\"size\":10,\"solidity\":0.2}},\"type\":\"bar\"}],\"barpolar\":[{\"marker\":{\"line\":{\"color\":\"#E5ECF6\",\"width\":0.5},\"pattern\":{\"fillmode\":\"overlay\",\"size\":10,\"solidity\":0.2}},\"type\":\"barpolar\"}],\"carpet\":[{\"aaxis\":{\"endlinecolor\":\"#2a3f5f\",\"gridcolor\":\"white\",\"linecolor\":\"white\",\"minorgridcolor\":\"white\",\"startlinecolor\":\"#2a3f5f\"},\"baxis\":{\"endlinecolor\":\"#2a3f5f\",\"gridcolor\":\"white\",\"linecolor\":\"white\",\"minorgridcolor\":\"white\",\"startlinecolor\":\"#2a3f5f\"},\"type\":\"carpet\"}],\"choropleth\":[{\"colorbar\":{\"outlinewidth\":0,\"ticks\":\"\"},\"type\":\"choropleth\"}],\"contour\":[{\"colorbar\":{\"outlinewidth\":0,\"ticks\":\"\"},\"colorscale\":[[0.0,\"#0d0887\"],[0.1111111111111111,\"#46039f\"],[0.2222222222222222,\"#7201a8\"],[0.3333333333333333,\"#9c179e\"],[0.4444444444444444,\"#bd3786\"],[0.5555555555555556,\"#d8576b\"],[0.6666666666666666,\"#ed7953\"],[0.7777777777777778,\"#fb9f3a\"],[0.8888888888888888,\"#fdca26\"],[1.0,\"#f0f921\"]],\"type\":\"contour\"}],\"contourcarpet\":[{\"colorbar\":{\"outlinewidth\":0,\"ticks\":\"\"},\"type\":\"contourcarpet\"}],\"heatmap\":[{\"colorbar\":{\"outlinewidth\":0,\"ticks\":\"\"},\"colorscale\":[[0.0,\"#0d0887\"],[0.1111111111111111,\"#46039f\"],[0.2222222222222222,\"#7201a8\"],[0.3333333333333333,\"#9c179e\"],[0.4444444444444444,\"#bd3786\"],[0.5555555555555556,\"#d8576b\"],[0.6666666666666666,\"#ed7953\"],[0.7777777777777778,\"#fb9f3a\"],[0.8888888888888888,\"#fdca26\"],[1.0,\"#f0f921\"]],\"type\":\"heatmap\"}],\"heatmapgl\":[{\"colorbar\":{\"outlinewidth\":0,\"ticks\":\"\"},\"colorscale\":[[0.0,\"#0d0887\"],[0.1111111111111111,\"#46039f\"],[0.2222222222222222,\"#7201a8\"],[0.3333333333333333,\"#9c179e\"],[0.4444444444444444,\"#bd3786\"],[0.5555555555555556,\"#d8576b\"],[0.6666666666666666,\"#ed7953\"],[0.7777777777777778,\"#fb9f3a\"],[0.8888888888888888,\"#fdca26\"],[1.0,\"#f0f921\"]],\"type\":\"heatmapgl\"}],\"histogram\":[{\"marker\":{\"pattern\":{\"fillmode\":\"overlay\",\"size\":10,\"solidity\":0.2}},\"type\":\"histogram\"}],\"histogram2d\":[{\"colorbar\":{\"outlinewidth\":0,\"ticks\":\"\"},\"colorscale\":[[0.0,\"#0d0887\"],[0.1111111111111111,\"#46039f\"],[0.2222222222222222,\"#7201a8\"],[0.3333333333333333,\"#9c179e\"],[0.4444444444444444,\"#bd3786\"],[0.5555555555555556,\"#d8576b\"],[0.6666666666666666,\"#ed7953\"],[0.7777777777777778,\"#fb9f3a\"],[0.8888888888888888,\"#fdca26\"],[1.0,\"#f0f921\"]],\"type\":\"histogram2d\"}],\"histogram2dcontour\":[{\"colorbar\":{\"outlinewidth\":0,\"ticks\":\"\"},\"colorscale\":[[0.0,\"#0d0887\"],[0.1111111111111111,\"#46039f\"],[0.2222222222222222,\"#7201a8\"],[0.3333333333333333,\"#9c179e\"],[0.4444444444444444,\"#bd3786\"],[0.5555555555555556,\"#d8576b\"],[0.6666666666666666,\"#ed7953\"],[0.7777777777777778,\"#fb9f3a\"],[0.8888888888888888,\"#fdca26\"],[1.0,\"#f0f921\"]],\"type\":\"histogram2dcontour\"}],\"mesh3d\":[{\"colorbar\":{\"outlinewidth\":0,\"ticks\":\"\"},\"type\":\"mesh3d\"}],\"parcoords\":[{\"line\":{\"colorbar\":{\"outlinewidth\":0,\"ticks\":\"\"}},\"type\":\"parcoords\"}],\"pie\":[{\"automargin\":true,\"type\":\"pie\"}],\"scatter\":[{\"marker\":{\"colorbar\":{\"outlinewidth\":0,\"ticks\":\"\"}},\"type\":\"scatter\"}],\"scatter3d\":[{\"line\":{\"colorbar\":{\"outlinewidth\":0,\"ticks\":\"\"}},\"marker\":{\"colorbar\":{\"outlinewidth\":0,\"ticks\":\"\"}},\"type\":\"scatter3d\"}],\"scattercarpet\":[{\"marker\":{\"colorbar\":{\"outlinewidth\":0,\"ticks\":\"\"}},\"type\":\"scattercarpet\"}],\"scattergeo\":[{\"marker\":{\"colorbar\":{\"outlinewidth\":0,\"ticks\":\"\"}},\"type\":\"scattergeo\"}],\"scattergl\":[{\"marker\":{\"colorbar\":{\"outlinewidth\":0,\"ticks\":\"\"}},\"type\":\"scattergl\"}],\"scattermapbox\":[{\"marker\":{\"colorbar\":{\"outlinewidth\":0,\"ticks\":\"\"}},\"type\":\"scattermapbox\"}],\"scatterpolar\":[{\"marker\":{\"colorbar\":{\"outlinewidth\":0,\"ticks\":\"\"}},\"type\":\"scatterpolar\"}],\"scatterpolargl\":[{\"marker\":{\"colorbar\":{\"outlinewidth\":0,\"ticks\":\"\"}},\"type\":\"scatterpolargl\"}],\"scatterternary\":[{\"marker\":{\"colorbar\":{\"outlinewidth\":0,\"ticks\":\"\"}},\"type\":\"scatterternary\"}],\"surface\":[{\"colorbar\":{\"outlinewidth\":0,\"ticks\":\"\"},\"colorscale\":[[0.0,\"#0d0887\"],[0.1111111111111111,\"#46039f\"],[0.2222222222222222,\"#7201a8\"],[0.3333333333333333,\"#9c179e\"],[0.4444444444444444,\"#bd3786\"],[0.5555555555555556,\"#d8576b\"],[0.6666666666666666,\"#ed7953\"],[0.7777777777777778,\"#fb9f3a\"],[0.8888888888888888,\"#fdca26\"],[1.0,\"#f0f921\"]],\"type\":\"surface\"}],\"table\":[{\"cells\":{\"fill\":{\"color\":\"#EBF0F8\"},\"line\":{\"color\":\"white\"}},\"header\":{\"fill\":{\"color\":\"#C8D4E3\"},\"line\":{\"color\":\"white\"}},\"type\":\"table\"}]},\"layout\":{\"annotationdefaults\":{\"arrowcolor\":\"#2a3f5f\",\"arrowhead\":0,\"arrowwidth\":1},\"autotypenumbers\":\"strict\",\"coloraxis\":{\"colorbar\":{\"outlinewidth\":0,\"ticks\":\"\"}},\"colorscale\":{\"diverging\":[[0,\"#8e0152\"],[0.1,\"#c51b7d\"],[0.2,\"#de77ae\"],[0.3,\"#f1b6da\"],[0.4,\"#fde0ef\"],[0.5,\"#f7f7f7\"],[0.6,\"#e6f5d0\"],[0.7,\"#b8e186\"],[0.8,\"#7fbc41\"],[0.9,\"#4d9221\"],[1,\"#276419\"]],\"sequential\":[[0.0,\"#0d0887\"],[0.1111111111111111,\"#46039f\"],[0.2222222222222222,\"#7201a8\"],[0.3333333333333333,\"#9c179e\"],[0.4444444444444444,\"#bd3786\"],[0.5555555555555556,\"#d8576b\"],[0.6666666666666666,\"#ed7953\"],[0.7777777777777778,\"#fb9f3a\"],[0.8888888888888888,\"#fdca26\"],[1.0,\"#f0f921\"]],\"sequentialminus\":[[0.0,\"#0d0887\"],[0.1111111111111111,\"#46039f\"],[0.2222222222222222,\"#7201a8\"],[0.3333333333333333,\"#9c179e\"],[0.4444444444444444,\"#bd3786\"],[0.5555555555555556,\"#d8576b\"],[0.6666666666666666,\"#ed7953\"],[0.7777777777777778,\"#fb9f3a\"],[0.8888888888888888,\"#fdca26\"],[1.0,\"#f0f921\"]]},\"colorway\":[\"#636efa\",\"#EF553B\",\"#00cc96\",\"#ab63fa\",\"#FFA15A\",\"#19d3f3\",\"#FF6692\",\"#B6E880\",\"#FF97FF\",\"#FECB52\"],\"font\":{\"color\":\"#2a3f5f\"},\"geo\":{\"bgcolor\":\"white\",\"lakecolor\":\"white\",\"landcolor\":\"#E5ECF6\",\"showlakes\":true,\"showland\":true,\"subunitcolor\":\"white\"},\"hoverlabel\":{\"align\":\"left\"},\"hovermode\":\"closest\",\"mapbox\":{\"style\":\"light\"},\"paper_bgcolor\":\"white\",\"plot_bgcolor\":\"#E5ECF6\",\"polar\":{\"angularaxis\":{\"gridcolor\":\"white\",\"linecolor\":\"white\",\"ticks\":\"\"},\"bgcolor\":\"#E5ECF6\",\"radialaxis\":{\"gridcolor\":\"white\",\"linecolor\":\"white\",\"ticks\":\"\"}},\"scene\":{\"xaxis\":{\"backgroundcolor\":\"#E5ECF6\",\"gridcolor\":\"white\",\"gridwidth\":2,\"linecolor\":\"white\",\"showbackground\":true,\"ticks\":\"\",\"zerolinecolor\":\"white\"},\"yaxis\":{\"backgroundcolor\":\"#E5ECF6\",\"gridcolor\":\"white\",\"gridwidth\":2,\"linecolor\":\"white\",\"showbackground\":true,\"ticks\":\"\",\"zerolinecolor\":\"white\"},\"zaxis\":{\"backgroundcolor\":\"#E5ECF6\",\"gridcolor\":\"white\",\"gridwidth\":2,\"linecolor\":\"white\",\"showbackground\":true,\"ticks\":\"\",\"zerolinecolor\":\"white\"}},\"shapedefaults\":{\"line\":{\"color\":\"#2a3f5f\"}},\"ternary\":{\"aaxis\":{\"gridcolor\":\"white\",\"linecolor\":\"white\",\"ticks\":\"\"},\"baxis\":{\"gridcolor\":\"white\",\"linecolor\":\"white\",\"ticks\":\"\"},\"bgcolor\":\"#E5ECF6\",\"caxis\":{\"gridcolor\":\"white\",\"linecolor\":\"white\",\"ticks\":\"\"}},\"title\":{\"x\":0.05},\"xaxis\":{\"automargin\":true,\"gridcolor\":\"white\",\"linecolor\":\"white\",\"ticks\":\"\",\"title\":{\"standoff\":15},\"zerolinecolor\":\"white\",\"zerolinewidth\":2},\"yaxis\":{\"automargin\":true,\"gridcolor\":\"white\",\"linecolor\":\"white\",\"ticks\":\"\",\"title\":{\"standoff\":15},\"zerolinecolor\":\"white\",\"zerolinewidth\":2}}},\"xaxis\":{\"anchor\":\"y\",\"domain\":[0.0,1.0],\"title\":{\"text\":\"lineage_sub_subtype\"}},\"yaxis\":{\"anchor\":\"x\",\"domain\":[0.0,1.0],\"title\":{\"text\":\"count\"}},\"legend\":{\"tracegroupgap\":0},\"margin\":{\"t\":60},\"barmode\":\"relative\"},                        {\"responsive\": true}                    ).then(function(){\n",
              "                            \n",
              "var gd = document.getElementById('a7062435-4eb4-4db9-a67e-1728593a94f9');\n",
              "var x = new MutationObserver(function (mutations, observer) {{\n",
              "        var display = window.getComputedStyle(gd).display;\n",
              "        if (!display || display === 'none') {{\n",
              "            console.log([gd, 'removed!']);\n",
              "            Plotly.purge(gd);\n",
              "            observer.disconnect();\n",
              "        }}\n",
              "}});\n",
              "\n",
              "// Listen for the removal of the full notebook cells\n",
              "var notebookContainer = gd.closest('#notebook-container');\n",
              "if (notebookContainer) {{\n",
              "    x.observe(notebookContainer, {childList: true});\n",
              "}}\n",
              "\n",
              "// Listen for the clearing of the current output cell\n",
              "var outputEl = gd.closest('.output');\n",
              "if (outputEl) {{\n",
              "    x.observe(outputEl, {childList: true});\n",
              "}}\n",
              "\n",
              "                        })                };                            </script>        </div>\n",
              "</body>\n",
              "</html>"
            ]
          },
          "metadata": {}
        }
      ],
      "source": [
        "px.histogram(df, x = \"lineage_sub_subtype\")"
      ]
    },
    {
      "cell_type": "code",
      "execution_count": 19,
      "metadata": {
        "colab": {
          "base_uri": "https://localhost:8080/",
          "height": 542
        },
        "id": "9DncczQ6tfpR",
        "outputId": "f917f589-9ec5-4c46-9b81-601f462735bc"
      },
      "outputs": [
        {
          "output_type": "display_data",
          "data": {
            "text/html": [
              "<html>\n",
              "<head><meta charset=\"utf-8\" /></head>\n",
              "<body>\n",
              "    <div>            <script src=\"https://cdnjs.cloudflare.com/ajax/libs/mathjax/2.7.5/MathJax.js?config=TeX-AMS-MML_SVG\"></script><script type=\"text/javascript\">if (window.MathJax) {MathJax.Hub.Config({SVG: {font: \"STIX-Web\"}});}</script>                <script type=\"text/javascript\">window.PlotlyConfig = {MathJaxConfig: 'local'};</script>\n",
              "        <script src=\"https://cdn.plot.ly/plotly-2.8.3.min.js\"></script>                <div id=\"a9e879f9-a07f-43a8-8fcd-4778ef27378b\" class=\"plotly-graph-div\" style=\"height:525px; width:100%;\"></div>            <script type=\"text/javascript\">                                    window.PLOTLYENV=window.PLOTLYENV || {};                                    if (document.getElementById(\"a9e879f9-a07f-43a8-8fcd-4778ef27378b\")) {                    Plotly.newPlot(                        \"a9e879f9-a07f-43a8-8fcd-4778ef27378b\",                        [{\"alignmentgroup\":\"True\",\"bingroup\":\"x\",\"hovertemplate\":\"lineage_molecular_subtype=%{x}<br>count=%{y}<extra></extra>\",\"legendgroup\":\"\",\"marker\":{\"color\":\"#636efa\",\"pattern\":{\"shape\":\"\"}},\"name\":\"\",\"offsetgroup\":\"\",\"orientation\":\"v\",\"showlegend\":false,\"x\":[0,0,0,0,0,0,0,0,0,0,0,0,0,0,0,0,0,0,0,0,0,0,0,0,0,0,0,0,0,0,0,0,0,0,0,0,0,0,0,0,0,0,0,0,\"basal_B\",0,0,0,0,0,0,0,0,0,0,0,0,0,0,0,0,0,0,0,0,0,0,0,0,0,0,0,0,0,0,0,0,0,0,0,0,0,0,0,0,0,0,0,0,0,0,0,0,0,0,0,0,0,0,0,0,0,0,0,0,\"EWS_FLI\",\"EWS_FLI\",\"EWS_FLI\",\"EWS_FLI\",0,\"blank\",0,0,0,0,0,0,\"MYC_amp\",0,0,0,0,0,0,0,0,0,0,0,0,0,0,0,0,0,0,0,0,0,0,0,0,0,0,0,0,0,0,0,0,0,0,0,0,0,0,0,0,0,0,0,0,0,\"EWS_FLI\",0,0,0,0,\"MYCN_amp\",0,\"basal\",\"basal\",\"basal_A\",\"luminal\",\"basal\",0,0,0,0,0,0,0,0,0,0,0,0,0,0,0,0,0,0,0,0,0,0,0,0,0,0,0,0,0,0,0,0,0,0,0,0,0,0,0,0,0,0,0,0,0,0,0,0,0,0,0,0,0,0,0,0,0,0,0,0,0,0,0,0,0,0,0,0,0,0,\"PAX3_FKHR\",0,0,0,0,0,0,0,0,0,0,0,0,0,0,0,0,0,0,0,0,0,0,0,0,0,0,0,0,0,0,0,0,0,0,0,0,0,0,0,0,0,0,0,0,0,0,0,0,0,0,0,0,0,0,0,0,0,0,0,0,0,0,0,0,0,0,0,0,0,0,0,0,0,0,0,0,0,0,0,0,0,0,0,0,0,0,0,0,0,0,0,0,0,0,0,0,0,0,0,0,0,0,0,0,0,0,0,0,0,0,0,0,0,0,0,0,0,0,0,0,0,0,0,0,0,0,0,0,0,0,0,0,0,0,0,0,0,0,0,0,0,0,0,0,0,\"NF1\",0,0,0,0,0,0,0,0,0,0,0,0,0,0,0,0,0,0,0,0,0,0,\"HER2_amp\",0,\"luminal\",0,0,0,0,0,0,0,0,\"luminal\",0,0,0,0,0,0,0,0,\"EWS_FLI\",0,\"EWS_FLI\",0,\"luminal\",0,0,0,0,0,\"EWS_FLI\",0,0,\"MYC_exp\",0,0,0,0,0,0,0,0,0,0,0,0,0,0,0,0,0,\"MYCN_amp\",0,0,0,0,0,0,\"EWS_FLI\",0,0,0,0,0,\"MYC_amp\",0,\"luminal\",0,0,0,0,0,0,0,0,0,0,0,0,\"basal_A\",0,0,0,0,0,\"HER2_amp\",0,\"MYCN_amp\",0,0,0,0,0,0,0,0,0,0,0,0,\"MYCN_amp\",0,0,0,0,0,0,0,0,0,\"luminal\",\"basal_B\",0,0,0,0,0,0,0,0,0,0,0,0,0,0,0,0,0,0,0,0,0,0,0,0,0,0,0,0,0,0,0,0,0,0,0,\"basal_A\",0,0,0,0,0,0,\"MYCN_amp\",0,0,0,0,0,\"EWS_ERG\",\"non_MYC\",\"basal_B\",0,0,0,0,0,0,0,0,\"basal_A\",0,0,\"MYCN_amp\",0,0,0,0,0,0,0,0,0,0,0,0,0,0,0,0,\"HER2_amp\",0,0,0,0,0,0,0,0,0,\"luminal_HER2_amp\",\"MYCN_amp\",0,0,0,0,0,0,0,0,0,0,0,0,0,0,0,\"basal_A\",\"HER2_amp\",0,\"EWS_FLI\",0,0,0,0,0,0,0,0,0,0,0,0,0,0,0,0,0,0,0,0,0,0,0,0,0,\"MYCN_amp\",0,\"MYCN_amp\",0,0,0,0,0,0,0,0,0,0,0,0,0,\"luminal\",0,0,0,0,0,0,0,0,0,0,0,0,\"MYCN_amp\",0,0,0,\"luminal\",0,0,\"luminal\",0,0,0,0,0,0,0,0,0,0,0,0,0,\"MYCN_amp\",0,0,0,0,0,0,0,\"basal_A\",0,0,0,0,0,0,0,0,0,0,0,0,0,0,\"EWS_FLI\",0,0,0,0,0,0,0,0,0,0,0,0,0,0,0,0,0,0,0,0,0,0,0,0,0,0,0,0,0,0,0,0,0,0,0,0,0,0,0,0,0,0,0,0,0,0,0,0,0,0,0,0,0,0,0,0,0,0,0,0,0,0,0,0,0,0,0,0,0,0,0,0,0,0,0,0,0,0,0,0,0,0,0,0,0,0,0,0,0,0,0,0,0,0,0,\"EWS_FLI\",0,0,0,0,0,0,0,0,0,0,0,0,0,0,0,0,0,0,0,0,0,0,0,0,0,0,0,0,0,0,\"basal_A\",0,0,0,0,0,0,0,0,0,0,0,0,0,0,0,0,\"HER2_amp\",0,0,0,0,0,0,0,0,0,0,0,0,\"luminal\",0,0,0,0,\"basal_B\",0,0,0,0,0,0,0,0,0,0,0,0,0,0,0,0,0,0,0,0,0,0,0,0,0,0,0,0,0,0,0,0,0,0,0,0,0,0,0,0,0,0,0,0,\"basal_B\",0,0,\"basal_A\",0,0,0,0,0,0,0,0,0,0,0,0,0,0,\"basal_A\",0,0,0,0,0,0,0,0,0,0,0,0,0,0,0,0,0,0,0,0,0,0,0,\"basal_A\",0,0,0,0,0,0,0,0,0,0,0,0,0,0,0,0,0,0,0,0,0,\"basal_A\",0,0,0,0,0,0,0,\"basal_B\",0,0,0,0,0,0,0,0,0,\"basal_A\",0,0,0,0,0,0,0,0,0,\"basal_B\",0,0,\"HER2_amp\",0,0,0,0,0,0,0,0,0,0,0,0,0,0,0,0,0,0,0,0,0,0,0,0,0,\"HER2_amp\",0,0,0,\"HER2_amp\",0,0,0,0,0,0,0,\"basal_B\",0,0,0,0,0,0,0,\"non_MYC\",0,0,0,0,0,0,\"luminal\",0,0,0,0,0,0,0,0,0,0,0,0,0,0,0,0,0,0,\"MYCN_amp\",0,0,0,0,0,0,0,0,0,0,0,\"luminal\",0,0,0,0,0,0,0,0,0,\"HER2_amp\",0,0,0,0,0,0,0,0,0,0,0,0,0,0,0,0,0,0,\"basal_A\",0,0,0,0,\"basal_B\",\"basal_A\",0,\"basal_A\",0,0,0,0,0,0,0,0,0,0,0,0,0,0,0,\"HER2_amp\",0,0,0,0,0,0,0,0,0,0,0,0,0,0,0,0,0,0,\"MSI\",0,0,0,0,0,\"luminal_HER2_amp\",0,0,0,0,\"HER2_amp\",0,0,0,0,0,0,0,0,0,0,0,0,0,0,0,0,\"HER2_amp\",0,0,\"basal_A\",0,0,0,\"HER2_amp\",0,0,0,0,0,0,0,0,\"MSI\",0,0,0,0,0,0,\"MSI\",0,0,0,\"MSI\",0,\"MSI\",\"MSI\",\"MSI\",0,0,0,\"MSI\",0,0,0,\"MSI\",0,\"MSI\",0,\"MSI\",0,0,0,0,0,0,0,0,0,0,\"MSI\",0,0,\"MSI\",0,0,0,\"MSI\",0,0,0,0,0,0,0,\"MSI\",\"MSI\",\"MSI\",0,0,0,0,0,0,0,0,0,\"EWS_FLI\",0,0,\"EWS_FLI\",0,\"EWS_FLI\",\"EWS_FLI\",0,\"EWS_ERG\",0,0,0,0,0,0,\"MYC_amp\",\"MYC_amp\",0,0,0,0,0,0,0,0,0,0,0,0,0,0,0,0,\"MSI\",0,0,0,0,0,0,0,0,0,0,0,0,0,0,0,0,0,0,0,0,0,0,0,0,\"PAX3_FKHR\",\"MYCN_amp\",0,0,\"EWS_FLI\",\"EWS_FLI\",0,0,0,0,\"EWS_FLI\",0,0,0,0,0,0,0,\"non_MYC\",0,0,\"luminal\",0,0,0,0,0,0,\"EWS_ERG\",0,0,0,\"MYCN_amp\",\"MYCN_amp\",\"MYCN_amp\",0,0,0,0,0,0,0,0,0,0,0,0,0,\"MYCN_amp\",0,0,0,0,0,0,0,0,\"MYCN_amp\",0,0,0,0,0,0,0,0,\"MYCN_amp\",0,0,0,0,0,0,0,0,0,0,0,0,0,0,0,\"basal_B\",\"basal_B\",\"luminal\",\"basal\",\"luminal\",0,0,0,0,0,0,0,0,0,0,0,0,0,0,0,0,0,\"EWS_FLI\",\"EWS_FEV\",0,0,0,0,0,0,0,0,0,0,0,0,0,0,0,0,0,0,0,0,0,0,0,0,0,0,0,0,0,0,0,0,0,0,0,0,0,0,0,0,0,0,0,0,0,0,0,0,0,0,0,0,0,0,0,0,0,0,0,0,0,0,0,0,0,0,0,0,0,0,0,0,0,0,0,0,0,0,0,0,0,0,0,0,0,0,0,0,0,0,0,0,\"luminal\",0,0,0,0,0,0,0,0,0,0,0,0,0,0,0,0,0,0,0,0,0,0,0,0,0,0,0,0,0,0,0,0,0,0,0,0,0,0,0,0,0,0,0,0,0,0,0,0,0,0,0,0,0,0,0,0,0,0,0,0,0,0,0,0,0,0,0,0,0,0,0,0,0,0,0,0,0,0,0,0,0,0,0,0,0,0,0,0,0,0,0,0,0,0,0,0,0,0,0,0,0,0,0,0,0,0,0,0,0,0,0,0,0,0,0,0,0,0,0,0,0,0,0,0,0,0,0,0,0,0,0,0,0,0,0,0,0,0,0,\"luminal\",0,0,0,0,0,0,0,0,0,0,0,0,0,0,0,0,0,0,0,0,0,0,0,0,0,0,0,0,0,0,0,0,0,0,0,0,0,0,0,0,0,0,0,0,0,0,0,0,0,0,0,0,0,0,0,0,0,0,0,0,0,0,0,0,0,0,0,0,0,0,0,0,0,0,0,0,0,0,0,0,0,0,0,0,0,0,0,0,0,0,0,0,0,0,0,0,0,0,0,0,0,0,0,0,0,0,0,0,0,0,0,0,0,0,0,0,0,0,0,0,0,0,0,0,0,0,0,0,0,0,0,0,0,0,0,0,0,0,0,0,0,0],\"xaxis\":\"x\",\"yaxis\":\"y\",\"type\":\"histogram\"}],                        {\"template\":{\"data\":{\"bar\":[{\"error_x\":{\"color\":\"#2a3f5f\"},\"error_y\":{\"color\":\"#2a3f5f\"},\"marker\":{\"line\":{\"color\":\"#E5ECF6\",\"width\":0.5},\"pattern\":{\"fillmode\":\"overlay\",\"size\":10,\"solidity\":0.2}},\"type\":\"bar\"}],\"barpolar\":[{\"marker\":{\"line\":{\"color\":\"#E5ECF6\",\"width\":0.5},\"pattern\":{\"fillmode\":\"overlay\",\"size\":10,\"solidity\":0.2}},\"type\":\"barpolar\"}],\"carpet\":[{\"aaxis\":{\"endlinecolor\":\"#2a3f5f\",\"gridcolor\":\"white\",\"linecolor\":\"white\",\"minorgridcolor\":\"white\",\"startlinecolor\":\"#2a3f5f\"},\"baxis\":{\"endlinecolor\":\"#2a3f5f\",\"gridcolor\":\"white\",\"linecolor\":\"white\",\"minorgridcolor\":\"white\",\"startlinecolor\":\"#2a3f5f\"},\"type\":\"carpet\"}],\"choropleth\":[{\"colorbar\":{\"outlinewidth\":0,\"ticks\":\"\"},\"type\":\"choropleth\"}],\"contour\":[{\"colorbar\":{\"outlinewidth\":0,\"ticks\":\"\"},\"colorscale\":[[0.0,\"#0d0887\"],[0.1111111111111111,\"#46039f\"],[0.2222222222222222,\"#7201a8\"],[0.3333333333333333,\"#9c179e\"],[0.4444444444444444,\"#bd3786\"],[0.5555555555555556,\"#d8576b\"],[0.6666666666666666,\"#ed7953\"],[0.7777777777777778,\"#fb9f3a\"],[0.8888888888888888,\"#fdca26\"],[1.0,\"#f0f921\"]],\"type\":\"contour\"}],\"contourcarpet\":[{\"colorbar\":{\"outlinewidth\":0,\"ticks\":\"\"},\"type\":\"contourcarpet\"}],\"heatmap\":[{\"colorbar\":{\"outlinewidth\":0,\"ticks\":\"\"},\"colorscale\":[[0.0,\"#0d0887\"],[0.1111111111111111,\"#46039f\"],[0.2222222222222222,\"#7201a8\"],[0.3333333333333333,\"#9c179e\"],[0.4444444444444444,\"#bd3786\"],[0.5555555555555556,\"#d8576b\"],[0.6666666666666666,\"#ed7953\"],[0.7777777777777778,\"#fb9f3a\"],[0.8888888888888888,\"#fdca26\"],[1.0,\"#f0f921\"]],\"type\":\"heatmap\"}],\"heatmapgl\":[{\"colorbar\":{\"outlinewidth\":0,\"ticks\":\"\"},\"colorscale\":[[0.0,\"#0d0887\"],[0.1111111111111111,\"#46039f\"],[0.2222222222222222,\"#7201a8\"],[0.3333333333333333,\"#9c179e\"],[0.4444444444444444,\"#bd3786\"],[0.5555555555555556,\"#d8576b\"],[0.6666666666666666,\"#ed7953\"],[0.7777777777777778,\"#fb9f3a\"],[0.8888888888888888,\"#fdca26\"],[1.0,\"#f0f921\"]],\"type\":\"heatmapgl\"}],\"histogram\":[{\"marker\":{\"pattern\":{\"fillmode\":\"overlay\",\"size\":10,\"solidity\":0.2}},\"type\":\"histogram\"}],\"histogram2d\":[{\"colorbar\":{\"outlinewidth\":0,\"ticks\":\"\"},\"colorscale\":[[0.0,\"#0d0887\"],[0.1111111111111111,\"#46039f\"],[0.2222222222222222,\"#7201a8\"],[0.3333333333333333,\"#9c179e\"],[0.4444444444444444,\"#bd3786\"],[0.5555555555555556,\"#d8576b\"],[0.6666666666666666,\"#ed7953\"],[0.7777777777777778,\"#fb9f3a\"],[0.8888888888888888,\"#fdca26\"],[1.0,\"#f0f921\"]],\"type\":\"histogram2d\"}],\"histogram2dcontour\":[{\"colorbar\":{\"outlinewidth\":0,\"ticks\":\"\"},\"colorscale\":[[0.0,\"#0d0887\"],[0.1111111111111111,\"#46039f\"],[0.2222222222222222,\"#7201a8\"],[0.3333333333333333,\"#9c179e\"],[0.4444444444444444,\"#bd3786\"],[0.5555555555555556,\"#d8576b\"],[0.6666666666666666,\"#ed7953\"],[0.7777777777777778,\"#fb9f3a\"],[0.8888888888888888,\"#fdca26\"],[1.0,\"#f0f921\"]],\"type\":\"histogram2dcontour\"}],\"mesh3d\":[{\"colorbar\":{\"outlinewidth\":0,\"ticks\":\"\"},\"type\":\"mesh3d\"}],\"parcoords\":[{\"line\":{\"colorbar\":{\"outlinewidth\":0,\"ticks\":\"\"}},\"type\":\"parcoords\"}],\"pie\":[{\"automargin\":true,\"type\":\"pie\"}],\"scatter\":[{\"marker\":{\"colorbar\":{\"outlinewidth\":0,\"ticks\":\"\"}},\"type\":\"scatter\"}],\"scatter3d\":[{\"line\":{\"colorbar\":{\"outlinewidth\":0,\"ticks\":\"\"}},\"marker\":{\"colorbar\":{\"outlinewidth\":0,\"ticks\":\"\"}},\"type\":\"scatter3d\"}],\"scattercarpet\":[{\"marker\":{\"colorbar\":{\"outlinewidth\":0,\"ticks\":\"\"}},\"type\":\"scattercarpet\"}],\"scattergeo\":[{\"marker\":{\"colorbar\":{\"outlinewidth\":0,\"ticks\":\"\"}},\"type\":\"scattergeo\"}],\"scattergl\":[{\"marker\":{\"colorbar\":{\"outlinewidth\":0,\"ticks\":\"\"}},\"type\":\"scattergl\"}],\"scattermapbox\":[{\"marker\":{\"colorbar\":{\"outlinewidth\":0,\"ticks\":\"\"}},\"type\":\"scattermapbox\"}],\"scatterpolar\":[{\"marker\":{\"colorbar\":{\"outlinewidth\":0,\"ticks\":\"\"}},\"type\":\"scatterpolar\"}],\"scatterpolargl\":[{\"marker\":{\"colorbar\":{\"outlinewidth\":0,\"ticks\":\"\"}},\"type\":\"scatterpolargl\"}],\"scatterternary\":[{\"marker\":{\"colorbar\":{\"outlinewidth\":0,\"ticks\":\"\"}},\"type\":\"scatterternary\"}],\"surface\":[{\"colorbar\":{\"outlinewidth\":0,\"ticks\":\"\"},\"colorscale\":[[0.0,\"#0d0887\"],[0.1111111111111111,\"#46039f\"],[0.2222222222222222,\"#7201a8\"],[0.3333333333333333,\"#9c179e\"],[0.4444444444444444,\"#bd3786\"],[0.5555555555555556,\"#d8576b\"],[0.6666666666666666,\"#ed7953\"],[0.7777777777777778,\"#fb9f3a\"],[0.8888888888888888,\"#fdca26\"],[1.0,\"#f0f921\"]],\"type\":\"surface\"}],\"table\":[{\"cells\":{\"fill\":{\"color\":\"#EBF0F8\"},\"line\":{\"color\":\"white\"}},\"header\":{\"fill\":{\"color\":\"#C8D4E3\"},\"line\":{\"color\":\"white\"}},\"type\":\"table\"}]},\"layout\":{\"annotationdefaults\":{\"arrowcolor\":\"#2a3f5f\",\"arrowhead\":0,\"arrowwidth\":1},\"autotypenumbers\":\"strict\",\"coloraxis\":{\"colorbar\":{\"outlinewidth\":0,\"ticks\":\"\"}},\"colorscale\":{\"diverging\":[[0,\"#8e0152\"],[0.1,\"#c51b7d\"],[0.2,\"#de77ae\"],[0.3,\"#f1b6da\"],[0.4,\"#fde0ef\"],[0.5,\"#f7f7f7\"],[0.6,\"#e6f5d0\"],[0.7,\"#b8e186\"],[0.8,\"#7fbc41\"],[0.9,\"#4d9221\"],[1,\"#276419\"]],\"sequential\":[[0.0,\"#0d0887\"],[0.1111111111111111,\"#46039f\"],[0.2222222222222222,\"#7201a8\"],[0.3333333333333333,\"#9c179e\"],[0.4444444444444444,\"#bd3786\"],[0.5555555555555556,\"#d8576b\"],[0.6666666666666666,\"#ed7953\"],[0.7777777777777778,\"#fb9f3a\"],[0.8888888888888888,\"#fdca26\"],[1.0,\"#f0f921\"]],\"sequentialminus\":[[0.0,\"#0d0887\"],[0.1111111111111111,\"#46039f\"],[0.2222222222222222,\"#7201a8\"],[0.3333333333333333,\"#9c179e\"],[0.4444444444444444,\"#bd3786\"],[0.5555555555555556,\"#d8576b\"],[0.6666666666666666,\"#ed7953\"],[0.7777777777777778,\"#fb9f3a\"],[0.8888888888888888,\"#fdca26\"],[1.0,\"#f0f921\"]]},\"colorway\":[\"#636efa\",\"#EF553B\",\"#00cc96\",\"#ab63fa\",\"#FFA15A\",\"#19d3f3\",\"#FF6692\",\"#B6E880\",\"#FF97FF\",\"#FECB52\"],\"font\":{\"color\":\"#2a3f5f\"},\"geo\":{\"bgcolor\":\"white\",\"lakecolor\":\"white\",\"landcolor\":\"#E5ECF6\",\"showlakes\":true,\"showland\":true,\"subunitcolor\":\"white\"},\"hoverlabel\":{\"align\":\"left\"},\"hovermode\":\"closest\",\"mapbox\":{\"style\":\"light\"},\"paper_bgcolor\":\"white\",\"plot_bgcolor\":\"#E5ECF6\",\"polar\":{\"angularaxis\":{\"gridcolor\":\"white\",\"linecolor\":\"white\",\"ticks\":\"\"},\"bgcolor\":\"#E5ECF6\",\"radialaxis\":{\"gridcolor\":\"white\",\"linecolor\":\"white\",\"ticks\":\"\"}},\"scene\":{\"xaxis\":{\"backgroundcolor\":\"#E5ECF6\",\"gridcolor\":\"white\",\"gridwidth\":2,\"linecolor\":\"white\",\"showbackground\":true,\"ticks\":\"\",\"zerolinecolor\":\"white\"},\"yaxis\":{\"backgroundcolor\":\"#E5ECF6\",\"gridcolor\":\"white\",\"gridwidth\":2,\"linecolor\":\"white\",\"showbackground\":true,\"ticks\":\"\",\"zerolinecolor\":\"white\"},\"zaxis\":{\"backgroundcolor\":\"#E5ECF6\",\"gridcolor\":\"white\",\"gridwidth\":2,\"linecolor\":\"white\",\"showbackground\":true,\"ticks\":\"\",\"zerolinecolor\":\"white\"}},\"shapedefaults\":{\"line\":{\"color\":\"#2a3f5f\"}},\"ternary\":{\"aaxis\":{\"gridcolor\":\"white\",\"linecolor\":\"white\",\"ticks\":\"\"},\"baxis\":{\"gridcolor\":\"white\",\"linecolor\":\"white\",\"ticks\":\"\"},\"bgcolor\":\"#E5ECF6\",\"caxis\":{\"gridcolor\":\"white\",\"linecolor\":\"white\",\"ticks\":\"\"}},\"title\":{\"x\":0.05},\"xaxis\":{\"automargin\":true,\"gridcolor\":\"white\",\"linecolor\":\"white\",\"ticks\":\"\",\"title\":{\"standoff\":15},\"zerolinecolor\":\"white\",\"zerolinewidth\":2},\"yaxis\":{\"automargin\":true,\"gridcolor\":\"white\",\"linecolor\":\"white\",\"ticks\":\"\",\"title\":{\"standoff\":15},\"zerolinecolor\":\"white\",\"zerolinewidth\":2}}},\"xaxis\":{\"anchor\":\"y\",\"domain\":[0.0,1.0],\"title\":{\"text\":\"lineage_molecular_subtype\"}},\"yaxis\":{\"anchor\":\"x\",\"domain\":[0.0,1.0],\"title\":{\"text\":\"count\"}},\"legend\":{\"tracegroupgap\":0},\"margin\":{\"t\":60},\"barmode\":\"relative\"},                        {\"responsive\": true}                    ).then(function(){\n",
              "                            \n",
              "var gd = document.getElementById('a9e879f9-a07f-43a8-8fcd-4778ef27378b');\n",
              "var x = new MutationObserver(function (mutations, observer) {{\n",
              "        var display = window.getComputedStyle(gd).display;\n",
              "        if (!display || display === 'none') {{\n",
              "            console.log([gd, 'removed!']);\n",
              "            Plotly.purge(gd);\n",
              "            observer.disconnect();\n",
              "        }}\n",
              "}});\n",
              "\n",
              "// Listen for the removal of the full notebook cells\n",
              "var notebookContainer = gd.closest('#notebook-container');\n",
              "if (notebookContainer) {{\n",
              "    x.observe(notebookContainer, {childList: true});\n",
              "}}\n",
              "\n",
              "// Listen for the clearing of the current output cell\n",
              "var outputEl = gd.closest('.output');\n",
              "if (outputEl) {{\n",
              "    x.observe(outputEl, {childList: true});\n",
              "}}\n",
              "\n",
              "                        })                };                            </script>        </div>\n",
              "</body>\n",
              "</html>"
            ]
          },
          "metadata": {}
        }
      ],
      "source": [
        "px.histogram(df, x = \"lineage_molecular_subtype\")"
      ]
    },
    {
      "cell_type": "code",
      "execution_count": 20,
      "metadata": {
        "colab": {
          "base_uri": "https://localhost:8080/",
          "height": 542
        },
        "id": "JovG-b1ItfpR",
        "outputId": "82dd24fc-cc4c-4f36-e243-c40bd8cb68b4"
      },
      "outputs": [
        {
          "output_type": "display_data",
          "data": {
            "text/html": [
              "<html>\n",
              "<head><meta charset=\"utf-8\" /></head>\n",
              "<body>\n",
              "    <div>            <script src=\"https://cdnjs.cloudflare.com/ajax/libs/mathjax/2.7.5/MathJax.js?config=TeX-AMS-MML_SVG\"></script><script type=\"text/javascript\">if (window.MathJax) {MathJax.Hub.Config({SVG: {font: \"STIX-Web\"}});}</script>                <script type=\"text/javascript\">window.PlotlyConfig = {MathJaxConfig: 'local'};</script>\n",
              "        <script src=\"https://cdn.plot.ly/plotly-2.8.3.min.js\"></script>                <div id=\"da186183-97ae-4921-9168-094f909575c9\" class=\"plotly-graph-div\" style=\"height:525px; width:100%;\"></div>            <script type=\"text/javascript\">                                    window.PLOTLYENV=window.PLOTLYENV || {};                                    if (document.getElementById(\"da186183-97ae-4921-9168-094f909575c9\")) {                    Plotly.newPlot(                        \"da186183-97ae-4921-9168-094f909575c9\",                        [{\"alignmentgroup\":\"True\",\"bingroup\":\"x\",\"hovertemplate\":\"default_growth_pattern=%{x}<br>count=%{y}<extra></extra>\",\"legendgroup\":\"\",\"marker\":{\"color\":\"#636efa\",\"pattern\":{\"shape\":\"\"}},\"name\":\"\",\"offsetgroup\":\"\",\"orientation\":\"v\",\"showlegend\":false,\"x\":[0,0,0,\"2D: adherent\",0,\"2D: adherent\",0,0,\"2D: adherent\",0,\"2D: suspension\",\"2D: adherent\",\"2D: suspension\",0,\"2D: adherent\",0,\"2D: adherent\",\"2D: suspension\",\"2D: adherent\",\"2D: suspension\",\"2D: suspension\",\"2D: mixed adherent and suspension\",\"2D: suspension\",0,0,0,0,0,\"2D: adherent\",0,\"2D: adherent\",\"2D: suspension\",\"2D: adherent\",0,0,0,\"2D: adherent\",\"2D: adherent\",\"2D: adherent\",0,0,\"2D: adherent\",\"2D: adherent\",\"2D: suspension\",\"2D: adherent\",\"2D: suspension\",0,\"2D: adherent\",\"2D: suspension\",0,0,0,\"2D: adherent\",0,0,0,0,\"2D: adherent\",\"2D: suspension\",0,0,0,0,\"2D: suspension\",0,0,\"2D: suspension\",\"2D: adherent\",\"2D: adherent\",\"2D: adherent\",0,0,\"2D: suspension\",0,\"2D: suspension\",\"2D: suspension\",0,0,0,0,0,\"2D: adherent\",0,\"2D: suspension\",0,0,\"2D: suspension\",\"2D: mixed adherent and suspension\",\"2D: adherent\",0,\"2D: adherent\",\"2D: adherent\",\"2D: adherent\",0,\"2D: adherent\",\"2D: adherent\",\"2D: adherent\",0,\"2D: mixed adherent and suspension\",\"2D: adherent\",0,\"2D: suspension\",0,\"2D: adherent\",0,0,0,0,0,0,0,0,\"2D: suspension\",\"2D: suspension\",0,0,0,0,0,0,0,0,0,0,0,\"2D: adherent\",0,\"2D: adherent\",0,0,0,0,0,\"2D: suspension\",0,0,0,0,0,0,0,0,0,\"2D: suspension\",0,0,0,0,0,0,0,0,\"2D: adherent\",0,0,0,0,0,\"2D: adherent\",0,\"2D: mixed adherent and suspension\",0,0,0,\"2D: adherent\",\"2D: adherent\",\"2D: adherent\",\"2D: adherent\",\"2D: adherent\",\"2D: adherent\",\"2D: adherent\",\"2D: adherent\",\"2D: adherent\",\"2D: adherent\",\"2D: adherent\",\"2D: adherent\",\"2D: adherent\",\"2D: adherent\",\"2D: adherent\",\"2D: adherent\",\"2D: adherent\",\"2D: adherent\",\"2D: adherent\",\"2D: adherent\",\"2D: adherent\",\"2D: adherent\",\"2D: adherent\",\"2D: adherent\",\"2D: adherent\",\"2D: adherent\",\"2D: mixed adherent and suspension\",\"2D: adherent\",\"2D: suspension\",\"2D: adherent\",\"2D: suspension\",\"2D: adherent\",\"2D: suspension\",\"2D: adherent\",\"2D: adherent\",\"2D: adherent\",\"2D: adherent\",\"2D: adherent\",\"2D: adherent\",\"2D: adherent\",\"2D: adherent\",\"2D: adherent\",\"2D: adherent\",\"2D: adherent\",\"2D: suspension\",\"2D: suspension\",\"2D: adherent\",\"2D: adherent\",\"2D: adherent\",\"2D: adherent\",\"2D: suspension\",\"2D: suspension\",\"2D: suspension\",\"2D: adherent\",\"2D: adherent\",\"2D: adherent\",\"2D: adherent\",\"2D: adherent\",\"2D: suspension\",\"2D: suspension\",\"2D: adherent\",\"2D: adherent\",\"2D: adherent\",\"2D: adherent\",\"2D: suspension\",\"2D: adherent\",\"2D: adherent\",\"2D: adherent\",\"2D: suspension\",\"2D: adherent\",\"2D: adherent\",\"2D: adherent\",\"2D: adherent\",\"2D: adherent\",\"2D: adherent\",\"2D: adherent\",\"2D: adherent\",\"2D: adherent\",\"2D: suspension\",\"2D: adherent\",\"2D: adherent\",\"2D: adherent\",\"2D: adherent\",\"2D: adherent\",\"2D: adherent\",\"2D: adherent\",\"2D: adherent\",\"2D: adherent\",\"2D: adherent\",\"2D: adherent\",\"2D: adherent\",\"2D: adherent\",\"2D: adherent\",\"2D: adherent\",\"2D: adherent\",\"2D: adherent\",0,\"2D: adherent\",\"2D: adherent\",\"2D: adherent\",\"2D: adherent\",\"2D: adherent\",\"2D: adherent\",\"2D: adherent\",\"2D: adherent\",\"2D: adherent\",\"2D: adherent\",\"2D: adherent\",\"2D: adherent\",\"2D: adherent\",\"2D: adherent\",\"2D: adherent\",\"2D: adherent\",\"2D: adherent\",\"2D: adherent\",\"2D: adherent\",\"2D: adherent\",\"2D: adherent\",0,\"2D: adherent\",\"2D: adherent\",\"2D: adherent\",\"2D: adherent\",\"2D: adherent\",\"2D: adherent\",\"2D: adherent\",\"2D: adherent\",\"2D: adherent\",\"2D: adherent\",\"2D: adherent\",\"2D: adherent\",\"2D: adherent\",\"2D: adherent\",\"2D: adherent\",\"2D: adherent\",\"2D: adherent\",\"2D: adherent\",\"2D: adherent\",\"2D: adherent\",\"2D: adherent\",\"2D: adherent\",\"2D: adherent\",\"2D: adherent\",\"2D: adherent\",\"2D: adherent\",\"2D: adherent\",\"2D: adherent\",\"2D: adherent\",\"2D: adherent\",\"2D: adherent\",\"2D: adherent\",\"2D: adherent\",\"2D: adherent\",\"2D: adherent\",\"2D: suspension\",\"2D: suspension\",\"2D: adherent\",\"2D: adherent\",\"2D: adherent\",\"2D: adherent\",\"2D: adherent\",0,0,0,0,0,0,0,0,0,0,0,0,0,0,0,0,0,0,0,0,0,0,0,0,0,0,0,0,0,0,0,0,0,0,0,0,0,0,0,0,\"2D: adherent\",\"2D: adherent\",\"2D: adherent\",\"2D: adherent\",\"2D: adherent\",\"2D: adherent\",\"2D: adherent\",\"2D: adherent\",\"2D: adherent\",\"2D: adherent\",\"2D: adherent\",\"2D: adherent\",\"2D: adherent\",\"2D: adherent\",\"2D: adherent\",\"2D: adherent\",\"2D: adherent\",\"2D: adherent\",\"2D: adherent\",\"2D: adherent\",\"2D: adherent\",\"2D: adherent\",\"2D: adherent\",\"2D: adherent\",\"2D: adherent\",\"2D: adherent\",\"2D: adherent\",\"2D: adherent\",\"2D: adherent\",\"2D: adherent\",\"2D: adherent\",\"2D: adherent\",0,0,0,\"2D: adherent\",\"2D: suspension\",0,\"2D: suspension\",\"2D: suspension\",\"2D: adherent\",\"2D: adherent\",0,\"2D: adherent\",0,\"2D: adherent\",0,\"2D: adherent\",\"2D: mixed adherent and suspension\",\"2D: adherent\",\"2D: adherent\",\"2D: adherent\",0,\"2D: adherent\",\"2D: adherent\",\"2D: adherent\",\"2D: suspension\",0,\"2D: adherent\",\"2D: adherent\",\"2D: adherent\",0,\"2D: adherent\",\"2D: adherent\",0,\"2D: adherent\",0,0,\"2D: suspension\",\"2D: adherent\",\"2D: adherent\",\"2D: adherent\",\"2D: adherent\",\"2D: mixed adherent and suspension\",\"2D: suspension\",\"2D: adherent\",0,\"2D: adherent\",0,\"2D: adherent\",\"2D: suspension\",\"2D: adherent\",\"2D: adherent\",0,0,\"2D: adherent\",\"2D: suspension\",\"2D: adherent\",\"2D: suspension\",\"2D: adherent\",\"2D: adherent\",0,\"2D: adherent\",\"2D: adherent\",\"2D: mixed adherent and suspension\",\"2D: adherent\",\"2D: mixed adherent and suspension\",0,0,\"2D: adherent\",\"2D: adherent\",0,0,\"2D: adherent\",\"2D: adherent\",\"2D: adherent\",0,0,\"2D: adherent\",\"2D: adherent\",\"2D: adherent\",\"2D: adherent\",\"2D: adherent\",0,\"2D: adherent\",\"2D: adherent\",\"2D: adherent\",0,\"2D: adherent\",\"2D: suspension\",0,\"2D: adherent\",\"2D: suspension\",0,0,\"2D: adherent\",0,\"2D: adherent\",\"2D: mixed adherent and suspension\",0,0,0,\"2D: adherent\",\"2D: adherent\",0,\"2D: adherent\",\"2D: adherent\",\"2D: mixed adherent and suspension\",\"2D: adherent\",\"2D: suspension\",\"2D: adherent\",0,0,\"2D: suspension\",\"2D: adherent\",0,\"2D: adherent\",\"2D: suspension\",\"2D: adherent\",\"2D: suspension\",\"2D: adherent\",\"2D: mixed adherent and suspension\",\"2D: adherent\",0,\"2D: adherent\",0,0,\"2D: adherent\",\"2D: suspension\",\"2D: adherent\",\"2D: adherent\",\"2D: adherent\",\"2D: adherent\",\"2D: suspension\",\"2D: adherent\",\"2D: adherent\",\"2D: adherent\",0,\"2D: suspension\",0,0,\"2D: adherent\",\"2D: suspension\",\"2D: adherent\",\"2D: adherent\",\"2D: adherent\",\"2D: adherent\",\"2D: adherent\",\"2D: adherent\",0,\"2D: adherent\",\"2D: mixed adherent and suspension\",\"2D: adherent\",\"2D: adherent\",\"2D: adherent\",\"2D: suspension\",\"2D: adherent\",\"2D: adherent\",0,\"2D: adherent\",\"2D: adherent\",0,0,\"2D: adherent\",\"2D: suspension\",\"2D: suspension\",\"2D: suspension\",\"2D: suspension\",0,\"2D: adherent\",\"2D: adherent\",\"2D: adherent\",\"2D: suspension\",\"2D: mixed adherent and suspension\",0,0,0,0,0,\"2D: mixed adherent and suspension\",\"2D: adherent\",\"2D: adherent\",\"2D: mixed adherent and suspension\",\"2D: adherent\",0,\"2D: adherent\",0,\"2D: adherent\",\"2D: mixed adherent and suspension\",\"2D: adherent\",\"2D: adherent\",\"2D: adherent\",\"2D: suspension\",\"2D: mixed adherent and suspension\",\"2D: adherent\",0,0,\"2D: suspension\",\"2D: adherent\",\"2D: adherent\",\"2D: adherent\",\"2D: adherent\",\"2D: adherent\",\"2D: adherent\",\"2D: adherent\",\"2D: adherent\",\"2D: adherent\",\"2D: adherent\",\"2D: adherent\",0,\"2D: adherent\",\"2D: adherent\",\"2D: adherent\",0,\"2D: adherent\",\"2D: suspension\",\"2D: adherent\",0,\"2D: adherent\",0,\"2D: suspension\",0,\"2D: adherent\",\"2D: adherent\",0,0,\"2D: adherent\",\"2D: adherent\",0,\"2D: suspension\",0,0,\"2D: adherent\",0,\"2D: adherent\",\"2D: mixed adherent and suspension\",0,\"2D: adherent\",0,\"2D: adherent\",0,\"2D: adherent\",0,\"2D: mixed adherent and suspension\",0,0,0,0,\"2D: adherent\",\"2D: adherent\",0,\"2D: adherent\",0,0,0,0,0,\"2D: adherent\",0,0,\"2D: adherent\",0,\"2D: adherent\",\"2D: adherent\",\"2D: adherent\",\"2D: adherent\",\"2D: adherent\",\"2D: suspension\",\"2D: mixed adherent and suspension\",\"2D: adherent\",0,0,\"2D: adherent\",0,0,\"2D: adherent\",\"2D: adherent\",\"2D: adherent\",0,0,\"2D: adherent\",\"2D: adherent\",0,\"2D: adherent\",\"2D: adherent\",\"2D: suspension\",\"2D: adherent\",0,0,0,0,\"2D: adherent\",\"2D: adherent\",0,0,\"2D: adherent\",0,\"2D: adherent\",\"2D: adherent\",\"2D: adherent\",\"2D: adherent\",0,0,0,\"2D: adherent\",\"2D: adherent\",0,\"2D: suspension\",0,\"2D: adherent\",0,\"2D: adherent\",\"2D: suspension\",0,\"2D: adherent\",\"2D: suspension\",\"2D: adherent\",0,0,\"2D: suspension\",0,\"2D: suspension\",0,\"2D: suspension\",\"2D: adherent\",0,\"2D: adherent\",0,\"2D: adherent\",\"2D: adherent\",\"2D: suspension\",\"2D: adherent\",\"2D: suspension\",\"2D: adherent\",\"2D: adherent\",\"2D: suspension\",\"2D: suspension\",\"2D: adherent\",\"2D: adherent\",\"2D: adherent\",\"2D: adherent\",\"2D: adherent\",\"2D: suspension\",\"2D: adherent\",\"2D: adherent\",0,\"2D: adherent\",\"2D: adherent\",0,\"2D: adherent\",\"2D: adherent\",0,\"2D: adherent\",\"2D: suspension\",0,0,\"2D: mixed adherent and suspension\",\"2D: adherent\",\"2D: adherent\",\"2D: adherent\",\"2D: adherent\",\"2D: adherent\",\"2D: adherent\",\"2D: adherent\",\"2D: adherent\",\"2D: adherent\",\"2D: adherent\",\"2D: adherent\",0,0,\"2D: suspension\",\"2D: adherent\",\"2D: adherent\",0,0,\"2D: suspension\",\"2D: suspension\",\"2D: adherent\",\"2D: adherent\",0,\"2D: suspension\",\"2D: adherent\",0,\"2D: suspension\",\"2D: adherent\",\"2D: mixed adherent and suspension\",\"2D: adherent\",0,\"2D: adherent\",0,\"2D: adherent\",0,\"2D: adherent\",\"2D: adherent\",\"2D: adherent\",0,0,0,\"2D: adherent\",\"2D: adherent\",0,0,\"2D: adherent\",0,\"2D: adherent\",\"2D: adherent\",\"2D: suspension\",0,\"2D: adherent\",\"2D: adherent\",\"2D: adherent\",0,0,\"2D: adherent\",\"2D: adherent\",0,\"2D: mixed adherent and suspension\",\"2D: adherent\",0,0,\"2D: mixed adherent and suspension\",\"2D: adherent\",\"2D: adherent\",\"2D: adherent\",0,\"2D: adherent\",\"2D: suspension\",0,\"2D: adherent\",0,\"2D: adherent\",\"2D: adherent\",\"2D: adherent\",\"2D: adherent\",\"2D: suspension\",0,0,0,\"2D: adherent\",\"2D: adherent\",\"2D: adherent\",0,\"2D: suspension\",\"2D: adherent\",0,\"2D: suspension\",\"2D: adherent\",\"2D: adherent\",0,\"2D: suspension\",0,\"2D: adherent\",0,\"2D: adherent\",0,0,\"2D: adherent\",\"2D: adherent\",0,\"2D: adherent\",0,\"2D: adherent\",\"2D: adherent\",\"2D: adherent\",0,\"2D: adherent\",\"2D: adherent\",0,0,\"2D: adherent\",\"2D: adherent\",0,\"2D: adherent\",0,\"2D: adherent\",\"2D: adherent\",0,\"2D: adherent\",0,0,\"2D: adherent\",\"2D: suspension\",\"2D: adherent\",\"2D: adherent\",\"2D: adherent\",\"2D: adherent\",\"2D: suspension\",\"2D: adherent\",\"2D: mixed adherent and suspension\",0,0,0,\"2D: adherent\",\"2D: adherent\",\"2D: adherent\",0,\"2D: suspension\",\"2D: adherent\",0,\"2D: adherent\",\"2D: adherent\",\"2D: adherent\",\"2D: adherent\",0,\"2D: suspension\",\"2D: adherent\",0,0,\"2D: adherent\",0,\"2D: adherent\",\"2D: suspension\",0,\"2D: adherent\",\"2D: adherent\",\"2D: adherent\",\"2D: suspension\",\"2D: adherent\",\"2D: adherent\",0,0,\"2D: adherent\",\"2D: mixed adherent and suspension\",\"2D: adherent\",0,0,\"2D: adherent\",0,\"2D: adherent\",\"2D: adherent\",\"2D: suspension\",\"2D: adherent\",\"2D: adherent\",\"2D: mixed adherent and suspension\",\"2D: adherent\",0,\"2D: mixed adherent and suspension\",\"2D: suspension\",\"2D: adherent\",\"2D: adherent\",\"2D: adherent\",\"2D: adherent\",\"2D: adherent\",0,\"2D: adherent\",0,\"2D: adherent\",\"2D: adherent\",0,\"2D: adherent\",\"2D: adherent\",\"2D: suspension\",\"2D: adherent\",\"2D: adherent\",0,0,\"2D: adherent\",0,\"2D: suspension\",\"2D: adherent\",\"2D: adherent\",\"2D: suspension\",\"2D: adherent\",\"2D: suspension\",\"2D: adherent\",\"2D: adherent\",0,0,\"2D: adherent\",\"2D: adherent\",0,0,\"2D: adherent\",0,0,\"2D: mixed adherent and suspension\",0,\"2D: suspension\",\"2D: suspension\",\"2D: adherent\",0,\"2D: adherent\",\"2D: adherent\",\"2D: adherent\",\"2D: suspension\",\"2D: adherent\",\"2D: adherent\",0,\"2D: adherent\",\"2D: adherent\",\"2D: adherent\",0,\"2D: adherent\",0,0,\"2D: adherent\",0,\"2D: adherent\",0,0,\"2D: adherent\",\"2D: adherent\",0,0,0,0,\"2D: suspension\",\"2D: adherent\",0,0,\"2D: suspension\",0,\"2D: adherent\",\"2D: adherent\",\"2D: suspension\",0,\"2D: suspension\",0,\"2D: adherent\",0,0,\"2D: mixed adherent and suspension\",\"2D: suspension\",\"2D: adherent\",\"2D: mixed adherent and suspension\",\"2D: adherent\",0,0,0,0,\"2D: adherent\",\"2D: adherent\",0,\"2D: adherent\",\"2D: adherent\",\"2D: adherent\",0,\"2D: adherent\",\"2D: adherent\",\"2D: mixed adherent and suspension\",\"2D: adherent\",\"2D: adherent\",0,\"2D: adherent\",\"2D: adherent\",0,\"2D: adherent\",\"2D: adherent\",0,\"2D: adherent\",0,0,\"2D: adherent\",\"2D: adherent\",\"2D: adherent\",\"2D: suspension\",\"2D: adherent\",\"2D: adherent\",0,\"2D: adherent\",\"2D: adherent\",\"2D: adherent\",0,0,\"2D: adherent\",\"2D: adherent\",0,\"2D: suspension\",\"2D: adherent\",0,0,\"2D: adherent\",0,0,\"2D: mixed adherent and suspension\",\"2D: adherent\",0,\"2D: mixed adherent and suspension\",\"2D: suspension\",\"2D: adherent\",\"2D: adherent\",0,\"2D: adherent\",\"2D: adherent\",0,\"2D: adherent\",\"2D: adherent\",0,\"2D: adherent\",0,0,\"2D: suspension\",\"2D: adherent\",\"2D: suspension\",\"2D: adherent\",0,\"2D: adherent\",0,\"2D: adherent\",\"2D: adherent\",\"2D: adherent\",\"2D: mixed adherent and suspension\",\"2D: adherent\",0,\"2D: mixed adherent and suspension\",\"2D: adherent\",\"2D: suspension\",\"2D: adherent\",\"2D: adherent\",\"2D: adherent\",\"2D: mixed adherent and suspension\",\"2D: adherent\",\"2D: adherent\",\"2D: adherent\",\"2D: adherent\",0,0,\"2D: adherent\",\"2D: adherent\",\"2D: adherent\",\"2D: adherent\",\"2D: adherent\",0,\"2D: suspension\",\"2D: suspension\",\"2D: adherent\",\"2D: adherent\",\"2D: adherent\",0,\"2D: adherent\",\"2D: adherent\",0,\"2D: mixed adherent and suspension\",\"2D: adherent\",\"2D: adherent\",\"2D: adherent\",\"2D: suspension\",\"2D: suspension\",0,\"2D: adherent\",\"2D: adherent\",\"2D: adherent\",\"2D: adherent\",0,\"2D: suspension\",\"2D: adherent\",0,0,\"2D: adherent\",\"2D: adherent\",\"2D: adherent\",\"2D: adherent\",\"2D: adherent\",0,\"2D: adherent\",\"2D: suspension\",\"2D: adherent\",\"2D: adherent\",\"2D: adherent\",\"2D: adherent\",0,\"2D: adherent\",\"2D: adherent\",\"2D: adherent\",\"2D: adherent\",0,\"2D: adherent\",\"2D: suspension\",\"2D: adherent\",\"2D: adherent\",\"2D: adherent\",0,\"2D: adherent\",\"2D: mixed adherent and suspension\",0,\"2D: adherent\",0,\"2D: mixed adherent and suspension\",\"2D: adherent\",\"2D: suspension\",\"2D: mixed adherent and suspension\",0,\"2D: adherent\",\"2D: adherent\",\"2D: adherent\",\"2D: adherent\",0,\"2D: adherent\",0,0,\"2D: adherent\",0,\"2D: adherent\",0,\"2D: adherent\",\"2D: adherent\",\"2D: adherent\",0,\"2D: adherent\",\"2D: adherent\",0,\"2D: adherent\",\"2D: adherent\",\"2D: mixed adherent and suspension\",\"2D: adherent\",\"2D: adherent\",\"2D: adherent\",\"2D: adherent\",\"2D: adherent\",0,0,0,0,\"2D: adherent\",\"2D: adherent\",0,0,\"2D: adherent\",0,\"2D: adherent\",\"2D: adherent\",0,\"2D: adherent\",\"2D: adherent\",\"2D: adherent\",\"2D: adherent\",\"2D: adherent\",0,\"2D: mixed adherent and suspension\",\"2D: adherent\",0,0,\"2D: adherent\",\"2D: adherent\",\"2D: adherent\",0,0,\"2D: adherent\",\"2D: adherent\",\"2D: adherent\",0,\"2D: adherent\",\"2D: suspension\",\"2D: mixed adherent and suspension\",0,\"2D: adherent\",0,\"2D: suspension\",\"2D: adherent\",\"2D: mixed adherent and suspension\",0,\"2D: adherent\",0,\"2D: adherent\",0,\"2D: adherent\",0,\"2D: suspension\",0,0,0,\"2D: suspension\",\"2D: adherent\",0,\"2D: adherent\",\"2D: adherent\",\"2D: adherent\",0,\"2D: adherent\",0,\"2D: adherent\",0,0,0,\"2D: mixed adherent and suspension\",\"2D: adherent\",\"2D: adherent\",\"2D: suspension\",0,\"2D: adherent\",0,0,\"2D: adherent\",\"2D: adherent\",\"2D: adherent\",\"2D: adherent\",0,0,0,0,0,0,\"2D: suspension\",0,\"2D: adherent\",0,0,0,0,0,0,0,0,\"2D: adherent\",\"2D: adherent\",0,0,0,\"2D: adherent\",0,0,0,0,\"2D: suspension\",0,0,\"2D: adherent\",0,\"2D: adherent\",\"2D: suspension\",\"2D: adherent\",0,0,0,0,0,0,\"2D: suspension\",\"2D: suspension\",0,0,0,0,\"2D: adherent\",0,0,0,0,0,0,0,\"2D: adherent\",0,0,0,0,\"2D: adherent\",0,0,0,0,0,0,0,0,\"2D: suspension\",\"2D: suspension\",0,\"2D: suspension\",\"2D: adherent\",\"2D: adherent\",0,0,0,\"2D: adherent\",\"2D: mixed adherent and suspension\",0,\"2D: adherent\",0,0,\"2D: adherent\",0,0,0,0,\"2D: adherent\",0,0,0,0,\"2D: adherent\",0,0,\"2D: mixed adherent and suspension\",\"2D: adherent\",0,0,0,0,0,0,0,0,\"2D: suspension\",\"2D: suspension\",0,0,0,0,\"2D: adherent\",0,\"2D: adherent\",0,0,\"2D: adherent\",\"2D: adherent\",\"2D: adherent\",\"2D: adherent\",\"2D: adherent\",\"2D: adherent\",\"2D: adherent\",\"2D: adherent\",\"2D: adherent\",\"2D: adherent\",\"2D: adherent\",\"2D: adherent\",\"2D: adherent\",\"2D: adherent\",\"2D: adherent\",\"2D: adherent\",\"2D: adherent\",\"2D: adherent\",\"2D: adherent\",\"2D: adherent\",\"2D: adherent\",\"2D: adherent\",\"2D: mixed adherent and suspension\",\"2D: suspension\",\"2D: suspension\",\"2D: suspension\",\"2D: adherent\",\"2D: suspension\",\"2D: adherent\",\"2D: adherent\",\"2D: adherent\",\"2D: adherent\",\"2D: adherent\",\"2D: adherent\",\"2D: adherent\",\"2D: adherent\",\"2D: adherent\",\"2D: adherent\",\"2D: adherent\",\"2D: adherent\",\"2D: adherent\",\"2D: suspension\",\"2D: adherent\",\"2D: adherent\",\"2D: adherent\",\"2D: adherent\",\"2D: adherent\",\"2D: adherent\",\"2D: adherent\",\"2D: adherent\",\"2D: adherent\",\"2D: adherent\",\"2D: adherent\",\"2D: adherent\",\"2D: adherent\",\"2D: adherent\",\"2D: adherent\",\"2D: adherent\",\"2D: adherent\",\"2D: adherent\",\"2D: adherent\",\"2D: adherent\",\"2D: adherent\",\"2D: suspension\",0,0,\"2D: adherent\",\"2D: adherent\",\"2D: suspension\",\"2D: adherent\",\"2D: suspension\",\"2D: adherent\",\"2D: adherent\",\"2D: adherent\",\"2D: adherent\",\"2D: adherent\",\"2D: adherent\",\"2D: adherent\",\"2D: suspension\",\"2D: adherent\",\"2D: suspension\",\"2D: suspension\",\"2D: adherent\",\"2D: adherent\",\"2D: suspension\",\"2D: suspension\",\"2D: adherent\",\"2D: adherent\",\"2D: adherent\",\"2D: adherent\",\"2D: adherent\",\"2D: adherent\",\"2D: adherent\",\"2D: adherent\",\"2D: adherent\",\"2D: adherent\",\"2D: adherent\",\"2D: adherent\",\"2D: adherent\",\"2D: adherent\",\"2D: adherent\",\"2D: adherent\",\"2D: suspension\",\"2D: adherent\",\"2D: adherent\",\"2D: adherent\",\"2D: adherent\",\"2D: adherent\",\"2D: adherent\",\"2D: adherent\",\"2D: adherent\",\"2D: adherent\",\"2D: suspension\",\"2D: adherent\",\"2D: suspension\",\"2D: suspension\",\"2D: adherent\",\"2D: adherent\",\"2D: adherent\",\"2D: adherent\",\"2D: suspension\",\"2D: adherent\",\"2D: adherent\",\"2D: adherent\",\"2D: adherent\",\"2D: adherent\",\"2D: suspension\",\"2D: suspension\",\"2D: suspension\",\"2D: adherent\",\"2D: suspension\",\"2D: suspension\",\"2D: adherent\",\"2D: adherent\",\"2D: adherent\",\"2D: adherent\",\"2D: suspension\",\"2D: adherent\",\"2D: adherent\",\"2D: adherent\",\"2D: suspension\",\"2D: suspension\",\"2D: adherent\",\"2D: suspension\",\"2D: adherent\",\"2D: suspension\",\"2D: adherent\",\"2D: adherent\",\"2D: adherent\",0,0,0,\"2D: suspension\",\"2D: adherent\",\"2D: adherent\",\"2D: adherent\",\"2D: adherent\",\"2D: adherent\",\"2D: adherent\",\"2D: mixed adherent and suspension\",\"2D: adherent\",\"2D: adherent\",0,0,\"2D: adherent\",\"2D: adherent\",\"2D: adherent\",\"2D: adherent\",\"2D: adherent\",\"2D: adherent\",\"2D: adherent\",\"2D: adherent\",\"2D: suspension\",\"2D: suspension\",\"2D: suspension\",\"2D: suspension\",\"2D: suspension\",\"2D: adherent\",\"2D: suspension\",\"2D: adherent\",\"2D: adherent\",0,0,0,0,0,0,0,0,0,0,0,0,0,0,0,0,0,0,0,0,0,0,0,0,0,0,0,0,0,0,0,0,0,0,0,0,0,0,0,0,0,0,0,0,0,0,0,0,0,0,0,0,0,0,0,0,0,0,0,0,0,0,0,0,0,0,0,0,0,0,0,0,0,0,0,0,0,0,0,0,\"2D: adherent\",0,0,0,0,\"2D: suspension\",0,0,0,0,0,0,0,0,0,0,0,0,0,0,0,0,0,0,0,0,0,0,0,0,0,0,0,0,0,0,0,0,0,0,0,0,0,\"2D: suspension\",\"2D: suspension\",0,0,0,0,0,0,0,0,0,0,0,0,0,0,0,0,0,0,0,0,\"2D: suspension\",0,0,0,0,0,0,0,0,\"2D: suspension\",0,0,0,0,0,0,0,0,0,0,0,0,0,0,0,0,0,0,0,0,0,0,0,0,0,0,0,0,0,0,0,0,0,0,0,0,0,\"2D: adherent\",0,0,0,0,0,\"2D: suspension\",\"2D: adherent\",0,0,0,0,0,0,0,0,0,0,0,0,0,0,0,0,0,0,0,0,0,0,0,0,0,0,0,0,0,\"2D: adherent\",0,0,0,0,0,0,0,0,0,0,0,0,0,0,0,0,0,0,0,0,0,0,0,0,0,0,0,0,0,0],\"xaxis\":\"x\",\"yaxis\":\"y\",\"type\":\"histogram\"}],                        {\"template\":{\"data\":{\"bar\":[{\"error_x\":{\"color\":\"#2a3f5f\"},\"error_y\":{\"color\":\"#2a3f5f\"},\"marker\":{\"line\":{\"color\":\"#E5ECF6\",\"width\":0.5},\"pattern\":{\"fillmode\":\"overlay\",\"size\":10,\"solidity\":0.2}},\"type\":\"bar\"}],\"barpolar\":[{\"marker\":{\"line\":{\"color\":\"#E5ECF6\",\"width\":0.5},\"pattern\":{\"fillmode\":\"overlay\",\"size\":10,\"solidity\":0.2}},\"type\":\"barpolar\"}],\"carpet\":[{\"aaxis\":{\"endlinecolor\":\"#2a3f5f\",\"gridcolor\":\"white\",\"linecolor\":\"white\",\"minorgridcolor\":\"white\",\"startlinecolor\":\"#2a3f5f\"},\"baxis\":{\"endlinecolor\":\"#2a3f5f\",\"gridcolor\":\"white\",\"linecolor\":\"white\",\"minorgridcolor\":\"white\",\"startlinecolor\":\"#2a3f5f\"},\"type\":\"carpet\"}],\"choropleth\":[{\"colorbar\":{\"outlinewidth\":0,\"ticks\":\"\"},\"type\":\"choropleth\"}],\"contour\":[{\"colorbar\":{\"outlinewidth\":0,\"ticks\":\"\"},\"colorscale\":[[0.0,\"#0d0887\"],[0.1111111111111111,\"#46039f\"],[0.2222222222222222,\"#7201a8\"],[0.3333333333333333,\"#9c179e\"],[0.4444444444444444,\"#bd3786\"],[0.5555555555555556,\"#d8576b\"],[0.6666666666666666,\"#ed7953\"],[0.7777777777777778,\"#fb9f3a\"],[0.8888888888888888,\"#fdca26\"],[1.0,\"#f0f921\"]],\"type\":\"contour\"}],\"contourcarpet\":[{\"colorbar\":{\"outlinewidth\":0,\"ticks\":\"\"},\"type\":\"contourcarpet\"}],\"heatmap\":[{\"colorbar\":{\"outlinewidth\":0,\"ticks\":\"\"},\"colorscale\":[[0.0,\"#0d0887\"],[0.1111111111111111,\"#46039f\"],[0.2222222222222222,\"#7201a8\"],[0.3333333333333333,\"#9c179e\"],[0.4444444444444444,\"#bd3786\"],[0.5555555555555556,\"#d8576b\"],[0.6666666666666666,\"#ed7953\"],[0.7777777777777778,\"#fb9f3a\"],[0.8888888888888888,\"#fdca26\"],[1.0,\"#f0f921\"]],\"type\":\"heatmap\"}],\"heatmapgl\":[{\"colorbar\":{\"outlinewidth\":0,\"ticks\":\"\"},\"colorscale\":[[0.0,\"#0d0887\"],[0.1111111111111111,\"#46039f\"],[0.2222222222222222,\"#7201a8\"],[0.3333333333333333,\"#9c179e\"],[0.4444444444444444,\"#bd3786\"],[0.5555555555555556,\"#d8576b\"],[0.6666666666666666,\"#ed7953\"],[0.7777777777777778,\"#fb9f3a\"],[0.8888888888888888,\"#fdca26\"],[1.0,\"#f0f921\"]],\"type\":\"heatmapgl\"}],\"histogram\":[{\"marker\":{\"pattern\":{\"fillmode\":\"overlay\",\"size\":10,\"solidity\":0.2}},\"type\":\"histogram\"}],\"histogram2d\":[{\"colorbar\":{\"outlinewidth\":0,\"ticks\":\"\"},\"colorscale\":[[0.0,\"#0d0887\"],[0.1111111111111111,\"#46039f\"],[0.2222222222222222,\"#7201a8\"],[0.3333333333333333,\"#9c179e\"],[0.4444444444444444,\"#bd3786\"],[0.5555555555555556,\"#d8576b\"],[0.6666666666666666,\"#ed7953\"],[0.7777777777777778,\"#fb9f3a\"],[0.8888888888888888,\"#fdca26\"],[1.0,\"#f0f921\"]],\"type\":\"histogram2d\"}],\"histogram2dcontour\":[{\"colorbar\":{\"outlinewidth\":0,\"ticks\":\"\"},\"colorscale\":[[0.0,\"#0d0887\"],[0.1111111111111111,\"#46039f\"],[0.2222222222222222,\"#7201a8\"],[0.3333333333333333,\"#9c179e\"],[0.4444444444444444,\"#bd3786\"],[0.5555555555555556,\"#d8576b\"],[0.6666666666666666,\"#ed7953\"],[0.7777777777777778,\"#fb9f3a\"],[0.8888888888888888,\"#fdca26\"],[1.0,\"#f0f921\"]],\"type\":\"histogram2dcontour\"}],\"mesh3d\":[{\"colorbar\":{\"outlinewidth\":0,\"ticks\":\"\"},\"type\":\"mesh3d\"}],\"parcoords\":[{\"line\":{\"colorbar\":{\"outlinewidth\":0,\"ticks\":\"\"}},\"type\":\"parcoords\"}],\"pie\":[{\"automargin\":true,\"type\":\"pie\"}],\"scatter\":[{\"marker\":{\"colorbar\":{\"outlinewidth\":0,\"ticks\":\"\"}},\"type\":\"scatter\"}],\"scatter3d\":[{\"line\":{\"colorbar\":{\"outlinewidth\":0,\"ticks\":\"\"}},\"marker\":{\"colorbar\":{\"outlinewidth\":0,\"ticks\":\"\"}},\"type\":\"scatter3d\"}],\"scattercarpet\":[{\"marker\":{\"colorbar\":{\"outlinewidth\":0,\"ticks\":\"\"}},\"type\":\"scattercarpet\"}],\"scattergeo\":[{\"marker\":{\"colorbar\":{\"outlinewidth\":0,\"ticks\":\"\"}},\"type\":\"scattergeo\"}],\"scattergl\":[{\"marker\":{\"colorbar\":{\"outlinewidth\":0,\"ticks\":\"\"}},\"type\":\"scattergl\"}],\"scattermapbox\":[{\"marker\":{\"colorbar\":{\"outlinewidth\":0,\"ticks\":\"\"}},\"type\":\"scattermapbox\"}],\"scatterpolar\":[{\"marker\":{\"colorbar\":{\"outlinewidth\":0,\"ticks\":\"\"}},\"type\":\"scatterpolar\"}],\"scatterpolargl\":[{\"marker\":{\"colorbar\":{\"outlinewidth\":0,\"ticks\":\"\"}},\"type\":\"scatterpolargl\"}],\"scatterternary\":[{\"marker\":{\"colorbar\":{\"outlinewidth\":0,\"ticks\":\"\"}},\"type\":\"scatterternary\"}],\"surface\":[{\"colorbar\":{\"outlinewidth\":0,\"ticks\":\"\"},\"colorscale\":[[0.0,\"#0d0887\"],[0.1111111111111111,\"#46039f\"],[0.2222222222222222,\"#7201a8\"],[0.3333333333333333,\"#9c179e\"],[0.4444444444444444,\"#bd3786\"],[0.5555555555555556,\"#d8576b\"],[0.6666666666666666,\"#ed7953\"],[0.7777777777777778,\"#fb9f3a\"],[0.8888888888888888,\"#fdca26\"],[1.0,\"#f0f921\"]],\"type\":\"surface\"}],\"table\":[{\"cells\":{\"fill\":{\"color\":\"#EBF0F8\"},\"line\":{\"color\":\"white\"}},\"header\":{\"fill\":{\"color\":\"#C8D4E3\"},\"line\":{\"color\":\"white\"}},\"type\":\"table\"}]},\"layout\":{\"annotationdefaults\":{\"arrowcolor\":\"#2a3f5f\",\"arrowhead\":0,\"arrowwidth\":1},\"autotypenumbers\":\"strict\",\"coloraxis\":{\"colorbar\":{\"outlinewidth\":0,\"ticks\":\"\"}},\"colorscale\":{\"diverging\":[[0,\"#8e0152\"],[0.1,\"#c51b7d\"],[0.2,\"#de77ae\"],[0.3,\"#f1b6da\"],[0.4,\"#fde0ef\"],[0.5,\"#f7f7f7\"],[0.6,\"#e6f5d0\"],[0.7,\"#b8e186\"],[0.8,\"#7fbc41\"],[0.9,\"#4d9221\"],[1,\"#276419\"]],\"sequential\":[[0.0,\"#0d0887\"],[0.1111111111111111,\"#46039f\"],[0.2222222222222222,\"#7201a8\"],[0.3333333333333333,\"#9c179e\"],[0.4444444444444444,\"#bd3786\"],[0.5555555555555556,\"#d8576b\"],[0.6666666666666666,\"#ed7953\"],[0.7777777777777778,\"#fb9f3a\"],[0.8888888888888888,\"#fdca26\"],[1.0,\"#f0f921\"]],\"sequentialminus\":[[0.0,\"#0d0887\"],[0.1111111111111111,\"#46039f\"],[0.2222222222222222,\"#7201a8\"],[0.3333333333333333,\"#9c179e\"],[0.4444444444444444,\"#bd3786\"],[0.5555555555555556,\"#d8576b\"],[0.6666666666666666,\"#ed7953\"],[0.7777777777777778,\"#fb9f3a\"],[0.8888888888888888,\"#fdca26\"],[1.0,\"#f0f921\"]]},\"colorway\":[\"#636efa\",\"#EF553B\",\"#00cc96\",\"#ab63fa\",\"#FFA15A\",\"#19d3f3\",\"#FF6692\",\"#B6E880\",\"#FF97FF\",\"#FECB52\"],\"font\":{\"color\":\"#2a3f5f\"},\"geo\":{\"bgcolor\":\"white\",\"lakecolor\":\"white\",\"landcolor\":\"#E5ECF6\",\"showlakes\":true,\"showland\":true,\"subunitcolor\":\"white\"},\"hoverlabel\":{\"align\":\"left\"},\"hovermode\":\"closest\",\"mapbox\":{\"style\":\"light\"},\"paper_bgcolor\":\"white\",\"plot_bgcolor\":\"#E5ECF6\",\"polar\":{\"angularaxis\":{\"gridcolor\":\"white\",\"linecolor\":\"white\",\"ticks\":\"\"},\"bgcolor\":\"#E5ECF6\",\"radialaxis\":{\"gridcolor\":\"white\",\"linecolor\":\"white\",\"ticks\":\"\"}},\"scene\":{\"xaxis\":{\"backgroundcolor\":\"#E5ECF6\",\"gridcolor\":\"white\",\"gridwidth\":2,\"linecolor\":\"white\",\"showbackground\":true,\"ticks\":\"\",\"zerolinecolor\":\"white\"},\"yaxis\":{\"backgroundcolor\":\"#E5ECF6\",\"gridcolor\":\"white\",\"gridwidth\":2,\"linecolor\":\"white\",\"showbackground\":true,\"ticks\":\"\",\"zerolinecolor\":\"white\"},\"zaxis\":{\"backgroundcolor\":\"#E5ECF6\",\"gridcolor\":\"white\",\"gridwidth\":2,\"linecolor\":\"white\",\"showbackground\":true,\"ticks\":\"\",\"zerolinecolor\":\"white\"}},\"shapedefaults\":{\"line\":{\"color\":\"#2a3f5f\"}},\"ternary\":{\"aaxis\":{\"gridcolor\":\"white\",\"linecolor\":\"white\",\"ticks\":\"\"},\"baxis\":{\"gridcolor\":\"white\",\"linecolor\":\"white\",\"ticks\":\"\"},\"bgcolor\":\"#E5ECF6\",\"caxis\":{\"gridcolor\":\"white\",\"linecolor\":\"white\",\"ticks\":\"\"}},\"title\":{\"x\":0.05},\"xaxis\":{\"automargin\":true,\"gridcolor\":\"white\",\"linecolor\":\"white\",\"ticks\":\"\",\"title\":{\"standoff\":15},\"zerolinecolor\":\"white\",\"zerolinewidth\":2},\"yaxis\":{\"automargin\":true,\"gridcolor\":\"white\",\"linecolor\":\"white\",\"ticks\":\"\",\"title\":{\"standoff\":15},\"zerolinecolor\":\"white\",\"zerolinewidth\":2}}},\"xaxis\":{\"anchor\":\"y\",\"domain\":[0.0,1.0],\"title\":{\"text\":\"default_growth_pattern\"}},\"yaxis\":{\"anchor\":\"x\",\"domain\":[0.0,1.0],\"title\":{\"text\":\"count\"}},\"legend\":{\"tracegroupgap\":0},\"margin\":{\"t\":60},\"barmode\":\"relative\"},                        {\"responsive\": true}                    ).then(function(){\n",
              "                            \n",
              "var gd = document.getElementById('da186183-97ae-4921-9168-094f909575c9');\n",
              "var x = new MutationObserver(function (mutations, observer) {{\n",
              "        var display = window.getComputedStyle(gd).display;\n",
              "        if (!display || display === 'none') {{\n",
              "            console.log([gd, 'removed!']);\n",
              "            Plotly.purge(gd);\n",
              "            observer.disconnect();\n",
              "        }}\n",
              "}});\n",
              "\n",
              "// Listen for the removal of the full notebook cells\n",
              "var notebookContainer = gd.closest('#notebook-container');\n",
              "if (notebookContainer) {{\n",
              "    x.observe(notebookContainer, {childList: true});\n",
              "}}\n",
              "\n",
              "// Listen for the clearing of the current output cell\n",
              "var outputEl = gd.closest('.output');\n",
              "if (outputEl) {{\n",
              "    x.observe(outputEl, {childList: true});\n",
              "}}\n",
              "\n",
              "                        })                };                            </script>        </div>\n",
              "</body>\n",
              "</html>"
            ]
          },
          "metadata": {}
        }
      ],
      "source": [
        "px.histogram(df, x = \"default_growth_pattern\")"
      ]
    },
    {
      "cell_type": "code",
      "execution_count": 21,
      "metadata": {
        "colab": {
          "base_uri": "https://localhost:8080/"
        },
        "id": "IL0PzF0jtfpS",
        "outputId": "ffa75674-0efe-41b3-ee3e-1ab044ef5af6"
      },
      "outputs": [
        {
          "output_type": "execute_result",
          "data": {
            "text/plain": [
              "0              SLR 21\n",
              "1          MHH-CALL-3\n",
              "2           NCI-H1819\n",
              "3            Hs 895.T\n",
              "4              HEK TE\n",
              "            ...      \n",
              "1835          CRO-AP3\n",
              "1836              GEO\n",
              "1837    HuH-6 Clone 5\n",
              "1838         Sarc9371\n",
              "1839            KMH-2\n",
              "Name: cell_line_name, Length: 1840, dtype: object"
            ]
          },
          "metadata": {},
          "execution_count": 21
        }
      ],
      "source": [
        "df[\"cell_line_name\"]"
      ]
    },
    {
      "cell_type": "code",
      "execution_count": 22,
      "metadata": {
        "colab": {
          "base_uri": "https://localhost:8080/"
        },
        "id": "VWRBYNLRtfpS",
        "outputId": "db342f22-e66a-4ebd-9f3a-b861482d9a9a"
      },
      "outputs": [
        {
          "output_type": "execute_result",
          "data": {
            "text/plain": [
              "0            0\n",
              "1       Female\n",
              "2       Female\n",
              "3       Female\n",
              "4            0\n",
              "         ...  \n",
              "1835      Male\n",
              "1836         0\n",
              "1837      Male\n",
              "1838         0\n",
              "1839      Male\n",
              "Name: sex, Length: 1840, dtype: object"
            ]
          },
          "metadata": {},
          "execution_count": 22
        }
      ],
      "source": [
        "df['sex']"
      ]
    },
    {
      "cell_type": "code",
      "execution_count": 23,
      "metadata": {
        "colab": {
          "base_uri": "https://localhost:8080/"
        },
        "id": "gwUfwnk7tfpS",
        "outputId": "0f0457ab-90b1-4051-c94e-9fac648116f5"
      },
      "outputs": [
        {
          "output_type": "execute_result",
          "data": {
            "text/plain": [
              "0        0\n",
              "1       11\n",
              "2       55\n",
              "3       48\n",
              "4        0\n",
              "        ..\n",
              "1835    42\n",
              "1836     0\n",
              "1837     1\n",
              "1838     0\n",
              "1839    71\n",
              "Name: age, Length: 1840, dtype: object"
            ]
          },
          "metadata": {},
          "execution_count": 23
        }
      ],
      "source": [
        "df['age']"
      ]
    },
    {
      "cell_type": "code",
      "execution_count": 24,
      "metadata": {
        "colab": {
          "base_uri": "https://localhost:8080/"
        },
        "id": "jO3uHA93tfpT",
        "outputId": "b72b54f3-9a4a-4b89-c528-ed2711e7f36e"
      },
      "outputs": [
        {
          "output_type": "execute_result",
          "data": {
            "text/plain": [
              "0       Metastasis\n",
              "1                0\n",
              "2       Metastasis\n",
              "3       Metastasis\n",
              "4                0\n",
              "           ...    \n",
              "1835    Metastasis\n",
              "1836             0\n",
              "1837             0\n",
              "1838             0\n",
              "1839             0\n",
              "Name: primary_or_metastasis, Length: 1840, dtype: object"
            ]
          },
          "metadata": {},
          "execution_count": 24
        }
      ],
      "source": [
        "df['primary_or_metastasis']"
      ]
    },
    {
      "cell_type": "code",
      "execution_count": 25,
      "metadata": {
        "colab": {
          "base_uri": "https://localhost:8080/"
        },
        "id": "MSMTrmNAtfpT",
        "outputId": "d416df30-e11c-4c53-8e08-9cda9a1c7dbb"
      },
      "outputs": [
        {
          "output_type": "execute_result",
          "data": {
            "text/plain": [
              "sex\n",
              "0         102\n",
              "Female    747\n",
              "Male      991\n",
              "dtype: int64"
            ]
          },
          "metadata": {},
          "execution_count": 25
        }
      ],
      "source": [
        "df.groupby('sex').apply(len)"
      ]
    },
    {
      "cell_type": "code",
      "execution_count": 26,
      "metadata": {
        "colab": {
          "base_uri": "https://localhost:8080/"
        },
        "id": "szflINgvtfpT",
        "outputId": "b4df1e76-1ca3-4d52-c509-c0a6721f11c7"
      },
      "outputs": [
        {
          "output_type": "execute_result",
          "data": {
            "text/plain": [
              "age\n",
              "0            341\n",
              "0             23\n",
              "1             32\n",
              "10             9\n",
              "11            11\n",
              "            ... \n",
              "9              5\n",
              "94             1\n",
              "Adult         18\n",
              "Fetus          3\n",
              "Pediatric      6\n",
              "Length: 95, dtype: int64"
            ]
          },
          "metadata": {},
          "execution_count": 26
        }
      ],
      "source": [
        "df.groupby('age').apply(len)"
      ]
    },
    {
      "cell_type": "code",
      "execution_count": 27,
      "metadata": {
        "colab": {
          "base_uri": "https://localhost:8080/"
        },
        "id": "93Uw-lUJtfpU",
        "outputId": "c38aa460-f0b3-4c90-f612-dd61008bb2ca"
      },
      "outputs": [
        {
          "output_type": "execute_result",
          "data": {
            "text/plain": [
              "primary_or_metastasis\n",
              "0             642\n",
              "Metastasis    515\n",
              "Primary       683\n",
              "dtype: int64"
            ]
          },
          "metadata": {},
          "execution_count": 27
        }
      ],
      "source": [
        "df.groupby('primary_or_metastasis').apply(len)"
      ]
    },
    {
      "cell_type": "code",
      "execution_count": 28,
      "metadata": {
        "colab": {
          "base_uri": "https://localhost:8080/"
        },
        "id": "FTEmKKNXtfpU",
        "outputId": "dc988b6b-c06f-4e2c-83f7-74da175ed4e6"
      },
      "outputs": [
        {
          "output_type": "execute_result",
          "data": {
            "text/plain": [
              "model_manipulation\n",
              "0                            1807\n",
              "drug resistance selection       8\n",
              "genetically engineered         11\n",
              "immortalized                   14\n",
              "dtype: int64"
            ]
          },
          "metadata": {},
          "execution_count": 28
        }
      ],
      "source": [
        "df.groupby('model_manipulation').apply(len)"
      ]
    },
    {
      "cell_type": "code",
      "execution_count": 29,
      "metadata": {
        "colab": {
          "base_uri": "https://localhost:8080/",
          "height": 542
        },
        "id": "64tEszextfpW",
        "outputId": "eedab613-2dc7-4d5f-9671-3dd2875617da"
      },
      "outputs": [
        {
          "output_type": "display_data",
          "data": {
            "text/html": [
              "<html>\n",
              "<head><meta charset=\"utf-8\" /></head>\n",
              "<body>\n",
              "    <div>            <script src=\"https://cdnjs.cloudflare.com/ajax/libs/mathjax/2.7.5/MathJax.js?config=TeX-AMS-MML_SVG\"></script><script type=\"text/javascript\">if (window.MathJax) {MathJax.Hub.Config({SVG: {font: \"STIX-Web\"}});}</script>                <script type=\"text/javascript\">window.PlotlyConfig = {MathJaxConfig: 'local'};</script>\n",
              "        <script src=\"https://cdn.plot.ly/plotly-2.8.3.min.js\"></script>                <div id=\"c7033d29-0a8a-47f9-ad09-9902a90fece7\" class=\"plotly-graph-div\" style=\"height:525px; width:100%;\"></div>            <script type=\"text/javascript\">                                    window.PLOTLYENV=window.PLOTLYENV || {};                                    if (document.getElementById(\"c7033d29-0a8a-47f9-ad09-9902a90fece7\")) {                    Plotly.newPlot(                        \"c7033d29-0a8a-47f9-ad09-9902a90fece7\",                        [{\"alignmentgroup\":\"True\",\"bingroup\":\"x\",\"hovertemplate\":\"sex=0<br>primary_disease=%{x}<br>count=%{y}<extra></extra>\",\"legendgroup\":\"0\",\"marker\":{\"color\":\"#636efa\",\"pattern\":{\"shape\":\"\"}},\"name\":\"0\",\"offsetgroup\":\"0\",\"orientation\":\"v\",\"showlegend\":true,\"x\":[\"Kidney Cancer\",\"Non-Cancerous\",\"Kidney Cancer\",\"Colon/Colorectal Cancer\",\"Non-Cancerous\",\"Bone Cancer\",\"Lung Cancer\",\"Kidney Cancer\",\"Brain Cancer\",\"Kidney Cancer\",\"Lung Cancer\",\"Sarcoma\",\"Liposarcoma\",\"Lung Cancer\",\"Leukemia\",\"Kidney Cancer\",\"Liposarcoma\",\"Liposarcoma\",\"Liposarcoma\",\"Liposarcoma\",\"Bile Duct Cancer\",\"Bile Duct Cancer\",\"Bile Duct Cancer\",\"Bile Duct Cancer\",\"Bile Duct Cancer\",\"Bile Duct Cancer\",\"Bile Duct Cancer\",\"Bile Duct Cancer\",\"Skin Cancer\",\"Pancreatic Cancer\",\"Colon/Colorectal Cancer\",\"Unknown\",\"Lung Cancer\",\"Sarcoma\",\"Non-Cancerous\",\"Non-Cancerous\",\"Gastric Cancer\",\"Skin Cancer\",\"Sarcoma\",\"Gallbladder Cancer\",\"Kidney Cancer\",\"Bile Duct Cancer\",\"Kidney Cancer\",\"Kidney Cancer\",\"Bile Duct Cancer\",\"Kidney Cancer\",\"Bone Cancer\",\"Bile Duct Cancer\",\"Skin Cancer\",\"Skin Cancer\",\"Bile Duct Cancer\",\"Pancreatic Cancer\",\"Skin Cancer\",\"Leukemia\",\"Gastric Cancer\",\"Gastric Cancer\",\"Lung Cancer\",\"Bladder Cancer\",\"Skin Cancer\",\"Colon/Colorectal Cancer\",\"Lung Cancer\",\"Colon/Colorectal Cancer\",\"Colon/Colorectal Cancer\",\"Colon/Colorectal Cancer\",\"Colon/Colorectal Cancer\",\"Unknown\",\"Colon/Colorectal Cancer\",\"Sarcoma\",\"Brain Cancer\",\"Sarcoma\",\"Neuroblastoma\",\"Neuroblastoma\",\"Lung Cancer\",\"Bladder Cancer\",\"Bone Cancer\",\"Colon/Colorectal Cancer\",\"Lung Cancer\",\"Head and Neck Cancer\",\"Leukemia\",\"Skin Cancer\",\"Lung Cancer\",\"Bone Cancer\",\"Bone Cancer\",\"Bone Cancer\",\"Lung Cancer\",\"Lung Cancer\",\"Skin Cancer\",\"Skin Cancer\",\"Kidney Cancer\",\"Lung Cancer\",\"Ovarian Cancer\",\"Pancreatic Cancer\",\"Pancreatic Cancer\",\"Brain Cancer\",\"Brain Cancer\",\"Head and Neck Cancer\",\"Gastric Cancer\",\"Esophageal Cancer\",\"Skin Cancer\",\"Skin Cancer\",\"Colon/Colorectal Cancer\",\"Bone Cancer\"],\"xaxis\":\"x\",\"yaxis\":\"y\",\"type\":\"histogram\"},{\"alignmentgroup\":\"True\",\"bingroup\":\"x\",\"hovertemplate\":\"sex=Female<br>primary_disease=%{x}<br>count=%{y}<extra></extra>\",\"legendgroup\":\"Female\",\"marker\":{\"color\":\"#EF553B\",\"pattern\":{\"shape\":\"\"}},\"name\":\"Female\",\"offsetgroup\":\"Female\",\"orientation\":\"v\",\"showlegend\":true,\"x\":[\"Leukemia\",\"Lung Cancer\",\"Non-Cancerous\",\"Sarcoma\",\"Non-Cancerous\",\"Leukemia\",\"Non-Cancerous\",\"Pancreatic Cancer\",\"Gastric Cancer\",\"Non-Cancerous\",\"Endometrial/Uterine Cancer\",\"Lung Cancer\",\"Non-Cancerous\",\"Non-Cancerous\",\"Non-Cancerous\",\"Pancreatic Cancer\",\"Non-Cancerous\",\"Non-Cancerous\",\"Non-Cancerous\",\"Lymphoma\",\"Breast Cancer\",\"Lung Cancer\",\"Gastric Cancer\",\"Brain Cancer\",\"Ovarian Cancer\",\"Lymphoma\",\"Non-Cancerous\",\"Bone Cancer\",\"Myeloma\",\"Leukemia\",\"Non-Cancerous\",\"Kidney Cancer\",\"Non-Cancerous\",\"Leukemia\",\"Ovarian Cancer\",\"Non-Cancerous\",\"Pancreatic Cancer\",\"Lung Cancer\",\"Bladder Cancer\",\"Gastric Cancer\",\"Non-Cancerous\",\"Bile Duct Cancer\",\"Gastric Cancer\",\"Endometrial/Uterine Cancer\",\"Bone Cancer\",\"Bone Cancer\",\"Bone Cancer\",\"Bone Cancer\",\"Cervical Cancer\",\"Ovarian Cancer\",\"Brain Cancer\",\"Cervical Cancer\",\"Lung Cancer\",\"Pancreatic Cancer\",\"Rhabdoid\",\"Lymphoma\",\"Lymphoma\",\"Lymphoma\",\"Ovarian Cancer\",\"Lymphoma\",\"Lymphoma\",\"Myeloma\",\"Bone Cancer\",\"Sarcoma\",\"Ovarian Cancer\",\"Bone Cancer\",\"Non-Cancerous\",\"Ovarian Cancer\",\"Breast Cancer\",\"Breast Cancer\",\"Breast Cancer\",\"Breast Cancer\",\"Breast Cancer\",\"Bladder Cancer\",\"Bladder Cancer\",\"Breast Cancer\",\"Eye Cancer\",\"Endometrial/Uterine Cancer\",\"Head and Neck Cancer\",\"Head and Neck Cancer\",\"Cervical Cancer\",\"Breast Cancer\",\"Cervical Cancer\",\"Cervical Cancer\",\"Endometrial/Uterine Cancer\",\"Lymphoma\",\"Myeloma\",\"Neuroblastoma\",\"Leukemia\",\"Gallbladder Cancer\",\"Leukemia\",\"Brain Cancer\",\"Endometrial/Uterine Cancer\",\"Endometrial/Uterine Cancer\",\"Head and Neck Cancer\",\"Head and Neck Cancer\",\"Head and Neck Cancer\",\"Head and Neck Cancer\",\"Ovarian Cancer\",\"Colon/Colorectal Cancer\",\"Liposarcoma\",\"Liposarcoma\",\"Non-Cancerous\",\"Bile Duct Cancer\",\"Bile Duct Cancer\",\"Bile Duct Cancer\",\"Bone Cancer\",\"Bile Duct Cancer\",\"Ovarian Cancer\",\"Leukemia\",\"Skin Cancer\",\"Skin Cancer\",\"Skin Cancer\",\"Eye Cancer\",\"Eye Cancer\",\"Cervical Cancer\",\"Endometrial/Uterine Cancer\",\"Colon/Colorectal Cancer\",\"Endometrial/Uterine Cancer\",\"Endometrial/Uterine Cancer\",\"Ovarian Cancer\",\"Thyroid Cancer\",\"Thyroid Cancer\",\"Endometrial/Uterine Cancer\",\"Leukemia\",\"Sarcoma\",\"Bone Cancer\",\"Breast Cancer\",\"Breast Cancer\",\"Breast Cancer\",\"Breast Cancer\",\"Breast Cancer\",\"Breast Cancer\",\"Breast Cancer\",\"Breast Cancer\",\"Breast Cancer\",\"Breast Cancer\",\"Breast Cancer\",\"Breast Cancer\",\"Colon/Colorectal Cancer\",\"Non-Cancerous\",\"Non-Cancerous\",\"Non-Cancerous\",\"Non-Cancerous\",\"Non-Cancerous\",\"Non-Cancerous\",\"Non-Cancerous\",\"Breast Cancer\",\"Non-Cancerous\",\"Non-Cancerous\",\"Non-Cancerous\",\"Non-Cancerous\",\"Non-Cancerous\",\"Non-Cancerous\",\"Bone Cancer\",\"Skin Cancer\",\"Skin Cancer\",\"Colon/Colorectal Cancer\",\"Brain Cancer\",\"Eye Cancer\",\"Sarcoma\",\"Unknown\",\"Bone Cancer\",\"Unknown\",\"Unknown\",\"Unknown\",\"Ovarian Cancer\",\"Leukemia\",\"Lung Cancer\",\"Ovarian Cancer\",\"Breast Cancer\",\"Bladder Cancer\",\"Breast Cancer\",\"Leukemia\",\"Lung Cancer\",\"Pancreatic Cancer\",\"Pancreatic Cancer\",\"Myeloma\",\"Brain Cancer\",\"Breast Cancer\",\"Lung Cancer\",\"Pancreatic Cancer\",\"Leukemia\",\"Sarcoma\",\"Lymphoma\",\"Bone Cancer\",\"Pancreatic Cancer\",\"Breast Cancer\",\"Gastric Cancer\",\"Ovarian Cancer\",\"Myeloma\",\"Bone Cancer\",\"Myeloma\",\"Thyroid Cancer\",\"Lymphoma\",\"Lymphoma\",\"Leukemia\",\"Bone Cancer\",\"Non-Cancerous\",\"Lung Cancer\",\"Ovarian Cancer\",\"Breast Cancer\",\"Brain Cancer\",\"Sarcoma\",\"Ovarian Cancer\",\"Leukemia\",\"Lymphoma\",\"Lung Cancer\",\"Breast Cancer\",\"Pancreatic Cancer\",\"Ovarian Cancer\",\"Breast Cancer\",\"Ovarian Cancer\",\"Lymphoma\",\"Bladder Cancer\",\"Lung Cancer\",\"Ovarian Cancer\",\"Non-Cancerous\",\"Neuroblastoma\",\"Brain Cancer\",\"Pancreatic Cancer\",\"Bladder Cancer\",\"Lung Cancer\",\"Sarcoma\",\"Breast Cancer\",\"Breast Cancer\",\"Neuroblastoma\",\"Lymphoma\",\"Rhabdoid\",\"Leukemia\",\"Sarcoma\",\"Thyroid Cancer\",\"Lung Cancer\",\"Myeloma\",\"Non-Cancerous\",\"Thyroid Cancer\",\"Endometrial/Uterine Cancer\",\"Myeloma\",\"Leukemia\",\"Breast Cancer\",\"Non-Cancerous\",\"Brain Cancer\",\"Rhabdoid\",\"Colon/Colorectal Cancer\",\"Neuroblastoma\",\"Myeloma\",\"Head and Neck Cancer\",\"Bone Cancer\",\"Breast Cancer\",\"Liver Cancer\",\"Skin Cancer\",\"Pancreatic Cancer\",\"Breast Cancer\",\"Lymphoma\",\"Brain Cancer\",\"Colon/Colorectal Cancer\",\"Ovarian Cancer\",\"Pancreatic Cancer\",\"Brain Cancer\",\"Gastric Cancer\",\"Breast Cancer\",\"Gastric Cancer\",\"Ovarian Cancer\",\"Breast Cancer\",\"Neuroblastoma\",\"Neuroblastoma\",\"Kidney Cancer\",\"Lung Cancer\",\"Pancreatic Cancer\",\"Brain Cancer\",\"Breast Cancer\",\"Breast Cancer\",\"Ovarian Cancer\",\"Ovarian Cancer\",\"Pancreatic Cancer\",\"Lung Cancer\",\"Brain Cancer\",\"Colon/Colorectal Cancer\",\"Ovarian Cancer\",\"Endometrial/Uterine Cancer\",\"Leukemia\",\"Leukemia\",\"Lung Cancer\",\"Leukemia\",\"Leukemia\",\"Endometrial/Uterine Cancer\",\"Gastric Cancer\",\"Skin Cancer\",\"Ovarian Cancer\",\"Lung Cancer\",\"Lung Cancer\",\"Lymphoma\",\"Ovarian Cancer\",\"Lung Cancer\",\"Brain Cancer\",\"Breast Cancer\",\"Neuroblastoma\",\"Skin Cancer\",\"Breast Cancer\",\"Breast Cancer\",\"Esophageal Cancer\",\"Gastric Cancer\",\"Lymphoma\",\"Bone Cancer\",\"Neuroblastoma\",\"Leukemia\",\"Breast Cancer\",\"Kidney Cancer\",\"Brain Cancer\",\"Lung Cancer\",\"Myeloma\",\"Esophageal Cancer\",\"Bladder Cancer\",\"Lung Cancer\",\"Endometrial/Uterine Cancer\",\"Endometrial/Uterine Cancer\",\"Esophageal Cancer\",\"Ovarian Cancer\",\"Bone Cancer\",\"Kidney Cancer\",\"Lung Cancer\",\"Skin Cancer\",\"Myeloma\",\"Kidney Cancer\",\"Ovarian Cancer\",\"Lung Cancer\",\"Endometrial/Uterine Cancer\",\"Skin Cancer\",\"Lung Cancer\",\"Ovarian Cancer\",\"Lung Cancer\",\"Lung Cancer\",\"Sarcoma\",\"Skin Cancer\",\"Thyroid Cancer\",\"Ovarian Cancer\",\"Gastric Cancer\",\"Colon/Colorectal Cancer\",\"Bladder Cancer\",\"Liver Cancer\",\"Bladder Cancer\",\"Cervical Cancer\",\"Colon/Colorectal Cancer\",\"Pancreatic Cancer\",\"Brain Cancer\",\"Sarcoma\",\"Leukemia\",\"Ovarian Cancer\",\"Ovarian Cancer\",\"Ovarian Cancer\",\"Pancreatic Cancer\",\"Breast Cancer\",\"Non-Cancerous\",\"Non-Cancerous\",\"Myeloma\",\"Ovarian Cancer\",\"Leukemia\",\"Colon/Colorectal Cancer\",\"Breast Cancer\",\"Kidney Cancer\",\"Cervical Cancer\",\"Leukemia\",\"Colon/Colorectal Cancer\",\"Bladder Cancer\",\"Lymphoma\",\"Breast Cancer\",\"Lung Cancer\",\"Brain Cancer\",\"Breast Cancer\",\"Ovarian Cancer\",\"Gastric Cancer\",\"Skin Cancer\",\"Ovarian Cancer\",\"Lung Cancer\",\"Lung Cancer\",\"Brain Cancer\",\"Bladder Cancer\",\"Brain Cancer\",\"Pancreatic Cancer\",\"Ovarian Cancer\",\"Brain Cancer\",\"Bone Cancer\",\"Ovarian Cancer\",\"Breast Cancer\",\"Breast Cancer\",\"Head and Neck Cancer\",\"Brain Cancer\",\"Gastric Cancer\",\"Leukemia\",\"Esophageal Cancer\",\"Lung Cancer\",\"Skin Cancer\",\"Breast Cancer\",\"Ovarian Cancer\",\"Myeloma\",\"Ovarian Cancer\",\"Lymphoma\",\"Ovarian Cancer\",\"Lung Cancer\",\"Breast Cancer\",\"Brain Cancer\",\"Gastric Cancer\",\"Lung Cancer\",\"Lung Cancer\",\"Colon/Colorectal Cancer\",\"Liver Cancer\",\"Lymphoma\",\"Ovarian Cancer\",\"Sarcoma\",\"Breast Cancer\",\"Ovarian Cancer\",\"Lymphoma\",\"Breast Cancer\",\"Lung Cancer\",\"Ovarian Cancer\",\"Ovarian Cancer\",\"Colon/Colorectal Cancer\",\"Breast Cancer\",\"Lung Cancer\",\"Ovarian Cancer\",\"Myeloma\",\"Esophageal Cancer\",\"Ovarian Cancer\",\"Bladder Cancer\",\"Breast Cancer\",\"Bladder Cancer\",\"Breast Cancer\",\"Lung Cancer\",\"Skin Cancer\",\"Lung Cancer\",\"Head and Neck Cancer\",\"Lung Cancer\",\"Lung Cancer\",\"Lymphoma\",\"Breast Cancer\",\"Breast Cancer\",\"Myeloma\",\"Breast Cancer\",\"Head and Neck Cancer\",\"Sarcoma\",\"Lung Cancer\",\"Brain Cancer\",\"Leukemia\",\"Breast Cancer\",\"Leukemia\",\"Ovarian Cancer\",\"Colon/Colorectal Cancer\",\"Bladder Cancer\",\"Lung Cancer\",\"Skin Cancer\",\"Lymphoma\",\"Ovarian Cancer\",\"Skin Cancer\",\"Skin Cancer\",\"Breast Cancer\",\"Colon/Colorectal Cancer\",\"Myeloma\",\"Esophageal Cancer\",\"Breast Cancer\",\"Endometrial/Uterine Cancer\",\"Myeloma\",\"Lung Cancer\",\"Breast Cancer\",\"Lung Cancer\",\"Esophageal Cancer\",\"Breast Cancer\",\"Breast Cancer\",\"Breast Cancer\",\"Lung Cancer\",\"Brain Cancer\",\"Endometrial/Uterine Cancer\",\"Lung Cancer\",\"Lung Cancer\",\"Lung Cancer\",\"Leukemia\",\"Lung Cancer\",\"Breast Cancer\",\"Lymphoma\",\"Endometrial/Uterine Cancer\",\"Gastric Cancer\",\"Skin Cancer\",\"Ovarian Cancer\",\"Lung Cancer\",\"Brain Cancer\",\"Lung Cancer\",\"Colon/Colorectal Cancer\",\"Lung Cancer\",\"Breast Cancer\",\"Ovarian Cancer\",\"Breast Cancer\",\"Lung Cancer\",\"Endometrial/Uterine Cancer\",\"Skin Cancer\",\"Lung Cancer\",\"Leukemia\",\"Leukemia\",\"Leukemia\",\"Lung Cancer\",\"Breast Cancer\",\"Endometrial/Uterine Cancer\",\"Breast Cancer\",\"Skin Cancer\",\"Breast Cancer\",\"Ovarian Cancer\",\"Leukemia\",\"Sarcoma\",\"Endometrial/Uterine Cancer\",\"Endometrial/Uterine Cancer\",\"Lymphoma\",\"Endometrial/Uterine Cancer\",\"Ovarian Cancer\",\"Gastric Cancer\",\"Endometrial/Uterine Cancer\",\"Colon/Colorectal Cancer\",\"Colon/Colorectal Cancer\",\"Leukemia\",\"Endometrial/Uterine Cancer\",\"Ovarian Cancer\",\"Colon/Colorectal Cancer\",\"Endometrial/Uterine Cancer\",\"Ovarian Cancer\",\"Colon/Colorectal Cancer\",\"Colon/Colorectal Cancer\",\"Endometrial/Uterine Cancer\",\"Endometrial/Uterine Cancer\",\"Endometrial/Uterine Cancer\",\"Colon/Colorectal Cancer\",\"Leukemia\",\"Endometrial/Uterine Cancer\",\"Endometrial/Uterine Cancer\",\"Colon/Colorectal Cancer\",\"Endometrial/Uterine Cancer\",\"Endometrial/Uterine Cancer\",\"Endometrial/Uterine Cancer\",\"Endometrial/Uterine Cancer\",\"Colon/Colorectal Cancer\",\"Bone Cancer\",\"Bone Cancer\",\"Skin Cancer\",\"Rhabdoid\",\"Bone Cancer\",\"Bone Cancer\",\"Rhabdoid\",\"Bone Cancer\",\"Bone Cancer\",\"Skin Cancer\",\"Ovarian Cancer\",\"Lymphoma\",\"Ovarian Cancer\",\"Lymphoma\",\"Breast Cancer\",\"Lymphoma\",\"Lung Cancer\",\"Cervical Cancer\",\"Myeloma\",\"Leukemia\",\"Lymphoma\",\"Skin Cancer\",\"Lung Cancer\",\"Ovarian Cancer\",\"Ovarian Cancer\",\"Bladder Cancer\",\"Sarcoma\",\"Neuroblastoma\",\"Bone Cancer\",\"Colon/Colorectal Cancer\",\"Bone Cancer\",\"Rhabdoid\",\"Rhabdoid\",\"Rhabdoid\",\"Skin Cancer\",\"Breast Cancer\",\"Sarcoma\",\"Sarcoma\",\"Ovarian Cancer\",\"Eye Cancer\",\"Neuroblastoma\",\"Thyroid Cancer\",\"Thyroid Cancer\",\"Thyroid Cancer\",\"Sarcoma\",\"Skin Cancer\",\"Head and Neck Cancer\",\"Cervical Cancer\",\"Cervical Cancer\",\"Cervical Cancer\",\"Cervical Cancer\",\"Ovarian Cancer\",\"Cervical Cancer\",\"Neuroblastoma\",\"Colon/Colorectal Cancer\",\"Thyroid Cancer\",\"Neuroblastoma\",\"Breast Cancer\",\"Cervical Cancer\",\"Cervical Cancer\",\"Neuroblastoma\",\"Esophageal Cancer\",\"Ovarian Cancer\",\"Ovarian Cancer\",\"Ovarian Cancer\",\"Pancreatic Cancer\",\"Pancreatic Cancer\",\"Pancreatic Cancer\",\"Pancreatic Cancer\",\"Thyroid Cancer\",\"Breast Cancer\",\"Breast Cancer\",\"Breast Cancer\",\"Breast Cancer\",\"Breast Cancer\",\"Colon/Colorectal Cancer\",\"Cervical Cancer\",\"Adrenal Cancer\",\"Cervical Cancer\",\"Ovarian Cancer\",\"Ovarian Cancer\",\"Eye Cancer\",\"Thyroid Cancer\",\"Cervical Cancer\",\"Leukemia\",\"Leukemia\",\"Lung Cancer\",\"Lymphoma\",\"Endometrial/Uterine Cancer\",\"Bone Cancer\",\"Skin Cancer\",\"Cervical Cancer\",\"Bone Cancer\",\"Bile Duct Cancer\",\"Skin Cancer\",\"Skin Cancer\",\"Eye Cancer\",\"Lung Cancer\",\"Lung Cancer\",\"Brain Cancer\",\"Brain Cancer\",\"Head and Neck Cancer\",\"Ovarian Cancer\",\"Ovarian Cancer\",\"Ovarian Cancer\",\"Lymphoma\",\"Skin Cancer\",\"Cervical Cancer\",\"Endometrial/Uterine Cancer\",\"Brain Cancer\",\"Lymphoma\",\"Lymphoma\",\"Leukemia\",\"Leukemia\",\"Sarcoma\",\"Breast Cancer\",\"Breast Cancer\",\"Bile Duct Cancer\",\"Gallbladder Cancer\",\"Bone Cancer\",\"Cervical Cancer\",\"Head and Neck Cancer\",\"Skin Cancer\",\"Leukemia\",\"Lymphoma\",\"Skin Cancer\",\"Skin Cancer\",\"Lung Cancer\",\"Skin Cancer\",\"Bone Cancer\",\"Bone Cancer\",\"Bone Cancer\",\"Bone Cancer\",\"Skin Cancer\",\"Ovarian Cancer\",\"Bone Cancer\",\"Ovarian Cancer\",\"Ovarian Cancer\",\"Kidney Cancer\",\"Skin Cancer\",\"Skin Cancer\",\"Lung Cancer\",\"Bone Cancer\",\"Skin Cancer\",\"Breast Cancer\",\"Skin Cancer\",\"Lung Cancer\",\"Lung Cancer\",\"Breast Cancer\",\"Cervical Cancer\",\"Ovarian Cancer\",\"Ovarian Cancer\",\"Lung Cancer\",\"Kidney Cancer\",\"Skin Cancer\",\"Cervical Cancer\",\"Bone Cancer\",\"Skin Cancer\",\"Skin Cancer\",\"Breast Cancer\",\"Leukemia\",\"Non-Cancerous\",\"Head and Neck Cancer\",\"Head and Neck Cancer\",\"Leukemia\",\"Colon/Colorectal Cancer\",\"Brain Cancer\",\"Brain Cancer\",\"Brain Cancer\",\"Brain Cancer\",\"Colon/Colorectal Cancer\",\"Bile Duct Cancer\",\"Head and Neck Cancer\",\"Leukemia\",\"Esophageal Cancer\",\"Lymphoma\",\"Sarcoma\",\"Non-Cancerous\",\"Lymphoma\",\"Lymphoma\",\"Leukemia\",\"Leukemia\",\"Brain Cancer\",\"Sarcoma\",\"Leukemia\",\"Leukemia\",\"Neuroblastoma\",\"Neuroblastoma\",\"Neuroblastoma\",\"Neuroblastoma\",\"Neuroblastoma\",\"Leukemia\",\"Leukemia\",\"Leukemia\",\"Gallbladder Cancer\",\"Lymphoma\",\"Unknown\",\"Skin Cancer\",\"Non-Cancerous\",\"Non-Cancerous\",\"Non-Cancerous\",\"Non-Cancerous\",\"Non-Cancerous\",\"Non-Cancerous\",\"Non-Cancerous\",\"Non-Cancerous\",\"Non-Cancerous\",\"Non-Cancerous\",\"Non-Cancerous\",\"Non-Cancerous\",\"Skin Cancer\"],\"xaxis\":\"x\",\"yaxis\":\"y\",\"type\":\"histogram\"},{\"alignmentgroup\":\"True\",\"bingroup\":\"x\",\"hovertemplate\":\"sex=Male<br>primary_disease=%{x}<br>count=%{y}<extra></extra>\",\"legendgroup\":\"Male\",\"marker\":{\"color\":\"#00cc96\",\"pattern\":{\"shape\":\"\"}},\"name\":\"Male\",\"offsetgroup\":\"Male\",\"orientation\":\"v\",\"showlegend\":true,\"x\":[\"Non-Cancerous\",\"Lymphoma\",\"Lymphoma\",\"Leukemia\",\"Colon/Colorectal Cancer\",\"Leukemia\",\"Non-Cancerous\",\"Leukemia\",\"Lymphoma\",\"Non-Cancerous\",\"Lymphoma\",\"Non-Cancerous\",\"Leukemia\",\"Non-Cancerous\",\"Rhabdoid\",\"Non-Cancerous\",\"Esophageal Cancer\",\"Lymphoma\",\"Non-Cancerous\",\"Gastric Cancer\",\"Leukemia\",\"Non-Cancerous\",\"Kidney Cancer\",\"Leukemia\",\"Non-Cancerous\",\"Kidney Cancer\",\"Lymphoma\",\"Myeloma\",\"Brain Cancer\",\"Leukemia\",\"Lung Cancer\",\"Non-Cancerous\",\"Rhabdoid\",\"Lung Cancer\",\"Myeloma\",\"Myeloma\",\"Lymphoma\",\"Brain Cancer\",\"Brain Cancer\",\"Lung Cancer\",\"Kidney Cancer\",\"Lung Cancer\",\"Head and Neck Cancer\",\"Esophageal Cancer\",\"Leukemia\",\"Skin Cancer\",\"Lung Cancer\",\"Lung Cancer\",\"Lung Cancer\",\"Non-Cancerous\",\"Myeloma\",\"Lung Cancer\",\"Skin Cancer\",\"Lung Cancer\",\"Prostate Cancer\",\"Brain Cancer\",\"Gastric Cancer\",\"Non-Cancerous\",\"Leukemia\",\"Myeloma\",\"Skin Cancer\",\"Lung Cancer\",\"Brain Cancer\",\"Lung Cancer\",\"Non-Cancerous\",\"Non-Cancerous\",\"Lymphoma\",\"Rhabdoid\",\"Skin Cancer\",\"Skin Cancer\",\"Lymphoma\",\"Non-Cancerous\",\"Lymphoma\",\"Lymphoma\",\"Bone Cancer\",\"Kidney Cancer\",\"Sarcoma\",\"Skin Cancer\",\"Brain Cancer\",\"Non-Cancerous\",\"Kidney Cancer\",\"Lymphoma\",\"Rhabdoid\",\"Non-Cancerous\",\"Kidney Cancer\",\"Head and Neck Cancer\",\"Leukemia\",\"Non-Cancerous\",\"Head and Neck Cancer\",\"Thyroid Cancer\",\"Neuroblastoma\",\"Prostate Cancer\",\"Head and Neck Cancer\",\"Leukemia\",\"Skin Cancer\",\"Lymphoma\",\"Bile Duct Cancer\",\"Lung Cancer\",\"Lung Cancer\",\"Lung Cancer\",\"Lung Cancer\",\"Lung Cancer\",\"Lung Cancer\",\"Lung Cancer\",\"Lung Cancer\",\"Skin Cancer\",\"Leukemia\",\"Brain Cancer\",\"Brain Cancer\",\"Brain Cancer\",\"Lymphoma\",\"Gallbladder Cancer\",\"Brain Cancer\",\"Brain Cancer\",\"Prostate Cancer\",\"Leukemia\",\"Leukemia\",\"Prostate Cancer\",\"Prostate Cancer\",\"Leukemia\",\"Gastric Cancer\",\"Teratoma\",\"Lymphoma\",\"Kidney Cancer\",\"Head and Neck Cancer\",\"Head and Neck Cancer\",\"Head and Neck Cancer\",\"Head and Neck Cancer\",\"Leukemia\",\"Bone Cancer\",\"Sarcoma\",\"Non-Cancerous\",\"Liposarcoma\",\"Liposarcoma\",\"Liposarcoma\",\"Bone Cancer\",\"Bone Cancer\",\"Colon/Colorectal Cancer\",\"Bile Duct Cancer\",\"Bile Duct Cancer\",\"Bile Duct Cancer\",\"Bile Duct Cancer\",\"Gallbladder Cancer\",\"Bile Duct Cancer\",\"Bile Duct Cancer\",\"Bile Duct Cancer\",\"Bile Duct Cancer\",\"Bile Duct Cancer\",\"Bile Duct Cancer\",\"Gallbladder Cancer\",\"Skin Cancer\",\"Skin Cancer\",\"Lung Cancer\",\"Skin Cancer\",\"Lung Cancer\",\"Bile Duct Cancer\",\"Pancreatic Cancer\",\"Eye Cancer\",\"Eye Cancer\",\"Eye Cancer\",\"Eye Cancer\",\"Colon/Colorectal Cancer\",\"Head and Neck Cancer\",\"Sarcoma\",\"Lymphoma\",\"Sarcoma\",\"Neuroblastoma\",\"Sarcoma\",\"Non-Cancerous\",\"Non-Cancerous\",\"Non-Cancerous\",\"Non-Cancerous\",\"Non-Cancerous\",\"Non-Cancerous\",\"Non-Cancerous\",\"Non-Cancerous\",\"Non-Cancerous\",\"Non-Cancerous\",\"Non-Cancerous\",\"Non-Cancerous\",\"Non-Cancerous\",\"Lymphoma\",\"Skin Cancer\",\"Skin Cancer\",\"Skin Cancer\",\"Skin Cancer\",\"Leukemia\",\"Skin Cancer\",\"Skin Cancer\",\"Gastric Cancer\",\"Colon/Colorectal Cancer\",\"Colon/Colorectal Cancer\",\"Pancreatic Cancer\",\"Unknown\",\"Unknown\",\"Colon/Colorectal Cancer\",\"Leukemia\",\"Leukemia\",\"Leukemia\",\"Colon/Colorectal Cancer\",\"Skin Cancer\",\"Colon/Colorectal Cancer\",\"Bladder Cancer\",\"Skin Cancer\",\"Lung Cancer\",\"Bladder Cancer\",\"Brain Cancer\",\"Lung Cancer\",\"Lung Cancer\",\"Brain Cancer\",\"Brain Cancer\",\"Bone Cancer\",\"Leukemia\",\"Kidney Cancer\",\"Lymphoma\",\"Sarcoma\",\"Brain Cancer\",\"Lymphoma\",\"Leukemia\",\"Pancreatic Cancer\",\"Lymphoma\",\"Lung Cancer\",\"Non-Cancerous\",\"Leukemia\",\"Lung Cancer\",\"Brain Cancer\",\"Leukemia\",\"Leukemia\",\"Leukemia\",\"Brain Cancer\",\"Neuroblastoma\",\"Leukemia\",\"Pancreatic Cancer\",\"Bone Cancer\",\"Non-Cancerous\",\"Prostate Cancer\",\"Lung Cancer\",\"Pancreatic Cancer\",\"Brain Cancer\",\"Rhabdoid\",\"Neuroblastoma\",\"Leukemia\",\"Brain Cancer\",\"Leukemia\",\"Pancreatic Cancer\",\"Pancreatic Cancer\",\"Leukemia\",\"Leukemia\",\"Prostate Cancer\",\"Pancreatic Cancer\",\"Neuroblastoma\",\"Lung Cancer\",\"Brain Cancer\",\"Brain Cancer\",\"Non-Cancerous\",\"Unknown\",\"Non-Cancerous\",\"Pancreatic Cancer\",\"Gastric Cancer\",\"Leukemia\",\"Lung Cancer\",\"Leukemia\",\"Brain Cancer\",\"Lung Cancer\",\"Pancreatic Cancer\",\"Leukemia\",\"Kidney Cancer\",\"Lung Cancer\",\"Lymphoma\",\"Thyroid Cancer\",\"Pancreatic Cancer\",\"Myeloma\",\"Prostate Cancer\",\"Pancreatic Cancer\",\"Head and Neck Cancer\",\"Lung Cancer\",\"Lung Cancer\",\"Head and Neck Cancer\",\"Kidney Cancer\",\"Unknown\",\"Leukemia\",\"Leukemia\",\"Lymphoma\",\"Brain Cancer\",\"Bile Duct Cancer\",\"Brain Cancer\",\"Pancreatic Cancer\",\"Non-Cancerous\",\"Brain Cancer\",\"Leukemia\",\"Liver Cancer\",\"Gastric Cancer\",\"Neuroblastoma\",\"Head and Neck Cancer\",\"Brain Cancer\",\"Lymphoma\",\"Kidney Cancer\",\"Pancreatic Cancer\",\"Head and Neck Cancer\",\"Non-Cancerous\",\"Bladder Cancer\",\"Lymphoma\",\"Colon/Colorectal Cancer\",\"Lung Cancer\",\"Colon/Colorectal Cancer\",\"Colon/Colorectal Cancer\",\"Head and Neck Cancer\",\"Lung Cancer\",\"Lung Cancer\",\"Leukemia\",\"Pancreatic Cancer\",\"Pancreatic Cancer\",\"Lymphoma\",\"Brain Cancer\",\"Lymphoma\",\"Skin Cancer\",\"Lymphoma\",\"Brain Cancer\",\"Lung Cancer\",\"Lung Cancer\",\"Colon/Colorectal Cancer\",\"Esophageal Cancer\",\"Non-Cancerous\",\"Pancreatic Cancer\",\"Neuroblastoma\",\"Neuroblastoma\",\"Lung Cancer\",\"Liver Cancer\",\"Kidney Cancer\",\"Esophageal Cancer\",\"Lung Cancer\",\"Pancreatic Cancer\",\"Skin Cancer\",\"Brain Cancer\",\"Leukemia\",\"Lung Cancer\",\"Pancreatic Cancer\",\"Lymphoma\",\"Lung Cancer\",\"Leukemia\",\"Lung Cancer\",\"Lymphoma\",\"Lung Cancer\",\"Neuroblastoma\",\"Colon/Colorectal Cancer\",\"Lung Cancer\",\"Gastric Cancer\",\"Leukemia\",\"Pancreatic Cancer\",\"Colon/Colorectal Cancer\",\"Gastric Cancer\",\"Pancreatic Cancer\",\"Lung Cancer\",\"Lung Cancer\",\"Bone Cancer\",\"Colon/Colorectal Cancer\",\"Liver Cancer\",\"Leukemia\",\"Myeloma\",\"Lymphoma\",\"Lung Cancer\",\"Brain Cancer\",\"Brain Cancer\",\"Lymphoma\",\"Leukemia\",\"Leukemia\",\"Lung Cancer\",\"Colon/Colorectal Cancer\",\"Lung Cancer\",\"Leukemia\",\"Leukemia\",\"Brain Cancer\",\"Lung Cancer\",\"Bone Cancer\",\"Lung Cancer\",\"Liver Cancer\",\"Lung Cancer\",\"Bladder Cancer\",\"Lung Cancer\",\"Colon/Colorectal Cancer\",\"Skin Cancer\",\"Lymphoma\",\"Colon/Colorectal Cancer\",\"Leukemia\",\"Leukemia\",\"Colon/Colorectal Cancer\",\"Head and Neck Cancer\",\"Lung Cancer\",\"Pancreatic Cancer\",\"Liver Cancer\",\"Colon/Colorectal Cancer\",\"Liver Cancer\",\"Bone Cancer\",\"Gastric Cancer\",\"Kidney Cancer\",\"Lung Cancer\",\"Leukemia\",\"Kidney Cancer\",\"Myeloma\",\"Brain Cancer\",\"Lung Cancer\",\"Leukemia\",\"Lymphoma\",\"Lung Cancer\",\"Brain Cancer\",\"Neuroblastoma\",\"Lung Cancer\",\"Esophageal Cancer\",\"Lung Cancer\",\"Kidney Cancer\",\"Skin Cancer\",\"Kidney Cancer\",\"Lung Cancer\",\"Brain Cancer\",\"Skin Cancer\",\"Brain Cancer\",\"Liver Cancer\",\"Head and Neck Cancer\",\"Liver Cancer\",\"Liver Cancer\",\"Skin Cancer\",\"Brain Cancer\",\"Liver Cancer\",\"Lung Cancer\",\"Lung Cancer\",\"Liver Cancer\",\"Kidney Cancer\",\"Gastric Cancer\",\"Leukemia\",\"Esophageal Cancer\",\"Colon/Colorectal Cancer\",\"Colon/Colorectal Cancer\",\"Liver Cancer\",\"Kidney Cancer\",\"Lung Cancer\",\"Leukemia\",\"Bone Cancer\",\"Head and Neck Cancer\",\"Head and Neck Cancer\",\"Lung Cancer\",\"Gastric Cancer\",\"Lung Cancer\",\"Lymphoma\",\"Lung Cancer\",\"Lung Cancer\",\"Myeloma\",\"Lung Cancer\",\"Lung Cancer\",\"Bone Cancer\",\"Pancreatic Cancer\",\"Head and Neck Cancer\",\"Lung Cancer\",\"Bladder Cancer\",\"Lung Cancer\",\"Lung Cancer\",\"Lung Cancer\",\"Colon/Colorectal Cancer\",\"Lymphoma\",\"Liver Cancer\",\"Gastric Cancer\",\"Brain Cancer\",\"Esophageal Cancer\",\"Bladder Cancer\",\"Head and Neck Cancer\",\"Bladder Cancer\",\"Head and Neck Cancer\",\"Head and Neck Cancer\",\"Skin Cancer\",\"Brain Cancer\",\"Lung Cancer\",\"Gastric Cancer\",\"Esophageal Cancer\",\"Lung Cancer\",\"Lung Cancer\",\"Brain Cancer\",\"Skin Cancer\",\"Lung Cancer\",\"Myeloma\",\"Liver Cancer\",\"Lung Cancer\",\"Skin Cancer\",\"Lymphoma\",\"Lung Cancer\",\"Lung Cancer\",\"Myeloma\",\"Lung Cancer\",\"Brain Cancer\",\"Lung Cancer\",\"Lung Cancer\",\"Rhabdoid\",\"Kidney Cancer\",\"Pancreatic Cancer\",\"Lung Cancer\",\"Leukemia\",\"Esophageal Cancer\",\"Head and Neck Cancer\",\"Rhabdoid\",\"Lung Cancer\",\"Lymphoma\",\"Skin Cancer\",\"Skin Cancer\",\"Gastric Cancer\",\"Head and Neck Cancer\",\"Head and Neck Cancer\",\"Liver Cancer\",\"Brain Cancer\",\"Brain Cancer\",\"Liver Cancer\",\"Myeloma\",\"Lung Cancer\",\"Lung Cancer\",\"Skin Cancer\",\"Lung Cancer\",\"Leukemia\",\"Skin Cancer\",\"Esophageal Cancer\",\"Lung Cancer\",\"Kidney Cancer\",\"Skin Cancer\",\"Colon/Colorectal Cancer\",\"Pancreatic Cancer\",\"Lymphoma\",\"Brain Cancer\",\"Lymphoma\",\"Myeloma\",\"Lung Cancer\",\"Skin Cancer\",\"Lung Cancer\",\"Lymphoma\",\"Lung Cancer\",\"Lung Cancer\",\"Lung Cancer\",\"Lung Cancer\",\"Liver Cancer\",\"Lung Cancer\",\"Brain Cancer\",\"Gastric Cancer\",\"Esophageal Cancer\",\"Lung Cancer\",\"Head and Neck Cancer\",\"Colon/Colorectal Cancer\",\"Kidney Cancer\",\"Lung Cancer\",\"Head and Neck Cancer\",\"Esophageal Cancer\",\"Esophageal Cancer\",\"Lung Cancer\",\"Lung Cancer\",\"Lymphoma\",\"Lung Cancer\",\"Lung Cancer\",\"Lung Cancer\",\"Lymphoma\",\"Head and Neck Cancer\",\"Thyroid Cancer\",\"Lung Cancer\",\"Colon/Colorectal Cancer\",\"Lung Cancer\",\"Liver Cancer\",\"Head and Neck Cancer\",\"Gastric Cancer\",\"Brain Cancer\",\"Liver Cancer\",\"Head and Neck Cancer\",\"Non-Cancerous\",\"Lung Cancer\",\"Lung Cancer\",\"Myeloma\",\"Gastric Cancer\",\"Lung Cancer\",\"Bone Cancer\",\"Skin Cancer\",\"Lung Cancer\",\"Bladder Cancer\",\"Brain Cancer\",\"Lung Cancer\",\"Gastric Cancer\",\"Brain Cancer\",\"Head and Neck Cancer\",\"Skin Cancer\",\"Lung Cancer\",\"Lung Cancer\",\"Lung Cancer\",\"Leukemia\",\"Lymphoma\",\"Lung Cancer\",\"Esophageal Cancer\",\"Head and Neck Cancer\",\"Lung Cancer\",\"Lung Cancer\",\"Lung Cancer\",\"Esophageal Cancer\",\"Lung Cancer\",\"Lymphoma\",\"Lung Cancer\",\"Skin Cancer\",\"Lung Cancer\",\"Lung Cancer\",\"Lung Cancer\",\"Kidney Cancer\",\"Gastric Cancer\",\"Head and Neck Cancer\",\"Skin Cancer\",\"Lung Cancer\",\"Neuroblastoma\",\"Brain Cancer\",\"Esophageal Cancer\",\"Skin Cancer\",\"Lymphoma\",\"Lung Cancer\",\"Myeloma\",\"Brain Cancer\",\"Skin Cancer\",\"Esophageal Cancer\",\"Lung Cancer\",\"Lung Cancer\",\"Skin Cancer\",\"Myeloma\",\"Lung Cancer\",\"Head and Neck Cancer\",\"Sarcoma\",\"Bladder Cancer\",\"Sarcoma\",\"Head and Neck Cancer\",\"Bladder Cancer\",\"Lung Cancer\",\"Colon/Colorectal Cancer\",\"Lung Cancer\",\"Lung Cancer\",\"Head and Neck Cancer\",\"Liver Cancer\",\"Lung Cancer\",\"Lung Cancer\",\"Lung Cancer\",\"Esophageal Cancer\",\"Lung Cancer\",\"Lung Cancer\",\"Lung Cancer\",\"Esophageal Cancer\",\"Lung Cancer\",\"Skin Cancer\",\"Brain Cancer\",\"Myeloma\",\"Lung Cancer\",\"Lung Cancer\",\"Lung Cancer\",\"Lung Cancer\",\"Lung Cancer\",\"Bladder Cancer\",\"Thyroid Cancer\",\"Gastric Cancer\",\"Lung Cancer\",\"Thyroid Cancer\",\"Bladder Cancer\",\"Kidney Cancer\",\"Gastric Cancer\",\"Lymphoma\",\"Esophageal Cancer\",\"Gastric Cancer\",\"Lung Cancer\",\"Lymphoma\",\"Lung Cancer\",\"Gastric Cancer\",\"Pancreatic Cancer\",\"Leukemia\",\"Leukemia\",\"Lung Cancer\",\"Gastric Cancer\",\"Colon/Colorectal Cancer\",\"Lung Cancer\",\"Leukemia\",\"Colon/Colorectal Cancer\",\"Prostate Cancer\",\"Colon/Colorectal Cancer\",\"Leukemia\",\"Skin Cancer\",\"Colon/Colorectal Cancer\",\"Bladder Cancer\",\"Lung Cancer\",\"Bile Duct Cancer\",\"Prostate Cancer\",\"Prostate Cancer\",\"Lung Cancer\",\"Leukemia\",\"Colon/Colorectal Cancer\",\"Skin Cancer\",\"Colon/Colorectal Cancer\",\"Head and Neck Cancer\",\"Leukemia\",\"Colon/Colorectal Cancer\",\"Colon/Colorectal Cancer\",\"Skin Cancer\",\"Brain Cancer\",\"Rhabdoid\",\"Liver Cancer\",\"Thyroid Cancer\",\"Bone Cancer\",\"Leukemia\",\"Bone Cancer\",\"Colon/Colorectal Cancer\",\"Skin Cancer\",\"Lung Cancer\",\"Sarcoma\",\"Brain Cancer\",\"Brain Cancer\",\"Lymphoma\",\"Rhabdoid\",\"Colon/Colorectal Cancer\",\"Brain Cancer\",\"Pancreatic Cancer\",\"Colon/Colorectal Cancer\",\"Liver Cancer\",\"Head and Neck Cancer\",\"Colon/Colorectal Cancer\",\"Pancreatic Cancer\",\"Pancreatic Cancer\",\"Lung Cancer\",\"Brain Cancer\",\"Lymphoma\",\"Lymphoma\",\"Brain Cancer\",\"Leukemia\",\"Rhabdoid\",\"Leukemia\",\"Lung Cancer\",\"Lung Cancer\",\"Pancreatic Cancer\",\"Unknown\",\"Sarcoma\",\"Skin Cancer\",\"Bone Cancer\",\"Sarcoma\",\"Brain Cancer\",\"Lymphoma\",\"Kidney Cancer\",\"Brain Cancer\",\"Head and Neck Cancer\",\"Head and Neck Cancer\",\"Brain Cancer\",\"Lung Cancer\",\"Sarcoma\",\"Sarcoma\",\"Bone Cancer\",\"Rhabdoid\",\"Neuroblastoma\",\"Liver Cancer\",\"Brain Cancer\",\"Head and Neck Cancer\",\"Neuroblastoma\",\"Skin Cancer\",\"Head and Neck Cancer\",\"Pancreatic Cancer\",\"Neuroblastoma\",\"Lung Cancer\",\"Lung Cancer\",\"Lung Cancer\",\"Pancreatic Cancer\",\"Pancreatic Cancer\",\"Pancreatic Cancer\",\"Prostate Cancer\",\"Head and Neck Cancer\",\"Lung Cancer\",\"Kidney Cancer\",\"Bladder Cancer\",\"Bladder Cancer\",\"Bladder Cancer\",\"Bladder Cancer\",\"Bladder Cancer\",\"Bladder Cancer\",\"Bladder Cancer\",\"Lung Cancer\",\"Bone Cancer\",\"Skin Cancer\",\"Lymphoma\",\"Leukemia\",\"Prostate Cancer\",\"Colon/Colorectal Cancer\",\"Colon/Colorectal Cancer\",\"Colon/Colorectal Cancer\",\"Colon/Colorectal Cancer\",\"Colon/Colorectal Cancer\",\"Bile Duct Cancer\",\"Esophageal Cancer\",\"Esophageal Cancer\",\"Esophageal Cancer\",\"Skin Cancer\",\"Skin Cancer\",\"Thyroid Cancer\",\"Endometrial/Uterine Cancer\",\"Endometrial/Uterine Cancer\",\"Rhabdoid\",\"Head and Neck Cancer\",\"Head and Neck Cancer\",\"Esophageal Cancer\",\"Lung Cancer\",\"Skin Cancer\",\"Skin Cancer\",\"Skin Cancer\",\"Skin Cancer\",\"Skin Cancer\",\"Skin Cancer\",\"Leukemia\",\"Embryonal Cancer\",\"Neuroblastoma\",\"Brain Cancer\",\"Lymphoma\",\"Head and Neck Cancer\",\"Lymphoma\",\"Lymphoma\",\"Leukemia\",\"Gastric Cancer\",\"Esophageal Cancer\",\"Leukemia\",\"Bile Duct Cancer\",\"Neuroblastoma\",\"Lymphoma\",\"Lymphoma\",\"Sarcoma\",\"Skin Cancer\",\"Brain Cancer\",\"Bone Cancer\",\"Neuroblastoma\",\"Leukemia\",\"Sarcoma\",\"Sarcoma\",\"Sarcoma\",\"Sarcoma\",\"Bone Cancer\",\"Lung Cancer\",\"Skin Cancer\",\"Colon/Colorectal Cancer\",\"Head and Neck Cancer\",\"Head and Neck Cancer\",\"Lung Cancer\",\"Lung Cancer\",\"Leukemia\",\"Bone Cancer\",\"Lung Cancer\",\"Neuroblastoma\",\"Lung Cancer\",\"Kidney Cancer\",\"Bone Cancer\",\"Bone Cancer\",\"Bone Cancer\",\"Skin Cancer\",\"Skin Cancer\",\"Bone Cancer\",\"Lung Cancer\",\"Bone Cancer\",\"Bone Cancer\",\"Bone Cancer\",\"Bone Cancer\",\"Bone Cancer\",\"Bone Cancer\",\"Bone Cancer\",\"Bone Cancer\",\"Bone Cancer\",\"Bone Cancer\",\"Skin Cancer\",\"Lung Cancer\",\"Lung Cancer\",\"Lung Cancer\",\"Lung Cancer\",\"Lung Cancer\",\"Lung Cancer\",\"Lung Cancer\",\"Lung Cancer\",\"Lung Cancer\",\"Lung Cancer\",\"Lung Cancer\",\"Lung Cancer\",\"Lung Cancer\",\"Unknown\",\"Kidney Cancer\",\"Gastric Cancer\",\"Skin Cancer\",\"Lung Cancer\",\"Lung Cancer\",\"Thyroid Cancer\",\"Kidney Cancer\",\"Lung Cancer\",\"Kidney Cancer\",\"Lung Cancer\",\"Lung Cancer\",\"Skin Cancer\",\"Gastric Cancer\",\"Pancreatic Cancer\",\"Kidney Cancer\",\"Lung Cancer\",\"Lung Cancer\",\"Lung Cancer\",\"Lung Cancer\",\"Lung Cancer\",\"Lung Cancer\",\"Bone Cancer\",\"Kidney Cancer\",\"Kidney Cancer\",\"Kidney Cancer\",\"Kidney Cancer\",\"Kidney Cancer\",\"Lung Cancer\",\"Bone Cancer\",\"Kidney Cancer\",\"Lung Cancer\",\"Lung Cancer\",\"Gastric Cancer\",\"Kidney Cancer\",\"Gastric Cancer\",\"Skin Cancer\",\"Leukemia\",\"Lymphoma\",\"Lymphoma\",\"Neuroblastoma\",\"Leukemia\",\"Lymphoma\",\"Lymphoma\",\"Leukemia\",\"Brain Cancer\",\"Brain Cancer\",\"Brain Cancer\",\"Brain Cancer\",\"Lymphoma\",\"Head and Neck Cancer\",\"Bladder Cancer\",\"Lymphoma\",\"Leukemia\",\"Lymphoma\",\"Leukemia\",\"Head and Neck Cancer\",\"Neuroblastoma\",\"Head and Neck Cancer\",\"Head and Neck Cancer\",\"Head and Neck Cancer\",\"Lymphoma\",\"Lymphoma\",\"Leukemia\",\"Brain Cancer\",\"Brain Cancer\",\"Head and Neck Cancer\",\"Neuroblastoma\",\"Leukemia\",\"Esophageal Cancer\",\"Esophageal Cancer\",\"Head and Neck Cancer\",\"Bladder Cancer\",\"Brain Cancer\",\"Non-Cancerous\",\"Lymphoma\",\"Leukemia\",\"Leukemia\",\"Neuroblastoma\",\"Neuroblastoma\",\"Neuroblastoma\",\"Neuroblastoma\",\"Lung Cancer\",\"Embryonal Cancer\",\"Leukemia\",\"Leukemia\",\"Embryonal Cancer\",\"Esophageal Cancer\",\"Lymphoma\",\"Head and Neck Cancer\",\"Head and Neck Cancer\",\"Head and Neck Cancer\",\"Head and Neck Cancer\",\"Head and Neck Cancer\",\"Lymphoma\",\"Lymphoma\",\"Lymphoma\",\"Sarcoma\",\"Liposarcoma\",\"Leukemia\",\"Non-Cancerous\",\"Leukemia\",\"Lung Cancer\",\"Leukemia\",\"Neuroblastoma\",\"Colon/Colorectal Cancer\",\"Non-Cancerous\",\"Non-Cancerous\",\"Non-Cancerous\",\"Non-Cancerous\",\"Non-Cancerous\",\"Non-Cancerous\",\"Non-Cancerous\",\"Neuroblastoma\",\"Leukemia\",\"Head and Neck Cancer\",\"Lymphoma\",\"Liver Cancer\",\"Thyroid Cancer\"],\"xaxis\":\"x\",\"yaxis\":\"y\",\"type\":\"histogram\"}],                        {\"template\":{\"data\":{\"bar\":[{\"error_x\":{\"color\":\"#2a3f5f\"},\"error_y\":{\"color\":\"#2a3f5f\"},\"marker\":{\"line\":{\"color\":\"#E5ECF6\",\"width\":0.5},\"pattern\":{\"fillmode\":\"overlay\",\"size\":10,\"solidity\":0.2}},\"type\":\"bar\"}],\"barpolar\":[{\"marker\":{\"line\":{\"color\":\"#E5ECF6\",\"width\":0.5},\"pattern\":{\"fillmode\":\"overlay\",\"size\":10,\"solidity\":0.2}},\"type\":\"barpolar\"}],\"carpet\":[{\"aaxis\":{\"endlinecolor\":\"#2a3f5f\",\"gridcolor\":\"white\",\"linecolor\":\"white\",\"minorgridcolor\":\"white\",\"startlinecolor\":\"#2a3f5f\"},\"baxis\":{\"endlinecolor\":\"#2a3f5f\",\"gridcolor\":\"white\",\"linecolor\":\"white\",\"minorgridcolor\":\"white\",\"startlinecolor\":\"#2a3f5f\"},\"type\":\"carpet\"}],\"choropleth\":[{\"colorbar\":{\"outlinewidth\":0,\"ticks\":\"\"},\"type\":\"choropleth\"}],\"contour\":[{\"colorbar\":{\"outlinewidth\":0,\"ticks\":\"\"},\"colorscale\":[[0.0,\"#0d0887\"],[0.1111111111111111,\"#46039f\"],[0.2222222222222222,\"#7201a8\"],[0.3333333333333333,\"#9c179e\"],[0.4444444444444444,\"#bd3786\"],[0.5555555555555556,\"#d8576b\"],[0.6666666666666666,\"#ed7953\"],[0.7777777777777778,\"#fb9f3a\"],[0.8888888888888888,\"#fdca26\"],[1.0,\"#f0f921\"]],\"type\":\"contour\"}],\"contourcarpet\":[{\"colorbar\":{\"outlinewidth\":0,\"ticks\":\"\"},\"type\":\"contourcarpet\"}],\"heatmap\":[{\"colorbar\":{\"outlinewidth\":0,\"ticks\":\"\"},\"colorscale\":[[0.0,\"#0d0887\"],[0.1111111111111111,\"#46039f\"],[0.2222222222222222,\"#7201a8\"],[0.3333333333333333,\"#9c179e\"],[0.4444444444444444,\"#bd3786\"],[0.5555555555555556,\"#d8576b\"],[0.6666666666666666,\"#ed7953\"],[0.7777777777777778,\"#fb9f3a\"],[0.8888888888888888,\"#fdca26\"],[1.0,\"#f0f921\"]],\"type\":\"heatmap\"}],\"heatmapgl\":[{\"colorbar\":{\"outlinewidth\":0,\"ticks\":\"\"},\"colorscale\":[[0.0,\"#0d0887\"],[0.1111111111111111,\"#46039f\"],[0.2222222222222222,\"#7201a8\"],[0.3333333333333333,\"#9c179e\"],[0.4444444444444444,\"#bd3786\"],[0.5555555555555556,\"#d8576b\"],[0.6666666666666666,\"#ed7953\"],[0.7777777777777778,\"#fb9f3a\"],[0.8888888888888888,\"#fdca26\"],[1.0,\"#f0f921\"]],\"type\":\"heatmapgl\"}],\"histogram\":[{\"marker\":{\"pattern\":{\"fillmode\":\"overlay\",\"size\":10,\"solidity\":0.2}},\"type\":\"histogram\"}],\"histogram2d\":[{\"colorbar\":{\"outlinewidth\":0,\"ticks\":\"\"},\"colorscale\":[[0.0,\"#0d0887\"],[0.1111111111111111,\"#46039f\"],[0.2222222222222222,\"#7201a8\"],[0.3333333333333333,\"#9c179e\"],[0.4444444444444444,\"#bd3786\"],[0.5555555555555556,\"#d8576b\"],[0.6666666666666666,\"#ed7953\"],[0.7777777777777778,\"#fb9f3a\"],[0.8888888888888888,\"#fdca26\"],[1.0,\"#f0f921\"]],\"type\":\"histogram2d\"}],\"histogram2dcontour\":[{\"colorbar\":{\"outlinewidth\":0,\"ticks\":\"\"},\"colorscale\":[[0.0,\"#0d0887\"],[0.1111111111111111,\"#46039f\"],[0.2222222222222222,\"#7201a8\"],[0.3333333333333333,\"#9c179e\"],[0.4444444444444444,\"#bd3786\"],[0.5555555555555556,\"#d8576b\"],[0.6666666666666666,\"#ed7953\"],[0.7777777777777778,\"#fb9f3a\"],[0.8888888888888888,\"#fdca26\"],[1.0,\"#f0f921\"]],\"type\":\"histogram2dcontour\"}],\"mesh3d\":[{\"colorbar\":{\"outlinewidth\":0,\"ticks\":\"\"},\"type\":\"mesh3d\"}],\"parcoords\":[{\"line\":{\"colorbar\":{\"outlinewidth\":0,\"ticks\":\"\"}},\"type\":\"parcoords\"}],\"pie\":[{\"automargin\":true,\"type\":\"pie\"}],\"scatter\":[{\"marker\":{\"colorbar\":{\"outlinewidth\":0,\"ticks\":\"\"}},\"type\":\"scatter\"}],\"scatter3d\":[{\"line\":{\"colorbar\":{\"outlinewidth\":0,\"ticks\":\"\"}},\"marker\":{\"colorbar\":{\"outlinewidth\":0,\"ticks\":\"\"}},\"type\":\"scatter3d\"}],\"scattercarpet\":[{\"marker\":{\"colorbar\":{\"outlinewidth\":0,\"ticks\":\"\"}},\"type\":\"scattercarpet\"}],\"scattergeo\":[{\"marker\":{\"colorbar\":{\"outlinewidth\":0,\"ticks\":\"\"}},\"type\":\"scattergeo\"}],\"scattergl\":[{\"marker\":{\"colorbar\":{\"outlinewidth\":0,\"ticks\":\"\"}},\"type\":\"scattergl\"}],\"scattermapbox\":[{\"marker\":{\"colorbar\":{\"outlinewidth\":0,\"ticks\":\"\"}},\"type\":\"scattermapbox\"}],\"scatterpolar\":[{\"marker\":{\"colorbar\":{\"outlinewidth\":0,\"ticks\":\"\"}},\"type\":\"scatterpolar\"}],\"scatterpolargl\":[{\"marker\":{\"colorbar\":{\"outlinewidth\":0,\"ticks\":\"\"}},\"type\":\"scatterpolargl\"}],\"scatterternary\":[{\"marker\":{\"colorbar\":{\"outlinewidth\":0,\"ticks\":\"\"}},\"type\":\"scatterternary\"}],\"surface\":[{\"colorbar\":{\"outlinewidth\":0,\"ticks\":\"\"},\"colorscale\":[[0.0,\"#0d0887\"],[0.1111111111111111,\"#46039f\"],[0.2222222222222222,\"#7201a8\"],[0.3333333333333333,\"#9c179e\"],[0.4444444444444444,\"#bd3786\"],[0.5555555555555556,\"#d8576b\"],[0.6666666666666666,\"#ed7953\"],[0.7777777777777778,\"#fb9f3a\"],[0.8888888888888888,\"#fdca26\"],[1.0,\"#f0f921\"]],\"type\":\"surface\"}],\"table\":[{\"cells\":{\"fill\":{\"color\":\"#EBF0F8\"},\"line\":{\"color\":\"white\"}},\"header\":{\"fill\":{\"color\":\"#C8D4E3\"},\"line\":{\"color\":\"white\"}},\"type\":\"table\"}]},\"layout\":{\"annotationdefaults\":{\"arrowcolor\":\"#2a3f5f\",\"arrowhead\":0,\"arrowwidth\":1},\"autotypenumbers\":\"strict\",\"coloraxis\":{\"colorbar\":{\"outlinewidth\":0,\"ticks\":\"\"}},\"colorscale\":{\"diverging\":[[0,\"#8e0152\"],[0.1,\"#c51b7d\"],[0.2,\"#de77ae\"],[0.3,\"#f1b6da\"],[0.4,\"#fde0ef\"],[0.5,\"#f7f7f7\"],[0.6,\"#e6f5d0\"],[0.7,\"#b8e186\"],[0.8,\"#7fbc41\"],[0.9,\"#4d9221\"],[1,\"#276419\"]],\"sequential\":[[0.0,\"#0d0887\"],[0.1111111111111111,\"#46039f\"],[0.2222222222222222,\"#7201a8\"],[0.3333333333333333,\"#9c179e\"],[0.4444444444444444,\"#bd3786\"],[0.5555555555555556,\"#d8576b\"],[0.6666666666666666,\"#ed7953\"],[0.7777777777777778,\"#fb9f3a\"],[0.8888888888888888,\"#fdca26\"],[1.0,\"#f0f921\"]],\"sequentialminus\":[[0.0,\"#0d0887\"],[0.1111111111111111,\"#46039f\"],[0.2222222222222222,\"#7201a8\"],[0.3333333333333333,\"#9c179e\"],[0.4444444444444444,\"#bd3786\"],[0.5555555555555556,\"#d8576b\"],[0.6666666666666666,\"#ed7953\"],[0.7777777777777778,\"#fb9f3a\"],[0.8888888888888888,\"#fdca26\"],[1.0,\"#f0f921\"]]},\"colorway\":[\"#636efa\",\"#EF553B\",\"#00cc96\",\"#ab63fa\",\"#FFA15A\",\"#19d3f3\",\"#FF6692\",\"#B6E880\",\"#FF97FF\",\"#FECB52\"],\"font\":{\"color\":\"#2a3f5f\"},\"geo\":{\"bgcolor\":\"white\",\"lakecolor\":\"white\",\"landcolor\":\"#E5ECF6\",\"showlakes\":true,\"showland\":true,\"subunitcolor\":\"white\"},\"hoverlabel\":{\"align\":\"left\"},\"hovermode\":\"closest\",\"mapbox\":{\"style\":\"light\"},\"paper_bgcolor\":\"white\",\"plot_bgcolor\":\"#E5ECF6\",\"polar\":{\"angularaxis\":{\"gridcolor\":\"white\",\"linecolor\":\"white\",\"ticks\":\"\"},\"bgcolor\":\"#E5ECF6\",\"radialaxis\":{\"gridcolor\":\"white\",\"linecolor\":\"white\",\"ticks\":\"\"}},\"scene\":{\"xaxis\":{\"backgroundcolor\":\"#E5ECF6\",\"gridcolor\":\"white\",\"gridwidth\":2,\"linecolor\":\"white\",\"showbackground\":true,\"ticks\":\"\",\"zerolinecolor\":\"white\"},\"yaxis\":{\"backgroundcolor\":\"#E5ECF6\",\"gridcolor\":\"white\",\"gridwidth\":2,\"linecolor\":\"white\",\"showbackground\":true,\"ticks\":\"\",\"zerolinecolor\":\"white\"},\"zaxis\":{\"backgroundcolor\":\"#E5ECF6\",\"gridcolor\":\"white\",\"gridwidth\":2,\"linecolor\":\"white\",\"showbackground\":true,\"ticks\":\"\",\"zerolinecolor\":\"white\"}},\"shapedefaults\":{\"line\":{\"color\":\"#2a3f5f\"}},\"ternary\":{\"aaxis\":{\"gridcolor\":\"white\",\"linecolor\":\"white\",\"ticks\":\"\"},\"baxis\":{\"gridcolor\":\"white\",\"linecolor\":\"white\",\"ticks\":\"\"},\"bgcolor\":\"#E5ECF6\",\"caxis\":{\"gridcolor\":\"white\",\"linecolor\":\"white\",\"ticks\":\"\"}},\"title\":{\"x\":0.05},\"xaxis\":{\"automargin\":true,\"gridcolor\":\"white\",\"linecolor\":\"white\",\"ticks\":\"\",\"title\":{\"standoff\":15},\"zerolinecolor\":\"white\",\"zerolinewidth\":2},\"yaxis\":{\"automargin\":true,\"gridcolor\":\"white\",\"linecolor\":\"white\",\"ticks\":\"\",\"title\":{\"standoff\":15},\"zerolinecolor\":\"white\",\"zerolinewidth\":2}}},\"xaxis\":{\"anchor\":\"y\",\"domain\":[0.0,1.0],\"title\":{\"text\":\"primary_disease\"}},\"yaxis\":{\"anchor\":\"x\",\"domain\":[0.0,1.0],\"title\":{\"text\":\"count\"}},\"legend\":{\"title\":{\"text\":\"sex\"},\"tracegroupgap\":0},\"margin\":{\"t\":60},\"barmode\":\"relative\"},                        {\"responsive\": true}                    ).then(function(){\n",
              "                            \n",
              "var gd = document.getElementById('c7033d29-0a8a-47f9-ad09-9902a90fece7');\n",
              "var x = new MutationObserver(function (mutations, observer) {{\n",
              "        var display = window.getComputedStyle(gd).display;\n",
              "        if (!display || display === 'none') {{\n",
              "            console.log([gd, 'removed!']);\n",
              "            Plotly.purge(gd);\n",
              "            observer.disconnect();\n",
              "        }}\n",
              "}});\n",
              "\n",
              "// Listen for the removal of the full notebook cells\n",
              "var notebookContainer = gd.closest('#notebook-container');\n",
              "if (notebookContainer) {{\n",
              "    x.observe(notebookContainer, {childList: true});\n",
              "}}\n",
              "\n",
              "// Listen for the clearing of the current output cell\n",
              "var outputEl = gd.closest('.output');\n",
              "if (outputEl) {{\n",
              "    x.observe(outputEl, {childList: true});\n",
              "}}\n",
              "\n",
              "                        })                };                            </script>        </div>\n",
              "</body>\n",
              "</html>"
            ]
          },
          "metadata": {}
        }
      ],
      "source": [
        "px.histogram(df, x = 'primary_disease', color = 'sex')"
      ]
    },
    {
      "cell_type": "code",
      "execution_count": 30,
      "metadata": {
        "scrolled": true,
        "colab": {
          "base_uri": "https://localhost:8080/",
          "height": 542
        },
        "id": "m6YM-uchtfpX",
        "outputId": "fee9d600-2416-4911-e0ec-2d14a8f0938a"
      },
      "outputs": [
        {
          "output_type": "display_data",
          "data": {
            "text/html": [
              "<html>\n",
              "<head><meta charset=\"utf-8\" /></head>\n",
              "<body>\n",
              "    <div>            <script src=\"https://cdnjs.cloudflare.com/ajax/libs/mathjax/2.7.5/MathJax.js?config=TeX-AMS-MML_SVG\"></script><script type=\"text/javascript\">if (window.MathJax) {MathJax.Hub.Config({SVG: {font: \"STIX-Web\"}});}</script>                <script type=\"text/javascript\">window.PlotlyConfig = {MathJaxConfig: 'local'};</script>\n",
              "        <script src=\"https://cdn.plot.ly/plotly-2.8.3.min.js\"></script>                <div id=\"6de7053d-fe60-4ccc-a335-8feb3ad89210\" class=\"plotly-graph-div\" style=\"height:525px; width:100%;\"></div>            <script type=\"text/javascript\">                                    window.PLOTLYENV=window.PLOTLYENV || {};                                    if (document.getElementById(\"6de7053d-fe60-4ccc-a335-8feb3ad89210\")) {                    Plotly.newPlot(                        \"6de7053d-fe60-4ccc-a335-8feb3ad89210\",                        [{\"alignmentgroup\":\"True\",\"bingroup\":\"x\",\"hovertemplate\":\"source=Academic lab<br>primary_disease=%{x}<br>count=%{y}<extra></extra>\",\"legendgroup\":\"Academic lab\",\"marker\":{\"color\":\"#636efa\",\"pattern\":{\"shape\":\"\"}},\"name\":\"Academic lab\",\"offsetgroup\":\"Academic lab\",\"orientation\":\"v\",\"showlegend\":true,\"x\":[\"Kidney Cancer\",\"Lung Cancer\",\"Non-Cancerous\",\"Non-Cancerous\",\"Lymphoma\",\"Non-Cancerous\",\"Rhabdoid\",\"Esophageal Cancer\",\"Kidney Cancer\",\"Brain Cancer\",\"Kidney Cancer\",\"Brain Cancer\",\"Non-Cancerous\",\"Rhabdoid\",\"Brain Cancer\",\"Brain Cancer\",\"Non-Cancerous\",\"Pancreatic Cancer\",\"Myeloma\",\"Skin Cancer\",\"Bone Cancer\",\"Bone Cancer\",\"Bone Cancer\",\"Bone Cancer\",\"Non-Cancerous\",\"Brain Cancer\",\"Brain Cancer\",\"Lung Cancer\",\"Non-Cancerous\",\"Lymphoma\",\"Rhabdoid\",\"Lymphoma\",\"Rhabdoid\",\"Skin Cancer\",\"Skin Cancer\",\"Lymphoma\",\"Lymphoma\",\"Lymphoma\",\"Lymphoma\",\"Lymphoma\",\"Skin Cancer\",\"Kidney Cancer\",\"Kidney Cancer\",\"Lymphoma\",\"Rhabdoid\",\"Brain Cancer\",\"Non-Cancerous\",\"Sarcoma\",\"Ovarian Cancer\",\"Ovarian Cancer\",\"Leukemia\",\"Bone Cancer\",\"Ovarian Cancer\",\"Sarcoma\",\"Liposarcoma\",\"Liposarcoma\",\"Liposarcoma\",\"Liposarcoma\",\"Liposarcoma\",\"Liposarcoma\",\"Liposarcoma\",\"Liposarcoma\",\"Liposarcoma\",\"Bone Cancer\",\"Bone Cancer\",\"Bile Duct Cancer\",\"Bile Duct Cancer\",\"Bile Duct Cancer\",\"Bile Duct Cancer\",\"Bile Duct Cancer\",\"Bile Duct Cancer\",\"Bile Duct Cancer\",\"Bile Duct Cancer\",\"Bile Duct Cancer\",\"Bile Duct Cancer\",\"Bile Duct Cancer\",\"Bile Duct Cancer\",\"Bile Duct Cancer\",\"Bile Duct Cancer\",\"Bile Duct Cancer\",\"Bile Duct Cancer\",\"Bile Duct Cancer\",\"Bile Duct Cancer\",\"Bile Duct Cancer\",\"Bile Duct Cancer\",\"Bone Cancer\",\"Bile Duct Cancer\",\"Bile Duct Cancer\",\"Gallbladder Cancer\",\"Bile Duct Cancer\",\"Pancreatic Cancer\",\"Skin Cancer\",\"Skin Cancer\",\"Skin Cancer\",\"Skin Cancer\",\"Eye Cancer\",\"Eye Cancer\",\"Eye Cancer\",\"Eye Cancer\",\"Eye Cancer\",\"Breast Cancer\",\"Skin Cancer\",\"Skin Cancer\",\"Skin Cancer\",\"Skin Cancer\",\"Bone Cancer\",\"Skin Cancer\",\"Skin Cancer\",\"Skin Cancer\",\"Skin Cancer\",\"Skin Cancer\",\"Sarcoma\",\"Sarcoma\",\"Unknown\",\"Unknown\",\"Brain Cancer\",\"Lung Cancer\",\"Leukemia\",\"Brain Cancer\",\"Lymphoma\",\"Myeloma\",\"Lung Cancer\",\"Bladder Cancer\",\"Brain Cancer\",\"Lung Cancer\",\"Rhabdoid\",\"Brain Cancer\",\"Brain Cancer\",\"Kidney Cancer\",\"Lung Cancer\",\"Kidney Cancer\",\"Kidney Cancer\",\"Brain Cancer\",\"Bone Cancer\",\"Brain Cancer\",\"Leukemia\",\"Lung Cancer\",\"Lung Cancer\",\"Skin Cancer\",\"Kidney Cancer\",\"Myeloma\",\"Cervical Cancer\",\"Bone Cancer\",\"Brain Cancer\",\"Myeloma\",\"Ovarian Cancer\",\"Lung Cancer\",\"Brain Cancer\",\"Rhabdoid\",\"Kidney Cancer\",\"Brain Cancer\",\"Brain Cancer\",\"Brain Cancer\",\"Lung Cancer\",\"Lung Cancer\",\"Lung Cancer\",\"Lung Cancer\",\"Brain Cancer\",\"Myeloma\",\"Skin Cancer\",\"Lung Cancer\",\"Lung Cancer\",\"Lung Cancer\",\"Lung Cancer\",\"Brain Cancer\",\"Lung Cancer\",\"Rhabdoid\",\"Bone Cancer\",\"Rhabdoid\",\"Sarcoma\",\"Brain Cancer\",\"Brain Cancer\",\"Lymphoma\",\"Rhabdoid\",\"Lymphoma\",\"Ovarian Cancer\",\"Brain Cancer\",\"Lymphoma\",\"Sarcoma\",\"Lymphoma\",\"Lymphoma\",\"Rhabdoid\",\"Skin Cancer\",\"Lung Cancer\",\"Ovarian Cancer\",\"Sarcoma\",\"Bone Cancer\",\"Bone Cancer\",\"Sarcoma\",\"Bone Cancer\",\"Rhabdoid\",\"Rhabdoid\",\"Rhabdoid\",\"Head and Neck Cancer\",\"Brain Cancer\",\"Sarcoma\",\"Sarcoma\",\"Sarcoma\",\"Sarcoma\",\"Ovarian Cancer\",\"Sarcoma\",\"Bone Cancer\",\"Neuroblastoma\",\"Sarcoma\",\"Ovarian Cancer\",\"Bone Cancer\",\"Bone Cancer\",\"Leukemia\",\"Leukemia\",\"Leukemia\",\"Leukemia\",\"Sarcoma\",\"Sarcoma\",\"Sarcoma\",\"Sarcoma\",\"Sarcoma\",\"Bile Duct Cancer\",\"Gallbladder Cancer\",\"Bone Cancer\",\"Bone Cancer\",\"Skin Cancer\"],\"xaxis\":\"x\",\"yaxis\":\"y\",\"type\":\"histogram\"},{\"alignmentgroup\":\"True\",\"bingroup\":\"x\",\"hovertemplate\":\"source=DSMZ<br>primary_disease=%{x}<br>count=%{y}<extra></extra>\",\"legendgroup\":\"DSMZ\",\"marker\":{\"color\":\"#EF553B\",\"pattern\":{\"shape\":\"\"}},\"name\":\"DSMZ\",\"offsetgroup\":\"DSMZ\",\"orientation\":\"v\",\"showlegend\":true,\"x\":[\"Leukemia\",\"Lymphoma\",\"Leukemia\",\"Leukemia\",\"Leukemia\",\"Leukemia\",\"Leukemia\",\"Lymphoma\",\"Lymphoma\",\"Myeloma\",\"Leukemia\",\"Leukemia\",\"Non-Cancerous\",\"Leukemia\",\"Lung Cancer\",\"Leukemia\",\"Ovarian Cancer\",\"Skin Cancer\",\"Pancreatic Cancer\",\"Lymphoma\",\"Head and Neck Cancer\",\"Leukemia\",\"Thyroid Cancer\",\"Neuroblastoma\",\"Leukemia\",\"Neuroblastoma\",\"Leukemia\",\"Leukemia\",\"Leukemia\",\"Lymphoma\",\"Leukemia\",\"Leukemia\",\"Leukemia\",\"Teratoma\",\"Lymphoma\",\"Head and Neck Cancer\",\"Head and Neck Cancer\",\"Head and Neck Cancer\",\"Head and Neck Cancer\",\"Head and Neck Cancer\",\"Head and Neck Cancer\",\"Head and Neck Cancer\",\"Leukemia\",\"Leukemia\",\"Gastric Cancer\",\"Colon/Colorectal Cancer\",\"Colon/Colorectal Cancer\",\"Colon/Colorectal Cancer\",\"Pancreatic Cancer\",\"Brain Cancer\",\"Unknown\",\"Leukemia\",\"Leukemia\",\"Ovarian Cancer\",\"Leukemia\",\"Pancreatic Cancer\",\"Pancreatic Cancer\",\"Myeloma\",\"Brain Cancer\",\"Breast Cancer\",\"Sarcoma\",\"Lymphoma\",\"Lymphoma\",\"Thyroid Cancer\",\"Leukemia\",\"Leukemia\",\"Lymphoma\",\"Neuroblastoma\",\"Brain Cancer\",\"Neuroblastoma\",\"Sarcoma\",\"Leukemia\",\"Brain Cancer\",\"Leukemia\",\"Lymphoma\",\"Leukemia\",\"Leukemia\",\"Breast Cancer\",\"Pancreatic Cancer\",\"Lymphoma\",\"Neuroblastoma\",\"Brain Cancer\",\"Bladder Cancer\",\"Leukemia\",\"Thyroid Cancer\",\"Lung Cancer\",\"Myeloma\",\"Unknown\",\"Thyroid Cancer\",\"Endometrial/Uterine Cancer\",\"Myeloma\",\"Leukemia\",\"Leukemia\",\"Leukemia\",\"Colon/Colorectal Cancer\",\"Bone Cancer\",\"Breast Cancer\",\"Pancreatic Cancer\",\"Leukemia\",\"Lymphoma\",\"Lymphoma\",\"Pancreatic Cancer\",\"Brain Cancer\",\"Lymphoma\",\"Colon/Colorectal Cancer\",\"Neuroblastoma\",\"Leukemia\",\"Lymphoma\",\"Lymphoma\",\"Lymphoma\",\"Leukemia\",\"Leukemia\",\"Leukemia\",\"Ovarian Cancer\",\"Lymphoma\",\"Brain Cancer\",\"Leukemia\",\"Breast Cancer\",\"Pancreatic Cancer\",\"Leukemia\",\"Lymphoma\",\"Colon/Colorectal Cancer\",\"Leukemia\",\"Colon/Colorectal Cancer\",\"Lymphoma\",\"Leukemia\",\"Myeloma\",\"Lymphoma\",\"Leukemia\",\"Leukemia\",\"Myeloma\",\"Bone Cancer\",\"Lymphoma\",\"Leukemia\",\"Bone Cancer\",\"Leukemia\",\"Endometrial/Uterine Cancer\",\"Leukemia\",\"Skin Cancer\",\"Thyroid Cancer\",\"Kidney Cancer\",\"Bladder Cancer\",\"Bladder Cancer\",\"Leukemia\",\"Lung Cancer\",\"Bone Cancer\",\"Head and Neck Cancer\",\"Lymphoma\",\"Bladder Cancer\",\"Head and Neck Cancer\",\"Skin Cancer\",\"Lung Cancer\",\"Bladder Cancer\",\"Ovarian Cancer\",\"Lung Cancer\",\"Bladder Cancer\",\"Lung Cancer\",\"Pancreatic Cancer\",\"Lung Cancer\",\"Leukemia\",\"Lymphoma\",\"Skin Cancer\",\"Lung Cancer\",\"Leukemia\",\"Esophageal Cancer\",\"Leukemia\",\"Breast Cancer\",\"Skin Cancer\",\"Myeloma\",\"Lymphoma\",\"Lung Cancer\",\"Lymphoma\",\"Lymphoma\",\"Lung Cancer\",\"Lymphoma\",\"Sarcoma\",\"Esophageal Cancer\",\"Lymphoma\",\"Breast Cancer\",\"Thyroid Cancer\",\"Esophageal Cancer\",\"Non-Cancerous\",\"Myeloma\",\"Leukemia\",\"Bladder Cancer\",\"Lymphoma\",\"Esophageal Cancer\",\"Leukemia\",\"Esophageal Cancer\",\"Lung Cancer\",\"Kidney Cancer\",\"Leukemia\",\"Colon/Colorectal Cancer\",\"Bladder Cancer\",\"Skin Cancer\",\"Lymphoma\",\"Esophageal Cancer\",\"Skin Cancer\",\"Skin Cancer\",\"Lymphoma\",\"Myeloma\",\"Esophageal Cancer\",\"Esophageal Cancer\",\"Lung Cancer\",\"Sarcoma\",\"Myeloma\",\"Lung Cancer\",\"Esophageal Cancer\",\"Breast Cancer\",\"Breast Cancer\",\"Esophageal Cancer\",\"Esophageal Cancer\",\"Lung Cancer\",\"Endometrial/Uterine Cancer\",\"Skin Cancer\",\"Skin Cancer\",\"Colon/Colorectal Cancer\",\"Bladder Cancer\",\"Breast Cancer\",\"Endometrial/Uterine Cancer\",\"Skin Cancer\",\"Leukemia\",\"Leukemia\",\"Leukemia\",\"Lung Cancer\",\"Ovarian Cancer\",\"Leukemia\",\"Leukemia\",\"Leukemia\",\"Gastric Cancer\",\"Endometrial/Uterine Cancer\",\"Leukemia\",\"Leukemia\",\"Endometrial/Uterine Cancer\",\"Leukemia\",\"Thyroid Cancer\",\"Skin Cancer\",\"Skin Cancer\",\"Head and Neck Cancer\",\"Leukemia\",\"Lymphoma\",\"Leukemia\",\"Brain Cancer\",\"Lymphoma\",\"Head and Neck Cancer\",\"Thyroid Cancer\",\"Neuroblastoma\",\"Thyroid Cancer\",\"Pancreatic Cancer\",\"Neuroblastoma\",\"Neuroblastoma\",\"Neuroblastoma\",\"Esophageal Cancer\",\"Pancreatic Cancer\",\"Pancreatic Cancer\",\"Pancreatic Cancer\",\"Pancreatic Cancer\",\"Pancreatic Cancer\",\"Pancreatic Cancer\",\"Pancreatic Cancer\",\"Lung Cancer\",\"Lymphoma\",\"Leukemia\",\"Prostate Cancer\",\"Leukemia\",\"Leukemia\",\"Bile Duct Cancer\",\"Leukemia\",\"Lymphoma\",\"Lymphoma\",\"Leukemia\",\"Cervical Cancer\",\"Leukemia\",\"Bile Duct Cancer\",\"Lymphoma\",\"Lymphoma\",\"Lymphoma\",\"Lymphoma\",\"Bone Cancer\",\"Breast Cancer\",\"Breast Cancer\"],\"xaxis\":\"x\",\"yaxis\":\"y\",\"type\":\"histogram\"},{\"alignmentgroup\":\"True\",\"bingroup\":\"x\",\"hovertemplate\":\"source=ATCC<br>primary_disease=%{x}<br>count=%{y}<extra></extra>\",\"legendgroup\":\"ATCC\",\"marker\":{\"color\":\"#00cc96\",\"pattern\":{\"shape\":\"\"}},\"name\":\"ATCC\",\"offsetgroup\":\"ATCC\",\"orientation\":\"v\",\"showlegend\":true,\"x\":[\"Non-Cancerous\",\"Sarcoma\",\"Non-Cancerous\",\"Lymphoma\",\"Non-Cancerous\",\"Pancreatic Cancer\",\"Non-Cancerous\",\"Non-Cancerous\",\"Lymphoma\",\"Non-Cancerous\",\"Non-Cancerous\",\"Leukemia\",\"Non-Cancerous\",\"Lung Cancer\",\"Non-Cancerous\",\"Non-Cancerous\",\"Non-Cancerous\",\"Lymphoma\",\"Non-Cancerous\",\"Non-Cancerous\",\"Non-Cancerous\",\"Non-Cancerous\",\"Lymphoma\",\"Breast Cancer\",\"Lung Cancer\",\"Non-Cancerous\",\"Bone Cancer\",\"Lung Cancer\",\"Non-Cancerous\",\"Non-Cancerous\",\"Lymphoma\",\"Lung Cancer\",\"Non-Cancerous\",\"Skin Cancer\",\"Lung Cancer\",\"Non-Cancerous\",\"Lung Cancer\",\"Lung Cancer\",\"Prostate Cancer\",\"Non-Cancerous\",\"Non-Cancerous\",\"Prostate Cancer\",\"Breast Cancer\",\"Eye Cancer\",\"Non-Cancerous\",\"Non-Cancerous\",\"Non-Cancerous\",\"Non-Cancerous\",\"Non-Cancerous\",\"Non-Cancerous\",\"Unknown\",\"Ovarian Cancer\",\"Leukemia\",\"Colon/Colorectal Cancer\",\"Leukemia\",\"Colon/Colorectal Cancer\",\"Skin Cancer\",\"Colon/Colorectal Cancer\",\"Lung Cancer\",\"Skin Cancer\",\"Lung Cancer\",\"Breast Cancer\",\"Bladder Cancer\",\"Breast Cancer\",\"Lung Cancer\",\"Pancreatic Cancer\",\"Lung Cancer\",\"Bone Cancer\",\"Brain Cancer\",\"Bone Cancer\",\"Pancreatic Cancer\",\"Breast Cancer\",\"Leukemia\",\"Kidney Cancer\",\"Ovarian Cancer\",\"Myeloma\",\"Bone Cancer\",\"Sarcoma\",\"Brain Cancer\",\"Leukemia\",\"Pancreatic Cancer\",\"Lymphoma\",\"Lung Cancer\",\"Brain Cancer\",\"Lymphoma\",\"Leukemia\",\"Leukemia\",\"Brain Cancer\",\"Leukemia\",\"Leukemia\",\"Bone Cancer\",\"Non-Cancerous\",\"Bone Cancer\",\"Non-Cancerous\",\"Prostate Cancer\",\"Lung Cancer\",\"Pancreatic Cancer\",\"Brain Cancer\",\"Rhabdoid\",\"Breast Cancer\",\"Ovarian Cancer\",\"Leukemia\",\"Pancreatic Cancer\",\"Breast Cancer\",\"Pancreatic Cancer\",\"Prostate Cancer\",\"Neuroblastoma\",\"Lung Cancer\",\"Lung Cancer\",\"Non-Cancerous\",\"Unknown\",\"Non-Cancerous\",\"Non-Cancerous\",\"Pancreatic Cancer\",\"Pancreatic Cancer\",\"Sarcoma\",\"Leukemia\",\"Breast Cancer\",\"Breast Cancer\",\"Neuroblastoma\",\"Lung Cancer\",\"Leukemia\",\"Brain Cancer\",\"Lung Cancer\",\"Pancreatic Cancer\",\"Lymphoma\",\"Thyroid Cancer\",\"Pancreatic Cancer\",\"Sarcoma\",\"Prostate Cancer\",\"Pancreatic Cancer\",\"Head and Neck Cancer\",\"Non-Cancerous\",\"Lung Cancer\",\"Head and Neck Cancer\",\"Breast Cancer\",\"Non-Cancerous\",\"Rhabdoid\",\"Head and Neck Cancer\",\"Brain Cancer\",\"Non-Cancerous\",\"Skin Cancer\",\"Liver Cancer\",\"Pancreatic Cancer\",\"Breast Cancer\",\"Kidney Cancer\",\"Pancreatic Cancer\",\"Colon/Colorectal Cancer\",\"Head and Neck Cancer\",\"Non-Cancerous\",\"Bladder Cancer\",\"Breast Cancer\",\"Colon/Colorectal Cancer\",\"Colon/Colorectal Cancer\",\"Head and Neck Cancer\",\"Breast Cancer\",\"Neuroblastoma\",\"Lung Cancer\",\"Pancreatic Cancer\",\"Skin Cancer\",\"Breast Cancer\",\"Breast Cancer\",\"Lung Cancer\",\"Lung Cancer\",\"Ovarian Cancer\",\"Lung Cancer\",\"Endometrial/Uterine Cancer\",\"Lung Cancer\",\"Gastric Cancer\",\"Skin Cancer\",\"Non-Cancerous\",\"Lung Cancer\",\"Neuroblastoma\",\"Lung Cancer\",\"Neuroblastoma\",\"Skin Cancer\",\"Lung Cancer\",\"Brain Cancer\",\"Lymphoma\",\"Lung Cancer\",\"Neuroblastoma\",\"Lung Cancer\",\"Skin Cancer\",\"Breast Cancer\",\"Breast Cancer\",\"Pancreatic Cancer\",\"Lung Cancer\",\"Lung Cancer\",\"Bone Cancer\",\"Colon/Colorectal Cancer\",\"Liver Cancer\",\"Bone Cancer\",\"Neuroblastoma\",\"Lung Cancer\",\"Lymphoma\",\"Breast Cancer\",\"Kidney Cancer\",\"Lung Cancer\",\"Lung Cancer\",\"Colon/Colorectal Cancer\",\"Bladder Cancer\",\"Leukemia\",\"Leukemia\",\"Brain Cancer\",\"Lung Cancer\",\"Lung Cancer\",\"Lung Cancer\",\"Bladder Cancer\",\"Lung Cancer\",\"Colon/Colorectal Cancer\",\"Skin Cancer\",\"Colon/Colorectal Cancer\",\"Leukemia\",\"Bone Cancer\",\"Kidney Cancer\",\"Lung Cancer\",\"Lung Cancer\",\"Pancreatic Cancer\",\"Liver Cancer\",\"Colon/Colorectal Cancer\",\"Liver Cancer\",\"Skin Cancer\",\"Gastric Cancer\",\"Kidney Cancer\",\"Lung Cancer\",\"Kidney Cancer\",\"Lung Cancer\",\"Brain Cancer\",\"Lymphoma\",\"Skin Cancer\",\"Lung Cancer\",\"Lung Cancer\",\"Sarcoma\",\"Lung Cancer\",\"Lung Cancer\",\"Skin Cancer\",\"Colon/Colorectal Cancer\",\"Skin Cancer\",\"Liver Cancer\",\"Lung Cancer\",\"Liver Cancer\",\"Colon/Colorectal Cancer\",\"Colon/Colorectal Cancer\",\"Liver Cancer\",\"Lung Cancer\",\"Colon/Colorectal Cancer\",\"Lung Cancer\",\"Lymphoma\",\"Lung Cancer\",\"Lung Cancer\",\"Lung Cancer\",\"Lung Cancer\",\"Bladder Cancer\",\"Lung Cancer\",\"Lung Cancer\",\"Pancreatic Cancer\",\"Breast Cancer\",\"Gastric Cancer\",\"Non-Cancerous\",\"Non-Cancerous\",\"Bladder Cancer\",\"Leukemia\",\"Colon/Colorectal Cancer\",\"Breast Cancer\",\"Kidney Cancer\",\"Cervical Cancer\",\"Leukemia\",\"Brain Cancer\",\"Lung Cancer\",\"Lymphoma\",\"Breast Cancer\",\"Brain Cancer\",\"Skin Cancer\",\"Breast Cancer\",\"Skin Cancer\",\"Gastric Cancer\",\"Lymphoma\",\"Lung Cancer\",\"Lung Cancer\",\"Lung Cancer\",\"Lung Cancer\",\"Lung Cancer\",\"Brain Cancer\",\"Pancreatic Cancer\",\"Lung Cancer\",\"Bone Cancer\",\"Skin Cancer\",\"Gastric Cancer\",\"Breast Cancer\",\"Breast Cancer\",\"Liver Cancer\",\"Myeloma\",\"Lung Cancer\",\"Skin Cancer\",\"Lung Cancer\",\"Lung Cancer\",\"Skin Cancer\",\"Skin Cancer\",\"Lung Cancer\",\"Kidney Cancer\",\"Colon/Colorectal Cancer\",\"Lymphoma\",\"Myeloma\",\"Lung Cancer\",\"Lung Cancer\",\"Breast Cancer\",\"Lung Cancer\",\"Lung Cancer\",\"Lung Cancer\",\"Colon/Colorectal Cancer\",\"Lung Cancer\",\"Breast Cancer\",\"Lung Cancer\",\"Breast Cancer\",\"Lung Cancer\",\"Lymphoma\",\"Ovarian Cancer\",\"Lung Cancer\",\"Bladder Cancer\",\"Colon/Colorectal Cancer\",\"Bladder Cancer\",\"Breast Cancer\",\"Lung Cancer\",\"Lung Cancer\",\"Skin Cancer\",\"Lung Cancer\",\"Liver Cancer\",\"Head and Neck Cancer\",\"Lung Cancer\",\"Lung Cancer\",\"Bone Cancer\",\"Lung Cancer\",\"Breast Cancer\",\"Breast Cancer\",\"Lung Cancer\",\"Lung Cancer\",\"Breast Cancer\",\"Sarcoma\",\"Lung Cancer\",\"Lung Cancer\",\"Lung Cancer\",\"Breast Cancer\",\"Lung Cancer\",\"Lymphoma\",\"Skin Cancer\",\"Lung Cancer\",\"Lung Cancer\",\"Gastric Cancer\",\"Skin Cancer\",\"Lung Cancer\",\"Ovarian Cancer\",\"Skin Cancer\",\"Lung Cancer\",\"Myeloma\",\"Breast Cancer\",\"Brain Cancer\",\"Colon/Colorectal Cancer\",\"Skin Cancer\",\"Breast Cancer\",\"Myeloma\",\"Lung Cancer\",\"Head and Neck Cancer\",\"Sarcoma\",\"Bladder Cancer\",\"Lung Cancer\",\"Colon/Colorectal Cancer\",\"Head and Neck Cancer\",\"Breast Cancer\",\"Lung Cancer\",\"Lung Cancer\",\"Lung Cancer\",\"Breast Cancer\",\"Lung Cancer\",\"Brain Cancer\",\"Lung Cancer\",\"Lung Cancer\",\"Lung Cancer\",\"Leukemia\",\"Lung Cancer\",\"Breast Cancer\",\"Lymphoma\",\"Gastric Cancer\",\"Brain Cancer\",\"Skin Cancer\",\"Ovarian Cancer\",\"Lung Cancer\",\"Lung Cancer\",\"Lung Cancer\",\"Lung Cancer\",\"Lung Cancer\",\"Lung Cancer\",\"Lung Cancer\",\"Bladder Cancer\",\"Ovarian Cancer\",\"Breast Cancer\",\"Lung Cancer\",\"Lymphoma\",\"Lung Cancer\",\"Lung Cancer\",\"Lymphoma\",\"Lung Cancer\",\"Breast Cancer\",\"Lung Cancer\",\"Breast Cancer\",\"Skin Cancer\",\"Gastric Cancer\",\"Breast Cancer\",\"Sarcoma\",\"Endometrial/Uterine Cancer\",\"Endometrial/Uterine Cancer\",\"Colon/Colorectal Cancer\",\"Lung Cancer\",\"Colon/Colorectal Cancer\",\"Lung Cancer\",\"Leukemia\",\"Endometrial/Uterine Cancer\",\"Prostate Cancer\",\"Colon/Colorectal Cancer\",\"Colon/Colorectal Cancer\",\"Leukemia\",\"Endometrial/Uterine Cancer\",\"Colon/Colorectal Cancer\",\"Colon/Colorectal Cancer\",\"Bladder Cancer\",\"Prostate Cancer\",\"Prostate Cancer\",\"Lung Cancer\",\"Colon/Colorectal Cancer\",\"Skin Cancer\",\"Colon/Colorectal Cancer\",\"Bone Cancer\",\"Liver Cancer\",\"Skin Cancer\",\"Colon/Colorectal Cancer\",\"Lung Cancer\",\"Colon/Colorectal Cancer\",\"Lymphoma\",\"Lung Cancer\",\"Cervical Cancer\",\"Leukemia\",\"Lung Cancer\",\"Lung Cancer\",\"Pancreatic Cancer\",\"Unknown\",\"Neuroblastoma\",\"Sarcoma\",\"Skin Cancer\",\"Brain Cancer\",\"Skin Cancer\",\"Eye Cancer\",\"Liver Cancer\",\"Thyroid Cancer\",\"Skin Cancer\",\"Cervical Cancer\",\"Cervical Cancer\",\"Cervical Cancer\",\"Cervical Cancer\",\"Cervical Cancer\",\"Breast Cancer\",\"Cervical Cancer\",\"Cervical Cancer\",\"Lung Cancer\",\"Lung Cancer\",\"Lung Cancer\",\"Lung Cancer\",\"Ovarian Cancer\",\"Prostate Cancer\",\"Head and Neck Cancer\",\"Kidney Cancer\",\"Colon/Colorectal Cancer\",\"Cervical Cancer\",\"Adrenal Cancer\",\"Cervical Cancer\",\"Lung Cancer\",\"Ovarian Cancer\",\"Eye Cancer\",\"Skin Cancer\",\"Lymphoma\",\"Cervical Cancer\",\"Endometrial/Uterine Cancer\",\"Endometrial/Uterine Cancer\",\"Embryonal Cancer\",\"Lung Cancer\",\"Lung Cancer\",\"Lymphoma\",\"Sarcoma\",\"Brain Cancer\",\"Lung Cancer\",\"Lung Cancer\",\"Lymphoma\",\"Lymphoma\",\"Colon/Colorectal Cancer\",\"Lymphoma\",\"Lymphoma\",\"Embryonal Cancer\"],\"xaxis\":\"x\",\"yaxis\":\"y\",\"type\":\"histogram\"},{\"alignmentgroup\":\"True\",\"bingroup\":\"x\",\"hovertemplate\":\"source=HSRRB<br>primary_disease=%{x}<br>count=%{y}<extra></extra>\",\"legendgroup\":\"HSRRB\",\"marker\":{\"color\":\"#ab63fa\",\"pattern\":{\"shape\":\"\"}},\"name\":\"HSRRB\",\"offsetgroup\":\"HSRRB\",\"orientation\":\"v\",\"showlegend\":true,\"x\":[\"Leukemia\",\"Kidney Cancer\",\"Myeloma\",\"Colon/Colorectal Cancer\",\"Myeloma\",\"Myeloma\",\"Kidney Cancer\",\"Gastric Cancer\",\"Bile Duct Cancer\",\"Leukemia\",\"Bone Cancer\",\"Brain Cancer\",\"Lung Cancer\",\"Pancreatic Cancer\",\"Brain Cancer\",\"Gastric Cancer\",\"Leukemia\",\"Kidney Cancer\",\"Brain Cancer\",\"Neuroblastoma\",\"Myeloma\",\"Liver Cancer\",\"Neuroblastoma\",\"Brain Cancer\",\"Brain Cancer\",\"Gastric Cancer\",\"Kidney Cancer\",\"Brain Cancer\",\"Pancreatic Cancer\",\"Colon/Colorectal Cancer\",\"Neuroblastoma\",\"Pancreatic Cancer\",\"Gastric Cancer\",\"Gastric Cancer\",\"Leukemia\",\"Liver Cancer\",\"Ovarian Cancer\",\"Myeloma\",\"Ovarian Cancer\",\"Lung Cancer\",\"Ovarian Cancer\",\"Lung Cancer\",\"Brain Cancer\",\"Neuroblastoma\",\"Brain Cancer\",\"Head and Neck Cancer\",\"Liver Cancer\",\"Liver Cancer\",\"Brain Cancer\",\"Liver Cancer\",\"Lung Cancer\",\"Leukemia\",\"Pancreatic Cancer\",\"Sarcoma\",\"Leukemia\",\"Ovarian Cancer\",\"Ovarian Cancer\",\"Lung Cancer\",\"Myeloma\",\"Head and Neck Cancer\",\"Esophageal Cancer\",\"Colon/Colorectal Cancer\",\"Brain Cancer\",\"Myeloma\",\"Liver Cancer\",\"Myeloma\",\"Rhabdoid\",\"Brain Cancer\",\"Liver Cancer\",\"Brain Cancer\",\"Brain Cancer\",\"Gastric Cancer\",\"Ovarian Cancer\",\"Pancreatic Cancer\",\"Ovarian Cancer\",\"Lung Cancer\",\"Kidney Cancer\",\"Lymphoma\",\"Ovarian Cancer\",\"Myeloma\",\"Ovarian Cancer\",\"Breast Cancer\",\"Liver Cancer\",\"Brain Cancer\",\"Gastric Cancer\",\"Leukemia\",\"Lymphoma\",\"Lung Cancer\",\"Brain Cancer\",\"Head and Neck Cancer\",\"Lung Cancer\",\"Ovarian Cancer\",\"Neuroblastoma\",\"Endometrial/Uterine Cancer\",\"Lung Cancer\",\"Liver Cancer\",\"Bladder Cancer\",\"Myeloma\",\"Gastric Cancer\",\"Endometrial/Uterine Cancer\",\"Colon/Colorectal Cancer\",\"Endometrial/Uterine Cancer\",\"Endometrial/Uterine Cancer\",\"Bile Duct Cancer\",\"Endometrial/Uterine Cancer\",\"Endometrial/Uterine Cancer\",\"Endometrial/Uterine Cancer\",\"Endometrial/Uterine Cancer\",\"Brain Cancer\",\"Leukemia\",\"Liver Cancer\",\"Lung Cancer\",\"Breast Cancer\",\"Thyroid Cancer\"],\"xaxis\":\"x\",\"yaxis\":\"y\",\"type\":\"histogram\"},{\"alignmentgroup\":\"True\",\"bingroup\":\"x\",\"hovertemplate\":\"source=KCLB<br>primary_disease=%{x}<br>count=%{y}<extra></extra>\",\"legendgroup\":\"KCLB\",\"marker\":{\"color\":\"#FFA15A\",\"pattern\":{\"shape\":\"\"}},\"name\":\"KCLB\",\"offsetgroup\":\"KCLB\",\"orientation\":\"v\",\"showlegend\":true,\"x\":[\"Colon/Colorectal Cancer\",\"Gastric Cancer\",\"Kidney Cancer\",\"Ovarian Cancer\",\"Lung Cancer\",\"Head and Neck Cancer\",\"Gastric Cancer\",\"Lung Cancer\",\"Gastric Cancer\",\"Colon/Colorectal Cancer\",\"Bladder Cancer\",\"Bladder Cancer\",\"Gallbladder Cancer\",\"Bile Duct Cancer\",\"Bile Duct Cancer\",\"Pancreatic Cancer\",\"Bile Duct Cancer\",\"Ovarian Cancer\",\"Colon/Colorectal Cancer\",\"Brain Cancer\",\"Endometrial/Uterine Cancer\",\"Lung Cancer\",\"Liver Cancer\",\"Gastric Cancer\",\"Brain Cancer\",\"Brain Cancer\",\"Bile Duct Cancer\",\"Endometrial/Uterine Cancer\",\"Colon/Colorectal Cancer\",\"Lung Cancer\",\"Ovarian Cancer\",\"Bile Duct Cancer\",\"Gastric Cancer\",\"Head and Neck Cancer\",\"Pancreatic Cancer\",\"Colon/Colorectal Cancer\",\"Liver Cancer\",\"Brain Cancer\",\"Head and Neck Cancer\",\"Lung Cancer\",\"Head and Neck Cancer\",\"Brain Cancer\",\"Head and Neck Cancer\",\"Head and Neck Cancer\",\"Colon/Colorectal Cancer\",\"Liver Cancer\",\"Head and Neck Cancer\",\"Colon/Colorectal Cancer\",\"Lung Cancer\",\"Head and Neck Cancer\",\"Lung Cancer\",\"Gastric Cancer\",\"Head and Neck Cancer\",\"Brain Cancer\",\"Head and Neck Cancer\",\"Lung Cancer\",\"Lung Cancer\",\"Gastric Cancer\",\"Lung Cancer\",\"Kidney Cancer\",\"Pancreatic Cancer\",\"Colon/Colorectal Cancer\",\"Colon/Colorectal Cancer\",\"Colon/Colorectal Cancer\",\"Colon/Colorectal Cancer\",\"Colon/Colorectal Cancer\",\"Colon/Colorectal Cancer\"],\"xaxis\":\"x\",\"yaxis\":\"y\",\"type\":\"histogram\"},{\"alignmentgroup\":\"True\",\"bingroup\":\"x\",\"hovertemplate\":\"source=RIKEN<br>primary_disease=%{x}<br>count=%{y}<extra></extra>\",\"legendgroup\":\"RIKEN\",\"marker\":{\"color\":\"#19d3f3\",\"pattern\":{\"shape\":\"\"}},\"name\":\"RIKEN\",\"offsetgroup\":\"RIKEN\",\"orientation\":\"v\",\"showlegend\":true,\"x\":[\"Gastric Cancer\",\"Endometrial/Uterine Cancer\",\"Gastric Cancer\",\"Ovarian Cancer\",\"Lung Cancer\",\"Esophageal Cancer\",\"Lung Cancer\",\"Endometrial/Uterine Cancer\",\"Myeloma\",\"Gallbladder Cancer\",\"Cervical Cancer\",\"Endometrial/Uterine Cancer\",\"Colon/Colorectal Cancer\",\"Colon/Colorectal Cancer\",\"Endometrial/Uterine Cancer\",\"Endometrial/Uterine Cancer\",\"Ovarian Cancer\",\"Pancreatic Cancer\",\"Thyroid Cancer\",\"Thyroid Cancer\",\"Head and Neck Cancer\",\"Endometrial/Uterine Cancer\",\"Sarcoma\",\"Lymphoma\",\"Leukemia\",\"Sarcoma\",\"Sarcoma\",\"Bone Cancer\",\"Neuroblastoma\",\"Sarcoma\",\"Lung Cancer\",\"Gastric Cancer\",\"Pancreatic Cancer\",\"Lung Cancer\",\"Ovarian Cancer\",\"Kidney Cancer\",\"Myeloma\",\"Kidney Cancer\",\"Gastric Cancer\",\"Ovarian Cancer\",\"Gastric Cancer\",\"Lung Cancer\",\"Pancreatic Cancer\",\"Esophageal Cancer\",\"Pancreatic Cancer\",\"Kidney Cancer\",\"Esophageal Cancer\",\"Ovarian Cancer\",\"Esophageal Cancer\",\"Endometrial/Uterine Cancer\",\"Esophageal Cancer\",\"Esophageal Cancer\",\"Skin Cancer\",\"Kidney Cancer\",\"Pancreatic Cancer\",\"Liver Cancer\",\"Kidney Cancer\",\"Gastric Cancer\",\"Esophageal Cancer\",\"Kidney Cancer\",\"Gastric Cancer\",\"Gastric Cancer\",\"Lung Cancer\",\"Ovarian Cancer\",\"Brain Cancer\",\"Esophageal Cancer\",\"Liver Cancer\",\"Lung Cancer\",\"Gastric Cancer\",\"Gastric Cancer\",\"Esophageal Cancer\",\"Lung Cancer\",\"Gastric Cancer\",\"Brain Cancer\",\"Gastric Cancer\",\"Lung Cancer\",\"Esophageal Cancer\",\"Endometrial/Uterine Cancer\",\"Ovarian Cancer\",\"Gastric Cancer\",\"Endometrial/Uterine Cancer\",\"Colon/Colorectal Cancer\",\"Pancreatic Cancer\",\"Lung Cancer\",\"Cervical Cancer\",\"Colon/Colorectal Cancer\",\"Head and Neck Cancer\",\"Skin Cancer\",\"Head and Neck Cancer\",\"Head and Neck Cancer\",\"Lung Cancer\",\"Lung Cancer\",\"Leukemia\",\"Leukemia\",\"Lymphoma\",\"Bone Cancer\",\"Lung Cancer\",\"Neuroblastoma\",\"Skin Cancer\"],\"xaxis\":\"x\",\"yaxis\":\"y\",\"type\":\"histogram\"},{\"alignmentgroup\":\"True\",\"bingroup\":\"x\",\"hovertemplate\":\"source=JCRB<br>primary_disease=%{x}<br>count=%{y}<extra></extra>\",\"legendgroup\":\"JCRB\",\"marker\":{\"color\":\"#FF6692\",\"pattern\":{\"shape\":\"\"}},\"name\":\"JCRB\",\"offsetgroup\":\"JCRB\",\"orientation\":\"v\",\"showlegend\":true,\"x\":[\"Pancreatic Cancer\",\"Non-Cancerous\",\"Endometrial/Uterine Cancer\",\"Cervical Cancer\",\"Cervical Cancer\",\"Cervical Cancer\",\"Endometrial/Uterine Cancer\",\"Skin Cancer\",\"Bile Duct Cancer\",\"Lymphoma\",\"Liposarcoma\",\"Myeloma\",\"Gallbladder Cancer\",\"Brain Cancer\",\"Brain Cancer\",\"Brain Cancer\",\"Gallbladder Cancer\",\"Brain Cancer\",\"Brain Cancer\",\"Brain Cancer\",\"Endometrial/Uterine Cancer\",\"Endometrial/Uterine Cancer\",\"Lung Cancer\",\"Lymphoma\",\"Lung Cancer\",\"Esophageal Cancer\",\"Lymphoma\",\"Colon/Colorectal Cancer\",\"Thyroid Cancer\",\"Cervical Cancer\",\"Endometrial/Uterine Cancer\",\"Skin Cancer\",\"Skin Cancer\",\"Skin Cancer\",\"Bone Cancer\",\"Thyroid Cancer\",\"Rhabdoid\",\"Bile Duct Cancer\",\"Head and Neck Cancer\",\"Head and Neck Cancer\",\"Lung Cancer\",\"Neuroblastoma\",\"Brain Cancer\",\"Brain Cancer\",\"Brain Cancer\",\"Head and Neck Cancer\",\"Head and Neck Cancer\",\"Head and Neck Cancer\",\"Lymphoma\",\"Skin Cancer\",\"Endometrial/Uterine Cancer\",\"Brain Cancer\",\"Neuroblastoma\",\"Skin Cancer\",\"Neuroblastoma\",\"Lung Cancer\",\"Colon/Colorectal Cancer\"],\"xaxis\":\"x\",\"yaxis\":\"y\",\"type\":\"histogram\"},{\"alignmentgroup\":\"True\",\"bingroup\":\"x\",\"hovertemplate\":\"source=0<br>primary_disease=%{x}<br>count=%{y}<extra></extra>\",\"legendgroup\":\"0\",\"marker\":{\"color\":\"#B6E880\",\"pattern\":{\"shape\":\"\"}},\"name\":\"0\",\"offsetgroup\":\"0\",\"orientation\":\"v\",\"showlegend\":true,\"x\":[\"Non-Cancerous\",\"Non-Cancerous\",\"Cervical Cancer\",\"Myeloma\",\"Lung Cancer\",\"Bone Cancer\",\"Lung Cancer\",\"Lymphoma\",\"Non-Cancerous\",\"Bone Cancer\",\"Kidney Cancer\",\"Kidney Cancer\",\"Non-Cancerous\",\"Non-Cancerous\",\"Colon/Colorectal Cancer\",\"Non-Cancerous\",\"Breast Cancer\",\"Breast Cancer\",\"Unknown\",\"Breast Cancer\",\"Breast Cancer\",\"Breast Cancer\",\"Breast Cancer\",\"Breast Cancer\",\"Breast Cancer\",\"Breast Cancer\",\"Breast Cancer\",\"Breast Cancer\",\"Breast Cancer\",\"Colon/Colorectal Cancer\",\"Lung Cancer\",\"Sarcoma\",\"Bone Cancer\",\"Non-Cancerous\",\"Skin Cancer\",\"Breast Cancer\",\"Pancreatic Cancer\",\"Colon/Colorectal Cancer\",\"Colon/Colorectal Cancer\",\"Colon/Colorectal Cancer\",\"Pancreatic Cancer\",\"Brain Cancer\",\"Brain Cancer\",\"Brain Cancer\",\"Kidney Cancer\",\"Esophageal Cancer\",\"Thyroid Cancer\"],\"xaxis\":\"x\",\"yaxis\":\"y\",\"type\":\"histogram\"},{\"alignmentgroup\":\"True\",\"bingroup\":\"x\",\"hovertemplate\":\"source=ECACC<br>primary_disease=%{x}<br>count=%{y}<extra></extra>\",\"legendgroup\":\"ECACC\",\"marker\":{\"color\":\"#FF97FF\",\"pattern\":{\"shape\":\"\"}},\"name\":\"ECACC\",\"offsetgroup\":\"ECACC\",\"orientation\":\"v\",\"showlegend\":true,\"x\":[\"Bladder Cancer\",\"Lung Cancer\",\"Brain Cancer\",\"Ovarian Cancer\",\"Ovarian Cancer\",\"Ovarian Cancer\",\"Lung Cancer\",\"Lung Cancer\",\"Head and Neck Cancer\",\"Ovarian Cancer\",\"Lung Cancer\",\"Ovarian Cancer\",\"Pancreatic Cancer\",\"Lung Cancer\",\"Lung Cancer\",\"Head and Neck Cancer\",\"Head and Neck Cancer\",\"Lung Cancer\",\"Ovarian Cancer\",\"Skin Cancer\",\"Head and Neck Cancer\",\"Ovarian Cancer\",\"Head and Neck Cancer\",\"Ovarian Cancer\",\"Lung Cancer\",\"Ovarian Cancer\",\"Lung Cancer\",\"Ovarian Cancer\",\"Head and Neck Cancer\",\"Head and Neck Cancer\",\"Lung Cancer\",\"Lung Cancer\",\"Head and Neck Cancer\",\"Head and Neck Cancer\",\"Lung Cancer\",\"Bladder Cancer\",\"Lung Cancer\",\"Gastric Cancer\",\"Lung Cancer\",\"Endometrial/Uterine Cancer\",\"Lung Cancer\",\"Thyroid Cancer\",\"Thyroid Cancer\",\"Colon/Colorectal Cancer\",\"Colon/Colorectal Cancer\",\"Endometrial/Uterine Cancer\",\"Skin Cancer\",\"Colon/Colorectal Cancer\",\"Colon/Colorectal Cancer\",\"Head and Neck Cancer\",\"Ovarian Cancer\",\"Myeloma\",\"Bladder Cancer\",\"Colon/Colorectal Cancer\",\"Colon/Colorectal Cancer\",\"Colon/Colorectal Cancer\",\"Colon/Colorectal Cancer\",\"Colon/Colorectal Cancer\",\"Colon/Colorectal Cancer\",\"Eye Cancer\"],\"xaxis\":\"x\",\"yaxis\":\"y\",\"type\":\"histogram\"},{\"alignmentgroup\":\"True\",\"bingroup\":\"x\",\"hovertemplate\":\"source=Sigma-Aldrich<br>primary_disease=%{x}<br>count=%{y}<extra></extra>\",\"legendgroup\":\"Sigma-Aldrich\",\"marker\":{\"color\":\"#FECB52\",\"pattern\":{\"shape\":\"\"}},\"name\":\"Sigma-Aldrich\",\"offsetgroup\":\"Sigma-Aldrich\",\"orientation\":\"v\",\"showlegend\":true,\"x\":[\"Gastric Cancer\",\"Head and Neck Cancer\",\"Bladder Cancer\",\"Bladder Cancer\",\"Breast Cancer\",\"Eye Cancer\",\"Head and Neck Cancer\",\"Head and Neck Cancer\",\"Head and Neck Cancer\",\"Lymphoma\",\"Lung Cancer\",\"Lung Cancer\",\"Lung Cancer\",\"Lung Cancer\",\"Lung Cancer\",\"Lung Cancer\",\"Lung Cancer\",\"Lung Cancer\",\"Lung Cancer\",\"Skin Cancer\",\"Prostate Cancer\",\"Prostate Cancer\",\"Prostate Cancer\",\"Head and Neck Cancer\",\"Kidney Cancer\",\"Kidney Cancer\",\"Lymphoma\",\"Brain Cancer\",\"Head and Neck Cancer\",\"Head and Neck Cancer\",\"Neuroblastoma\",\"Skin Cancer\",\"Ovarian Cancer\",\"Colon/Colorectal Cancer\",\"Head and Neck Cancer\",\"Ovarian Cancer\",\"Thyroid Cancer\",\"Ovarian Cancer\",\"Bladder Cancer\",\"Bladder Cancer\",\"Bladder Cancer\",\"Bladder Cancer\",\"Bladder Cancer\",\"Bladder Cancer\",\"Bladder Cancer\",\"Bladder Cancer\",\"Lung Cancer\",\"Lung Cancer\",\"Esophageal Cancer\",\"Esophageal Cancer\",\"Esophageal Cancer\",\"Bone Cancer\",\"Skin Cancer\",\"Skin Cancer\",\"Skin Cancer\",\"Skin Cancer\",\"Skin Cancer\",\"Skin Cancer\",\"Skin Cancer\",\"Skin Cancer\",\"Ovarian Cancer\",\"Ovarian Cancer\",\"Ovarian Cancer\",\"Gastric Cancer\",\"Esophageal Cancer\",\"Esophageal Cancer\"],\"xaxis\":\"x\",\"yaxis\":\"y\",\"type\":\"histogram\"},{\"alignmentgroup\":\"True\",\"bingroup\":\"x\",\"hovertemplate\":\"source=ICLC<br>primary_disease=%{x}<br>count=%{y}<extra></extra>\",\"legendgroup\":\"ICLC\",\"marker\":{\"color\":\"#636efa\",\"pattern\":{\"shape\":\"\"}},\"name\":\"ICLC\",\"offsetgroup\":\"ICLC\",\"orientation\":\"v\",\"showlegend\":true,\"x\":[\"Cervical Cancer\",\"Ovarian Cancer\",\"Lung Cancer\",\"Lung Cancer\",\"Brain Cancer\",\"Lung Cancer\",\"Ovarian Cancer\",\"Ovarian Cancer\"],\"xaxis\":\"x\",\"yaxis\":\"y\",\"type\":\"histogram\"},{\"alignmentgroup\":\"True\",\"bingroup\":\"x\",\"hovertemplate\":\"source=Cancer Cell Line Factory<br>primary_disease=%{x}<br>count=%{y}<extra></extra>\",\"legendgroup\":\"Cancer Cell Line Factory\",\"marker\":{\"color\":\"#EF553B\",\"pattern\":{\"shape\":\"\"}},\"name\":\"Cancer Cell Line Factory\",\"offsetgroup\":\"Cancer Cell Line Factory\",\"orientation\":\"v\",\"showlegend\":true,\"x\":[\"Kidney Cancer\",\"Sarcoma\",\"Sarcoma\",\"Gastric Cancer\"],\"xaxis\":\"x\",\"yaxis\":\"y\",\"type\":\"histogram\"},{\"alignmentgroup\":\"True\",\"bingroup\":\"x\",\"hovertemplate\":\"source=Children&#39;s Oncology Group<br>primary_disease=%{x}<br>count=%{y}<extra></extra>\",\"legendgroup\":\"Children&#39;s Oncology Group\",\"marker\":{\"color\":\"#00cc96\",\"pattern\":{\"shape\":\"\"}},\"name\":\"Children&#39;s Oncology Group\",\"offsetgroup\":\"Children&#39;s Oncology Group\",\"orientation\":\"v\",\"showlegend\":true,\"x\":[\"Bone Cancer\",\"Bone Cancer\",\"Bone Cancer\",\"Rhabdoid\",\"Bone Cancer\",\"Bone Cancer\",\"Bone Cancer\",\"Bone Cancer\",\"Rhabdoid\",\"Neuroblastoma\",\"Neuroblastoma\",\"Neuroblastoma\"],\"xaxis\":\"x\",\"yaxis\":\"y\",\"type\":\"histogram\"},{\"alignmentgroup\":\"True\",\"bingroup\":\"x\",\"hovertemplate\":\"source=Asterand<br>primary_disease=%{x}<br>count=%{y}<extra></extra>\",\"legendgroup\":\"Asterand\",\"marker\":{\"color\":\"#ab63fa\",\"pattern\":{\"shape\":\"\"}},\"name\":\"Asterand\",\"offsetgroup\":\"Asterand\",\"orientation\":\"v\",\"showlegend\":true,\"x\":[\"Breast Cancer\",\"Breast Cancer\",\"Breast Cancer\",\"Breast Cancer\",\"Breast Cancer\",\"Colon/Colorectal Cancer\",\"Breast Cancer\",\"Breast Cancer\",\"Breast Cancer\",\"Breast Cancer\",\"Breast Cancer\"],\"xaxis\":\"x\",\"yaxis\":\"y\",\"type\":\"histogram\"},{\"alignmentgroup\":\"True\",\"bingroup\":\"x\",\"hovertemplate\":\"source=CellBank Australia<br>primary_disease=%{x}<br>count=%{y}<extra></extra>\",\"legendgroup\":\"CellBank Australia\",\"marker\":{\"color\":\"#FFA15A\",\"pattern\":{\"shape\":\"\"}},\"name\":\"CellBank Australia\",\"offsetgroup\":\"CellBank Australia\",\"orientation\":\"v\",\"showlegend\":true,\"x\":[\"Skin Cancer\",\"Skin Cancer\",\"Lung Cancer\",\"Skin Cancer\",\"Ovarian Cancer\",\"Lung Cancer\"],\"xaxis\":\"x\",\"yaxis\":\"y\",\"type\":\"histogram\"},{\"alignmentgroup\":\"True\",\"bingroup\":\"x\",\"hovertemplate\":\"source=Sanger<br>primary_disease=%{x}<br>count=%{y}<extra></extra>\",\"legendgroup\":\"Sanger\",\"marker\":{\"color\":\"#19d3f3\",\"pattern\":{\"shape\":\"\"}},\"name\":\"Sanger\",\"offsetgroup\":\"Sanger\",\"orientation\":\"v\",\"showlegend\":true,\"x\":[\"Colon/Colorectal Cancer\",\"Non-Cancerous\",\"Non-Cancerous\",\"Non-Cancerous\",\"Non-Cancerous\",\"Non-Cancerous\",\"Non-Cancerous\",\"Non-Cancerous\",\"Non-Cancerous\",\"Non-Cancerous\",\"Non-Cancerous\",\"Non-Cancerous\",\"Non-Cancerous\",\"Non-Cancerous\",\"Non-Cancerous\",\"Non-Cancerous\",\"Non-Cancerous\",\"Non-Cancerous\",\"Non-Cancerous\",\"Non-Cancerous\",\"Non-Cancerous\",\"Non-Cancerous\",\"Non-Cancerous\",\"Lymphoma\",\"Lung Cancer\",\"Lung Cancer\",\"Kidney Cancer\",\"Skin Cancer\",\"Bone Cancer\",\"Bone Cancer\",\"Bone Cancer\",\"Lung Cancer\",\"Skin Cancer\",\"Skin Cancer\",\"Skin Cancer\",\"Bone Cancer\",\"Skin Cancer\",\"Lung Cancer\",\"Lung Cancer\",\"Bone Cancer\",\"Bone Cancer\",\"Bone Cancer\",\"Bone Cancer\",\"Bone Cancer\",\"Bone Cancer\",\"Bone Cancer\",\"Bone Cancer\",\"Bone Cancer\",\"Bone Cancer\",\"Bone Cancer\",\"Bone Cancer\",\"Bone Cancer\",\"Bone Cancer\",\"Bone Cancer\",\"Bone Cancer\",\"Bone Cancer\",\"Skin Cancer\",\"Skin Cancer\",\"Lung Cancer\",\"Lung Cancer\",\"Lung Cancer\",\"Lung Cancer\",\"Lung Cancer\",\"Lung Cancer\",\"Lung Cancer\",\"Lung Cancer\",\"Lung Cancer\",\"Lung Cancer\",\"Lung Cancer\",\"Lung Cancer\",\"Lung Cancer\",\"Lung Cancer\",\"Lung Cancer\",\"Unknown\",\"Kidney Cancer\",\"Ovarian Cancer\",\"Gastric Cancer\",\"Bone Cancer\",\"Skin Cancer\",\"Lung Cancer\",\"Lung Cancer\",\"Ovarian Cancer\",\"Skin Cancer\",\"Thyroid Cancer\",\"Ovarian Cancer\",\"Kidney Cancer\",\"Kidney Cancer\",\"Skin Cancer\",\"Skin Cancer\",\"Lung Cancer\",\"Kidney Cancer\",\"Lung Cancer\",\"Lung Cancer\",\"Skin Cancer\",\"Bone Cancer\",\"Gastric Cancer\",\"Skin Cancer\",\"Breast Cancer\",\"Pancreatic Cancer\",\"Skin Cancer\",\"Skin Cancer\",\"Kidney Cancer\",\"Kidney Cancer\",\"Lung Cancer\",\"Lung Cancer\",\"Lung Cancer\",\"Lung Cancer\",\"Lung Cancer\",\"Lung Cancer\",\"Lung Cancer\",\"Bone Cancer\",\"Breast Cancer\",\"Cervical Cancer\",\"Ovarian Cancer\",\"Ovarian Cancer\",\"Ovarian Cancer\",\"Lung Cancer\",\"Pancreatic Cancer\",\"Pancreatic Cancer\",\"Kidney Cancer\",\"Kidney Cancer\",\"Kidney Cancer\",\"Kidney Cancer\",\"Kidney Cancer\",\"Kidney Cancer\",\"Lung Cancer\",\"Bone Cancer\",\"Kidney Cancer\",\"Lung Cancer\",\"Lung Cancer\",\"Gastric Cancer\",\"Kidney Cancer\",\"Skin Cancer\",\"Cervical Cancer\",\"Gastric Cancer\",\"Bone Cancer\",\"Skin Cancer\",\"Skin Cancer\",\"Skin Cancer\",\"Breast Cancer\",\"Leukemia\",\"Non-Cancerous\",\"Leukemia\",\"Head and Neck Cancer\",\"Head and Neck Cancer\",\"Leukemia\",\"Neuroblastoma\",\"Leukemia\",\"Lymphoma\",\"Lymphoma\",\"Leukemia\",\"Brain Cancer\",\"Brain Cancer\",\"Brain Cancer\",\"Brain Cancer\",\"Brain Cancer\",\"Brain Cancer\",\"Brain Cancer\",\"Brain Cancer\",\"Brain Cancer\",\"Lymphoma\",\"Colon/Colorectal Cancer\",\"Head and Neck Cancer\",\"Bladder Cancer\",\"Bile Duct Cancer\",\"Leukemia\",\"Lymphoma\",\"Leukemia\",\"Leukemia\",\"Esophageal Cancer\",\"Head and Neck Cancer\",\"Sarcoma\",\"Non-Cancerous\",\"Neuroblastoma\",\"Head and Neck Cancer\",\"Head and Neck Cancer\",\"Head and Neck Cancer\",\"Lymphoma\",\"Lymphoma\",\"Lymphoma\",\"Lymphoma\",\"Leukemia\",\"Brain Cancer\",\"Leukemia\",\"Brain Cancer\",\"Head and Neck Cancer\",\"Neuroblastoma\",\"Leukemia\",\"Esophageal Cancer\",\"Esophageal Cancer\",\"Head and Neck Cancer\",\"Bladder Cancer\",\"Leukemia\",\"Brain Cancer\",\"Brain Cancer\",\"Non-Cancerous\",\"Sarcoma\",\"Lymphoma\",\"Leukemia\",\"Leukemia\",\"Leukemia\",\"Leukemia\",\"Neuroblastoma\",\"Neuroblastoma\",\"Neuroblastoma\",\"Neuroblastoma\",\"Neuroblastoma\",\"Neuroblastoma\",\"Neuroblastoma\",\"Neuroblastoma\",\"Neuroblastoma\",\"Lung Cancer\",\"Embryonal Cancer\",\"Leukemia\",\"Lymphoma\",\"Head and Neck Cancer\",\"Head and Neck Cancer\",\"Head and Neck Cancer\",\"Head and Neck Cancer\",\"Head and Neck Cancer\",\"Leukemia\",\"Lymphoma\",\"Lymphoma\",\"Leukemia\",\"Brain Cancer\",\"Head and Neck Cancer\",\"Gastric Cancer\",\"Lymphoma\",\"Leukemia\",\"Sarcoma\",\"Liposarcoma\",\"Esophageal Cancer\",\"Gallbladder Cancer\",\"Lymphoma\",\"Leukemia\",\"Non-Cancerous\",\"Leukemia\",\"Unknown\",\"Lung Cancer\",\"Skin Cancer\",\"Leukemia\",\"Neuroblastoma\",\"Non-Cancerous\",\"Non-Cancerous\",\"Non-Cancerous\",\"Non-Cancerous\",\"Non-Cancerous\",\"Non-Cancerous\",\"Non-Cancerous\",\"Non-Cancerous\",\"Non-Cancerous\",\"Non-Cancerous\",\"Non-Cancerous\",\"Non-Cancerous\",\"Non-Cancerous\",\"Non-Cancerous\",\"Non-Cancerous\",\"Non-Cancerous\",\"Non-Cancerous\",\"Non-Cancerous\",\"Non-Cancerous\",\"Skin Cancer\",\"Skin Cancer\",\"Skin Cancer\",\"Neuroblastoma\",\"Leukemia\",\"Head and Neck Cancer\",\"Lymphoma\",\"Colon/Colorectal Cancer\",\"Liver Cancer\",\"Bone Cancer\"],\"xaxis\":\"x\",\"yaxis\":\"y\",\"type\":\"histogram\"},{\"alignmentgroup\":\"True\",\"bingroup\":\"x\",\"hovertemplate\":\"source=Horizon Discovery<br>primary_disease=%{x}<br>count=%{y}<extra></extra>\",\"legendgroup\":\"Horizon Discovery\",\"marker\":{\"color\":\"#FF6692\",\"pattern\":{\"shape\":\"\"}},\"name\":\"Horizon Discovery\",\"offsetgroup\":\"Horizon Discovery\",\"orientation\":\"v\",\"showlegend\":true,\"x\":[\"Leukemia\"],\"xaxis\":\"x\",\"yaxis\":\"y\",\"type\":\"histogram\"},{\"alignmentgroup\":\"True\",\"bingroup\":\"x\",\"hovertemplate\":\"source=Rockland Immunochemicals, Inc.<br>primary_disease=%{x}<br>count=%{y}<extra></extra>\",\"legendgroup\":\"Rockland Immunochemicals, Inc.\",\"marker\":{\"color\":\"#B6E880\",\"pattern\":{\"shape\":\"\"}},\"name\":\"Rockland Immunochemicals, Inc.\",\"offsetgroup\":\"Rockland Immunochemicals, Inc.\",\"orientation\":\"v\",\"showlegend\":true,\"x\":[\"Eye Cancer\"],\"xaxis\":\"x\",\"yaxis\":\"y\",\"type\":\"histogram\"},{\"alignmentgroup\":\"True\",\"bingroup\":\"x\",\"hovertemplate\":\"source=Academic<br>primary_disease=%{x}<br>count=%{y}<extra></extra>\",\"legendgroup\":\"Academic\",\"marker\":{\"color\":\"#FF97FF\",\"pattern\":{\"shape\":\"\"}},\"name\":\"Academic\",\"offsetgroup\":\"Academic\",\"orientation\":\"v\",\"showlegend\":true,\"x\":[\"Unknown\"],\"xaxis\":\"x\",\"yaxis\":\"y\",\"type\":\"histogram\"},{\"alignmentgroup\":\"True\",\"bingroup\":\"x\",\"hovertemplate\":\"source=QIMRB Berghofer (via CRUK Manchester)<br>primary_disease=%{x}<br>count=%{y}<extra></extra>\",\"legendgroup\":\"QIMRB Berghofer (via CRUK Manchester)\",\"marker\":{\"color\":\"#FECB52\",\"pattern\":{\"shape\":\"\"}},\"name\":\"QIMRB Berghofer (via CRUK Manchester)\",\"offsetgroup\":\"QIMRB Berghofer (via CRUK Manchester)\",\"orientation\":\"v\",\"showlegend\":true,\"x\":[\"Unknown\"],\"xaxis\":\"x\",\"yaxis\":\"y\",\"type\":\"histogram\"},{\"alignmentgroup\":\"True\",\"bingroup\":\"x\",\"hovertemplate\":\"source=NCI/DCTD<br>primary_disease=%{x}<br>count=%{y}<extra></extra>\",\"legendgroup\":\"NCI/DCTD\",\"marker\":{\"color\":\"#636efa\",\"pattern\":{\"shape\":\"\"}},\"name\":\"NCI/DCTD\",\"offsetgroup\":\"NCI/DCTD\",\"orientation\":\"v\",\"showlegend\":true,\"x\":[\"Brain Cancer\",\"Skin Cancer\",\"Skin Cancer\",\"Ovarian Cancer\",\"Ovarian Cancer\",\"Skin Cancer\",\"Ovarian Cancer\"],\"xaxis\":\"x\",\"yaxis\":\"y\",\"type\":\"histogram\"},{\"alignmentgroup\":\"True\",\"bingroup\":\"x\",\"hovertemplate\":\"source=HPACC<br>primary_disease=%{x}<br>count=%{y}<extra></extra>\",\"legendgroup\":\"HPACC\",\"marker\":{\"color\":\"#EF553B\",\"pattern\":{\"shape\":\"\"}},\"name\":\"HPACC\",\"offsetgroup\":\"HPACC\",\"orientation\":\"v\",\"showlegend\":true,\"x\":[\"Esophageal Cancer\",\"Esophageal Cancer\",\"Esophageal Cancer\"],\"xaxis\":\"x\",\"yaxis\":\"y\",\"type\":\"histogram\"},{\"alignmentgroup\":\"True\",\"bingroup\":\"x\",\"hovertemplate\":\"source=WISTAR<br>primary_disease=%{x}<br>count=%{y}<extra></extra>\",\"legendgroup\":\"WISTAR\",\"marker\":{\"color\":\"#00cc96\",\"pattern\":{\"shape\":\"\"}},\"name\":\"WISTAR\",\"offsetgroup\":\"WISTAR\",\"orientation\":\"v\",\"showlegend\":true,\"x\":[\"Skin Cancer\",\"Skin Cancer\"],\"xaxis\":\"x\",\"yaxis\":\"y\",\"type\":\"histogram\"},{\"alignmentgroup\":\"True\",\"bingroup\":\"x\",\"hovertemplate\":\"source=JHSF<br>primary_disease=%{x}<br>count=%{y}<extra></extra>\",\"legendgroup\":\"JHSF\",\"marker\":{\"color\":\"#ab63fa\",\"pattern\":{\"shape\":\"\"}},\"name\":\"JHSF\",\"offsetgroup\":\"JHSF\",\"orientation\":\"v\",\"showlegend\":true,\"x\":[\"Gastric Cancer\"],\"xaxis\":\"x\",\"yaxis\":\"y\",\"type\":\"histogram\"},{\"alignmentgroup\":\"True\",\"bingroup\":\"x\",\"hovertemplate\":\"source=NIBRI<br>primary_disease=%{x}<br>count=%{y}<extra></extra>\",\"legendgroup\":\"NIBRI\",\"marker\":{\"color\":\"#FFA15A\",\"pattern\":{\"shape\":\"\"}},\"name\":\"NIBRI\",\"offsetgroup\":\"NIBRI\",\"orientation\":\"v\",\"showlegend\":true,\"x\":[\"Leukemia\"],\"xaxis\":\"x\",\"yaxis\":\"y\",\"type\":\"histogram\"},{\"alignmentgroup\":\"True\",\"bingroup\":\"x\",\"hovertemplate\":\"source=Children's Oncology Group<br>primary_disease=%{x}<br>count=%{y}<extra></extra>\",\"legendgroup\":\"Children's Oncology Group\",\"marker\":{\"color\":\"#19d3f3\",\"pattern\":{\"shape\":\"\"}},\"name\":\"Children's Oncology Group\",\"offsetgroup\":\"Children's Oncology Group\",\"orientation\":\"v\",\"showlegend\":true,\"x\":[\"Unknown\"],\"xaxis\":\"x\",\"yaxis\":\"y\",\"type\":\"histogram\"},{\"alignmentgroup\":\"True\",\"bingroup\":\"x\",\"hovertemplate\":\"source=NCI-Navy Medical Oncology Branch<br>primary_disease=%{x}<br>count=%{y}<extra></extra>\",\"legendgroup\":\"NCI-Navy Medical Oncology Branch\",\"marker\":{\"color\":\"#FF6692\",\"pattern\":{\"shape\":\"\"}},\"name\":\"NCI-Navy Medical Oncology Branch\",\"offsetgroup\":\"NCI-Navy Medical Oncology Branch\",\"orientation\":\"v\",\"showlegend\":true,\"x\":[\"Head and Neck Cancer\"],\"xaxis\":\"x\",\"yaxis\":\"y\",\"type\":\"histogram\"},{\"alignmentgroup\":\"True\",\"bingroup\":\"x\",\"hovertemplate\":\"source=Sanger/JCRB<br>primary_disease=%{x}<br>count=%{y}<extra></extra>\",\"legendgroup\":\"Sanger/JCRB\",\"marker\":{\"color\":\"#B6E880\",\"pattern\":{\"shape\":\"\"}},\"name\":\"Sanger/JCRB\",\"offsetgroup\":\"Sanger/JCRB\",\"orientation\":\"v\",\"showlegend\":true,\"x\":[\"Leukemia\"],\"xaxis\":\"x\",\"yaxis\":\"y\",\"type\":\"histogram\"}],                        {\"template\":{\"data\":{\"bar\":[{\"error_x\":{\"color\":\"#2a3f5f\"},\"error_y\":{\"color\":\"#2a3f5f\"},\"marker\":{\"line\":{\"color\":\"#E5ECF6\",\"width\":0.5},\"pattern\":{\"fillmode\":\"overlay\",\"size\":10,\"solidity\":0.2}},\"type\":\"bar\"}],\"barpolar\":[{\"marker\":{\"line\":{\"color\":\"#E5ECF6\",\"width\":0.5},\"pattern\":{\"fillmode\":\"overlay\",\"size\":10,\"solidity\":0.2}},\"type\":\"barpolar\"}],\"carpet\":[{\"aaxis\":{\"endlinecolor\":\"#2a3f5f\",\"gridcolor\":\"white\",\"linecolor\":\"white\",\"minorgridcolor\":\"white\",\"startlinecolor\":\"#2a3f5f\"},\"baxis\":{\"endlinecolor\":\"#2a3f5f\",\"gridcolor\":\"white\",\"linecolor\":\"white\",\"minorgridcolor\":\"white\",\"startlinecolor\":\"#2a3f5f\"},\"type\":\"carpet\"}],\"choropleth\":[{\"colorbar\":{\"outlinewidth\":0,\"ticks\":\"\"},\"type\":\"choropleth\"}],\"contour\":[{\"colorbar\":{\"outlinewidth\":0,\"ticks\":\"\"},\"colorscale\":[[0.0,\"#0d0887\"],[0.1111111111111111,\"#46039f\"],[0.2222222222222222,\"#7201a8\"],[0.3333333333333333,\"#9c179e\"],[0.4444444444444444,\"#bd3786\"],[0.5555555555555556,\"#d8576b\"],[0.6666666666666666,\"#ed7953\"],[0.7777777777777778,\"#fb9f3a\"],[0.8888888888888888,\"#fdca26\"],[1.0,\"#f0f921\"]],\"type\":\"contour\"}],\"contourcarpet\":[{\"colorbar\":{\"outlinewidth\":0,\"ticks\":\"\"},\"type\":\"contourcarpet\"}],\"heatmap\":[{\"colorbar\":{\"outlinewidth\":0,\"ticks\":\"\"},\"colorscale\":[[0.0,\"#0d0887\"],[0.1111111111111111,\"#46039f\"],[0.2222222222222222,\"#7201a8\"],[0.3333333333333333,\"#9c179e\"],[0.4444444444444444,\"#bd3786\"],[0.5555555555555556,\"#d8576b\"],[0.6666666666666666,\"#ed7953\"],[0.7777777777777778,\"#fb9f3a\"],[0.8888888888888888,\"#fdca26\"],[1.0,\"#f0f921\"]],\"type\":\"heatmap\"}],\"heatmapgl\":[{\"colorbar\":{\"outlinewidth\":0,\"ticks\":\"\"},\"colorscale\":[[0.0,\"#0d0887\"],[0.1111111111111111,\"#46039f\"],[0.2222222222222222,\"#7201a8\"],[0.3333333333333333,\"#9c179e\"],[0.4444444444444444,\"#bd3786\"],[0.5555555555555556,\"#d8576b\"],[0.6666666666666666,\"#ed7953\"],[0.7777777777777778,\"#fb9f3a\"],[0.8888888888888888,\"#fdca26\"],[1.0,\"#f0f921\"]],\"type\":\"heatmapgl\"}],\"histogram\":[{\"marker\":{\"pattern\":{\"fillmode\":\"overlay\",\"size\":10,\"solidity\":0.2}},\"type\":\"histogram\"}],\"histogram2d\":[{\"colorbar\":{\"outlinewidth\":0,\"ticks\":\"\"},\"colorscale\":[[0.0,\"#0d0887\"],[0.1111111111111111,\"#46039f\"],[0.2222222222222222,\"#7201a8\"],[0.3333333333333333,\"#9c179e\"],[0.4444444444444444,\"#bd3786\"],[0.5555555555555556,\"#d8576b\"],[0.6666666666666666,\"#ed7953\"],[0.7777777777777778,\"#fb9f3a\"],[0.8888888888888888,\"#fdca26\"],[1.0,\"#f0f921\"]],\"type\":\"histogram2d\"}],\"histogram2dcontour\":[{\"colorbar\":{\"outlinewidth\":0,\"ticks\":\"\"},\"colorscale\":[[0.0,\"#0d0887\"],[0.1111111111111111,\"#46039f\"],[0.2222222222222222,\"#7201a8\"],[0.3333333333333333,\"#9c179e\"],[0.4444444444444444,\"#bd3786\"],[0.5555555555555556,\"#d8576b\"],[0.6666666666666666,\"#ed7953\"],[0.7777777777777778,\"#fb9f3a\"],[0.8888888888888888,\"#fdca26\"],[1.0,\"#f0f921\"]],\"type\":\"histogram2dcontour\"}],\"mesh3d\":[{\"colorbar\":{\"outlinewidth\":0,\"ticks\":\"\"},\"type\":\"mesh3d\"}],\"parcoords\":[{\"line\":{\"colorbar\":{\"outlinewidth\":0,\"ticks\":\"\"}},\"type\":\"parcoords\"}],\"pie\":[{\"automargin\":true,\"type\":\"pie\"}],\"scatter\":[{\"marker\":{\"colorbar\":{\"outlinewidth\":0,\"ticks\":\"\"}},\"type\":\"scatter\"}],\"scatter3d\":[{\"line\":{\"colorbar\":{\"outlinewidth\":0,\"ticks\":\"\"}},\"marker\":{\"colorbar\":{\"outlinewidth\":0,\"ticks\":\"\"}},\"type\":\"scatter3d\"}],\"scattercarpet\":[{\"marker\":{\"colorbar\":{\"outlinewidth\":0,\"ticks\":\"\"}},\"type\":\"scattercarpet\"}],\"scattergeo\":[{\"marker\":{\"colorbar\":{\"outlinewidth\":0,\"ticks\":\"\"}},\"type\":\"scattergeo\"}],\"scattergl\":[{\"marker\":{\"colorbar\":{\"outlinewidth\":0,\"ticks\":\"\"}},\"type\":\"scattergl\"}],\"scattermapbox\":[{\"marker\":{\"colorbar\":{\"outlinewidth\":0,\"ticks\":\"\"}},\"type\":\"scattermapbox\"}],\"scatterpolar\":[{\"marker\":{\"colorbar\":{\"outlinewidth\":0,\"ticks\":\"\"}},\"type\":\"scatterpolar\"}],\"scatterpolargl\":[{\"marker\":{\"colorbar\":{\"outlinewidth\":0,\"ticks\":\"\"}},\"type\":\"scatterpolargl\"}],\"scatterternary\":[{\"marker\":{\"colorbar\":{\"outlinewidth\":0,\"ticks\":\"\"}},\"type\":\"scatterternary\"}],\"surface\":[{\"colorbar\":{\"outlinewidth\":0,\"ticks\":\"\"},\"colorscale\":[[0.0,\"#0d0887\"],[0.1111111111111111,\"#46039f\"],[0.2222222222222222,\"#7201a8\"],[0.3333333333333333,\"#9c179e\"],[0.4444444444444444,\"#bd3786\"],[0.5555555555555556,\"#d8576b\"],[0.6666666666666666,\"#ed7953\"],[0.7777777777777778,\"#fb9f3a\"],[0.8888888888888888,\"#fdca26\"],[1.0,\"#f0f921\"]],\"type\":\"surface\"}],\"table\":[{\"cells\":{\"fill\":{\"color\":\"#EBF0F8\"},\"line\":{\"color\":\"white\"}},\"header\":{\"fill\":{\"color\":\"#C8D4E3\"},\"line\":{\"color\":\"white\"}},\"type\":\"table\"}]},\"layout\":{\"annotationdefaults\":{\"arrowcolor\":\"#2a3f5f\",\"arrowhead\":0,\"arrowwidth\":1},\"autotypenumbers\":\"strict\",\"coloraxis\":{\"colorbar\":{\"outlinewidth\":0,\"ticks\":\"\"}},\"colorscale\":{\"diverging\":[[0,\"#8e0152\"],[0.1,\"#c51b7d\"],[0.2,\"#de77ae\"],[0.3,\"#f1b6da\"],[0.4,\"#fde0ef\"],[0.5,\"#f7f7f7\"],[0.6,\"#e6f5d0\"],[0.7,\"#b8e186\"],[0.8,\"#7fbc41\"],[0.9,\"#4d9221\"],[1,\"#276419\"]],\"sequential\":[[0.0,\"#0d0887\"],[0.1111111111111111,\"#46039f\"],[0.2222222222222222,\"#7201a8\"],[0.3333333333333333,\"#9c179e\"],[0.4444444444444444,\"#bd3786\"],[0.5555555555555556,\"#d8576b\"],[0.6666666666666666,\"#ed7953\"],[0.7777777777777778,\"#fb9f3a\"],[0.8888888888888888,\"#fdca26\"],[1.0,\"#f0f921\"]],\"sequentialminus\":[[0.0,\"#0d0887\"],[0.1111111111111111,\"#46039f\"],[0.2222222222222222,\"#7201a8\"],[0.3333333333333333,\"#9c179e\"],[0.4444444444444444,\"#bd3786\"],[0.5555555555555556,\"#d8576b\"],[0.6666666666666666,\"#ed7953\"],[0.7777777777777778,\"#fb9f3a\"],[0.8888888888888888,\"#fdca26\"],[1.0,\"#f0f921\"]]},\"colorway\":[\"#636efa\",\"#EF553B\",\"#00cc96\",\"#ab63fa\",\"#FFA15A\",\"#19d3f3\",\"#FF6692\",\"#B6E880\",\"#FF97FF\",\"#FECB52\"],\"font\":{\"color\":\"#2a3f5f\"},\"geo\":{\"bgcolor\":\"white\",\"lakecolor\":\"white\",\"landcolor\":\"#E5ECF6\",\"showlakes\":true,\"showland\":true,\"subunitcolor\":\"white\"},\"hoverlabel\":{\"align\":\"left\"},\"hovermode\":\"closest\",\"mapbox\":{\"style\":\"light\"},\"paper_bgcolor\":\"white\",\"plot_bgcolor\":\"#E5ECF6\",\"polar\":{\"angularaxis\":{\"gridcolor\":\"white\",\"linecolor\":\"white\",\"ticks\":\"\"},\"bgcolor\":\"#E5ECF6\",\"radialaxis\":{\"gridcolor\":\"white\",\"linecolor\":\"white\",\"ticks\":\"\"}},\"scene\":{\"xaxis\":{\"backgroundcolor\":\"#E5ECF6\",\"gridcolor\":\"white\",\"gridwidth\":2,\"linecolor\":\"white\",\"showbackground\":true,\"ticks\":\"\",\"zerolinecolor\":\"white\"},\"yaxis\":{\"backgroundcolor\":\"#E5ECF6\",\"gridcolor\":\"white\",\"gridwidth\":2,\"linecolor\":\"white\",\"showbackground\":true,\"ticks\":\"\",\"zerolinecolor\":\"white\"},\"zaxis\":{\"backgroundcolor\":\"#E5ECF6\",\"gridcolor\":\"white\",\"gridwidth\":2,\"linecolor\":\"white\",\"showbackground\":true,\"ticks\":\"\",\"zerolinecolor\":\"white\"}},\"shapedefaults\":{\"line\":{\"color\":\"#2a3f5f\"}},\"ternary\":{\"aaxis\":{\"gridcolor\":\"white\",\"linecolor\":\"white\",\"ticks\":\"\"},\"baxis\":{\"gridcolor\":\"white\",\"linecolor\":\"white\",\"ticks\":\"\"},\"bgcolor\":\"#E5ECF6\",\"caxis\":{\"gridcolor\":\"white\",\"linecolor\":\"white\",\"ticks\":\"\"}},\"title\":{\"x\":0.05},\"xaxis\":{\"automargin\":true,\"gridcolor\":\"white\",\"linecolor\":\"white\",\"ticks\":\"\",\"title\":{\"standoff\":15},\"zerolinecolor\":\"white\",\"zerolinewidth\":2},\"yaxis\":{\"automargin\":true,\"gridcolor\":\"white\",\"linecolor\":\"white\",\"ticks\":\"\",\"title\":{\"standoff\":15},\"zerolinecolor\":\"white\",\"zerolinewidth\":2}}},\"xaxis\":{\"anchor\":\"y\",\"domain\":[0.0,1.0],\"title\":{\"text\":\"primary_disease\"}},\"yaxis\":{\"anchor\":\"x\",\"domain\":[0.0,1.0],\"title\":{\"text\":\"count\"}},\"legend\":{\"title\":{\"text\":\"source\"},\"tracegroupgap\":0},\"margin\":{\"t\":60},\"barmode\":\"relative\"},                        {\"responsive\": true}                    ).then(function(){\n",
              "                            \n",
              "var gd = document.getElementById('6de7053d-fe60-4ccc-a335-8feb3ad89210');\n",
              "var x = new MutationObserver(function (mutations, observer) {{\n",
              "        var display = window.getComputedStyle(gd).display;\n",
              "        if (!display || display === 'none') {{\n",
              "            console.log([gd, 'removed!']);\n",
              "            Plotly.purge(gd);\n",
              "            observer.disconnect();\n",
              "        }}\n",
              "}});\n",
              "\n",
              "// Listen for the removal of the full notebook cells\n",
              "var notebookContainer = gd.closest('#notebook-container');\n",
              "if (notebookContainer) {{\n",
              "    x.observe(notebookContainer, {childList: true});\n",
              "}}\n",
              "\n",
              "// Listen for the clearing of the current output cell\n",
              "var outputEl = gd.closest('.output');\n",
              "if (outputEl) {{\n",
              "    x.observe(outputEl, {childList: true});\n",
              "}}\n",
              "\n",
              "                        })                };                            </script>        </div>\n",
              "</body>\n",
              "</html>"
            ]
          },
          "metadata": {}
        }
      ],
      "source": [
        "px.histogram(df, x = 'primary_disease', color = 'source')"
      ]
    },
    {
      "cell_type": "code",
      "execution_count": 31,
      "metadata": {
        "colab": {
          "base_uri": "https://localhost:8080/",
          "height": 542
        },
        "id": "3rCSexRhtfpY",
        "outputId": "930ba3b8-3d97-4092-a567-f4e1f179ea9f"
      },
      "outputs": [
        {
          "output_type": "display_data",
          "data": {
            "text/html": [
              "<html>\n",
              "<head><meta charset=\"utf-8\" /></head>\n",
              "<body>\n",
              "    <div>            <script src=\"https://cdnjs.cloudflare.com/ajax/libs/mathjax/2.7.5/MathJax.js?config=TeX-AMS-MML_SVG\"></script><script type=\"text/javascript\">if (window.MathJax) {MathJax.Hub.Config({SVG: {font: \"STIX-Web\"}});}</script>                <script type=\"text/javascript\">window.PlotlyConfig = {MathJaxConfig: 'local'};</script>\n",
              "        <script src=\"https://cdn.plot.ly/plotly-2.8.3.min.js\"></script>                <div id=\"3d6e3c5d-6a20-4237-aaf2-537faecf2d52\" class=\"plotly-graph-div\" style=\"height:525px; width:100%;\"></div>            <script type=\"text/javascript\">                                    window.PLOTLYENV=window.PLOTLYENV || {};                                    if (document.getElementById(\"3d6e3c5d-6a20-4237-aaf2-537faecf2d52\")) {                    Plotly.newPlot(                        \"3d6e3c5d-6a20-4237-aaf2-537faecf2d52\",                        [{\"alignmentgroup\":\"True\",\"bingroup\":\"x\",\"hovertemplate\":\"default_growth_pattern=0<br>primary_disease=%{x}<br>count=%{y}<extra></extra>\",\"legendgroup\":\"0\",\"marker\":{\"color\":\"#636efa\",\"pattern\":{\"shape\":\"\"}},\"name\":\"0\",\"offsetgroup\":\"0\",\"orientation\":\"v\",\"showlegend\":true,\"x\":[\"Kidney Cancer\",\"Leukemia\",\"Lung Cancer\",\"Non-Cancerous\",\"Non-Cancerous\",\"Lymphoma\",\"Leukemia\",\"Colon/Colorectal Cancer\",\"Gastric Cancer\",\"Non-Cancerous\",\"Leukemia\",\"Non-Cancerous\",\"Rhabdoid\",\"Endometrial/Uterine Cancer\",\"Lung Cancer\",\"Pancreatic Cancer\",\"Esophageal Cancer\",\"Lymphoma\",\"Gastric Cancer\",\"Leukemia\",\"Kidney Cancer\",\"Gastric Cancer\",\"Brain Cancer\",\"Ovarian Cancer\",\"Kidney Cancer\",\"Lymphoma\",\"Lymphoma\",\"Non-Cancerous\",\"Myeloma\",\"Brain Cancer\",\"Leukemia\",\"Colon/Colorectal Cancer\",\"Non-Cancerous\",\"Kidney Cancer\",\"Rhabdoid\",\"Lung Cancer\",\"Myeloma\",\"Brain Cancer\",\"Brain Cancer\",\"Ovarian Cancer\",\"Non-Cancerous\",\"Lung Cancer\",\"Kidney Cancer\",\"Head and Neck Cancer\",\"Esophageal Cancer\",\"Gastric Cancer\",\"Lung Cancer\",\"Myeloma\",\"Lung Cancer\",\"Endometrial/Uterine Cancer\",\"Brain Cancer\",\"Bone Cancer\",\"Bone Cancer\",\"Bone Cancer\",\"Bone Cancer\",\"Gastric Cancer\",\"Cervical Cancer\",\"Non-Cancerous\",\"Myeloma\",\"Skin Cancer\",\"Lung Cancer\",\"Brain Cancer\",\"Brain Cancer\",\"Bone Cancer\",\"Cervical Cancer\",\"Lung Cancer\",\"Lung Cancer\",\"Non-Cancerous\",\"Lung Cancer\",\"Lymphoma\",\"Rhabdoid\",\"Lymphoma\",\"Rhabdoid\",\"Skin Cancer\",\"Skin Cancer\",\"Lymphoma\",\"Lymphoma\",\"Non-Cancerous\",\"Lymphoma\",\"Ovarian Cancer\",\"Lymphoma\",\"Lymphoma\",\"Lymphoma\",\"Bone Cancer\",\"Kidney Cancer\",\"Sarcoma\",\"Skin Cancer\",\"Brain Cancer\",\"Kidney Cancer\",\"Non-Cancerous\",\"Kidney Cancer\",\"Lymphoma\",\"Brain Cancer\",\"Bone Cancer\",\"Non-Cancerous\",\"Kidney Cancer\",\"Kidney Cancer\",\"Leukemia\",\"Sarcoma\",\"Ovarian Cancer\",\"Bone Cancer\",\"Non-Cancerous\",\"Bone Cancer\",\"Colon/Colorectal Cancer\",\"Breast Cancer\",\"Breast Cancer\",\"Unknown\",\"Breast Cancer\",\"Breast Cancer\",\"Breast Cancer\",\"Breast Cancer\",\"Breast Cancer\",\"Breast Cancer\",\"Breast Cancer\",\"Breast Cancer\",\"Breast Cancer\",\"Breast Cancer\",\"Colon/Colorectal Cancer\",\"Lung Cancer\",\"Sarcoma\",\"Non-Cancerous\",\"Non-Cancerous\",\"Non-Cancerous\",\"Non-Cancerous\",\"Non-Cancerous\",\"Non-Cancerous\",\"Non-Cancerous\",\"Non-Cancerous\",\"Non-Cancerous\",\"Non-Cancerous\",\"Non-Cancerous\",\"Non-Cancerous\",\"Non-Cancerous\",\"Non-Cancerous\",\"Non-Cancerous\",\"Non-Cancerous\",\"Non-Cancerous\",\"Non-Cancerous\",\"Non-Cancerous\",\"Non-Cancerous\",\"Non-Cancerous\",\"Non-Cancerous\",\"Lymphoma\",\"Unknown\",\"Unknown\",\"Unknown\",\"Colon/Colorectal Cancer\",\"Skin Cancer\",\"Bladder Cancer\",\"Ovarian Cancer\",\"Leukemia\",\"Brain Cancer\",\"Lung Cancer\",\"Leukemia\",\"Brain Cancer\",\"Sarcoma\",\"Gastric Cancer\",\"Myeloma\",\"Lymphoma\",\"Myeloma\",\"Leukemia\",\"Lymphoma\",\"Leukemia\",\"Leukemia\",\"Leukemia\",\"Lung Cancer\",\"Bone Cancer\",\"Brain Cancer\",\"Neuroblastoma\",\"Brain Cancer\",\"Leukemia\",\"Lymphoma\",\"Pancreatic Cancer\",\"Leukemia\",\"Leukemia\",\"Pancreatic Cancer\",\"Breast Cancer\",\"Bladder Cancer\",\"Brain Cancer\",\"Ovarian Cancer\",\"Gallbladder Cancer\",\"Lung Cancer\",\"Gastric Cancer\",\"Leukemia\",\"Kidney Cancer\",\"Rhabdoid\",\"Thyroid Cancer\",\"Lung Cancer\",\"Unknown\",\"Thyroid Cancer\",\"Leukemia\",\"Myeloma\",\"Lymphoma\",\"Head and Neck Cancer\",\"Brain Cancer\",\"Bile Duct Cancer\",\"Brain Cancer\",\"Leukemia\",\"Brain Cancer\",\"Brain Cancer\",\"Gastric Cancer\",\"Lung Cancer\",\"Gastric Cancer\",\"Lung Cancer\",\"Neuroblastoma\",\"Kidney Cancer\",\"Leukemia\",\"Pancreatic Cancer\",\"Bile Duct Cancer\",\"Brain Cancer\",\"Lymphoma\",\"Skin Cancer\",\"Breast Cancer\",\"Bone Cancer\",\"Pancreatic Cancer\",\"Brain Cancer\",\"Colon/Colorectal Cancer\",\"Lymphoma\",\"Brain Cancer\",\"Lung Cancer\",\"Leukemia\",\"Leukemia\",\"Colon/Colorectal Cancer\",\"Lung Cancer\",\"Leukemia\",\"Endometrial/Uterine Cancer\",\"Gastric Cancer\",\"Esophageal Cancer\",\"Lymphoma\",\"Liver Cancer\",\"Esophageal Cancer\",\"Lung Cancer\",\"Ovarian Cancer\",\"Leukemia\",\"Breast Cancer\",\"Leukemia\",\"Lung Cancer\",\"Lymphoma\",\"Lung Cancer\",\"Lung Cancer\",\"Gastric Cancer\",\"Leukemia\",\"Gastric Cancer\",\"Breast Cancer\",\"Esophageal Cancer\",\"Gastric Cancer\",\"Lung Cancer\",\"Colon/Colorectal Cancer\",\"Myeloma\",\"Lung Cancer\",\"Brain Cancer\",\"Brain Cancer\",\"Leukemia\",\"Kidney Cancer\",\"Bile Duct Cancer\",\"Endometrial/Uterine Cancer\",\"Skin Cancer\",\"Skin Cancer\",\"Endometrial/Uterine Cancer\",\"Esophageal Cancer\",\"Bone Cancer\",\"Skin Cancer\",\"Kidney Cancer\",\"Ovarian Cancer\",\"Endometrial/Uterine Cancer\",\"Lung Cancer\",\"Ovarian Cancer\",\"Brain Cancer\",\"Lung Cancer\",\"Lung Cancer\",\"Esophageal Cancer\",\"Lung Cancer\",\"Skin Cancer\",\"Kidney Cancer\",\"Bile Duct Cancer\",\"Gastric Cancer\",\"Liver Cancer\",\"Head and Neck Cancer\",\"Liver Cancer\",\"Brain Cancer\",\"Liver Cancer\",\"Gastric Cancer\",\"Esophageal Cancer\",\"Cervical Cancer\",\"Bone Cancer\",\"Head and Neck Cancer\",\"Colon/Colorectal Cancer\",\"Sarcoma\",\"Lung Cancer\",\"Myeloma\",\"Lung Cancer\",\"Pancreatic Cancer\",\"Leukemia\",\"Ovarian Cancer\",\"Ovarian Cancer\",\"Ovarian Cancer\",\"Lymphoma\",\"Liver Cancer\",\"Gastric Cancer\",\"Myeloma\",\"Brain Cancer\",\"Head and Neck Cancer\",\"Head and Neck Cancer\",\"Head and Neck Cancer\",\"Gastric Cancer\",\"Esophageal Cancer\",\"Lung Cancer\",\"Lymphoma\",\"Brain Cancer\",\"Lung Cancer\",\"Lung Cancer\",\"Skin Cancer\",\"Gastric Cancer\",\"Ovarian Cancer\",\"Brain Cancer\",\"Brain Cancer\",\"Lung Cancer\",\"Rhabdoid\",\"Kidney Cancer\",\"Brain Cancer\",\"Head and Neck Cancer\",\"Liver Cancer\",\"Brain Cancer\",\"Head and Neck Cancer\",\"Brain Cancer\",\"Gastric Cancer\",\"Ovarian Cancer\",\"Esophageal Cancer\",\"Skin Cancer\",\"Colon/Colorectal Cancer\",\"Myeloma\",\"Lymphoma\",\"Lymphoma\",\"Lymphoma\",\"Lung Cancer\",\"Liver Cancer\",\"Brain Cancer\",\"Gastric Cancer\",\"Brain Cancer\",\"Gastric Cancer\",\"Esophageal Cancer\",\"Head and Neck Cancer\",\"Colon/Colorectal Cancer\",\"Kidney Cancer\",\"Liver Cancer\",\"Sarcoma\",\"Lung Cancer\",\"Head and Neck Cancer\",\"Ovarian Cancer\",\"Lung Cancer\",\"Lung Cancer\",\"Ovarian Cancer\",\"Lymphoma\",\"Colon/Colorectal Cancer\",\"Breast Cancer\",\"Lung Cancer\",\"Head and Neck Cancer\",\"Ovarian Cancer\",\"Lung Cancer\",\"Lung Cancer\",\"Liver Cancer\",\"Gastric Cancer\",\"Brain Cancer\",\"Gastric Cancer\",\"Skin Cancer\",\"Leukemia\",\"Lymphoma\",\"Lung Cancer\",\"Gastric Cancer\",\"Brain Cancer\",\"Head and Neck Cancer\",\"Skin Cancer\",\"Leukemia\",\"Lymphoma\",\"Brain Cancer\",\"Head and Neck Cancer\",\"Lung Cancer\",\"Esophageal Cancer\",\"Lymphoma\",\"Kidney Cancer\",\"Lymphoma\",\"Brain Cancer\",\"Lymphoma\",\"Myeloma\",\"Esophageal Cancer\",\"Endometrial/Uterine Cancer\",\"Head and Neck Cancer\",\"Lung Cancer\",\"Lung Cancer\",\"Liver Cancer\",\"Breast Cancer\",\"Bladder Cancer\",\"Lung Cancer\",\"Lung Cancer\",\"Leukemia\",\"Endometrial/Uterine Cancer\",\"Skin Cancer\",\"Lung Cancer\",\"Brain Cancer\",\"Myeloma\",\"Lung Cancer\",\"Colon/Colorectal Cancer\",\"Gastric Cancer\",\"Gastric Cancer\",\"Lung Cancer\",\"Endometrial/Uterine Cancer\",\"Lymphoma\",\"Esophageal Cancer\",\"Leukemia\",\"Leukemia\",\"Lymphoma\",\"Lung Cancer\",\"Gastric Cancer\",\"Pancreatic Cancer\",\"Leukemia\",\"Leukemia\",\"Leukemia\",\"Endometrial/Uterine Cancer\",\"Gastric Cancer\",\"Leukemia\",\"Colon/Colorectal Cancer\",\"Colon/Colorectal Cancer\",\"Colon/Colorectal Cancer\",\"Endometrial/Uterine Cancer\",\"Ovarian Cancer\",\"Colon/Colorectal Cancer\",\"Ovarian Cancer\",\"Colon/Colorectal Cancer\",\"Endometrial/Uterine Cancer\",\"Endometrial/Uterine Cancer\",\"Lung Cancer\",\"Bile Duct Cancer\",\"Leukemia\",\"Leukemia\",\"Endometrial/Uterine Cancer\",\"Colon/Colorectal Cancer\",\"Endometrial/Uterine Cancer\",\"Colon/Colorectal Cancer\",\"Head and Neck Cancer\",\"Endometrial/Uterine Cancer\",\"Endometrial/Uterine Cancer\",\"Endometrial/Uterine Cancer\",\"Colon/Colorectal Cancer\",\"Colon/Colorectal Cancer\",\"Bone Cancer\",\"Skin Cancer\",\"Brain Cancer\",\"Rhabdoid\",\"Liver Cancer\",\"Bone Cancer\",\"Rhabdoid\",\"Bone Cancer\",\"Bone Cancer\",\"Bone Cancer\",\"Unknown\",\"Bone Cancer\",\"Bone Cancer\",\"Bone Cancer\",\"Colon/Colorectal Cancer\",\"Skin Cancer\",\"Brain Cancer\",\"Brain Cancer\",\"Lymphoma\",\"Rhabdoid\",\"Lymphoma\",\"Colon/Colorectal Cancer\",\"Breast Cancer\",\"Brain Cancer\",\"Lymphoma\",\"Pancreatic Cancer\",\"Colon/Colorectal Cancer\",\"Colon/Colorectal Cancer\",\"Cervical Cancer\",\"Liver Cancer\",\"Head and Neck Cancer\",\"Colon/Colorectal Cancer\",\"Myeloma\",\"Pancreatic Cancer\",\"Leukemia\",\"Pancreatic Cancer\",\"Lymphoma\",\"Brain Cancer\",\"Lymphoma\",\"Lymphoma\",\"Brain Cancer\",\"Brain Cancer\",\"Leukemia\",\"Rhabdoid\",\"Leukemia\",\"Lung Cancer\",\"Pancreatic Cancer\",\"Unknown\",\"Bladder Cancer\",\"Sarcoma\",\"Bone Cancer\",\"Bone Cancer\",\"Brain Cancer\",\"Colon/Colorectal Cancer\",\"Lymphoma\",\"Bone Cancer\",\"Rhabdoid\",\"Rhabdoid\",\"Rhabdoid\",\"Brain Cancer\",\"Head and Neck Cancer\",\"Brain Cancer\",\"Breast Cancer\",\"Sarcoma\",\"Sarcoma\",\"Sarcoma\",\"Sarcoma\",\"Ovarian Cancer\",\"Sarcoma\",\"Bone Cancer\",\"Neuroblastoma\",\"Neuroblastoma\",\"Neuroblastoma\",\"Neuroblastoma\",\"Thyroid Cancer\",\"Thyroid Cancer\",\"Sarcoma\",\"Bone Cancer\",\"Bone Cancer\",\"Leukemia\",\"Leukemia\",\"Leukemia\",\"Bone Cancer\",\"Bone Cancer\",\"Lung Cancer\",\"Kidney Cancer\",\"Skin Cancer\",\"Bone Cancer\",\"Bone Cancer\",\"Bone Cancer\",\"Lung Cancer\",\"Skin Cancer\",\"Skin Cancer\",\"Skin Cancer\",\"Bone Cancer\",\"Skin Cancer\",\"Lung Cancer\",\"Lung Cancer\",\"Bone Cancer\",\"Bone Cancer\",\"Bone Cancer\",\"Bone Cancer\",\"Bone Cancer\",\"Bone Cancer\",\"Bone Cancer\",\"Bone Cancer\",\"Bone Cancer\",\"Bone Cancer\",\"Bone Cancer\",\"Bone Cancer\",\"Bone Cancer\",\"Bone Cancer\",\"Bone Cancer\",\"Bone Cancer\",\"Bone Cancer\",\"Skin Cancer\",\"Skin Cancer\",\"Lung Cancer\",\"Lung Cancer\",\"Lung Cancer\",\"Lung Cancer\",\"Lung Cancer\",\"Lung Cancer\",\"Lung Cancer\",\"Lung Cancer\",\"Lung Cancer\",\"Lung Cancer\",\"Lung Cancer\",\"Lung Cancer\",\"Lung Cancer\",\"Lung Cancer\",\"Lung Cancer\",\"Unknown\",\"Kidney Cancer\",\"Ovarian Cancer\",\"Gastric Cancer\",\"Bone Cancer\",\"Skin Cancer\",\"Lung Cancer\",\"Lung Cancer\",\"Ovarian Cancer\",\"Skin Cancer\",\"Thyroid Cancer\",\"Ovarian Cancer\",\"Kidney Cancer\",\"Kidney Cancer\",\"Skin Cancer\",\"Skin Cancer\",\"Lung Cancer\",\"Kidney Cancer\",\"Lung Cancer\",\"Lung Cancer\",\"Lung Cancer\",\"Skin Cancer\",\"Bone Cancer\",\"Gastric Cancer\",\"Skin Cancer\",\"Breast Cancer\",\"Pancreatic Cancer\",\"Skin Cancer\",\"Skin Cancer\",\"Kidney Cancer\",\"Kidney Cancer\",\"Lung Cancer\",\"Lung Cancer\",\"Lung Cancer\",\"Lung Cancer\",\"Lung Cancer\",\"Lung Cancer\",\"Lung Cancer\",\"Bone Cancer\",\"Breast Cancer\",\"Cervical Cancer\",\"Ovarian Cancer\",\"Ovarian Cancer\",\"Ovarian Cancer\",\"Lung Cancer\",\"Pancreatic Cancer\",\"Pancreatic Cancer\",\"Kidney Cancer\",\"Kidney Cancer\",\"Kidney Cancer\",\"Kidney Cancer\",\"Kidney Cancer\",\"Kidney Cancer\",\"Lung Cancer\",\"Bone Cancer\",\"Kidney Cancer\",\"Lung Cancer\",\"Lung Cancer\",\"Gastric Cancer\",\"Kidney Cancer\",\"Skin Cancer\",\"Cervical Cancer\",\"Gastric Cancer\",\"Bone Cancer\",\"Skin Cancer\",\"Skin Cancer\",\"Skin Cancer\",\"Breast Cancer\",\"Leukemia\",\"Non-Cancerous\",\"Leukemia\",\"Head and Neck Cancer\",\"Head and Neck Cancer\",\"Leukemia\",\"Neuroblastoma\",\"Leukemia\",\"Colon/Colorectal Cancer\",\"Lymphoma\",\"Lymphoma\",\"Leukemia\",\"Brain Cancer\",\"Brain Cancer\",\"Brain Cancer\",\"Brain Cancer\",\"Brain Cancer\",\"Brain Cancer\",\"Brain Cancer\",\"Brain Cancer\",\"Brain Cancer\",\"Lymphoma\",\"Colon/Colorectal Cancer\",\"Head and Neck Cancer\",\"Bladder Cancer\",\"Bile Duct Cancer\",\"Leukemia\",\"Head and Neck Cancer\",\"Lymphoma\",\"Leukemia\",\"Leukemia\",\"Esophageal Cancer\",\"Head and Neck Cancer\",\"Sarcoma\",\"Non-Cancerous\",\"Neuroblastoma\",\"Head and Neck Cancer\",\"Head and Neck Cancer\",\"Head and Neck Cancer\",\"Lymphoma\",\"Lymphoma\",\"Lymphoma\",\"Lymphoma\",\"Leukemia\",\"Brain Cancer\",\"Leukemia\",\"Brain Cancer\",\"Head and Neck Cancer\",\"Neuroblastoma\",\"Leukemia\",\"Esophageal Cancer\",\"Esophageal Cancer\",\"Head and Neck Cancer\",\"Bladder Cancer\",\"Leukemia\",\"Brain Cancer\",\"Brain Cancer\",\"Non-Cancerous\",\"Sarcoma\",\"Lymphoma\",\"Leukemia\",\"Leukemia\",\"Leukemia\",\"Leukemia\",\"Neuroblastoma\",\"Neuroblastoma\",\"Neuroblastoma\",\"Neuroblastoma\",\"Neuroblastoma\",\"Neuroblastoma\",\"Neuroblastoma\",\"Neuroblastoma\",\"Lung Cancer\",\"Embryonal Cancer\",\"Leukemia\",\"Esophageal Cancer\",\"Lymphoma\",\"Head and Neck Cancer\",\"Head and Neck Cancer\",\"Head and Neck Cancer\",\"Head and Neck Cancer\",\"Head and Neck Cancer\",\"Leukemia\",\"Lymphoma\",\"Lymphoma\",\"Leukemia\",\"Brain Cancer\",\"Head and Neck Cancer\",\"Gastric Cancer\",\"Lymphoma\",\"Leukemia\",\"Sarcoma\",\"Liposarcoma\",\"Esophageal Cancer\",\"Gallbladder Cancer\",\"Lymphoma\",\"Leukemia\",\"Non-Cancerous\",\"Leukemia\",\"Unknown\",\"Lung Cancer\",\"Skin Cancer\",\"Leukemia\",\"Neuroblastoma\",\"Non-Cancerous\",\"Non-Cancerous\",\"Non-Cancerous\",\"Non-Cancerous\",\"Non-Cancerous\",\"Non-Cancerous\",\"Non-Cancerous\",\"Non-Cancerous\",\"Non-Cancerous\",\"Non-Cancerous\",\"Non-Cancerous\",\"Non-Cancerous\",\"Non-Cancerous\",\"Non-Cancerous\",\"Non-Cancerous\",\"Non-Cancerous\",\"Non-Cancerous\",\"Non-Cancerous\",\"Non-Cancerous\",\"Skin Cancer\",\"Skin Cancer\",\"Skin Cancer\",\"Neuroblastoma\",\"Leukemia\",\"Head and Neck Cancer\",\"Lymphoma\",\"Colon/Colorectal Cancer\",\"Liver Cancer\",\"Bone Cancer\",\"Thyroid Cancer\"],\"xaxis\":\"x\",\"yaxis\":\"y\",\"type\":\"histogram\"},{\"alignmentgroup\":\"True\",\"bingroup\":\"x\",\"hovertemplate\":\"default_growth_pattern=2D: adherent<br>primary_disease=%{x}<br>count=%{y}<extra></extra>\",\"legendgroup\":\"2D: adherent\",\"marker\":{\"color\":\"#EF553B\",\"pattern\":{\"shape\":\"\"}},\"name\":\"2D: adherent\",\"offsetgroup\":\"2D: adherent\",\"orientation\":\"v\",\"showlegend\":true,\"x\":[\"Non-Cancerous\",\"Sarcoma\",\"Non-Cancerous\",\"Non-Cancerous\",\"Pancreatic Cancer\",\"Non-Cancerous\",\"Non-Cancerous\",\"Non-Cancerous\",\"Non-Cancerous\",\"Non-Cancerous\",\"Non-Cancerous\",\"Non-Cancerous\",\"Non-Cancerous\",\"Non-Cancerous\",\"Non-Cancerous\",\"Breast Cancer\",\"Kidney Cancer\",\"Non-Cancerous\",\"Bone Cancer\",\"Non-Cancerous\",\"Non-Cancerous\",\"Non-Cancerous\",\"Pancreatic Cancer\",\"Bladder Cancer\",\"Non-Cancerous\",\"Skin Cancer\",\"Bile Duct Cancer\",\"Lung Cancer\",\"Lung Cancer\",\"Non-Cancerous\",\"Skin Cancer\",\"Prostate Cancer\",\"Non-Cancerous\",\"Pancreatic Cancer\",\"Rhabdoid\",\"Head and Neck Cancer\",\"Non-Cancerous\",\"Head and Neck Cancer\",\"Thyroid Cancer\",\"Non-Cancerous\",\"Neuroblastoma\",\"Ovarian Cancer\",\"Breast Cancer\",\"Breast Cancer\",\"Breast Cancer\",\"Breast Cancer\",\"Breast Cancer\",\"Bladder Cancer\",\"Bladder Cancer\",\"Breast Cancer\",\"Prostate Cancer\",\"Sarcoma\",\"Eye Cancer\",\"Endometrial/Uterine Cancer\",\"Head and Neck Cancer\",\"Head and Neck Cancer\",\"Head and Neck Cancer\",\"Cervical Cancer\",\"Breast Cancer\",\"Cervical Cancer\",\"Cervical Cancer\",\"Endometrial/Uterine Cancer\",\"Skin Cancer\",\"Bile Duct Cancer\",\"Liposarcoma\",\"Lung Cancer\",\"Neuroblastoma\",\"Lung Cancer\",\"Lung Cancer\",\"Lung Cancer\",\"Lung Cancer\",\"Lung Cancer\",\"Lung Cancer\",\"Lung Cancer\",\"Lung Cancer\",\"Skin Cancer\",\"Gallbladder Cancer\",\"Brain Cancer\",\"Brain Cancer\",\"Brain Cancer\",\"Gallbladder Cancer\",\"Brain Cancer\",\"Brain Cancer\",\"Brain Cancer\",\"Prostate Cancer\",\"Prostate Cancer\",\"Prostate Cancer\",\"Endometrial/Uterine Cancer\",\"Endometrial/Uterine Cancer\",\"Gastric Cancer\",\"Teratoma\",\"Head and Neck Cancer\",\"Kidney Cancer\",\"Kidney Cancer\",\"Head and Neck Cancer\",\"Head and Neck Cancer\",\"Head and Neck Cancer\",\"Head and Neck Cancer\",\"Head and Neck Cancer\",\"Head and Neck Cancer\",\"Head and Neck Cancer\",\"Bone Cancer\",\"Ovarian Cancer\",\"Sarcoma\",\"Non-Cancerous\",\"Colon/Colorectal Cancer\",\"Liposarcoma\",\"Liposarcoma\",\"Liposarcoma\",\"Liposarcoma\",\"Liposarcoma\",\"Liposarcoma\",\"Liposarcoma\",\"Liposarcoma\",\"Liposarcoma\",\"Bone Cancer\",\"Bone Cancer\",\"Colon/Colorectal Cancer\",\"Bile Duct Cancer\",\"Bile Duct Cancer\",\"Bile Duct Cancer\",\"Bile Duct Cancer\",\"Bile Duct Cancer\",\"Bile Duct Cancer\",\"Bile Duct Cancer\",\"Bile Duct Cancer\",\"Bile Duct Cancer\",\"Bile Duct Cancer\",\"Bile Duct Cancer\",\"Bile Duct Cancer\",\"Bile Duct Cancer\",\"Gallbladder Cancer\",\"Bile Duct Cancer\",\"Bile Duct Cancer\",\"Bile Duct Cancer\",\"Bile Duct Cancer\",\"Bile Duct Cancer\",\"Bile Duct Cancer\",\"Bile Duct Cancer\",\"Bile Duct Cancer\",\"Bile Duct Cancer\",\"Gallbladder Cancer\",\"Skin Cancer\",\"Skin Cancer\",\"Lung Cancer\",\"Skin Cancer\",\"Ovarian Cancer\",\"Lung Cancer\",\"Leukemia\",\"Bile Duct Cancer\",\"Pancreatic Cancer\",\"Skin Cancer\",\"Skin Cancer\",\"Skin Cancer\",\"Skin Cancer\",\"Eye Cancer\",\"Eye Cancer\",\"Eye Cancer\",\"Eye Cancer\",\"Eye Cancer\",\"Eye Cancer\",\"Cervical Cancer\",\"Endometrial/Uterine Cancer\",\"Colon/Colorectal Cancer\",\"Colon/Colorectal Cancer\",\"Endometrial/Uterine Cancer\",\"Endometrial/Uterine Cancer\",\"Ovarian Cancer\",\"Pancreatic Cancer\",\"Thyroid Cancer\",\"Thyroid Cancer\",\"Head and Neck Cancer\",\"Endometrial/Uterine Cancer\",\"Sarcoma\",\"Sarcoma\",\"Sarcoma\",\"Bone Cancer\",\"Neuroblastoma\",\"Sarcoma\",\"Breast Cancer\",\"Gastric Cancer\",\"Skin Cancer\",\"Skin Cancer\",\"Skin Cancer\",\"Skin Cancer\",\"Non-Cancerous\",\"Non-Cancerous\",\"Non-Cancerous\",\"Non-Cancerous\",\"Non-Cancerous\",\"Non-Cancerous\",\"Bone Cancer\",\"Leukemia\",\"Skin Cancer\",\"Skin Cancer\",\"Skin Cancer\",\"Skin Cancer\",\"Skin Cancer\",\"Gastric Cancer\",\"Colon/Colorectal Cancer\",\"Colon/Colorectal Cancer\",\"Colon/Colorectal Cancer\",\"Pancreatic Cancer\",\"Brain Cancer\",\"Eye Cancer\",\"Sarcoma\",\"Sarcoma\",\"Unknown\",\"Unknown\",\"Bone Cancer\",\"Unknown\",\"Ovarian Cancer\",\"Leukemia\",\"Colon/Colorectal Cancer\",\"Colon/Colorectal Cancer\",\"Lung Cancer\",\"Skin Cancer\",\"Breast Cancer\",\"Bladder Cancer\",\"Breast Cancer\",\"Lung Cancer\",\"Pancreatic Cancer\",\"Pancreatic Cancer\",\"Bladder Cancer\",\"Brain Cancer\",\"Breast Cancer\",\"Lung Cancer\",\"Pancreatic Cancer\",\"Lung Cancer\",\"Bone Cancer\",\"Brain Cancer\",\"Bone Cancer\",\"Pancreatic Cancer\",\"Kidney Cancer\",\"Ovarian Cancer\",\"Bone Cancer\",\"Sarcoma\",\"Brain Cancer\",\"Thyroid Cancer\",\"Pancreatic Cancer\",\"Lung Cancer\",\"Non-Cancerous\",\"Lung Cancer\",\"Brain Cancer\",\"Leukemia\",\"Brain Cancer\",\"Neuroblastoma\",\"Bone Cancer\",\"Non-Cancerous\",\"Pancreatic Cancer\",\"Non-Cancerous\",\"Prostate Cancer\",\"Ovarian Cancer\",\"Lung Cancer\",\"Pancreatic Cancer\",\"Rhabdoid\",\"Breast Cancer\",\"Brain Cancer\",\"Sarcoma\",\"Ovarian Cancer\",\"Pancreatic Cancer\",\"Lung Cancer\",\"Prostate Cancer\",\"Ovarian Cancer\",\"Pancreatic Cancer\",\"Neuroblastoma\",\"Ovarian Cancer\",\"Brain Cancer\",\"Non-Cancerous\",\"Unknown\",\"Non-Cancerous\",\"Brain Cancer\",\"Pancreatic Cancer\",\"Bladder Cancer\",\"Sarcoma\",\"Breast Cancer\",\"Breast Cancer\",\"Neuroblastoma\",\"Lung Cancer\",\"Brain Cancer\",\"Lung Cancer\",\"Pancreatic Cancer\",\"Lung Cancer\",\"Thyroid Cancer\",\"Pancreatic Cancer\",\"Myeloma\",\"Leukemia\",\"Sarcoma\",\"Kidney Cancer\",\"Lung Cancer\",\"Pancreatic Cancer\",\"Head and Neck Cancer\",\"Bile Duct Cancer\",\"Non-Cancerous\",\"Lung Cancer\",\"Head and Neck Cancer\",\"Kidney Cancer\",\"Endometrial/Uterine Cancer\",\"Non-Cancerous\",\"Brain Cancer\",\"Rhabdoid\",\"Brain Cancer\",\"Breast Cancer\",\"Non-Cancerous\",\"Liver Cancer\",\"Skin Cancer\",\"Pancreatic Cancer\",\"Breast Cancer\",\"Gastric Cancer\",\"Head and Neck Cancer\",\"Kidney Cancer\",\"Pancreatic Cancer\",\"Colon/Colorectal Cancer\",\"Ovarian Cancer\",\"Head and Neck Cancer\",\"Non-Cancerous\",\"Bladder Cancer\",\"Pancreatic Cancer\",\"Brain Cancer\",\"Lymphoma\",\"Kidney Cancer\",\"Breast Cancer\",\"Colon/Colorectal Cancer\",\"Kidney Cancer\",\"Colon/Colorectal Cancer\",\"Head and Neck Cancer\",\"Ovarian Cancer\",\"Neuroblastoma\",\"Lung Cancer\",\"Lung Cancer\",\"Pancreatic Cancer\",\"Pancreatic Cancer\",\"Kidney Cancer\",\"Breast Cancer\",\"Ovarian Cancer\",\"Ovarian Cancer\",\"Lung Cancer\",\"Ovarian Cancer\",\"Endometrial/Uterine Cancer\",\"Leukemia\",\"Skin Cancer\",\"Non-Cancerous\",\"Pancreatic Cancer\",\"Ovarian Cancer\",\"Lung Cancer\",\"Neuroblastoma\",\"Lung Cancer\",\"Kidney Cancer\",\"Pancreatic Cancer\",\"Skin Cancer\",\"Brain Cancer\",\"Lung Cancer\",\"Brain Cancer\",\"Lung Cancer\",\"Pancreatic Cancer\",\"Lung Cancer\",\"Neuroblastoma\",\"Colon/Colorectal Cancer\",\"Neuroblastoma\",\"Pancreatic Cancer\",\"Skin Cancer\",\"Breast Cancer\",\"Colon/Colorectal Cancer\",\"Pancreatic Cancer\",\"Lung Cancer\",\"Bone Cancer\",\"Liver Cancer\",\"Bone Cancer\",\"Neuroblastoma\",\"Breast Cancer\",\"Brain Cancer\",\"Lung Cancer\",\"Lung Cancer\",\"Colon/Colorectal Cancer\",\"Esophageal Cancer\",\"Bladder Cancer\",\"Brain Cancer\",\"Lung Cancer\",\"Bone Cancer\",\"Lung Cancer\",\"Liver Cancer\",\"Lung Cancer\",\"Bladder Cancer\",\"Lung Cancer\",\"Colon/Colorectal Cancer\",\"Lymphoma\",\"Colon/Colorectal Cancer\",\"Leukemia\",\"Bone Cancer\",\"Kidney Cancer\",\"Colon/Colorectal Cancer\",\"Lung Cancer\",\"Head and Neck Cancer\",\"Lung Cancer\",\"Pancreatic Cancer\",\"Liver Cancer\",\"Colon/Colorectal Cancer\",\"Liver Cancer\",\"Skin Cancer\",\"Gastric Cancer\",\"Kidney Cancer\",\"Kidney Cancer\",\"Lung Cancer\",\"Brain Cancer\",\"Lymphoma\",\"Lung Cancer\",\"Lung Cancer\",\"Neuroblastoma\",\"Lung Cancer\",\"Sarcoma\",\"Skin Cancer\",\"Thyroid Cancer\",\"Kidney Cancer\",\"Ovarian Cancer\",\"Lung Cancer\",\"Brain Cancer\",\"Pancreatic Cancer\",\"Brain Cancer\",\"Colon/Colorectal Cancer\",\"Bladder Cancer\",\"Liver Cancer\",\"Liver Cancer\",\"Lung Cancer\",\"Liver Cancer\",\"Kidney Cancer\",\"Bladder Cancer\",\"Colon/Colorectal Cancer\",\"Colon/Colorectal Cancer\",\"Liver Cancer\",\"Kidney Cancer\",\"Lung Cancer\",\"Pancreatic Cancer\",\"Head and Neck Cancer\",\"Brain Cancer\",\"Gastric Cancer\",\"Lung Cancer\",\"Lung Cancer\",\"Bone Cancer\",\"Head and Neck Cancer\",\"Lung Cancer\",\"Bladder Cancer\",\"Lung Cancer\",\"Lung Cancer\",\"Lung Cancer\",\"Colon/Colorectal Cancer\",\"Pancreatic Cancer\",\"Breast Cancer\",\"Non-Cancerous\",\"Non-Cancerous\",\"Ovarian Cancer\",\"Esophageal Cancer\",\"Bladder Cancer\",\"Bladder Cancer\",\"Skin Cancer\",\"Colon/Colorectal Cancer\",\"Breast Cancer\",\"Kidney Cancer\",\"Cervical Cancer\",\"Brain Cancer\",\"Lung Cancer\",\"Colon/Colorectal Cancer\",\"Bladder Cancer\",\"Lung Cancer\",\"Brain Cancer\",\"Skin Cancer\",\"Breast Cancer\",\"Ovarian Cancer\",\"Liver Cancer\",\"Skin Cancer\",\"Skin Cancer\",\"Lung Cancer\",\"Lung Cancer\",\"Lung Cancer\",\"Lung Cancer\",\"Lung Cancer\",\"Bladder Cancer\",\"Brain Cancer\",\"Pancreatic Cancer\",\"Pancreatic Cancer\",\"Lung Cancer\",\"Esophageal Cancer\",\"Head and Neck Cancer\",\"Ovarian Cancer\",\"Bone Cancer\",\"Skin Cancer\",\"Skin Cancer\",\"Gastric Cancer\",\"Ovarian Cancer\",\"Head and Neck Cancer\",\"Breast Cancer\",\"Brain Cancer\",\"Breast Cancer\",\"Liver Cancer\",\"Lung Cancer\",\"Lung Cancer\",\"Skin Cancer\",\"Esophageal Cancer\",\"Lung Cancer\",\"Skin Cancer\",\"Breast Cancer\",\"Skin Cancer\",\"Lung Cancer\",\"Kidney Cancer\",\"Pancreatic Cancer\",\"Lung Cancer\",\"Skin Cancer\",\"Lung Cancer\",\"Ovarian Cancer\",\"Lung Cancer\",\"Lung Cancer\",\"Breast Cancer\",\"Lung Cancer\",\"Lung Cancer\",\"Lung Cancer\",\"Lung Cancer\",\"Lung Cancer\",\"Colon/Colorectal Cancer\",\"Lung Cancer\",\"Ovarian Cancer\",\"Esophageal Cancer\",\"Esophageal Cancer\",\"Breast Cancer\",\"Ovarian Cancer\",\"Lung Cancer\",\"Ovarian Cancer\",\"Myeloma\",\"Thyroid Cancer\",\"Esophageal Cancer\",\"Lung Cancer\",\"Bladder Cancer\",\"Breast Cancer\",\"Bladder Cancer\",\"Breast Cancer\",\"Lung Cancer\",\"Skin Cancer\",\"Head and Neck Cancer\",\"Lung Cancer\",\"Head and Neck Cancer\",\"Liver Cancer\",\"Head and Neck Cancer\",\"Non-Cancerous\",\"Lung Cancer\",\"Myeloma\",\"Lung Cancer\",\"Bone Cancer\",\"Lung Cancer\",\"Lung Cancer\",\"Bladder Cancer\",\"Brain Cancer\",\"Breast Cancer\",\"Gastric Cancer\",\"Breast Cancer\",\"Lung Cancer\",\"Head and Neck Cancer\",\"Sarcoma\",\"Lung Cancer\",\"Lung Cancer\",\"Esophageal Cancer\",\"Lung Cancer\",\"Breast Cancer\",\"Lung Cancer\",\"Lung Cancer\",\"Skin Cancer\",\"Lung Cancer\",\"Lung Cancer\",\"Head and Neck Cancer\",\"Ovarian Cancer\",\"Colon/Colorectal Cancer\",\"Skin Cancer\",\"Bladder Cancer\",\"Lung Cancer\",\"Neuroblastoma\",\"Skin Cancer\",\"Esophageal Cancer\",\"Skin Cancer\",\"Ovarian Cancer\",\"Skin Cancer\",\"Skin Cancer\",\"Breast Cancer\",\"Brain Cancer\",\"Colon/Colorectal Cancer\",\"Skin Cancer\",\"Esophageal Cancer\",\"Lung Cancer\",\"Skin Cancer\",\"Breast Cancer\",\"Head and Neck Cancer\",\"Sarcoma\",\"Bladder Cancer\",\"Sarcoma\",\"Bladder Cancer\",\"Colon/Colorectal Cancer\",\"Lung Cancer\",\"Lung Cancer\",\"Head and Neck Cancer\",\"Gastric Cancer\",\"Breast Cancer\",\"Lung Cancer\",\"Lung Cancer\",\"Esophageal Cancer\",\"Breast Cancer\",\"Lung Cancer\",\"Breast Cancer\",\"Lung Cancer\",\"Lung Cancer\",\"Brain Cancer\",\"Esophageal Cancer\",\"Lung Cancer\",\"Lung Cancer\",\"Lung Cancer\",\"Esophageal Cancer\",\"Breast Cancer\",\"Gastric Cancer\",\"Skin Cancer\",\"Skin Cancer\",\"Brain Cancer\",\"Ovarian Cancer\",\"Lung Cancer\",\"Lung Cancer\",\"Lung Cancer\",\"Lung Cancer\",\"Lung Cancer\",\"Bladder Cancer\",\"Thyroid Cancer\",\"Lung Cancer\",\"Lung Cancer\",\"Thyroid Cancer\",\"Bladder Cancer\",\"Ovarian Cancer\",\"Kidney Cancer\",\"Breast Cancer\",\"Skin Cancer\",\"Lung Cancer\",\"Gastric Cancer\",\"Lung Cancer\",\"Leukemia\",\"Lung Cancer\",\"Lung Cancer\",\"Colon/Colorectal Cancer\",\"Breast Cancer\",\"Endometrial/Uterine Cancer\",\"Skin Cancer\",\"Breast Cancer\",\"Colon/Colorectal Cancer\",\"Ovarian Cancer\",\"Sarcoma\",\"Endometrial/Uterine Cancer\",\"Endometrial/Uterine Cancer\",\"Colon/Colorectal Cancer\",\"Ovarian Cancer\",\"Colon/Colorectal Cancer\",\"Endometrial/Uterine Cancer\",\"Prostate Cancer\",\"Colon/Colorectal Cancer\",\"Endometrial/Uterine Cancer\",\"Colon/Colorectal Cancer\",\"Skin Cancer\",\"Colon/Colorectal Cancer\",\"Colon/Colorectal Cancer\",\"Bladder Cancer\",\"Endometrial/Uterine Cancer\",\"Prostate Cancer\",\"Colon/Colorectal Cancer\",\"Colon/Colorectal Cancer\",\"Colon/Colorectal Cancer\",\"Skin Cancer\",\"Endometrial/Uterine Cancer\",\"Colon/Colorectal Cancer\",\"Thyroid Cancer\",\"Skin Cancer\",\"Rhabdoid\",\"Skin Cancer\",\"Ovarian Cancer\",\"Sarcoma\",\"Lung Cancer\",\"Sarcoma\",\"Lung Cancer\",\"Ovarian Cancer\",\"Ovarian Cancer\",\"Sarcoma\",\"Skin Cancer\",\"Sarcoma\",\"Kidney Cancer\",\"Head and Neck Cancer\",\"Skin Cancer\",\"Thyroid Cancer\",\"Liver Cancer\",\"Skin Cancer\",\"Brain Cancer\",\"Head and Neck Cancer\",\"Head and Neck Cancer\",\"Cervical Cancer\",\"Cervical Cancer\",\"Cervical Cancer\",\"Cervical Cancer\",\"Neuroblastoma\",\"Skin Cancer\",\"Ovarian Cancer\",\"Cervical Cancer\",\"Neuroblastoma\",\"Colon/Colorectal Cancer\",\"Head and Neck Cancer\",\"Thyroid Cancer\",\"Pancreatic Cancer\",\"Neuroblastoma\",\"Neuroblastoma\",\"Breast Cancer\",\"Cervical Cancer\",\"Cervical Cancer\",\"Neuroblastoma\",\"Ovarian Cancer\",\"Ovarian Cancer\",\"Ovarian Cancer\",\"Pancreatic Cancer\",\"Pancreatic Cancer\",\"Pancreatic Cancer\",\"Pancreatic Cancer\",\"Pancreatic Cancer\",\"Pancreatic Cancer\",\"Pancreatic Cancer\",\"Prostate Cancer\",\"Thyroid Cancer\",\"Head and Neck Cancer\",\"Breast Cancer\",\"Breast Cancer\",\"Breast Cancer\",\"Breast Cancer\",\"Breast Cancer\",\"Kidney Cancer\",\"Colon/Colorectal Cancer\",\"Cervical Cancer\",\"Adrenal Cancer\",\"Cervical Cancer\",\"Ovarian Cancer\",\"Bladder Cancer\",\"Bladder Cancer\",\"Bladder Cancer\",\"Bladder Cancer\",\"Bladder Cancer\",\"Bladder Cancer\",\"Bladder Cancer\",\"Bladder Cancer\",\"Lung Cancer\",\"Ovarian Cancer\",\"Skin Cancer\",\"Thyroid Cancer\",\"Cervical Cancer\",\"Prostate Cancer\",\"Colon/Colorectal Cancer\",\"Colon/Colorectal Cancer\",\"Colon/Colorectal Cancer\",\"Colon/Colorectal Cancer\",\"Colon/Colorectal Cancer\",\"Colon/Colorectal Cancer\",\"Leukemia\",\"Bile Duct Cancer\",\"Esophageal Cancer\",\"Esophageal Cancer\",\"Endometrial/Uterine Cancer\",\"Bone Cancer\",\"Skin Cancer\",\"Skin Cancer\",\"Skin Cancer\",\"Cervical Cancer\",\"Bone Cancer\",\"Thyroid Cancer\",\"Endometrial/Uterine Cancer\",\"Endometrial/Uterine Cancer\",\"Rhabdoid\",\"Bile Duct Cancer\",\"Head and Neck Cancer\",\"Head and Neck Cancer\",\"Esophageal Cancer\",\"Skin Cancer\",\"Skin Cancer\",\"Skin Cancer\",\"Eye Cancer\",\"Skin Cancer\",\"Skin Cancer\",\"Skin Cancer\",\"Skin Cancer\",\"Skin Cancer\",\"Embryonal Cancer\",\"Neuroblastoma\",\"Brain Cancer\",\"Brain Cancer\",\"Brain Cancer\",\"Head and Neck Cancer\",\"Head and Neck Cancer\",\"Ovarian Cancer\",\"Ovarian Cancer\",\"Ovarian Cancer\",\"Head and Neck Cancer\",\"Cervical Cancer\",\"Gastric Cancer\",\"Esophageal Cancer\",\"Endometrial/Uterine Cancer\",\"Brain Cancer\",\"Bile Duct Cancer\",\"Neuroblastoma\",\"Sarcoma\",\"Skin Cancer\",\"Brain Cancer\",\"Bone Cancer\",\"Neuroblastoma\",\"Sarcoma\",\"Sarcoma\",\"Sarcoma\",\"Sarcoma\",\"Sarcoma\",\"Breast Cancer\",\"Bile Duct Cancer\",\"Gallbladder Cancer\",\"Lung Cancer\",\"Skin Cancer\",\"Cervical Cancer\",\"Colon/Colorectal Cancer\",\"Head and Neck Cancer\",\"Skin Cancer\",\"Head and Neck Cancer\",\"Head and Neck Cancer\",\"Bone Cancer\",\"Neuroblastoma\",\"Skin Cancer\",\"Lung Cancer\",\"Neuroblastoma\",\"Embryonal Cancer\",\"Colon/Colorectal Cancer\"],\"xaxis\":\"x\",\"yaxis\":\"y\",\"type\":\"histogram\"},{\"alignmentgroup\":\"True\",\"bingroup\":\"x\",\"hovertemplate\":\"default_growth_pattern=2D: suspension<br>primary_disease=%{x}<br>count=%{y}<extra></extra>\",\"legendgroup\":\"2D: suspension\",\"marker\":{\"color\":\"#00cc96\",\"pattern\":{\"shape\":\"\"}},\"name\":\"2D: suspension\",\"offsetgroup\":\"2D: suspension\",\"orientation\":\"v\",\"showlegend\":true,\"x\":[\"Lymphoma\",\"Leukemia\",\"Leukemia\",\"Leukemia\",\"Lymphoma\",\"Lymphoma\",\"Non-Cancerous\",\"Lymphoma\",\"Lung Cancer\",\"Leukemia\",\"Myeloma\",\"Leukemia\",\"Lung Cancer\",\"Myeloma\",\"Leukemia\",\"Lymphoma\",\"Lung Cancer\",\"Leukemia\",\"Gastric Cancer\",\"Leukemia\",\"Ovarian Cancer\",\"Lymphoma\",\"Myeloma\",\"Lymphoma\",\"Lymphoma\",\"Myeloma\",\"Leukemia\",\"Leukemia\",\"Leukemia\",\"Lymphoma\",\"Leukemia\",\"Leukemia\",\"Leukemia\",\"Leukemia\",\"Lymphoma\",\"Leukemia\",\"Lymphoma\",\"Leukemia\",\"Leukemia\",\"Leukemia\",\"Leukemia\",\"Myeloma\",\"Lymphoma\",\"Leukemia\",\"Lymphoma\",\"Leukemia\",\"Lymphoma\",\"Leukemia\",\"Leukemia\",\"Lymphoma\",\"Lung Cancer\",\"Non-Cancerous\",\"Neuroblastoma\",\"Leukemia\",\"Leukemia\",\"Lymphoma\",\"Lymphoma\",\"Myeloma\",\"Myeloma\",\"Leukemia\",\"Breast Cancer\",\"Leukemia\",\"Colon/Colorectal Cancer\",\"Lymphoma\",\"Lymphoma\",\"Colon/Colorectal Cancer\",\"Breast Cancer\",\"Lymphoma\",\"Lung Cancer\",\"Lymphoma\",\"Lymphoma\",\"Leukemia\",\"Lymphoma\",\"Leukemia\",\"Lymphoma\",\"Leukemia\",\"Myeloma\",\"Lung Cancer\",\"Leukemia\",\"Leukemia\",\"Lung Cancer\",\"Leukemia\",\"Myeloma\",\"Lung Cancer\",\"Leukemia\",\"Myeloma\",\"Leukemia\",\"Skin Cancer\",\"Leukemia\",\"Leukemia\",\"Lung Cancer\",\"Lymphoma\",\"Lung Cancer\",\"Leukemia\",\"Leukemia\",\"Breast Cancer\",\"Myeloma\",\"Lymphoma\",\"Myeloma\",\"Leukemia\",\"Lymphoma\",\"Myeloma\",\"Leukemia\",\"Lung Cancer\",\"Leukemia\",\"Ovarian Cancer\",\"Myeloma\",\"Lymphoma\",\"Lymphoma\",\"Breast Cancer\",\"Lung Cancer\",\"Lymphoma\",\"Lung Cancer\",\"Lung Cancer\",\"Breast Cancer\",\"Lung Cancer\",\"Lung Cancer\",\"Leukemia\",\"Leukemia\",\"Lung Cancer\",\"Myeloma\",\"Myeloma\",\"Lung Cancer\",\"Myeloma\",\"Lung Cancer\",\"Endometrial/Uterine Cancer\",\"Lymphoma\",\"Lymphoma\",\"Gastric Cancer\",\"Leukemia\",\"Leukemia\",\"Lung Cancer\",\"Leukemia\",\"Leukemia\",\"Lung Cancer\",\"Ovarian Cancer\",\"Lymphoma\",\"Skin Cancer\",\"Lung Cancer\",\"Lung Cancer\",\"Rhabdoid\",\"Eye Cancer\",\"Lung Cancer\",\"Lung Cancer\",\"Lung Cancer\",\"Esophageal Cancer\",\"Lung Cancer\",\"Eye Cancer\",\"Lymphoma\",\"Leukemia\",\"Leukemia\",\"Lung Cancer\",\"Lung Cancer\",\"Esophageal Cancer\",\"Lymphoma\",\"Lung Cancer\",\"Leukemia\",\"Lung Cancer\",\"Lung Cancer\",\"Lymphoma\",\"Lymphoma\",\"Lymphoma\",\"Leukemia\",\"Lymphoma\",\"Skin Cancer\",\"Leukemia\",\"Lymphoma\",\"Lymphoma\",\"Lymphoma\",\"Lymphoma\",\"Leukemia\",\"Lung Cancer\",\"Lung Cancer\",\"Leukemia\",\"Leukemia\",\"Lymphoma\",\"Lung Cancer\",\"Lung Cancer\",\"Lymphoma\",\"Lymphoma\",\"Lymphoma\",\"Lymphoma\",\"Leukemia\"],\"xaxis\":\"x\",\"yaxis\":\"y\",\"type\":\"histogram\"},{\"alignmentgroup\":\"True\",\"bingroup\":\"x\",\"hovertemplate\":\"default_growth_pattern=2D: mixed adherent and suspension<br>primary_disease=%{x}<br>count=%{y}<extra></extra>\",\"legendgroup\":\"2D: mixed adherent and suspension\",\"marker\":{\"color\":\"#ab63fa\",\"pattern\":{\"shape\":\"\"}},\"name\":\"2D: mixed adherent and suspension\",\"offsetgroup\":\"2D: mixed adherent and suspension\",\"orientation\":\"v\",\"showlegend\":true,\"x\":[\"Non-Cancerous\",\"Lung Cancer\",\"Lung Cancer\",\"Lung Cancer\",\"Leukemia\",\"Lung Cancer\",\"Breast Cancer\",\"Lymphoma\",\"Leukemia\",\"Breast Cancer\",\"Lung Cancer\",\"Pancreatic Cancer\",\"Prostate Cancer\",\"Neuroblastoma\",\"Bone Cancer\",\"Pancreatic Cancer\",\"Liver Cancer\",\"Neuroblastoma\",\"Brain Cancer\",\"Lung Cancer\",\"Neuroblastoma\",\"Ovarian Cancer\",\"Skin Cancer\",\"Skin Cancer\",\"Lung Cancer\",\"Lung Cancer\",\"Lung Cancer\",\"Rhabdoid\",\"Lung Cancer\",\"Brain Cancer\",\"Lymphoma\",\"Lung Cancer\",\"Colon/Colorectal Cancer\",\"Myeloma\",\"Lung Cancer\",\"Lung Cancer\",\"Gastric Cancer\",\"Lung Cancer\",\"Lung Cancer\",\"Lung Cancer\",\"Lung Cancer\",\"Lung Cancer\",\"Breast Cancer\",\"Breast Cancer\",\"Lung Cancer\",\"Lung Cancer\",\"Prostate Cancer\",\"Neuroblastoma\",\"Lung Cancer\",\"Lung Cancer\",\"Breast Cancer\"],\"xaxis\":\"x\",\"yaxis\":\"y\",\"type\":\"histogram\"}],                        {\"template\":{\"data\":{\"bar\":[{\"error_x\":{\"color\":\"#2a3f5f\"},\"error_y\":{\"color\":\"#2a3f5f\"},\"marker\":{\"line\":{\"color\":\"#E5ECF6\",\"width\":0.5},\"pattern\":{\"fillmode\":\"overlay\",\"size\":10,\"solidity\":0.2}},\"type\":\"bar\"}],\"barpolar\":[{\"marker\":{\"line\":{\"color\":\"#E5ECF6\",\"width\":0.5},\"pattern\":{\"fillmode\":\"overlay\",\"size\":10,\"solidity\":0.2}},\"type\":\"barpolar\"}],\"carpet\":[{\"aaxis\":{\"endlinecolor\":\"#2a3f5f\",\"gridcolor\":\"white\",\"linecolor\":\"white\",\"minorgridcolor\":\"white\",\"startlinecolor\":\"#2a3f5f\"},\"baxis\":{\"endlinecolor\":\"#2a3f5f\",\"gridcolor\":\"white\",\"linecolor\":\"white\",\"minorgridcolor\":\"white\",\"startlinecolor\":\"#2a3f5f\"},\"type\":\"carpet\"}],\"choropleth\":[{\"colorbar\":{\"outlinewidth\":0,\"ticks\":\"\"},\"type\":\"choropleth\"}],\"contour\":[{\"colorbar\":{\"outlinewidth\":0,\"ticks\":\"\"},\"colorscale\":[[0.0,\"#0d0887\"],[0.1111111111111111,\"#46039f\"],[0.2222222222222222,\"#7201a8\"],[0.3333333333333333,\"#9c179e\"],[0.4444444444444444,\"#bd3786\"],[0.5555555555555556,\"#d8576b\"],[0.6666666666666666,\"#ed7953\"],[0.7777777777777778,\"#fb9f3a\"],[0.8888888888888888,\"#fdca26\"],[1.0,\"#f0f921\"]],\"type\":\"contour\"}],\"contourcarpet\":[{\"colorbar\":{\"outlinewidth\":0,\"ticks\":\"\"},\"type\":\"contourcarpet\"}],\"heatmap\":[{\"colorbar\":{\"outlinewidth\":0,\"ticks\":\"\"},\"colorscale\":[[0.0,\"#0d0887\"],[0.1111111111111111,\"#46039f\"],[0.2222222222222222,\"#7201a8\"],[0.3333333333333333,\"#9c179e\"],[0.4444444444444444,\"#bd3786\"],[0.5555555555555556,\"#d8576b\"],[0.6666666666666666,\"#ed7953\"],[0.7777777777777778,\"#fb9f3a\"],[0.8888888888888888,\"#fdca26\"],[1.0,\"#f0f921\"]],\"type\":\"heatmap\"}],\"heatmapgl\":[{\"colorbar\":{\"outlinewidth\":0,\"ticks\":\"\"},\"colorscale\":[[0.0,\"#0d0887\"],[0.1111111111111111,\"#46039f\"],[0.2222222222222222,\"#7201a8\"],[0.3333333333333333,\"#9c179e\"],[0.4444444444444444,\"#bd3786\"],[0.5555555555555556,\"#d8576b\"],[0.6666666666666666,\"#ed7953\"],[0.7777777777777778,\"#fb9f3a\"],[0.8888888888888888,\"#fdca26\"],[1.0,\"#f0f921\"]],\"type\":\"heatmapgl\"}],\"histogram\":[{\"marker\":{\"pattern\":{\"fillmode\":\"overlay\",\"size\":10,\"solidity\":0.2}},\"type\":\"histogram\"}],\"histogram2d\":[{\"colorbar\":{\"outlinewidth\":0,\"ticks\":\"\"},\"colorscale\":[[0.0,\"#0d0887\"],[0.1111111111111111,\"#46039f\"],[0.2222222222222222,\"#7201a8\"],[0.3333333333333333,\"#9c179e\"],[0.4444444444444444,\"#bd3786\"],[0.5555555555555556,\"#d8576b\"],[0.6666666666666666,\"#ed7953\"],[0.7777777777777778,\"#fb9f3a\"],[0.8888888888888888,\"#fdca26\"],[1.0,\"#f0f921\"]],\"type\":\"histogram2d\"}],\"histogram2dcontour\":[{\"colorbar\":{\"outlinewidth\":0,\"ticks\":\"\"},\"colorscale\":[[0.0,\"#0d0887\"],[0.1111111111111111,\"#46039f\"],[0.2222222222222222,\"#7201a8\"],[0.3333333333333333,\"#9c179e\"],[0.4444444444444444,\"#bd3786\"],[0.5555555555555556,\"#d8576b\"],[0.6666666666666666,\"#ed7953\"],[0.7777777777777778,\"#fb9f3a\"],[0.8888888888888888,\"#fdca26\"],[1.0,\"#f0f921\"]],\"type\":\"histogram2dcontour\"}],\"mesh3d\":[{\"colorbar\":{\"outlinewidth\":0,\"ticks\":\"\"},\"type\":\"mesh3d\"}],\"parcoords\":[{\"line\":{\"colorbar\":{\"outlinewidth\":0,\"ticks\":\"\"}},\"type\":\"parcoords\"}],\"pie\":[{\"automargin\":true,\"type\":\"pie\"}],\"scatter\":[{\"marker\":{\"colorbar\":{\"outlinewidth\":0,\"ticks\":\"\"}},\"type\":\"scatter\"}],\"scatter3d\":[{\"line\":{\"colorbar\":{\"outlinewidth\":0,\"ticks\":\"\"}},\"marker\":{\"colorbar\":{\"outlinewidth\":0,\"ticks\":\"\"}},\"type\":\"scatter3d\"}],\"scattercarpet\":[{\"marker\":{\"colorbar\":{\"outlinewidth\":0,\"ticks\":\"\"}},\"type\":\"scattercarpet\"}],\"scattergeo\":[{\"marker\":{\"colorbar\":{\"outlinewidth\":0,\"ticks\":\"\"}},\"type\":\"scattergeo\"}],\"scattergl\":[{\"marker\":{\"colorbar\":{\"outlinewidth\":0,\"ticks\":\"\"}},\"type\":\"scattergl\"}],\"scattermapbox\":[{\"marker\":{\"colorbar\":{\"outlinewidth\":0,\"ticks\":\"\"}},\"type\":\"scattermapbox\"}],\"scatterpolar\":[{\"marker\":{\"colorbar\":{\"outlinewidth\":0,\"ticks\":\"\"}},\"type\":\"scatterpolar\"}],\"scatterpolargl\":[{\"marker\":{\"colorbar\":{\"outlinewidth\":0,\"ticks\":\"\"}},\"type\":\"scatterpolargl\"}],\"scatterternary\":[{\"marker\":{\"colorbar\":{\"outlinewidth\":0,\"ticks\":\"\"}},\"type\":\"scatterternary\"}],\"surface\":[{\"colorbar\":{\"outlinewidth\":0,\"ticks\":\"\"},\"colorscale\":[[0.0,\"#0d0887\"],[0.1111111111111111,\"#46039f\"],[0.2222222222222222,\"#7201a8\"],[0.3333333333333333,\"#9c179e\"],[0.4444444444444444,\"#bd3786\"],[0.5555555555555556,\"#d8576b\"],[0.6666666666666666,\"#ed7953\"],[0.7777777777777778,\"#fb9f3a\"],[0.8888888888888888,\"#fdca26\"],[1.0,\"#f0f921\"]],\"type\":\"surface\"}],\"table\":[{\"cells\":{\"fill\":{\"color\":\"#EBF0F8\"},\"line\":{\"color\":\"white\"}},\"header\":{\"fill\":{\"color\":\"#C8D4E3\"},\"line\":{\"color\":\"white\"}},\"type\":\"table\"}]},\"layout\":{\"annotationdefaults\":{\"arrowcolor\":\"#2a3f5f\",\"arrowhead\":0,\"arrowwidth\":1},\"autotypenumbers\":\"strict\",\"coloraxis\":{\"colorbar\":{\"outlinewidth\":0,\"ticks\":\"\"}},\"colorscale\":{\"diverging\":[[0,\"#8e0152\"],[0.1,\"#c51b7d\"],[0.2,\"#de77ae\"],[0.3,\"#f1b6da\"],[0.4,\"#fde0ef\"],[0.5,\"#f7f7f7\"],[0.6,\"#e6f5d0\"],[0.7,\"#b8e186\"],[0.8,\"#7fbc41\"],[0.9,\"#4d9221\"],[1,\"#276419\"]],\"sequential\":[[0.0,\"#0d0887\"],[0.1111111111111111,\"#46039f\"],[0.2222222222222222,\"#7201a8\"],[0.3333333333333333,\"#9c179e\"],[0.4444444444444444,\"#bd3786\"],[0.5555555555555556,\"#d8576b\"],[0.6666666666666666,\"#ed7953\"],[0.7777777777777778,\"#fb9f3a\"],[0.8888888888888888,\"#fdca26\"],[1.0,\"#f0f921\"]],\"sequentialminus\":[[0.0,\"#0d0887\"],[0.1111111111111111,\"#46039f\"],[0.2222222222222222,\"#7201a8\"],[0.3333333333333333,\"#9c179e\"],[0.4444444444444444,\"#bd3786\"],[0.5555555555555556,\"#d8576b\"],[0.6666666666666666,\"#ed7953\"],[0.7777777777777778,\"#fb9f3a\"],[0.8888888888888888,\"#fdca26\"],[1.0,\"#f0f921\"]]},\"colorway\":[\"#636efa\",\"#EF553B\",\"#00cc96\",\"#ab63fa\",\"#FFA15A\",\"#19d3f3\",\"#FF6692\",\"#B6E880\",\"#FF97FF\",\"#FECB52\"],\"font\":{\"color\":\"#2a3f5f\"},\"geo\":{\"bgcolor\":\"white\",\"lakecolor\":\"white\",\"landcolor\":\"#E5ECF6\",\"showlakes\":true,\"showland\":true,\"subunitcolor\":\"white\"},\"hoverlabel\":{\"align\":\"left\"},\"hovermode\":\"closest\",\"mapbox\":{\"style\":\"light\"},\"paper_bgcolor\":\"white\",\"plot_bgcolor\":\"#E5ECF6\",\"polar\":{\"angularaxis\":{\"gridcolor\":\"white\",\"linecolor\":\"white\",\"ticks\":\"\"},\"bgcolor\":\"#E5ECF6\",\"radialaxis\":{\"gridcolor\":\"white\",\"linecolor\":\"white\",\"ticks\":\"\"}},\"scene\":{\"xaxis\":{\"backgroundcolor\":\"#E5ECF6\",\"gridcolor\":\"white\",\"gridwidth\":2,\"linecolor\":\"white\",\"showbackground\":true,\"ticks\":\"\",\"zerolinecolor\":\"white\"},\"yaxis\":{\"backgroundcolor\":\"#E5ECF6\",\"gridcolor\":\"white\",\"gridwidth\":2,\"linecolor\":\"white\",\"showbackground\":true,\"ticks\":\"\",\"zerolinecolor\":\"white\"},\"zaxis\":{\"backgroundcolor\":\"#E5ECF6\",\"gridcolor\":\"white\",\"gridwidth\":2,\"linecolor\":\"white\",\"showbackground\":true,\"ticks\":\"\",\"zerolinecolor\":\"white\"}},\"shapedefaults\":{\"line\":{\"color\":\"#2a3f5f\"}},\"ternary\":{\"aaxis\":{\"gridcolor\":\"white\",\"linecolor\":\"white\",\"ticks\":\"\"},\"baxis\":{\"gridcolor\":\"white\",\"linecolor\":\"white\",\"ticks\":\"\"},\"bgcolor\":\"#E5ECF6\",\"caxis\":{\"gridcolor\":\"white\",\"linecolor\":\"white\",\"ticks\":\"\"}},\"title\":{\"x\":0.05},\"xaxis\":{\"automargin\":true,\"gridcolor\":\"white\",\"linecolor\":\"white\",\"ticks\":\"\",\"title\":{\"standoff\":15},\"zerolinecolor\":\"white\",\"zerolinewidth\":2},\"yaxis\":{\"automargin\":true,\"gridcolor\":\"white\",\"linecolor\":\"white\",\"ticks\":\"\",\"title\":{\"standoff\":15},\"zerolinecolor\":\"white\",\"zerolinewidth\":2}}},\"xaxis\":{\"anchor\":\"y\",\"domain\":[0.0,1.0],\"title\":{\"text\":\"primary_disease\"}},\"yaxis\":{\"anchor\":\"x\",\"domain\":[0.0,1.0],\"title\":{\"text\":\"count\"}},\"legend\":{\"title\":{\"text\":\"default_growth_pattern\"},\"tracegroupgap\":0},\"margin\":{\"t\":60},\"barmode\":\"relative\"},                        {\"responsive\": true}                    ).then(function(){\n",
              "                            \n",
              "var gd = document.getElementById('3d6e3c5d-6a20-4237-aaf2-537faecf2d52');\n",
              "var x = new MutationObserver(function (mutations, observer) {{\n",
              "        var display = window.getComputedStyle(gd).display;\n",
              "        if (!display || display === 'none') {{\n",
              "            console.log([gd, 'removed!']);\n",
              "            Plotly.purge(gd);\n",
              "            observer.disconnect();\n",
              "        }}\n",
              "}});\n",
              "\n",
              "// Listen for the removal of the full notebook cells\n",
              "var notebookContainer = gd.closest('#notebook-container');\n",
              "if (notebookContainer) {{\n",
              "    x.observe(notebookContainer, {childList: true});\n",
              "}}\n",
              "\n",
              "// Listen for the clearing of the current output cell\n",
              "var outputEl = gd.closest('.output');\n",
              "if (outputEl) {{\n",
              "    x.observe(outputEl, {childList: true});\n",
              "}}\n",
              "\n",
              "                        })                };                            </script>        </div>\n",
              "</body>\n",
              "</html>"
            ]
          },
          "metadata": {}
        }
      ],
      "source": [
        "px.histogram(df, x = 'primary_disease', color = 'default_growth_pattern')"
      ]
    },
    {
      "cell_type": "code",
      "execution_count": 32,
      "metadata": {
        "colab": {
          "base_uri": "https://localhost:8080/"
        },
        "id": "Aw_sB2FUtfpY",
        "outputId": "e621e5e3-42f6-4c6a-a00d-4d0acd894e10"
      },
      "outputs": [
        {
          "output_type": "execute_result",
          "data": {
            "text/plain": [
              "Cellosaurus_issues\n",
              "0                                                                                                                                                                                    1666\n",
              "A TP53 mutation is indicated as being at p.Ala138Pro (c.412G>C) in PubMed=17363600 but has not been confirmed by CCLE and Cosmic-CLP                                                    1\n",
              "A TP53 mutation is indicated as being at p.Gln167His (c.501G>T) in PubMed=7819056 but has not been confirmed by CCLE and Cosmic-CLP                                                     1\n",
              "A cell line, now termed GNE-587170 (CVCL_AT69), was mistakenly distributed by OCI to a number of groups under the designation OCI-Ly-3, the origin of that cell line is now known       1\n",
              "According to DSMZ from a 46 year old female and from ascite fluids while archive documents of Moore G.E. indicate a 50 year old female and from a pleural effusion                      1\n",
              "                                                                                                                                                                                     ... \n",
              "Was originally classified as originating from a histiocytic lymphoma                                                                                                                    1\n",
              "Was originally published as originating from a small cell lung carcinoma (PubMed=2985257), but was later shown to originate from a prostate small cell carcinoma (PubMed=2569043)       1\n",
              "We are not certain that NCI-H322 and NCI-H322M are identical                                                                                                                            2\n",
              "While it was indicated to be EBV-positive (PubMed=20454443), this result has later been shown to be invalid (personal communication of Uphoff C.C.)                                     1\n",
              "While the tumor has been shown to be HPV16 positive (PubMed=17112776), the cell line seems to be HPV16 negative (DSMZ)                                                                  1\n",
              "Length: 160, dtype: int64"
            ]
          },
          "metadata": {},
          "execution_count": 32
        }
      ],
      "source": [
        "df.groupby('Cellosaurus_issues').apply(len)"
      ]
    },
    {
      "cell_type": "code",
      "execution_count": 33,
      "metadata": {
        "colab": {
          "base_uri": "https://localhost:8080/"
        },
        "id": "19ckPgTctfpY",
        "outputId": "52522326-dcf4-4295-87d9-d8603c586dca"
      },
      "outputs": [
        {
          "output_type": "execute_result",
          "data": {
            "text/plain": [
              "Index(['DepMap_ID', 'TSPAN6 (7105)', 'TNMD (64102)', 'DPM1 (8813)',\n",
              "       'SCYL3 (57147)', 'C1orf112 (55732)', 'FGR (2268)', 'CFH (3075)',\n",
              "       'FUCA2 (2519)', 'GCLC (2729)',\n",
              "       ...\n",
              "       'H3C2 (8358)', 'H3C3 (8352)', 'AC098582.1 (8916)',\n",
              "       'DUS4L-BCAP29 (115253422)', 'C8orf44-SGK3 (100533105)',\n",
              "       'ELOA3B (728929)', 'NPBWR1 (2831)', 'ELOA3D (100506888)',\n",
              "       'ELOA3 (162699)', 'CDR1 (1038)'],\n",
              "      dtype='object', length=19222)"
            ]
          },
          "metadata": {},
          "execution_count": 33
        }
      ],
      "source": [
        "df2.columns"
      ]
    },
    {
      "cell_type": "code",
      "execution_count": 33,
      "metadata": {
        "id": "RKbt64extfpZ"
      },
      "outputs": [],
      "source": [
        ""
      ]
    }
  ],
  "metadata": {
    "kernelspec": {
      "display_name": "Python 3",
      "language": "python",
      "name": "python3"
    },
    "language_info": {
      "codemirror_mode": {
        "name": "ipython",
        "version": 3
      },
      "file_extension": ".py",
      "mimetype": "text/x-python",
      "name": "python",
      "nbconvert_exporter": "python",
      "pygments_lexer": "ipython3",
      "version": "3.7.4"
    },
    "colab": {
      "name": "Anti-cancer Drug Response Data.ipynb",
      "provenance": []
    }
  },
  "nbformat": 4,
  "nbformat_minor": 0
}